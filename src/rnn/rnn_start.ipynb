{
 "cells": [
  {
   "cell_type": "code",
   "id": "initial_id",
   "metadata": {
    "collapsed": true,
    "ExecuteTime": {
     "end_time": "2025-04-28T11:45:16.245369Z",
     "start_time": "2025-04-28T11:45:16.240960Z"
    }
   },
   "source": [
    "import os, sys\n",
    "from rnn.rnn_loss import CrossEntropyLoss\n",
    "\n",
    "project_root = os.path.abspath('/Users/subhojit/workspace/saturn/src')\n",
    "if project_root not in sys.path:\n",
    "    sys.path.append(project_root)\n",
    "\n",
    "from rnn.recnet import *\n",
    "import matplotlib.pyplot as plt\n",
    "%matplotlib inline\n"
   ],
   "outputs": [],
   "execution_count": 12
  },
  {
   "metadata": {
    "ExecuteTime": {
     "end_time": "2025-04-28T11:45:18.258698Z",
     "start_time": "2025-04-28T11:45:18.252282Z"
    }
   },
   "cell_type": "code",
   "source": [
    "words = open('indian_names.txt', 'r').read().splitlines()\n",
    "chars = sorted(list(set(''.join(words))))\n",
    "chars = ['<PAD>', '<SOS>', '<EOS>'] + chars\n",
    "stoi = {ch: i for i, ch in enumerate(chars)}\n",
    "itos = {i: ch for i, ch in enumerate(chars)}\n",
    "vocab_size = len(stoi)\n",
    "print(f\"vocab: {stoi}\")"
   ],
   "id": "78bbf0a356e871a0",
   "outputs": [
    {
     "name": "stdout",
     "output_type": "stream",
     "text": [
      "vocab: {'<PAD>': 0, '<SOS>': 1, '<EOS>': 2, 'a': 3, 'b': 4, 'c': 5, 'd': 6, 'e': 7, 'f': 8, 'g': 9, 'h': 10, 'i': 11, 'j': 12, 'k': 13, 'l': 14, 'm': 15, 'n': 16, 'o': 17, 'p': 18, 'q': 19, 'r': 20, 's': 21, 't': 22, 'u': 23, 'v': 24, 'w': 25, 'x': 26, 'y': 27, 'z': 28}\n"
     ]
    }
   ],
   "execution_count": 13
  },
  {
   "metadata": {
    "ExecuteTime": {
     "end_time": "2025-04-28T11:45:19.836911Z",
     "start_time": "2025-04-28T11:45:19.831404Z"
    }
   },
   "cell_type": "code",
   "source": [
    "def encode_name(name):\n",
    "    encode = [stoi['<SOS>']] + [stoi[ch] for ch in name] + [stoi['<EOS>']]\n",
    "    return encode\n",
    "\n",
    "def decode_name(indices):\n",
    "    return ''.join([itos[i] for i in indices])\n",
    "\n",
    "encode_name('bobby')"
   ],
   "id": "9d3bdf002a02490e",
   "outputs": [
    {
     "data": {
      "text/plain": [
       "[1, 4, 17, 4, 4, 27, 2]"
      ]
     },
     "execution_count": 14,
     "metadata": {},
     "output_type": "execute_result"
    }
   ],
   "execution_count": 14
  },
  {
   "metadata": {
    "ExecuteTime": {
     "end_time": "2025-04-28T11:45:38.767870Z",
     "start_time": "2025-04-28T11:45:38.726381Z"
    }
   },
   "cell_type": "code",
   "source": [
    "training_data = []\n",
    "\n",
    "np.random.shuffle(words)\n",
    "\n",
    "for name in words:\n",
    "    # print(name)\n",
    "    encoded = encode_name(name)\n",
    "\n",
    "    inputs = []\n",
    "    targets = []\n",
    "    for i in range(len(encoded) - 1):\n",
    "        x_idx = encoded[i]\n",
    "        y_idx = encoded[i+1]\n",
    "        x_onehot = np.zeros((vocab_size, 1))\n",
    "        x_onehot[x_idx] = 1.0\n",
    "        inputs.append(x_onehot)\n",
    "        targets.append(y_idx)\n",
    "\n",
    "    training_data.append((inputs, targets))\n",
    "\n",
    "len(training_data)"
   ],
   "id": "bc96f8da5a5f7e4a",
   "outputs": [
    {
     "data": {
      "text/plain": [
       "6485"
      ]
     },
     "execution_count": 16,
     "metadata": {},
     "output_type": "execute_result"
    }
   ],
   "execution_count": 16
  },
  {
   "metadata": {
    "ExecuteTime": {
     "end_time": "2025-04-28T11:52:44.357773Z",
     "start_time": "2025-04-28T11:46:02.543749Z"
    }
   },
   "cell_type": "code",
   "source": [
    "hidden_size = 128\n",
    "rnn = VanillaRNN(input_size=vocab_size, hidden_size=hidden_size, output_size=vocab_size)\n",
    "loss_fn = CrossEntropyLoss()\n",
    "lossi = []\n",
    "n_epochs = 1000\n",
    "\n",
    "for epoch in range(n_epochs):\n",
    "    total_loss = 0.0\n",
    "\n",
    "    for inputs, targets in training_data:\n",
    "        loss = rnn.train_step(inputs, targets)\n",
    "        # max_whh = np.max(np.abs(rnn.grads['Whh']))\n",
    "        # if max_whh > 10:\n",
    "        #     print(f\"epoch: {epoch}, loss: {loss}, max_whh: {max_whh}\")\n",
    "        # max_wxh = np.max(np.abs(rnn.grads['Wxh']))\n",
    "        # if max_wxh > 10:\n",
    "        #     print(f\"epoch: {epoch}, loss: {loss}, max_wxh: {max_wxh}\")\n",
    "        # max_why = np.max(np.abs(rnn.grads['Why']))\n",
    "        # if max_why > 10:\n",
    "        #     print(f\"epoch: {epoch}, loss: {loss}, max_why: {max_why}\")\n",
    "        # plt.hist(rnn.grads['Wxh'], bins=30)\n",
    "        total_loss += loss\n",
    "\n",
    "    lossi.append(total_loss)\n",
    "\n",
    "    if (epoch + 1) % 100 == 0:\n",
    "        print(f\"Epoch {epoch+1}, Total loss: {total_loss: .4f},  Avg Loss: {total_loss/len(training_data):.4f}\")"
   ],
   "id": "987bc8ba830ce4df",
   "outputs": [
    {
     "name": "stderr",
     "output_type": "stream",
     "text": [
      "/Users/subhojit/workspace/saturn/src/rnn/recnet.py:25: RuntimeWarning: divide by zero encountered in matmul\n",
      "  activation = self.Whh @ ht + self.Wxh @ xt + self.bh\n",
      "/Users/subhojit/workspace/saturn/src/rnn/recnet.py:25: RuntimeWarning: overflow encountered in matmul\n",
      "  activation = self.Whh @ ht + self.Wxh @ xt + self.bh\n",
      "/Users/subhojit/workspace/saturn/src/rnn/recnet.py:25: RuntimeWarning: invalid value encountered in matmul\n",
      "  activation = self.Whh @ ht + self.Wxh @ xt + self.bh\n",
      "/Users/subhojit/workspace/saturn/src/rnn/recnet.py:30: RuntimeWarning: divide by zero encountered in matmul\n",
      "  y = self.Why @ ht + self.by\n",
      "/Users/subhojit/workspace/saturn/src/rnn/recnet.py:30: RuntimeWarning: overflow encountered in matmul\n",
      "  y = self.Why @ ht + self.by\n",
      "/Users/subhojit/workspace/saturn/src/rnn/recnet.py:30: RuntimeWarning: invalid value encountered in matmul\n",
      "  y = self.Why @ ht + self.by\n"
     ]
    },
    {
     "ename": "KeyboardInterrupt",
     "evalue": "",
     "output_type": "error",
     "traceback": [
      "\u001B[0;31m---------------------------------------------------------------------------\u001B[0m",
      "\u001B[0;31mKeyboardInterrupt\u001B[0m                         Traceback (most recent call last)",
      "Cell \u001B[0;32mIn[17], line 11\u001B[0m\n\u001B[1;32m      8\u001B[0m total_loss \u001B[38;5;241m=\u001B[39m \u001B[38;5;241m0.0\u001B[39m\n\u001B[1;32m     10\u001B[0m \u001B[38;5;28;01mfor\u001B[39;00m inputs, targets \u001B[38;5;129;01min\u001B[39;00m training_data:\n\u001B[0;32m---> 11\u001B[0m     loss \u001B[38;5;241m=\u001B[39m \u001B[43mrnn\u001B[49m\u001B[38;5;241;43m.\u001B[39;49m\u001B[43mtrain_step\u001B[49m\u001B[43m(\u001B[49m\u001B[43minputs\u001B[49m\u001B[43m,\u001B[49m\u001B[43m \u001B[49m\u001B[43mtargets\u001B[49m\u001B[43m)\u001B[49m\n\u001B[1;32m     12\u001B[0m     \u001B[38;5;66;03m# max_whh = np.max(np.abs(rnn.grads['Whh']))\u001B[39;00m\n\u001B[1;32m     13\u001B[0m     \u001B[38;5;66;03m# if max_whh > 10:\u001B[39;00m\n\u001B[1;32m     14\u001B[0m     \u001B[38;5;66;03m#     print(f\"epoch: {epoch}, loss: {loss}, max_whh: {max_whh}\")\u001B[39;00m\n\u001B[0;32m   (...)\u001B[0m\n\u001B[1;32m     20\u001B[0m     \u001B[38;5;66;03m#     print(f\"epoch: {epoch}, loss: {loss}, max_why: {max_why}\")\u001B[39;00m\n\u001B[1;32m     21\u001B[0m     \u001B[38;5;66;03m# plt.hist(rnn.grads['Wxh'], bins=30)\u001B[39;00m\n\u001B[1;32m     22\u001B[0m     total_loss \u001B[38;5;241m+\u001B[39m\u001B[38;5;241m=\u001B[39m loss\n",
      "File \u001B[0;32m~/workspace/saturn/src/rnn/recnet.py:106\u001B[0m, in \u001B[0;36mVanillaRNN.train_step\u001B[0;34m(self, inputs, targets, lr)\u001B[0m\n\u001B[1;32m    105\u001B[0m \u001B[38;5;28;01mdef\u001B[39;00m\u001B[38;5;250m \u001B[39m\u001B[38;5;21mtrain_step\u001B[39m(\u001B[38;5;28mself\u001B[39m, inputs, targets, lr\u001B[38;5;241m=\u001B[39m\u001B[38;5;241m0.01\u001B[39m):\n\u001B[0;32m--> 106\u001B[0m     outputs \u001B[38;5;241m=\u001B[39m \u001B[38;5;28;43mself\u001B[39;49m\u001B[38;5;241;43m.\u001B[39;49m\u001B[43mforward\u001B[49m\u001B[43m(\u001B[49m\u001B[43minputs\u001B[49m\u001B[43m)\u001B[49m\n\u001B[1;32m    107\u001B[0m     loss \u001B[38;5;241m=\u001B[39m \u001B[38;5;28mself\u001B[39m\u001B[38;5;241m.\u001B[39mcompute_loss(outputs, targets)\n\u001B[1;32m    108\u001B[0m     \u001B[38;5;28mself\u001B[39m\u001B[38;5;241m.\u001B[39mbackward(targets)\n",
      "File \u001B[0;32m~/workspace/saturn/src/rnn/recnet.py:25\u001B[0m, in \u001B[0;36mVanillaRNN.forward\u001B[0;34m(self, inputs)\u001B[0m\n\u001B[1;32m     22\u001B[0m \u001B[38;5;28mself\u001B[39m\u001B[38;5;241m.\u001B[39mhidden \u001B[38;5;241m=\u001B[39m []\n\u001B[1;32m     24\u001B[0m \u001B[38;5;28;01mfor\u001B[39;00m xt \u001B[38;5;129;01min\u001B[39;00m inputs:\n\u001B[0;32m---> 25\u001B[0m     activation \u001B[38;5;241m=\u001B[39m \u001B[38;5;28;43mself\u001B[39;49m\u001B[38;5;241m.\u001B[39mWhh \u001B[38;5;241m@\u001B[39m ht \u001B[38;5;241m+\u001B[39m \u001B[38;5;28mself\u001B[39m\u001B[38;5;241m.\u001B[39mWxh \u001B[38;5;241m@\u001B[39m xt \u001B[38;5;241m+\u001B[39m \u001B[38;5;28mself\u001B[39m\u001B[38;5;241m.\u001B[39mbh\n\u001B[1;32m     26\u001B[0m     \u001B[38;5;28;01mif\u001B[39;00m np\u001B[38;5;241m.\u001B[39misnan(activation)\u001B[38;5;241m.\u001B[39many() \u001B[38;5;129;01mor\u001B[39;00m np\u001B[38;5;241m.\u001B[39misinf(activation)\u001B[38;5;241m.\u001B[39many():\n\u001B[1;32m     27\u001B[0m         \u001B[38;5;28;01mraise\u001B[39;00m \u001B[38;5;167;01mValueError\u001B[39;00m(\u001B[38;5;124mf\u001B[39m\u001B[38;5;124m\"\u001B[39m\u001B[38;5;124mBad activation detected: \u001B[39m\u001B[38;5;132;01m{\u001B[39;00mactivation\u001B[38;5;132;01m}\u001B[39;00m\u001B[38;5;124m\"\u001B[39m)\n",
      "File \u001B[0;32m~/workspace/saturn/src/rnn/recnet.py:25\u001B[0m, in \u001B[0;36mVanillaRNN.forward\u001B[0;34m(self, inputs)\u001B[0m\n\u001B[1;32m     22\u001B[0m \u001B[38;5;28mself\u001B[39m\u001B[38;5;241m.\u001B[39mhidden \u001B[38;5;241m=\u001B[39m []\n\u001B[1;32m     24\u001B[0m \u001B[38;5;28;01mfor\u001B[39;00m xt \u001B[38;5;129;01min\u001B[39;00m inputs:\n\u001B[0;32m---> 25\u001B[0m     activation \u001B[38;5;241m=\u001B[39m \u001B[38;5;28;43mself\u001B[39;49m\u001B[38;5;241m.\u001B[39mWhh \u001B[38;5;241m@\u001B[39m ht \u001B[38;5;241m+\u001B[39m \u001B[38;5;28mself\u001B[39m\u001B[38;5;241m.\u001B[39mWxh \u001B[38;5;241m@\u001B[39m xt \u001B[38;5;241m+\u001B[39m \u001B[38;5;28mself\u001B[39m\u001B[38;5;241m.\u001B[39mbh\n\u001B[1;32m     26\u001B[0m     \u001B[38;5;28;01mif\u001B[39;00m np\u001B[38;5;241m.\u001B[39misnan(activation)\u001B[38;5;241m.\u001B[39many() \u001B[38;5;129;01mor\u001B[39;00m np\u001B[38;5;241m.\u001B[39misinf(activation)\u001B[38;5;241m.\u001B[39many():\n\u001B[1;32m     27\u001B[0m         \u001B[38;5;28;01mraise\u001B[39;00m \u001B[38;5;167;01mValueError\u001B[39;00m(\u001B[38;5;124mf\u001B[39m\u001B[38;5;124m\"\u001B[39m\u001B[38;5;124mBad activation detected: \u001B[39m\u001B[38;5;132;01m{\u001B[39;00mactivation\u001B[38;5;132;01m}\u001B[39;00m\u001B[38;5;124m\"\u001B[39m)\n",
      "File \u001B[0;32m_pydevd_bundle/pydevd_cython_darwin_39_64.pyx:1187\u001B[0m, in \u001B[0;36m_pydevd_bundle.pydevd_cython_darwin_39_64.SafeCallWrapper.__call__\u001B[0;34m()\u001B[0m\n",
      "File \u001B[0;32m_pydevd_bundle/pydevd_cython_darwin_39_64.pyx:627\u001B[0m, in \u001B[0;36m_pydevd_bundle.pydevd_cython_darwin_39_64.PyDBFrame.trace_dispatch\u001B[0;34m()\u001B[0m\n",
      "File \u001B[0;32m_pydevd_bundle/pydevd_cython_darwin_39_64.pyx:1103\u001B[0m, in \u001B[0;36m_pydevd_bundle.pydevd_cython_darwin_39_64.PyDBFrame.trace_dispatch\u001B[0;34m()\u001B[0m\n",
      "File \u001B[0;32m_pydevd_bundle/pydevd_cython_darwin_39_64.pyx:1065\u001B[0m, in \u001B[0;36m_pydevd_bundle.pydevd_cython_darwin_39_64.PyDBFrame.trace_dispatch\u001B[0;34m()\u001B[0m\n",
      "File \u001B[0;32m_pydevd_bundle/pydevd_cython_darwin_39_64.pyx:585\u001B[0m, in \u001B[0;36m_pydevd_bundle.pydevd_cython_darwin_39_64.PyDBFrame.do_wait_suspend\u001B[0;34m()\u001B[0m\n",
      "File \u001B[0;32m/Applications/PyCharm.app/Contents/plugins/python-ce/helpers/pydev/pydevd.py:1220\u001B[0m, in \u001B[0;36mPyDB.do_wait_suspend\u001B[0;34m(self, thread, frame, event, arg, send_suspend_message, is_unhandled_exception)\u001B[0m\n\u001B[1;32m   1217\u001B[0m         from_this_thread\u001B[38;5;241m.\u001B[39mappend(frame_id)\n\u001B[1;32m   1219\u001B[0m \u001B[38;5;28;01mwith\u001B[39;00m \u001B[38;5;28mself\u001B[39m\u001B[38;5;241m.\u001B[39m_threads_suspended_single_notification\u001B[38;5;241m.\u001B[39mnotify_thread_suspended(thread_id, stop_reason):\n\u001B[0;32m-> 1220\u001B[0m     \u001B[38;5;28;43mself\u001B[39;49m\u001B[38;5;241;43m.\u001B[39;49m\u001B[43m_do_wait_suspend\u001B[49m\u001B[43m(\u001B[49m\u001B[43mthread\u001B[49m\u001B[43m,\u001B[49m\u001B[43m \u001B[49m\u001B[43mframe\u001B[49m\u001B[43m,\u001B[49m\u001B[43m \u001B[49m\u001B[43mevent\u001B[49m\u001B[43m,\u001B[49m\u001B[43m \u001B[49m\u001B[43marg\u001B[49m\u001B[43m,\u001B[49m\u001B[43m \u001B[49m\u001B[43msuspend_type\u001B[49m\u001B[43m,\u001B[49m\u001B[43m \u001B[49m\u001B[43mfrom_this_thread\u001B[49m\u001B[43m)\u001B[49m\n",
      "File \u001B[0;32m/Applications/PyCharm.app/Contents/plugins/python-ce/helpers/pydev/pydevd.py:1235\u001B[0m, in \u001B[0;36mPyDB._do_wait_suspend\u001B[0;34m(self, thread, frame, event, arg, suspend_type, from_this_thread)\u001B[0m\n\u001B[1;32m   1232\u001B[0m             \u001B[38;5;28mself\u001B[39m\u001B[38;5;241m.\u001B[39m_call_mpl_hook()\n\u001B[1;32m   1234\u001B[0m         \u001B[38;5;28mself\u001B[39m\u001B[38;5;241m.\u001B[39mprocess_internal_commands()\n\u001B[0;32m-> 1235\u001B[0m         \u001B[43mtime\u001B[49m\u001B[38;5;241;43m.\u001B[39;49m\u001B[43msleep\u001B[49m\u001B[43m(\u001B[49m\u001B[38;5;241;43m0.01\u001B[39;49m\u001B[43m)\u001B[49m\n\u001B[1;32m   1237\u001B[0m \u001B[38;5;28mself\u001B[39m\u001B[38;5;241m.\u001B[39mcancel_async_evaluation(get_current_thread_id(thread), \u001B[38;5;28mstr\u001B[39m(\u001B[38;5;28mid\u001B[39m(frame)))\n\u001B[1;32m   1239\u001B[0m \u001B[38;5;66;03m# process any stepping instructions\u001B[39;00m\n",
      "\u001B[0;31mKeyboardInterrupt\u001B[0m: "
     ]
    }
   ],
   "execution_count": 17
  },
  {
   "metadata": {},
   "cell_type": "code",
   "source": "plt.hist(rnn.grads['Wxh'], bins=30)",
   "id": "d568c5163141bf97",
   "outputs": [],
   "execution_count": null
  },
  {
   "metadata": {},
   "cell_type": "code",
   "source": [
    "# now generate names\n",
    "\n",
    "def sample(max_length=10):\n",
    "    idx = stoi['<SOS>']\n",
    "    ht = np.zeros((hidden_size, 1))\n",
    "    output_indices = []\n",
    "\n",
    "    for _ in range(max_length):\n",
    "        one_hot = np.zeros((vocab_size, 1))\n",
    "        one_hot[idx, 0] = 1.0\n",
    "        act = rnn.Whh @ ht + rnn.Wxh @ one_hot + rnn.bh\n",
    "        ht = np.tanh(act)\n",
    "        logits = rnn.Why @ ht + rnn.by\n",
    "        # print(logits)\n",
    "        exp_logits = np.exp(logits - np.max(logits))\n",
    "        probs = exp_logits / np.sum(exp_logits)\n",
    "\n",
    "        idx = np.random.choice(range(vocab_size), p=probs.ravel())\n",
    "        output_indices.append(idx)\n",
    "        if idx == stoi['<EOS>']:\n",
    "            break\n",
    "\n",
    "    print(''.join([itos[i] for i in output_indices[:-1]]))\n",
    "\n",
    "\n",
    "for _ in range(100):\n",
    "    sample()\n",
    "\n",
    "\n"
   ],
   "id": "e53b4944924261c0",
   "outputs": [],
   "execution_count": null
  },
  {
   "metadata": {},
   "cell_type": "code",
   "source": "",
   "id": "e0505045464310ba",
   "outputs": [],
   "execution_count": null
  },
  {
   "metadata": {},
   "cell_type": "code",
   "source": [
    "A = np.array([[1, 2],\n",
    "              [3, 4]])\n",
    "\n",
    "B = np.array([[5, 6],\n",
    "              [7, 8]])\n",
    "\n",
    "A @ B"
   ],
   "id": "312f9c13658915c4",
   "outputs": [],
   "execution_count": null
  },
  {
   "metadata": {},
   "cell_type": "code",
   "source": [
    "exploding_grads = np.random.randn(10000) * 100  # very large std deviation\n",
    "\n",
    "plt.hist(exploding_grads, bins=50, color='red', alpha=0.7)\n",
    "plt.title('❌ Exploding Gradients')\n",
    "plt.xlabel('Gradient value')\n",
    "plt.ylabel('Frequency')\n",
    "plt.grid(True)\n",
    "plt.show()"
   ],
   "id": "4cad401e98959a2e",
   "outputs": [],
   "execution_count": null
  },
  {
   "metadata": {},
   "cell_type": "code",
   "source": [
    "# Simulate stable gradients (after clipping)\n",
    "stable_grads = np.clip(exploding_grads, -5, 5)\n",
    "\n",
    "plt.hist(stable_grads, bins=50, color='green', alpha=0.7)\n",
    "plt.title('✅ Clipped Gradients')\n",
    "plt.xlabel('Gradient value')\n",
    "plt.ylabel('Frequency')\n",
    "plt.grid(True)\n",
    "plt.show()\n"
   ],
   "id": "78fa9e77b61b4ca",
   "outputs": [],
   "execution_count": null
  },
  {
   "metadata": {},
   "cell_type": "code",
   "source": "",
   "id": "b0cc603364b2999b",
   "outputs": [],
   "execution_count": null
  }
 ],
 "metadata": {
  "kernelspec": {
   "display_name": "Python 3",
   "language": "python",
   "name": "python3"
  },
  "language_info": {
   "codemirror_mode": {
    "name": "ipython",
    "version": 2
   },
   "file_extension": ".py",
   "mimetype": "text/x-python",
   "name": "python",
   "nbconvert_exporter": "python",
   "pygments_lexer": "ipython2",
   "version": "2.7.6"
  }
 },
 "nbformat": 4,
 "nbformat_minor": 5
}
