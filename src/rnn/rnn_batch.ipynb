{
 "cells": [
  {
   "cell_type": "code",
   "id": "initial_id",
   "metadata": {
    "collapsed": true,
    "ExecuteTime": {
     "end_time": "2025-04-28T12:09:02.971554Z",
     "start_time": "2025-04-28T12:09:02.778199Z"
    }
   },
   "source": [
    "import os, sys\n",
    "\n",
    "project_root = os.path.abspath('/Users/subhojit/workspace/saturn/src')\n",
    "if project_root not in sys.path:\n",
    "    sys.path.append(project_root)\n",
    "\n",
    "from rnn.recnet_batch import *\n",
    "import matplotlib.pyplot as plt\n",
    "%matplotlib inline\n"
   ],
   "outputs": [],
   "execution_count": 1
  },
  {
   "metadata": {
    "ExecuteTime": {
     "end_time": "2025-04-28T12:09:02.977473Z",
     "start_time": "2025-04-28T12:09:02.974181Z"
    }
   },
   "cell_type": "code",
   "source": [
    "words = open('indian_names.txt', 'r').read().splitlines()\n",
    "chars = sorted(list(set(''.join(words))))\n",
    "chars = ['<PAD>', '<SOS>', '<EOS>'] + chars\n",
    "stoi = {ch: i for i, ch in enumerate(chars)}\n",
    "itos = {i: ch for i, ch in enumerate(chars)}\n",
    "vocab_size = len(stoi)\n",
    "print(f\"vocab: {stoi}\")\n",
    "print(max(len(w) for w in words))"
   ],
   "id": "c8c0046703c55320",
   "outputs": [
    {
     "name": "stdout",
     "output_type": "stream",
     "text": [
      "vocab: {'<PAD>': 0, '<SOS>': 1, '<EOS>': 2, 'a': 3, 'b': 4, 'c': 5, 'd': 6, 'e': 7, 'f': 8, 'g': 9, 'h': 10, 'i': 11, 'j': 12, 'k': 13, 'l': 14, 'm': 15, 'n': 16, 'o': 17, 'p': 18, 'q': 19, 'r': 20, 's': 21, 't': 22, 'u': 23, 'v': 24, 'w': 25, 'x': 26, 'y': 27, 'z': 28}\n",
      "19\n"
     ]
    }
   ],
   "execution_count": 2
  },
  {
   "metadata": {
    "ExecuteTime": {
     "end_time": "2025-04-28T12:09:03.037201Z",
     "start_time": "2025-04-28T12:09:03.034181Z"
    }
   },
   "cell_type": "code",
   "source": [
    "def encode_name(name):\n",
    "    encode = [stoi['<SOS>']] + [stoi[ch] for ch in name] + [stoi['<EOS>']]\n",
    "    return encode\n",
    "\n",
    "def decode_name(indices):\n",
    "    return ''.join([itos[i] for i in indices])\n",
    "\n",
    "encode_name('bobby')"
   ],
   "id": "c6b8c6914717ef52",
   "outputs": [
    {
     "data": {
      "text/plain": [
       "[1, 4, 17, 4, 4, 27, 2]"
      ]
     },
     "execution_count": 3,
     "metadata": {},
     "output_type": "execute_result"
    }
   ],
   "execution_count": 3
  },
  {
   "metadata": {
    "ExecuteTime": {
     "end_time": "2025-04-28T12:09:03.084798Z",
     "start_time": "2025-04-28T12:09:03.041718Z"
    }
   },
   "cell_type": "code",
   "source": [
    "training_data = []\n",
    "\n",
    "np.random.shuffle(words)\n",
    "\n",
    "for name in words:\n",
    "    # print(name)\n",
    "    encoded = encode_name(name)\n",
    "\n",
    "    inputs = []\n",
    "    targets = []\n",
    "    for i in range(len(encoded) - 1):\n",
    "        x_idx = encoded[i]\n",
    "        y_idx = encoded[i+1]\n",
    "        x_onehot = np.zeros((vocab_size, 1))\n",
    "        x_onehot[x_idx] = 1.0\n",
    "        inputs.append(x_onehot)\n",
    "        targets.append(y_idx)\n",
    "\n",
    "    training_data.append((inputs, targets))\n",
    "\n",
    "print(len(training_data))"
   ],
   "id": "65fde00156631fa8",
   "outputs": [
    {
     "name": "stdout",
     "output_type": "stream",
     "text": [
      "6485\n"
     ]
    }
   ],
   "execution_count": 4
  },
  {
   "metadata": {
    "ExecuteTime": {
     "end_time": "2025-04-28T12:09:03.229522Z",
     "start_time": "2025-04-28T12:09:03.091080Z"
    }
   },
   "cell_type": "code",
   "source": [
    "def pad_inputs(sequences, pad_vector):\n",
    "    max_len = max(len(seq) for seq in sequences)\n",
    "    padded = []\n",
    "\n",
    "    for seq in sequences:\n",
    "        padded_seq = seq + [pad_vector] * (max_len - len(seq))\n",
    "        padded.append(padded_seq)\n",
    "\n",
    "    return np.array(padded)\n",
    "\n",
    "def pad_target(sequences, pad_idx):\n",
    "    max_len = max(len(seq) for seq in sequences)\n",
    "    padded = []\n",
    "\n",
    "    for seq in sequences:\n",
    "        padded_seq = seq + [pad_idx] * (max_len - len(seq))\n",
    "        padded.append(padded_seq)\n",
    "\n",
    "    return np.array(padded)\n",
    "\n",
    "n_epochs = 1000\n",
    "batch_size = 32  # Set batch size\n",
    "hidden_size = 128\n",
    "\n",
    "rnn = VanillaBatchRNN(input_size=vocab_size, hidden_size=hidden_size, output_size=vocab_size)\n",
    "\n",
    "PAD_IDX = stoi['<PAD>']\n",
    "pad_vector = np.zeros((vocab_size, 1))\n",
    "pad_vector[PAD_IDX] = 1.0\n",
    "\n",
    "for epoch in range(n_epochs):\n",
    "    total_loss = 0.0\n",
    "\n",
    "    for i in range(0, len(training_data), batch_size):\n",
    "        batch = training_data[i:i+batch_size]\n",
    "\n",
    "        batch_inputs, batch_targets = zip(*batch)\n",
    "\n",
    "        # Pad to same length\n",
    "        batch_inputs_padded = pad_inputs(batch_inputs, pad_vector)\n",
    "        batch_targets_padded = pad_target(batch_targets, PAD_IDX)\n",
    "\n",
    "        # Now batch_inputs_padded: (batch_size, seq_len)\n",
    "        # transpose to (seq_len, batch_size)\n",
    "        batch_inputs_tensor = np.transpose(batch_inputs_padded, (1, 0, 2, 3))\n",
    "        batch_targets_tensor = np.transpose(batch_targets_padded, (1, 0))\n",
    "\n",
    "        loss = rnn.train_step(batch_inputs_tensor, batch_targets_tensor)\n",
    "        total_loss += loss\n",
    "\n",
    "    avg_loss = total_loss / len(training_data)\n",
    "\n",
    "    if (epoch + 1) % 100 == 0:\n",
    "        print(f\"Epoch {epoch+1}, Avg Loss: {avg_loss:.4f}\")"
   ],
   "id": "1081094df8f1fcbb",
   "outputs": [
    {
     "name": "stderr",
     "output_type": "stream",
     "text": [
      "/Users/subhojit/workspace/saturn/src/rnn/recnet_batch.py:30: RuntimeWarning: divide by zero encountered in matmul\n",
      "  activation = xt @ self.Wxh.T + ht @ self.Whh.T + self.bh.T  # (batch_size, hidden_size)\n",
      "/Users/subhojit/workspace/saturn/src/rnn/recnet_batch.py:30: RuntimeWarning: overflow encountered in matmul\n",
      "  activation = xt @ self.Wxh.T + ht @ self.Whh.T + self.bh.T  # (batch_size, hidden_size)\n",
      "/Users/subhojit/workspace/saturn/src/rnn/recnet_batch.py:30: RuntimeWarning: invalid value encountered in matmul\n",
      "  activation = xt @ self.Wxh.T + ht @ self.Whh.T + self.bh.T  # (batch_size, hidden_size)\n",
      "/Users/subhojit/workspace/saturn/src/rnn/recnet_batch.py:32: RuntimeWarning: divide by zero encountered in matmul\n",
      "  y = ht @ self.Why.T + self.by.T  # (batch_size, output_size)\n",
      "/Users/subhojit/workspace/saturn/src/rnn/recnet_batch.py:32: RuntimeWarning: overflow encountered in matmul\n",
      "  y = ht @ self.Why.T + self.by.T  # (batch_size, output_size)\n",
      "/Users/subhojit/workspace/saturn/src/rnn/recnet_batch.py:32: RuntimeWarning: invalid value encountered in matmul\n",
      "  y = ht @ self.Why.T + self.by.T  # (batch_size, output_size)\n"
     ]
    },
    {
     "ename": "IndexError",
     "evalue": "list index out of range",
     "output_type": "error",
     "traceback": [
      "\u001B[0;31m---------------------------------------------------------------------------\u001B[0m",
      "\u001B[0;31mIndexError\u001B[0m                                Traceback (most recent call last)",
      "Cell \u001B[0;32mIn[5], line 48\u001B[0m\n\u001B[1;32m     45\u001B[0m     batch_inputs_tensor \u001B[38;5;241m=\u001B[39m np\u001B[38;5;241m.\u001B[39mtranspose(batch_inputs_padded, (\u001B[38;5;241m1\u001B[39m, \u001B[38;5;241m0\u001B[39m, \u001B[38;5;241m2\u001B[39m, \u001B[38;5;241m3\u001B[39m))\n\u001B[1;32m     46\u001B[0m     batch_targets_tensor \u001B[38;5;241m=\u001B[39m np\u001B[38;5;241m.\u001B[39mtranspose(batch_targets_padded, (\u001B[38;5;241m1\u001B[39m, \u001B[38;5;241m0\u001B[39m))\n\u001B[0;32m---> 48\u001B[0m     loss \u001B[38;5;241m=\u001B[39m \u001B[43mrnn\u001B[49m\u001B[38;5;241;43m.\u001B[39;49m\u001B[43mtrain_step\u001B[49m\u001B[43m(\u001B[49m\u001B[43mbatch_inputs_tensor\u001B[49m\u001B[43m,\u001B[49m\u001B[43m \u001B[49m\u001B[43mbatch_targets_tensor\u001B[49m\u001B[43m)\u001B[49m\n\u001B[1;32m     49\u001B[0m     total_loss \u001B[38;5;241m+\u001B[39m\u001B[38;5;241m=\u001B[39m loss\n\u001B[1;32m     51\u001B[0m avg_loss \u001B[38;5;241m=\u001B[39m total_loss \u001B[38;5;241m/\u001B[39m \u001B[38;5;28mlen\u001B[39m(training_data)\n",
      "File \u001B[0;32m~/workspace/saturn/src/rnn/recnet_batch.py:91\u001B[0m, in \u001B[0;36mVanillaBatchRNN.train_step\u001B[0;34m(self, inputs, targets)\u001B[0m\n\u001B[1;32m     89\u001B[0m outputs \u001B[38;5;241m=\u001B[39m \u001B[38;5;28mself\u001B[39m\u001B[38;5;241m.\u001B[39mforward(inputs)\n\u001B[1;32m     90\u001B[0m loss \u001B[38;5;241m=\u001B[39m \u001B[38;5;28mself\u001B[39m\u001B[38;5;241m.\u001B[39mcompute_loss(outputs, targets)\n\u001B[0;32m---> 91\u001B[0m \u001B[38;5;28;43mself\u001B[39;49m\u001B[38;5;241;43m.\u001B[39;49m\u001B[43mbackward\u001B[49m\u001B[43m(\u001B[49m\u001B[43mtargets\u001B[49m\u001B[43m)\u001B[49m\n\u001B[1;32m     92\u001B[0m lr \u001B[38;5;241m=\u001B[39m \u001B[38;5;241m0.1\u001B[39m  \u001B[38;5;66;03m# Learning rate\u001B[39;00m\n\u001B[1;32m     93\u001B[0m \u001B[38;5;28mself\u001B[39m\u001B[38;5;241m.\u001B[39mupdate_parameters(lr)\n",
      "File \u001B[0;32m~/workspace/saturn/src/rnn/recnet_batch.py:54\u001B[0m, in \u001B[0;36mVanillaBatchRNN.backward\u001B[0;34m(self, targets)\u001B[0m\n\u001B[1;32m     52\u001B[0m \u001B[38;5;28;01mfor\u001B[39;00m t \u001B[38;5;129;01min\u001B[39;00m \u001B[38;5;28mreversed\u001B[39m(\u001B[38;5;28mrange\u001B[39m(seq_len)):\n\u001B[1;32m     53\u001B[0m     xt \u001B[38;5;241m=\u001B[39m \u001B[38;5;28mself\u001B[39m\u001B[38;5;241m.\u001B[39minputs[:, t, :]  \u001B[38;5;66;03m# Shape: (batch_size, input_size)\u001B[39;00m\n\u001B[0;32m---> 54\u001B[0m     ht \u001B[38;5;241m=\u001B[39m \u001B[38;5;28;43mself\u001B[39;49m\u001B[38;5;241;43m.\u001B[39;49m\u001B[43mhidden\u001B[49m\u001B[43m[\u001B[49m\u001B[43mt\u001B[49m\u001B[43m]\u001B[49m  \u001B[38;5;66;03m# Shape: (batch_size, hidden_size)\u001B[39;00m\n\u001B[1;32m     55\u001B[0m     hprev \u001B[38;5;241m=\u001B[39m \u001B[38;5;28mself\u001B[39m\u001B[38;5;241m.\u001B[39mhidden[t \u001B[38;5;241m-\u001B[39m \u001B[38;5;241m1\u001B[39m] \u001B[38;5;28;01mif\u001B[39;00m t \u001B[38;5;241m>\u001B[39m \u001B[38;5;241m0\u001B[39m \u001B[38;5;28;01melse\u001B[39;00m np\u001B[38;5;241m.\u001B[39mzeros_like(ht)  \u001B[38;5;66;03m# Shape: (batch_size, hidden_size)\u001B[39;00m\n\u001B[1;32m     56\u001B[0m     yhat \u001B[38;5;241m=\u001B[39m \u001B[38;5;28mself\u001B[39m\u001B[38;5;241m.\u001B[39moutputs[t]  \u001B[38;5;66;03m# Shape: (batch_size, output_size)\u001B[39;00m\n",
      "\u001B[0;31mIndexError\u001B[0m: list index out of range"
     ]
    }
   ],
   "execution_count": 5
  },
  {
   "metadata": {},
   "cell_type": "code",
   "source": "",
   "id": "10deba1f000bf05",
   "outputs": [],
   "execution_count": null
  }
 ],
 "metadata": {
  "kernelspec": {
   "display_name": "Python 3",
   "language": "python",
   "name": "python3"
  },
  "language_info": {
   "codemirror_mode": {
    "name": "ipython",
    "version": 2
   },
   "file_extension": ".py",
   "mimetype": "text/x-python",
   "name": "python",
   "nbconvert_exporter": "python",
   "pygments_lexer": "ipython2",
   "version": "2.7.6"
  }
 },
 "nbformat": 4,
 "nbformat_minor": 5
}
