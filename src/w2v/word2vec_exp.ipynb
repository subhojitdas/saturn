{
 "cells": [
  {
   "cell_type": "code",
   "id": "initial_id",
   "metadata": {
    "collapsed": true,
    "ExecuteTime": {
     "end_time": "2025-06-30T09:05:04.764249Z",
     "start_time": "2025-06-30T09:05:04.761302Z"
    }
   },
   "source": "from gensim.models import word2vec, Word2Vec",
   "outputs": [],
   "execution_count": 2
  },
  {
   "metadata": {
    "jupyter": {
     "is_executing": true
    },
    "ExecuteTime": {
     "start_time": "2025-06-30T09:19:50.250126Z"
    }
   },
   "cell_type": "code",
   "source": [
    "corpus = [\n",
    "    [\"the\", \"cat\", \"sat\", \"on\", \"the\", \"mat\"],\n",
    "    [\"the\", \"dog\", \"sat\", \"on\", \"the\", \"rug\"],\n",
    "    [\"the\", \"dog\", \"barked\"],\n",
    "    [\"the\", \"cat\", \"meowed\"],\n",
    "    [\"dogs\", \"and\", \"cats\", \"are\", \"pets\"]\n",
    "]\n",
    "\n",
    "model = Word2Vec(\n",
    "    sentences=corpus,\n",
    "    vector_size=50,\n",
    "    window=2,\n",
    "    min_count=1,\n",
    ")\n",
    "\n",
    "model.save(\"word2vec.model\")"
   ],
   "id": "e66d919137184f63",
   "outputs": [
    {
     "name": "stderr",
     "output_type": "stream",
     "text": [
      "Error evaluating: thread_id: pid_57220_id_4305650160\n",
      "frame_id: 4368038048\n",
      "scope: FRAME\n",
      "attrs: __py_debug_temp_var_1930078376\tvectors\n",
      "Traceback (most recent call last):\n",
      "  File \"/Applications/PyCharm.app/Contents/plugins/python-ce/helpers/pydev/_pydevd_bundle/pydevd_vars.py\", line 315, in resolve_compound_variable_fields\n",
      "    return _typeName, _resolve_default_variable_fields(var, resolver, offset)\n",
      "  File \"/Applications/PyCharm.app/Contents/plugins/python-ce/helpers/pydev/_pydevd_bundle/pydevd_vars.py\", line 265, in _resolve_default_variable_fields\n",
      "    return resolver.get_dictionary(VariableWithOffset(var, offset) if offset else var)\n",
      "  File \"/Applications/PyCharm.app/Contents/plugins/python-ce/helpers/pydev/pydevd_plugins/extensions/types/pydevd_plugin_numpy_types.py\", line 95, in get_dictionary\n",
      "    ret['min'] = obj.min()\n",
      "  File \"/Users/subhojit/workspace/saturn/.venv/lib/python3.9/site-packages/numpy/core/_methods.py\", line 45, in _amin\n",
      "    return umr_minimum(a, axis, None, out, keepdims, initial, where)\n",
      "ValueError: zero-size array to reduction operation minimum which has no identity\n"
     ]
    }
   ],
   "execution_count": null
  },
  {
   "metadata": {
    "ExecuteTime": {
     "end_time": "2025-06-30T09:06:28.150657Z",
     "start_time": "2025-06-30T09:06:28.146140Z"
    }
   },
   "cell_type": "code",
   "source": [
    "model = Word2Vec.load(\"word2vec.model\")\n",
    "print(model.wv[\"dog\"])"
   ],
   "id": "1f1c72513b8b6604",
   "outputs": [
    {
     "name": "stdout",
     "output_type": "stream",
     "text": [
      "[-0.01631583  0.0089916  -0.00827415  0.00164907  0.01699724 -0.00892435\n",
      "  0.009035   -0.01357392 -0.00709698  0.01879702 -0.00315531  0.00064274\n",
      " -0.00828126 -0.01536538 -0.00301602  0.00493959 -0.00177605  0.01106732\n",
      " -0.00548595  0.00452013  0.01091159  0.01669191 -0.00290748 -0.01841629\n",
      "  0.0087411   0.00114357  0.01488382 -0.00162657 -0.00527683 -0.01750602\n",
      " -0.00171311  0.00565313  0.01080286  0.01410531 -0.01140624  0.00371764\n",
      "  0.01217773 -0.0095961  -0.00621452  0.01359526  0.00326295  0.00037983\n",
      "  0.00694727  0.00043555  0.01923765  0.01012121 -0.01783478 -0.01408312\n",
      "  0.00180291  0.01278507]\n"
     ]
    }
   ],
   "execution_count": 4
  },
  {
   "metadata": {
    "ExecuteTime": {
     "end_time": "2025-06-30T09:10:42.366238Z",
     "start_time": "2025-06-30T09:10:42.363904Z"
    }
   },
   "cell_type": "code",
   "source": [
    "scores = model.wv.most_similar(\"dog\")\n",
    "print(scores)"
   ],
   "id": "2eaf72a4e926beea",
   "outputs": [
    {
     "name": "stdout",
     "output_type": "stream",
     "text": [
      "[('cat', 0.12486252188682556), ('rug', 0.08061248809099197), ('are', 0.07399575412273407), ('the', 0.04237300902605057), ('pets', 0.01827714405953884), ('on', 0.011071975342929363), ('dogs', 0.0013424038188531995), ('mat', -0.012017550878226757), ('barked', -0.1094222441315651), ('and', -0.1191045343875885)]\n"
     ]
    }
   ],
   "execution_count": 7
  },
  {
   "metadata": {
    "ExecuteTime": {
     "end_time": "2025-06-30T09:11:22.321780Z",
     "start_time": "2025-06-30T09:11:22.246624Z"
    }
   },
   "cell_type": "code",
   "source": [
    "import matplotlib.pyplot as plt\n",
    "\n",
    "word, score = zip(*scores)\n",
    "\n",
    "plt.bar(word, score)\n",
    "plt.axhline(0, color='black', linewidth=0.8)\n",
    "\n"
   ],
   "id": "b7780d2c61af5a21",
   "outputs": [
    {
     "data": {
      "text/plain": [
       "<matplotlib.lines.Line2D at 0x34aacab80>"
      ]
     },
     "execution_count": 10,
     "metadata": {},
     "output_type": "execute_result"
    },
    {
     "data": {
      "text/plain": [
       "<Figure size 640x480 with 1 Axes>"
      ],
      "image/png": "[encoded data removed]"
     },
     "metadata": {},
     "output_type": "display_data"
    }
   ],
   "execution_count": 10
  },
  {
   "metadata": {},
   "cell_type": "code",
   "outputs": [],
   "execution_count": null,
   "source": "",
   "id": "b9d52e4b140f5f4a"
  }
 ],
 "metadata": {
  "kernelspec": {
   "display_name": "Python 3",
   "language": "python",
   "name": "python3"
  },
  "language_info": {
   "codemirror_mode": {
    "name": "ipython",
    "version": 2
   },
   "file_extension": ".py",
   "mimetype": "text/x-python",
   "name": "python",
   "nbconvert_exporter": "python",
   "pygments_lexer": "ipython2",
   "version": "2.7.6"
  }
 },
 "nbformat": 4,
 "nbformat_minor": 5
}
