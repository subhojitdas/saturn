{
 "cells": [
  {
   "cell_type": "code",
   "id": "initial_id",
   "metadata": {
    "collapsed": true,
    "ExecuteTime": {
     "end_time": "2025-07-02T19:23:10.683487Z",
     "start_time": "2025-07-02T19:23:10.676762Z"
    }
   },
   "source": [
    "from sklearn.feature_extraction.text import CountVectorizer\n",
    "import pandas as pd\n",
    "\n",
    "corpus = [\n",
    "    \"I love cats and I also love dogs\",\n",
    "    \"I love dogs\",\n",
    "    \"Dogs and cats are lovely\",\n",
    "    \"I have a pet cat\",\n",
    "    \"My dog loves me\"\n",
    "]\n",
    "\n",
    "vectorizer = CountVectorizer()\n",
    "bow_matrix = vectorizer.fit_transform(corpus)\n",
    "bow_df = pd.DataFrame(bow_matrix.toarray(), columns=vectorizer.get_feature_names_out())\n",
    "print(bow_df)\n"
   ],
   "outputs": [
    {
     "name": "stdout",
     "output_type": "stream",
     "text": [
      "   also  and  are  cat  cats  dog  dogs  have  love  lovely  loves  me  my  \\\n",
      "0     1    1    0    0     1    0     1     0     2       0      0   0   0   \n",
      "1     0    0    0    0     0    0     1     0     1       0      0   0   0   \n",
      "2     0    1    1    0     1    0     1     0     0       1      0   0   0   \n",
      "3     0    0    0    1     0    0     0     1     0       0      0   0   0   \n",
      "4     0    0    0    0     0    1     0     0     0       0      1   1   1   \n",
      "\n",
      "   pet  \n",
      "0    0  \n",
      "1    0  \n",
      "2    0  \n",
      "3    1  \n",
      "4    0  \n"
     ]
    }
   ],
   "execution_count": 2
  },
  {
   "metadata": {
    "ExecuteTime": {
     "end_time": "2025-07-03T07:58:31.608088Z",
     "start_time": "2025-07-03T07:57:39.284012Z"
    }
   },
   "cell_type": "code",
   "source": [
    "from sklearn.feature_extraction.text import CountVectorizer\n",
    "from sklearn.naive_bayes import MultinomialNB\n",
    "from sklearn.pipeline import make_pipeline\n",
    "from sklearn.model_selection import train_test_split\n",
    "from sklearn.metrics import classification_report\n",
    "import pandas as pd\n",
    "\n",
    "data = {\n",
    "    \"text\": [\n",
    "        \"Free entry in 2 a wkly comp to win FA Cup final tkts 21st May 2005\",\n",
    "        \"U dun say so early hor... U c already then say...\",\n",
    "        \"WINNER!! As a valued network customer you have been selected to receive a £900 prize reward!\",\n",
    "        \"Had your mobile 11 months or more? You are entitled to update to the latest colour mobiles with camera for free!\",\n",
    "        \"Nah I don't think he goes to usf, he lives around here though\",\n",
    "        \"Even my brother is not like to speak with me. They treat me like aids patent.\",\n",
    "        \"SIX chances to win CASH! From 100 to 20,000 pounds txt > CSH11 and send to 87575.\",\n",
    "        \"I HAVE A DATE ON SUNDAY WITH WILL!!\",\n",
    "        \"XXXMobileMovieClub: To use your credit, click the WAP link in the next txt message!\",\n",
    "        \"Oh k...i'm watching here:)\"\n",
    "    ],\n",
    "    \"label\": [ \"spam\", \"ham\", \"spam\", \"spam\", \"ham\", \"ham\", \"spam\", \"ham\", \"spam\", \"ham\" ]\n",
    "}\n",
    "\n",
    "df = pd.DataFrame(data)\n",
    "\n",
    "X_train, X_test, y_train, y_test = train_test_split(df[\"text\"], df[\"label\"], test_size=0.25, random_state=6)\n",
    "\n",
    "model = CountVectorizer()\n",
    "bow = model.fit_transform(X_train, y_train)\n",
    "\n",
    "bow"
   ],
   "id": "b8e6c7d386f04be1",
   "outputs": [
    {
     "data": {
      "text/plain": [
       "<7x81 sparse matrix of type '<class 'numpy.int64'>'\n",
       "\twith 91 stored elements in Compressed Sparse Row format>"
      ]
     },
     "execution_count": 4,
     "metadata": {},
     "output_type": "execute_result"
    }
   ],
   "execution_count": 4
  },
  {
   "metadata": {
    "ExecuteTime": {
     "end_time": "2025-07-03T08:00:24.771862Z",
     "start_time": "2025-07-03T08:00:24.755273Z"
    }
   },
   "cell_type": "code",
   "source": [
    "clf = MultinomialNB()\n",
    "clf.fit(bow, y_train)\n",
    "\n",
    "X_test_bow = model.transform(X_test)\n",
    "y_pred = clf.predict(X_test_bow)\n",
    "print(classification_report(y_test, y_pred))"
   ],
   "id": "2b851c7ce6164405",
   "outputs": [
    {
     "name": "stdout",
     "output_type": "stream",
     "text": [
      "              precision    recall  f1-score   support\n",
      "\n",
      "         ham       0.00      0.00      0.00         2\n",
      "        spam       0.33      1.00      0.50         1\n",
      "\n",
      "    accuracy                           0.33         3\n",
      "   macro avg       0.17      0.50      0.25         3\n",
      "weighted avg       0.11      0.33      0.17         3\n",
      "\n"
     ]
    },
    {
     "name": "stderr",
     "output_type": "stream",
     "text": [
      "/Users/subhojit/workspace/saturn/.venv/lib/python3.9/site-packages/sklearn/metrics/_classification.py:1565: UndefinedMetricWarning: Precision is ill-defined and being set to 0.0 in labels with no predicted samples. Use `zero_division` parameter to control this behavior.\n",
      "  _warn_prf(average, modifier, f\"{metric.capitalize()} is\", len(result))\n",
      "/Users/subhojit/workspace/saturn/.venv/lib/python3.9/site-packages/sklearn/metrics/_classification.py:1565: UndefinedMetricWarning: Precision is ill-defined and being set to 0.0 in labels with no predicted samples. Use `zero_division` parameter to control this behavior.\n",
      "  _warn_prf(average, modifier, f\"{metric.capitalize()} is\", len(result))\n",
      "/Users/subhojit/workspace/saturn/.venv/lib/python3.9/site-packages/sklearn/metrics/_classification.py:1565: UndefinedMetricWarning: Precision is ill-defined and being set to 0.0 in labels with no predicted samples. Use `zero_division` parameter to control this behavior.\n",
      "  _warn_prf(average, modifier, f\"{metric.capitalize()} is\", len(result))\n"
     ]
    }
   ],
   "execution_count": 5
  },
  {
   "metadata": {},
   "cell_type": "code",
   "outputs": [],
   "execution_count": null,
   "source": "",
   "id": "b142db3e516e32f3"
  }
 ],
 "metadata": {
  "kernelspec": {
   "display_name": "Python 3",
   "language": "python",
   "name": "python3"
  },
  "language_info": {
   "codemirror_mode": {
    "name": "ipython",
    "version": 2
   },
   "file_extension": ".py",
   "mimetype": "text/x-python",
   "name": "python",
   "nbconvert_exporter": "python",
   "pygments_lexer": "ipython2",
   "version": "2.7.6"
  }
 },
 "nbformat": 4,
 "nbformat_minor": 5
}
