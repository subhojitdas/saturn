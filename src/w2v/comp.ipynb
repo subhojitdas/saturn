{
 "cells": [
  {
   "cell_type": "code",
   "id": "initial_id",
   "metadata": {
    "collapsed": true,
    "ExecuteTime": {
     "end_time": "2025-07-03T12:32:25.227080Z",
     "start_time": "2025-07-03T12:32:25.222924Z"
    }
   },
   "source": [
    "import pandas as pd\n",
    "from sklearn.feature_extraction.text import CountVectorizer, TfidfVectorizer\n",
    "from sklearn.metrics import classification_report\n",
    "from sklearn.model_selection import train_test_split\n",
    "from sklearn.naive_bayes import MultinomialNB"
   ],
   "outputs": [],
   "execution_count": 32
  },
  {
   "metadata": {
    "ExecuteTime": {
     "end_time": "2025-07-03T12:27:25.986341Z",
     "start_time": "2025-07-03T12:27:25.970729Z"
    }
   },
   "cell_type": "code",
   "source": [
    "df = pd.read_csv('dataset/spam.csv')\n",
    "df.head()\n",
    "y = df['v1']\n",
    "X = df['v2']\n",
    "\n",
    "X_train, X_test, y_train, y_test = train_test_split(X, y, test_size=0.25, random_state=94)"
   ],
   "id": "4833a7daddb9c760",
   "outputs": [],
   "execution_count": 26
  },
  {
   "metadata": {
    "ExecuteTime": {
     "end_time": "2025-07-03T12:27:27.860429Z",
     "start_time": "2025-07-03T12:27:27.855713Z"
    }
   },
   "cell_type": "code",
   "source": [
    "bow_model = CountVectorizer()\n",
    "cls = MultinomialNB()"
   ],
   "id": "b9fd96d3caf15ee8",
   "outputs": [],
   "execution_count": 27
  },
  {
   "metadata": {
    "ExecuteTime": {
     "end_time": "2025-07-03T12:27:28.700420Z",
     "start_time": "2025-07-03T12:27:28.628121Z"
    }
   },
   "cell_type": "code",
   "source": [
    "bow = bow_model.fit_transform(X_train, y_train)\n",
    "cls.fit(bow, y_train)\n",
    "X_test_bow = bow_model.transform(X_test)\n",
    "y_pred = cls.predict(X_test_bow)\n",
    "print(classification_report(y_test, y_pred))"
   ],
   "id": "8869e5042409dc01",
   "outputs": [
    {
     "name": "stdout",
     "output_type": "stream",
     "text": [
      "              precision    recall  f1-score   support\n",
      "\n",
      "         ham       0.99      0.99      0.99      1194\n",
      "        spam       0.96      0.91      0.94       199\n",
      "\n",
      "    accuracy                           0.98      1393\n",
      "   macro avg       0.97      0.95      0.96      1393\n",
      "weighted avg       0.98      0.98      0.98      1393\n",
      "\n"
     ]
    }
   ],
   "execution_count": 28
  },
  {
   "metadata": {
    "ExecuteTime": {
     "end_time": "2025-07-03T12:32:29.722025Z",
     "start_time": "2025-07-03T12:32:29.718810Z"
    }
   },
   "cell_type": "code",
   "source": [
    "tfidf_model = TfidfVectorizer()\n",
    "cls = MultinomialNB()"
   ],
   "id": "9d9c17b75b63d8b1",
   "outputs": [],
   "execution_count": 33
  },
  {
   "metadata": {
    "ExecuteTime": {
     "end_time": "2025-07-03T12:32:30.508246Z",
     "start_time": "2025-07-03T12:32:30.431556Z"
    }
   },
   "cell_type": "code",
   "source": [
    "tfidf = tfidf_model.fit_transform(X_train, y_train)\n",
    "cls.fit(tfidf, y_train)\n",
    "X_test_tfidf = tfidf_model.transform(X_test)\n",
    "y_preds = cls.predict(X_test_tfidf)\n",
    "print(classification_report(y_test, y_preds))"
   ],
   "id": "6f8c4d346f7e3d6d",
   "outputs": [
    {
     "name": "stdout",
     "output_type": "stream",
     "text": [
      "              precision    recall  f1-score   support\n",
      "\n",
      "         ham       0.95      1.00      0.97      1194\n",
      "        spam       1.00      0.69      0.82       199\n",
      "\n",
      "    accuracy                           0.96      1393\n",
      "   macro avg       0.98      0.84      0.90      1393\n",
      "weighted avg       0.96      0.96      0.95      1393\n",
      "\n"
     ]
    }
   ],
   "execution_count": 34
  },
  {
   "metadata": {},
   "cell_type": "code",
   "outputs": [],
   "execution_count": null,
   "source": "",
   "id": "ffcfec39c392a44d"
  }
 ],
 "metadata": {
  "kernelspec": {
   "display_name": "Python 3",
   "language": "python",
   "name": "python3"
  },
  "language_info": {
   "codemirror_mode": {
    "name": "ipython",
    "version": 2
   },
   "file_extension": ".py",
   "mimetype": "text/x-python",
   "name": "python",
   "nbconvert_exporter": "python",
   "pygments_lexer": "ipython2",
   "version": "2.7.6"
  }
 },
 "nbformat": 4,
 "nbformat_minor": 5
}
