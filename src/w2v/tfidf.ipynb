{
 "cells": [
  {
   "cell_type": "code",
   "id": "initial_id",
   "metadata": {
    "collapsed": true,
    "ExecuteTime": {
     "end_time": "2025-07-03T12:08:33.465846Z",
     "start_time": "2025-07-03T12:08:33.458273Z"
    }
   },
   "source": [
    "from sklearn.feature_extraction.text import CountVectorizer, TfidfVectorizer\n",
    "from sklearn.naive_bayes import MultinomialNB\n",
    "from sklearn.model_selection import train_test_split\n",
    "from sklearn.metrics import classification_report\n",
    "import pandas as pd\n",
    "\n",
    "data = {\n",
    "    \"text\": [\n",
    "        \"Free entry in 2 a wkly comp to win FA Cup final tkts 21st May 2005\",\n",
    "        \"U dun say so early hor... U c already then say...\",\n",
    "        \"WINNER!! As a valued network customer you have been selected to receive a £900 prize reward!\",\n",
    "        \"Had your mobile 11 months or more? You are entitled to update to the latest colour mobiles with camera for free!\",\n",
    "        \"Nah I don't think he goes to usf, he lives around here though\",\n",
    "        \"Even my brother is not like to speak with me. They treat me like aids patent.\",\n",
    "        \"SIX chances to win CASH! From 100 to 20,000 pounds txt > CSH11 and send to 87575.\",\n",
    "        \"I HAVE A DATE ON SUNDAY WITH WILL!!\",\n",
    "        \"XXXMobileMovieClub: To use your credit, click the WAP link in the next txt message!\",\n",
    "        \"Oh k...i'm watching here:)\"\n",
    "    ],\n",
    "    \"label\": [ \"spam\", \"ham\", \"spam\", \"spam\", \"ham\", \"ham\", \"spam\", \"ham\", \"spam\", \"ham\" ]\n",
    "}\n",
    "\n",
    "df = pd.DataFrame(data)\n",
    "\n",
    "X_train, X_test, y_train, y_test = train_test_split(df[\"text\"], df[\"label\"], test_size=0.25, random_state=6)\n",
    "\n",
    "model = TfidfVectorizer()\n",
    "tfidf_vec = model.fit_transform(X_train, y_train)\n",
    "\n",
    "print(tfidf_vec)"
   ],
   "outputs": [
    {
     "name": "stdout",
     "output_type": "stream",
     "text": [
      "  (0, 30)\t0.23381562912453982\n",
      "  (0, 25)\t0.28167643247052054\n",
      "  (0, 37)\t0.28167643247052054\n",
      "  (0, 78)\t0.28167643247052054\n",
      "  (0, 19)\t0.28167643247052054\n",
      "  (0, 68)\t0.13380121244471016\n",
      "  (0, 75)\t0.23381562912453982\n",
      "  (0, 27)\t0.28167643247052054\n",
      "  (0, 21)\t0.28167643247052054\n",
      "  (0, 28)\t0.28167643247052054\n",
      "  (0, 67)\t0.28167643247052054\n",
      "  (0, 5)\t0.28167643247052054\n",
      "  (0, 42)\t0.28167643247052054\n",
      "  (0, 4)\t0.28167643247052054\n",
      "  (1, 68)\t0.3594239855347995\n",
      "  (1, 75)\t0.2093626900304199\n",
      "  (1, 61)\t0.2522181080922905\n",
      "  (1, 17)\t0.2522181080922905\n",
      "  (1, 16)\t0.2522181080922905\n",
      "  (1, 31)\t0.2522181080922905\n",
      "  (1, 1)\t0.2522181080922905\n",
      "  (1, 3)\t0.2522181080922905\n",
      "  (1, 0)\t0.2522181080922905\n",
      "  (1, 55)\t0.2522181080922905\n",
      "  (1, 70)\t0.2522181080922905\n",
      "  :\t:\n",
      "  (4, 36)\t0.23098359268267887\n",
      "  (4, 66)\t0.2782646933812358\n",
      "  (5, 30)\t0.19058682033480673\n",
      "  (5, 68)\t0.21812697236929812\n",
      "  (5, 77)\t0.19058682033480673\n",
      "  (5, 79)\t0.19058682033480673\n",
      "  (5, 33)\t0.22959891872418076\n",
      "  (5, 80)\t0.22959891872418076\n",
      "  (5, 44)\t0.22959891872418076\n",
      "  (5, 2)\t0.22959891872418076\n",
      "  (5, 46)\t0.22959891872418076\n",
      "  (5, 53)\t0.22959891872418076\n",
      "  (5, 47)\t0.22959891872418076\n",
      "  (5, 10)\t0.22959891872418076\n",
      "  (5, 24)\t0.22959891872418076\n",
      "  (5, 71)\t0.22959891872418076\n",
      "  (5, 63)\t0.22959891872418076\n",
      "  (5, 39)\t0.22959891872418076\n",
      "  (5, 18)\t0.22959891872418076\n",
      "  (5, 45)\t0.22959891872418076\n",
      "  (5, 15)\t0.22959891872418076\n",
      "  (5, 29)\t0.22959891872418076\n",
      "  (6, 36)\t0.5062023856012858\n",
      "  (6, 52)\t0.6098192948782316\n",
      "  (6, 74)\t0.6098192948782316\n"
     ]
    }
   ],
   "execution_count": 5
  },
  {
   "metadata": {
    "ExecuteTime": {
     "end_time": "2025-07-03T12:09:04.609109Z",
     "start_time": "2025-07-03T12:09:04.593689Z"
    }
   },
   "cell_type": "code",
   "source": [
    "clf = MultinomialNB()\n",
    "clf.fit(tfidf_vec, y_train)\n",
    "\n",
    "X_test_bow = model.transform(X_test)\n",
    "y_pred = clf.predict(X_test_bow)\n",
    "print(classification_report(y_test, y_pred))"
   ],
   "id": "87965fd7c614d737",
   "outputs": [
    {
     "name": "stdout",
     "output_type": "stream",
     "text": [
      "              precision    recall  f1-score   support\n",
      "\n",
      "         ham       0.00      0.00      0.00         2\n",
      "        spam       0.33      1.00      0.50         1\n",
      "\n",
      "    accuracy                           0.33         3\n",
      "   macro avg       0.17      0.50      0.25         3\n",
      "weighted avg       0.11      0.33      0.17         3\n",
      "\n"
     ]
    },
    {
     "name": "stderr",
     "output_type": "stream",
     "text": [
      "/Users/subhojit/workspace/saturn/.venv/lib/python3.9/site-packages/sklearn/metrics/_classification.py:1565: UndefinedMetricWarning: Precision is ill-defined and being set to 0.0 in labels with no predicted samples. Use `zero_division` parameter to control this behavior.\n",
      "  _warn_prf(average, modifier, f\"{metric.capitalize()} is\", len(result))\n",
      "/Users/subhojit/workspace/saturn/.venv/lib/python3.9/site-packages/sklearn/metrics/_classification.py:1565: UndefinedMetricWarning: Precision is ill-defined and being set to 0.0 in labels with no predicted samples. Use `zero_division` parameter to control this behavior.\n",
      "  _warn_prf(average, modifier, f\"{metric.capitalize()} is\", len(result))\n",
      "/Users/subhojit/workspace/saturn/.venv/lib/python3.9/site-packages/sklearn/metrics/_classification.py:1565: UndefinedMetricWarning: Precision is ill-defined and being set to 0.0 in labels with no predicted samples. Use `zero_division` parameter to control this behavior.\n",
      "  _warn_prf(average, modifier, f\"{metric.capitalize()} is\", len(result))\n"
     ]
    }
   ],
   "execution_count": 6
  },
  {
   "metadata": {},
   "cell_type": "code",
   "outputs": [],
   "execution_count": null,
   "source": "",
   "id": "85e3a2a0a4cfcd6f"
  }
 ],
 "metadata": {
  "kernelspec": {
   "display_name": "Python 3",
   "language": "python",
   "name": "python3"
  },
  "language_info": {
   "codemirror_mode": {
    "name": "ipython",
    "version": 2
   },
   "file_extension": ".py",
   "mimetype": "text/x-python",
   "name": "python",
   "nbconvert_exporter": "python",
   "pygments_lexer": "ipython2",
   "version": "2.7.6"
  }
 },
 "nbformat": 4,
 "nbformat_minor": 5
}
