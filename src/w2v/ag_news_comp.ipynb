{
 "cells": [
  {
   "cell_type": "code",
   "execution_count": null,
   "id": "initial_id",
   "metadata": {
    "collapsed": true
   },
   "outputs": [],
   "source": [
    ""
   ]
  },
  {
   "metadata": {
    "ExecuteTime": {
     "end_time": "2025-07-03T12:53:44.226587Z",
     "start_time": "2025-07-03T12:53:44.130934Z"
    }
   },
   "cell_type": "code",
   "source": [
    "import pandas as pd\n",
    "from sklearn.feature_extraction.text import CountVectorizer, TfidfVectorizer\n",
    "from sklearn.linear_model import LogisticRegression\n",
    "from sklearn.metrics import classification_report\n",
    "from sklearn.model_selection import train_test_split\n",
    "from sklearn.naive_bayes import MultinomialNB"
   ],
   "id": "d0c8c0e57e264aee",
   "outputs": [],
   "execution_count": 9
  },
  {
   "metadata": {
    "ExecuteTime": {
     "end_time": "2025-07-03T12:51:43.241035Z",
     "start_time": "2025-07-03T12:51:43.214873Z"
    }
   },
   "cell_type": "code",
   "source": [
    "df = pd.read_csv('dataset/ag_news.csv')\n",
    "df = df.rename(columns={\"Class Index\": \"label\", \"Title\": \"title\", \"Description\": \"desc\"})\n",
    "df[\"text\"] = df[\"title\"] + \" \" + df[\"desc\"]\n",
    "\n",
    "X = df[\"text\"]\n",
    "y = df[\"label\"]\n",
    "X_train, X_test, y_train, y_test = train_test_split(X, y, test_size=0.25, random_state=94)"
   ],
   "id": "99fe6fc335b44adf",
   "outputs": [],
   "execution_count": 2
  },
  {
   "metadata": {
    "ExecuteTime": {
     "end_time": "2025-07-03T12:54:11.725251Z",
     "start_time": "2025-07-03T12:54:11.721743Z"
    }
   },
   "cell_type": "code",
   "source": [
    "bow_model = CountVectorizer()\n",
    "cls = LogisticRegression(max_iter=1000)"
   ],
   "id": "5847e0fd1d1e4263",
   "outputs": [],
   "execution_count": 10
  },
  {
   "metadata": {
    "ExecuteTime": {
     "end_time": "2025-07-03T12:54:18.726606Z",
     "start_time": "2025-07-03T12:54:17.839131Z"
    }
   },
   "cell_type": "code",
   "source": [
    "bow = bow_model.fit_transform(X_train, y_train)\n",
    "cls.fit(bow, y_train)\n",
    "X_test_bow = bow_model.transform(X_test)\n",
    "y_pred = cls.predict(X_test_bow)\n",
    "print(classification_report(y_test, y_pred))"
   ],
   "id": "522522e7fa9d9ea9",
   "outputs": [
    {
     "name": "stdout",
     "output_type": "stream",
     "text": [
      "              precision    recall  f1-score   support\n",
      "\n",
      "           1       0.88      0.85      0.87       461\n",
      "           2       0.91      0.95      0.93       485\n",
      "           3       0.84      0.80      0.82       491\n",
      "           4       0.81      0.83      0.82       463\n",
      "\n",
      "    accuracy                           0.86      1900\n",
      "   macro avg       0.86      0.86      0.86      1900\n",
      "weighted avg       0.86      0.86      0.86      1900\n",
      "\n"
     ]
    }
   ],
   "execution_count": 11
  },
  {
   "metadata": {
    "ExecuteTime": {
     "end_time": "2025-07-03T12:54:29.235770Z",
     "start_time": "2025-07-03T12:54:29.231468Z"
    }
   },
   "cell_type": "code",
   "source": [
    "tfidf_model = TfidfVectorizer()\n",
    "cls = LogisticRegression(max_iter=1000)"
   ],
   "id": "8799faabe28b8bd0",
   "outputs": [],
   "execution_count": 12
  },
  {
   "metadata": {
    "ExecuteTime": {
     "end_time": "2025-07-03T12:54:31.591984Z",
     "start_time": "2025-07-03T12:54:31.158956Z"
    }
   },
   "cell_type": "code",
   "source": [
    "tfidf = tfidf_model.fit_transform(X_train, y_train)\n",
    "cls.fit(tfidf, y_train)\n",
    "X_test_tfidf = tfidf_model.transform(X_test)\n",
    "y_preds = cls.predict(X_test_tfidf)\n",
    "print(classification_report(y_test, y_preds))"
   ],
   "id": "207d6d48cbb5a7df",
   "outputs": [
    {
     "name": "stdout",
     "output_type": "stream",
     "text": [
      "              precision    recall  f1-score   support\n",
      "\n",
      "           1       0.90      0.86      0.88       461\n",
      "           2       0.90      0.96      0.93       485\n",
      "           3       0.86      0.81      0.83       491\n",
      "           4       0.82      0.85      0.83       463\n",
      "\n",
      "    accuracy                           0.87      1900\n",
      "   macro avg       0.87      0.87      0.87      1900\n",
      "weighted avg       0.87      0.87      0.87      1900\n",
      "\n"
     ]
    }
   ],
   "execution_count": 13
  },
  {
   "metadata": {},
   "cell_type": "code",
   "source": "",
   "id": "473d63716fd5d9cd",
   "outputs": [],
   "execution_count": null
  },
  {
   "metadata": {},
   "cell_type": "code",
   "outputs": [],
   "execution_count": null,
   "source": "",
   "id": "e3862195f034e2f6"
  }
 ],
 "metadata": {
  "kernelspec": {
   "display_name": "Python 3",
   "language": "python",
   "name": "python3"
  },
  "language_info": {
   "codemirror_mode": {
    "name": "ipython",
    "version": 2
   },
   "file_extension": ".py",
   "mimetype": "text/x-python",
   "name": "python",
   "nbconvert_exporter": "python",
   "pygments_lexer": "ipython2",
   "version": "2.7.6"
  }
 },
 "nbformat": 4,
 "nbformat_minor": 5
}
