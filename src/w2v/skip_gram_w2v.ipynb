{
 "cells": [
  {
   "cell_type": "code",
   "id": "initial_id",
   "metadata": {
    "collapsed": true,
    "ExecuteTime": {
     "end_time": "2025-07-06T07:49:59.941715Z",
     "start_time": "2025-07-06T07:49:59.662145Z"
    }
   },
   "source": [
    "import numpy as np\n",
    "\n",
    "# corpus = \"i love deep learning and neural network. I would like to work on deep learning to understand it from depth. I believe I would need to learn statistics first.\"\n",
    "corpus = \"i love deep learning and AI. I want to work on deep learning.\"\n",
    "tokens = corpus.lower().split()\n"
   ],
   "outputs": [],
   "execution_count": 1
  },
  {
   "metadata": {
    "ExecuteTime": {
     "end_time": "2025-07-06T07:50:01.467176Z",
     "start_time": "2025-07-06T07:50:01.464168Z"
    }
   },
   "cell_type": "code",
   "source": [
    "def dedup_list(seq):\n",
    "    seen = set()\n",
    "    return [x for x in seq if not (x in seen or seen.add(x))]\n",
    "\n",
    "vocab = dedup_list(tokens)\n",
    "stoi = {w:i for i,w in enumerate(vocab)}\n",
    "itos = {i:w for w,i in stoi.items()}"
   ],
   "id": "f22f2c0f71e39725",
   "outputs": [],
   "execution_count": 2
  },
  {
   "metadata": {
    "ExecuteTime": {
     "end_time": "2025-07-06T07:50:02.494180Z",
     "start_time": "2025-07-06T07:50:02.486874Z"
    }
   },
   "cell_type": "code",
   "source": [
    "def generate_training_data(tokens, window_size=2):\n",
    "    training_data = []\n",
    "    for centre_idx, centre_word in enumerate(tokens):\n",
    "        for context_idx in range(-window_size, window_size + 1):\n",
    "            idx = centre_idx + context_idx\n",
    "            if idx < 0 or idx >= len(tokens) or context_idx == 0:\n",
    "                continue\n",
    "            training_data.append((centre_word, tokens[idx]))\n",
    "    return training_data\n",
    "\n",
    "training_data = generate_training_data(vocab, window_size=2)\n",
    "training_data"
   ],
   "id": "9898046f31c90dec",
   "outputs": [
    {
     "data": {
      "text/plain": [
       "[('i', 'love'),\n",
       " ('i', 'deep'),\n",
       " ('love', 'i'),\n",
       " ('love', 'deep'),\n",
       " ('love', 'learning'),\n",
       " ('deep', 'i'),\n",
       " ('deep', 'love'),\n",
       " ('deep', 'learning'),\n",
       " ('deep', 'and'),\n",
       " ('learning', 'love'),\n",
       " ('learning', 'deep'),\n",
       " ('learning', 'and'),\n",
       " ('learning', 'ai.'),\n",
       " ('and', 'deep'),\n",
       " ('and', 'learning'),\n",
       " ('and', 'ai.'),\n",
       " ('and', 'want'),\n",
       " ('ai.', 'learning'),\n",
       " ('ai.', 'and'),\n",
       " ('ai.', 'want'),\n",
       " ('ai.', 'to'),\n",
       " ('want', 'and'),\n",
       " ('want', 'ai.'),\n",
       " ('want', 'to'),\n",
       " ('want', 'work'),\n",
       " ('to', 'ai.'),\n",
       " ('to', 'want'),\n",
       " ('to', 'work'),\n",
       " ('to', 'on'),\n",
       " ('work', 'want'),\n",
       " ('work', 'to'),\n",
       " ('work', 'on'),\n",
       " ('work', 'learning.'),\n",
       " ('on', 'to'),\n",
       " ('on', 'work'),\n",
       " ('on', 'learning.'),\n",
       " ('learning.', 'work'),\n",
       " ('learning.', 'on')]"
      ]
     },
     "execution_count": 3,
     "metadata": {},
     "output_type": "execute_result"
    }
   ],
   "execution_count": 3
  },
  {
   "metadata": {
    "ExecuteTime": {
     "end_time": "2025-07-06T07:50:09.240727Z",
     "start_time": "2025-07-06T07:50:09.237332Z"
    }
   },
   "cell_type": "code",
   "source": [
    "vocab_size = len(vocab)\n",
    "def one_hot_encoding(word):\n",
    "    vec = np.zeros(vocab_size)\n",
    "    vec[stoi[word]] = 1\n",
    "    return vec"
   ],
   "id": "183ecae3266ad7ce",
   "outputs": [],
   "execution_count": 5
  },
  {
   "metadata": {
    "ExecuteTime": {
     "end_time": "2025-07-06T07:50:10.017807Z",
     "start_time": "2025-07-06T07:50:10.014411Z"
    }
   },
   "cell_type": "code",
   "source": [
    "embedding_dim = 5\n",
    "W1 = np.random.randn(vocab_size, embedding_dim)\n",
    "W2 = np.random.randn(embedding_dim, vocab_size)\n"
   ],
   "id": "e89f4add3c4de27",
   "outputs": [],
   "execution_count": 6
  },
  {
   "metadata": {
    "ExecuteTime": {
     "end_time": "2025-07-06T07:50:17.535839Z",
     "start_time": "2025-07-06T07:50:17.532565Z"
    }
   },
   "cell_type": "code",
   "source": [
    "def softmax(x):\n",
    "    ex = np.exp(x - np.max(x))\n",
    "    return ex / ex.sum(axis=0)"
   ],
   "id": "a6ce3edf912bd9cc",
   "outputs": [],
   "execution_count": 7
  },
  {
   "metadata": {
    "ExecuteTime": {
     "end_time": "2025-07-06T07:52:41.807875Z",
     "start_time": "2025-07-06T07:52:38.012383Z"
    }
   },
   "cell_type": "code",
   "source": [
    "def train(training_data, epochs=10000, learning_rate=0.01):\n",
    "    global W1, W2\n",
    "    for epoch in range(epochs):\n",
    "        loss = 0.0\n",
    "        for center_word, context_word in training_data:\n",
    "            x = one_hot_encoding(center_word).reshape(-1, 1)\n",
    "            y_true = one_hot_encoding(context_word).reshape(-1, 1)\n",
    "            #forward pass\n",
    "            h = W1.T @ x\n",
    "            logits = W2.T @ h\n",
    "            y_pred = softmax(logits)\n",
    "\n",
    "            loss -= np.sum(y_true * np.log(y_pred))\n",
    "            #backward pass\n",
    "            e = y_pred - y_true\n",
    "            dW2 = np.dot(h, e.T)\n",
    "            dW1 = np.dot(x, np.dot(W2, e).T)\n",
    "\n",
    "            # Update weights\n",
    "            W1 -= learning_rate * dW1\n",
    "            W2 -= learning_rate * dW2\n",
    "        if epoch % 100 == 0:\n",
    "            print(f\"Epoch {epoch}, Loss: {loss:.4f}\")\n",
    "\n",
    "train(training_data, epochs=10000, learning_rate=0.01)"
   ],
   "id": "1fe5677959b3eb28",
   "outputs": [
    {
     "name": "stdout",
     "output_type": "stream",
     "text": [
      "Epoch 0, Loss: 50.5790\n",
      "Epoch 100, Loss: 50.5672\n",
      "Epoch 200, Loss: 50.5558\n",
      "Epoch 300, Loss: 50.5447\n",
      "Epoch 400, Loss: 50.5340\n",
      "Epoch 500, Loss: 50.5237\n",
      "Epoch 600, Loss: 50.5137\n",
      "Epoch 700, Loss: 50.5040\n",
      "Epoch 800, Loss: 50.4947\n",
      "Epoch 900, Loss: 50.4858\n",
      "Epoch 1000, Loss: 50.4772\n",
      "Epoch 1100, Loss: 50.4689\n",
      "Epoch 1200, Loss: 50.4610\n",
      "Epoch 1300, Loss: 50.4533\n",
      "Epoch 1400, Loss: 50.4460\n",
      "Epoch 1500, Loss: 50.4390\n",
      "Epoch 1600, Loss: 50.4322\n",
      "Epoch 1700, Loss: 50.4258\n",
      "Epoch 1800, Loss: 50.4196\n",
      "Epoch 1900, Loss: 50.4136\n",
      "Epoch 2000, Loss: 50.4080\n",
      "Epoch 2100, Loss: 50.4025\n",
      "Epoch 2200, Loss: 50.3973\n",
      "Epoch 2300, Loss: 50.3922\n",
      "Epoch 2400, Loss: 50.3874\n",
      "Epoch 2500, Loss: 50.3828\n",
      "Epoch 2600, Loss: 50.3783\n",
      "Epoch 2700, Loss: 50.3741\n",
      "Epoch 2800, Loss: 50.3700\n",
      "Epoch 2900, Loss: 50.3660\n",
      "Epoch 3000, Loss: 50.3622\n",
      "Epoch 3100, Loss: 50.3586\n",
      "Epoch 3200, Loss: 50.3551\n",
      "Epoch 3300, Loss: 50.3517\n",
      "Epoch 3400, Loss: 50.3485\n",
      "Epoch 3500, Loss: 50.3453\n",
      "Epoch 3600, Loss: 50.3423\n",
      "Epoch 3700, Loss: 50.3394\n",
      "Epoch 3800, Loss: 50.3366\n",
      "Epoch 3900, Loss: 50.3339\n",
      "Epoch 4000, Loss: 50.3313\n",
      "Epoch 4100, Loss: 50.3287\n",
      "Epoch 4200, Loss: 50.3263\n",
      "Epoch 4300, Loss: 50.3240\n",
      "Epoch 4400, Loss: 50.3217\n",
      "Epoch 4500, Loss: 50.3195\n",
      "Epoch 4600, Loss: 50.3174\n",
      "Epoch 4700, Loss: 50.3153\n",
      "Epoch 4800, Loss: 50.3134\n",
      "Epoch 4900, Loss: 50.3115\n",
      "Epoch 5000, Loss: 50.3096\n",
      "Epoch 5100, Loss: 50.3078\n",
      "Epoch 5200, Loss: 50.3061\n",
      "Epoch 5300, Loss: 50.3045\n",
      "Epoch 5400, Loss: 50.3028\n",
      "Epoch 5500, Loss: 50.3013\n",
      "Epoch 5600, Loss: 50.2998\n",
      "Epoch 5700, Loss: 50.2983\n",
      "Epoch 5800, Loss: 50.2969\n",
      "Epoch 5900, Loss: 50.2956\n",
      "Epoch 6000, Loss: 50.2943\n",
      "Epoch 6100, Loss: 50.2930\n",
      "Epoch 6200, Loss: 50.2918\n",
      "Epoch 6300, Loss: 50.2906\n",
      "Epoch 6400, Loss: 50.2894\n",
      "Epoch 6500, Loss: 50.2883\n",
      "Epoch 6600, Loss: 50.2872\n",
      "Epoch 6700, Loss: 50.2862\n",
      "Epoch 6800, Loss: 50.2852\n",
      "Epoch 6900, Loss: 50.2842\n",
      "Epoch 7000, Loss: 50.2833\n",
      "Epoch 7100, Loss: 50.2823\n",
      "Epoch 7200, Loss: 50.2815\n",
      "Epoch 7300, Loss: 50.2806\n",
      "Epoch 7400, Loss: 50.2798\n",
      "Epoch 7500, Loss: 50.2790\n",
      "Epoch 7600, Loss: 50.2782\n",
      "Epoch 7700, Loss: 50.2774\n",
      "Epoch 7800, Loss: 50.2767\n",
      "Epoch 7900, Loss: 50.2760\n",
      "Epoch 8000, Loss: 50.2753\n",
      "Epoch 8100, Loss: 50.2747\n",
      "Epoch 8200, Loss: 50.2740\n",
      "Epoch 8300, Loss: 50.2734\n",
      "Epoch 8400, Loss: 50.2728\n",
      "Epoch 8500, Loss: 50.2722\n",
      "Epoch 8600, Loss: 50.2717\n",
      "Epoch 8700, Loss: 50.2711\n",
      "Epoch 8800, Loss: 50.2706\n",
      "Epoch 8900, Loss: 50.2701\n",
      "Epoch 9000, Loss: 50.2696\n",
      "Epoch 9100, Loss: 50.2691\n",
      "Epoch 9200, Loss: 50.2686\n",
      "Epoch 9300, Loss: 50.2681\n",
      "Epoch 9400, Loss: 50.2677\n",
      "Epoch 9500, Loss: 50.2673\n",
      "Epoch 9600, Loss: 50.2668\n",
      "Epoch 9700, Loss: 50.2664\n",
      "Epoch 9800, Loss: 50.2660\n",
      "Epoch 9900, Loss: 50.2657\n"
     ]
    }
   ],
   "execution_count": 12
  },
  {
   "metadata": {
    "ExecuteTime": {
     "end_time": "2025-07-06T07:54:48.970412Z",
     "start_time": "2025-07-06T07:54:48.966914Z"
    }
   },
   "cell_type": "code",
   "outputs": [
    {
     "name": "stdout",
     "output_type": "stream",
     "text": [
      "Embedding for 'deep': [-1.32760221  1.17014495 -0.42276552 -0.00984344 -1.51755505]\n"
     ]
    }
   ],
   "execution_count": 15,
   "source": [
    "def get_embedding(word):\n",
    "    return W1[stoi[word]]\n",
    "\n",
    "word = 'deep'\n",
    "print(f\"Embedding for '{word}':\", get_embedding(word))"
   ],
   "id": "dc58bb5f9d9a15ce"
  },
  {
   "metadata": {
    "ExecuteTime": {
     "end_time": "2025-07-06T07:56:25.869248Z",
     "start_time": "2025-07-06T07:56:25.866860Z"
    }
   },
   "cell_type": "code",
   "source": [
    "embeddings = W1\n",
    "labels = [itos[i] for i in range(vocab_size)]\n"
   ],
   "id": "4a81c93a7a2643c6",
   "outputs": [],
   "execution_count": 16
  },
  {
   "metadata": {
    "ExecuteTime": {
     "end_time": "2025-07-06T07:56:38.652464Z",
     "start_time": "2025-07-06T07:56:36.629081Z"
    }
   },
   "cell_type": "code",
   "source": [
    "from sklearn.manifold import TSNE\n",
    "import matplotlib.pyplot as plt\n",
    "\n",
    "#Visualization t-SNE\n",
    "def visualize_embeddings(embeddings, labels):\n",
    "    tsne = TSNE(n_components=2, random_state=42, perplexity=5, n_iter=1000)\n",
    "    reduced = tsne.fit_transform(embeddings)\n",
    "\n",
    "    plt.figure(figsize=(8, 6))\n",
    "    for i, label in enumerate(labels):\n",
    "        x, y = reduced[i, :]\n",
    "        plt.scatter(x, y)\n",
    "        plt.annotate(label, (x + 0.01, y + 0.01), fontsize=12)\n",
    "    plt.title(\"Word Embeddings Visualized with t-SNE\")\n",
    "    plt.grid(True)\n",
    "    plt.show()\n",
    "\n",
    "visualize_embeddings(embeddings, labels)\n"
   ],
   "id": "51700775678ebe4a",
   "outputs": [
    {
     "name": "stderr",
     "output_type": "stream",
     "text": [
      "/Users/subhojit/workspace/saturn/.venv/lib/python3.9/site-packages/sklearn/manifold/_t_sne.py:1164: FutureWarning: 'n_iter' was renamed to 'max_iter' in version 1.5 and will be removed in 1.7.\n",
      "  warnings.warn(\n"
     ]
    },
    {
     "data": {
      "text/plain": [
       "<Figure size 800x600 with 1 Axes>"
      ],
      "image/png": "[encoded data removed]"
     },
     "metadata": {},
     "output_type": "display_data"
    }
   ],
   "execution_count": 17
  },
  {
   "metadata": {},
   "cell_type": "code",
   "outputs": [],
   "execution_count": null,
   "source": "",
   "id": "b16b8cd6158d5e75"
  }
 ],
 "metadata": {
  "kernelspec": {
   "display_name": "Python 3",
   "language": "python",
   "name": "python3"
  },
  "language_info": {
   "codemirror_mode": {
    "name": "ipython",
    "version": 2
   },
   "file_extension": ".py",
   "mimetype": "text/x-python",
   "name": "python",
   "nbconvert_exporter": "python",
   "pygments_lexer": "ipython2",
   "version": "2.7.6"
  }
 },
 "nbformat": 4,
 "nbformat_minor": 5
}
