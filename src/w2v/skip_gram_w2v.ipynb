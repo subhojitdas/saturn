{
 "cells": [
  {
   "cell_type": "code",
   "id": "initial_id",
   "metadata": {
    "collapsed": true,
    "ExecuteTime": {
     "end_time": "2025-07-06T07:38:12.795196Z",
     "start_time": "2025-07-06T07:38:12.624410Z"
    }
   },
   "source": [
    "import numpy as np\n",
    "\n",
    "# corpus = \"i love deep learning and neural network. I would like to work on deep learning to understand it from depth. I believe I would need to learn statistics first.\"\n",
    "corpus = \"i love deep learning and AI\"\n",
    "tokens = corpus.lower().split()\n"
   ],
   "outputs": [],
   "execution_count": 17
  },
  {
   "metadata": {
    "ExecuteTime": {
     "end_time": "2025-07-06T07:38:13.755796Z",
     "start_time": "2025-07-06T07:38:13.751824Z"
    }
   },
   "cell_type": "code",
   "source": [
    "def dedup_list(seq):\n",
    "    seen = set()\n",
    "    return [x for x in seq if not (x in seen or seen.add(x))]\n",
    "\n",
    "vocab = dedup_list(tokens)\n",
    "stoi = {w:i for i,w in enumerate(vocab)}\n",
    "itos = {i:w for w,i in stoi.items()}"
   ],
   "id": "f22f2c0f71e39725",
   "outputs": [],
   "execution_count": 18
  },
  {
   "metadata": {
    "ExecuteTime": {
     "end_time": "2025-07-06T07:38:14.386471Z",
     "start_time": "2025-07-06T07:38:14.381479Z"
    }
   },
   "cell_type": "code",
   "source": [
    "def generate_training_data(tokens, window_size=2):\n",
    "    training_data = []\n",
    "    for centre_idx, centre_word in enumerate(tokens):\n",
    "        for context_idx in range(-window_size, window_size + 1):\n",
    "            idx = centre_idx + context_idx\n",
    "            if idx < 0 or idx >= len(tokens) or context_idx == 0:\n",
    "                continue\n",
    "            training_data.append((centre_word, tokens[idx]))\n",
    "    return training_data\n",
    "\n",
    "training_data = generate_training_data(vocab, window_size=2)\n",
    "training_data"
   ],
   "id": "9898046f31c90dec",
   "outputs": [
    {
     "data": {
      "text/plain": [
       "[('i', 'love'),\n",
       " ('i', 'deep'),\n",
       " ('love', 'i'),\n",
       " ('love', 'deep'),\n",
       " ('love', 'learning'),\n",
       " ('deep', 'i'),\n",
       " ('deep', 'love'),\n",
       " ('deep', 'learning'),\n",
       " ('deep', 'and'),\n",
       " ('learning', 'love'),\n",
       " ('learning', 'deep'),\n",
       " ('learning', 'and'),\n",
       " ('learning', 'ai'),\n",
       " ('and', 'deep'),\n",
       " ('and', 'learning'),\n",
       " ('and', 'ai'),\n",
       " ('ai', 'learning'),\n",
       " ('ai', 'and')]"
      ]
     },
     "execution_count": 19,
     "metadata": {},
     "output_type": "execute_result"
    }
   ],
   "execution_count": 19
  },
  {
   "metadata": {
    "ExecuteTime": {
     "end_time": "2025-07-06T07:38:15.732675Z",
     "start_time": "2025-07-06T07:38:15.729404Z"
    }
   },
   "cell_type": "code",
   "source": [
    "vocab_size = len(vocab)\n",
    "def one_hot_encoding(word):\n",
    "    vec = np.zeros(vocab_size)\n",
    "    vec[stoi[word]] = 1\n",
    "    return vec"
   ],
   "id": "183ecae3266ad7ce",
   "outputs": [],
   "execution_count": 20
  },
  {
   "metadata": {
    "ExecuteTime": {
     "end_time": "2025-07-06T07:38:16.676663Z",
     "start_time": "2025-07-06T07:38:16.672903Z"
    }
   },
   "cell_type": "code",
   "source": [
    "embedding_dim = 5\n",
    "W1 = np.random.randn(vocab_size, embedding_dim)\n",
    "W2 = np.random.randn(embedding_dim, vocab_size)\n"
   ],
   "id": "e89f4add3c4de27",
   "outputs": [],
   "execution_count": 21
  },
  {
   "metadata": {
    "ExecuteTime": {
     "end_time": "2025-07-06T07:39:24.728096Z",
     "start_time": "2025-07-06T07:39:24.725656Z"
    }
   },
   "cell_type": "code",
   "source": [
    "def softmax(x):\n",
    "    ex = np.exp(x - np.max(x))\n",
    "    return ex / ex.sum(axis=0)"
   ],
   "id": "a6ce3edf912bd9cc",
   "outputs": [],
   "execution_count": 22
  },
  {
   "metadata": {},
   "cell_type": "code",
   "outputs": [],
   "execution_count": null,
   "source": "",
   "id": "1fe5677959b3eb28"
  }
 ],
 "metadata": {
  "kernelspec": {
   "display_name": "Python 3",
   "language": "python",
   "name": "python3"
  },
  "language_info": {
   "codemirror_mode": {
    "name": "ipython",
    "version": 2
   },
   "file_extension": ".py",
   "mimetype": "text/x-python",
   "name": "python",
   "nbconvert_exporter": "python",
   "pygments_lexer": "ipython2",
   "version": "2.7.6"
  }
 },
 "nbformat": 4,
 "nbformat_minor": 5
}
