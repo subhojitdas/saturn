{
 "cells": [
  {
   "cell_type": "code",
   "id": "initial_id",
   "metadata": {
    "collapsed": true,
    "ExecuteTime": {
     "end_time": "2025-07-06T09:09:18.303251Z",
     "start_time": "2025-07-06T09:09:18.189929Z"
    }
   },
   "source": [
    "import numpy as np\n",
    "\n",
    "corpus = \"i love deep learning and neural network. I would like to work on deep learning to understand it from depth. I believe I would need to learn statistics first.\"\n",
    "# corpus = \"i love deep learning and AI. I want to work on deep learning.\"\n",
    "# with open('dataset/tiny_shakespeare.txt', 'r') as f:\n",
    "#     corpus = f.read()\n",
    "tokens = corpus.lower().split()\n"
   ],
   "outputs": [],
   "execution_count": 1
  },
  {
   "metadata": {
    "ExecuteTime": {
     "end_time": "2025-07-06T09:09:20.079829Z",
     "start_time": "2025-07-06T09:09:20.074338Z"
    }
   },
   "cell_type": "code",
   "source": [
    "def dedup_list(seq):\n",
    "    seen = set()\n",
    "    return [x for x in seq if not (x in seen or seen.add(x))]\n",
    "\n",
    "vocab = dedup_list(tokens)\n",
    "stoi = {w:i for i,w in enumerate(vocab)}\n",
    "itos = {i:w for w,i in stoi.items()}\n",
    "len(vocab)"
   ],
   "id": "f22f2c0f71e39725",
   "outputs": [
    {
     "data": {
      "text/plain": [
       "21"
      ]
     },
     "execution_count": 2,
     "metadata": {},
     "output_type": "execute_result"
    }
   ],
   "execution_count": 2
  },
  {
   "metadata": {
    "ExecuteTime": {
     "end_time": "2025-07-06T09:09:21.340034Z",
     "start_time": "2025-07-06T09:09:21.337265Z"
    }
   },
   "cell_type": "code",
   "source": [
    "def generate_training_data(tokens, window_size=2):\n",
    "    training_data = []\n",
    "    for centre_idx, centre_word in enumerate(tokens):\n",
    "        for context_idx in range(-window_size, window_size + 1):\n",
    "            idx = centre_idx + context_idx\n",
    "            if idx < 0 or idx >= len(tokens) or context_idx == 0:\n",
    "                continue\n",
    "            training_data.append((centre_word, tokens[idx]))\n",
    "    return training_data\n",
    "\n",
    "training_data = generate_training_data(vocab, window_size=2)"
   ],
   "id": "9898046f31c90dec",
   "outputs": [],
   "execution_count": 3
  },
  {
   "metadata": {
    "ExecuteTime": {
     "end_time": "2025-07-06T09:09:22.334285Z",
     "start_time": "2025-07-06T09:09:22.331224Z"
    }
   },
   "cell_type": "code",
   "source": [
    "vocab_size = len(vocab)\n",
    "def one_hot_encoding(word):\n",
    "    vec = np.zeros(vocab_size)\n",
    "    vec[stoi[word]] = 1\n",
    "    return vec"
   ],
   "id": "183ecae3266ad7ce",
   "outputs": [],
   "execution_count": 4
  },
  {
   "metadata": {
    "ExecuteTime": {
     "end_time": "2025-07-06T09:19:10.267850Z",
     "start_time": "2025-07-06T09:19:10.264807Z"
    }
   },
   "cell_type": "code",
   "source": [
    "embedding_dim = 100\n",
    "W1 = np.random.randn(vocab_size, embedding_dim) * 0.01\n",
    "W2 = np.random.randn(embedding_dim, vocab_size) * 0.01\n"
   ],
   "id": "e89f4add3c4de27",
   "outputs": [],
   "execution_count": 12
  },
  {
   "metadata": {
    "ExecuteTime": {
     "end_time": "2025-07-06T09:19:11.041862Z",
     "start_time": "2025-07-06T09:19:11.039468Z"
    }
   },
   "cell_type": "code",
   "source": [
    "def softmax(x):\n",
    "    ex = np.exp(x - np.max(x))\n",
    "    return ex / ex.sum(axis=0)"
   ],
   "id": "a6ce3edf912bd9cc",
   "outputs": [],
   "execution_count": 13
  },
  {
   "metadata": {
    "ExecuteTime": {
     "end_time": "2025-07-06T09:19:22.241501Z",
     "start_time": "2025-07-06T09:19:11.778939Z"
    }
   },
   "cell_type": "code",
   "source": [
    "def train(training_data, epochs=10000, learning_rate=0.01):\n",
    "    global W1, W2\n",
    "    for epoch in range(epochs):\n",
    "        loss = 0.0\n",
    "        for center_word, context_word in training_data:\n",
    "            x = one_hot_encoding(center_word).reshape(-1, 1)\n",
    "            y_true = one_hot_encoding(context_word).reshape(-1, 1)\n",
    "            #forward pass\n",
    "            h = W1.T @ x\n",
    "            logits = W2.T @ h\n",
    "            y_pred = softmax(logits)\n",
    "\n",
    "            loss -= np.sum(y_true * np.log(y_pred))\n",
    "            #backward pass\n",
    "            e = y_pred - y_true\n",
    "            dW2 = np.dot(h, e.T)\n",
    "            dW1 = np.dot(x, np.dot(W2, e).T)\n",
    "\n",
    "            # Update weights\n",
    "            W1 -= learning_rate * dW1\n",
    "            W2 -= learning_rate * dW2\n",
    "        if epoch % 100 == 0:\n",
    "            print(f\"Epoch {epoch}, Loss: {loss:.4f}\")\n",
    "\n",
    "train(training_data, epochs=10000, learning_rate=0.01)"
   ],
   "id": "1fe5677959b3eb28",
   "outputs": [
    {
     "name": "stdout",
     "output_type": "stream",
     "text": [
      "Epoch 0, Loss: 237.4565\n",
      "Epoch 100, Loss: 208.0923\n",
      "Epoch 200, Loss: 120.1197\n",
      "Epoch 300, Loss: 111.0505\n",
      "Epoch 400, Loss: 109.3338\n",
      "Epoch 500, Loss: 108.7706\n",
      "Epoch 600, Loss: 108.5500\n",
      "Epoch 700, Loss: 108.4557\n",
      "Epoch 800, Loss: 108.4143\n",
      "Epoch 900, Loss: 108.3969\n",
      "Epoch 1000, Loss: 108.3907\n",
      "Epoch 1100, Loss: 108.3896\n",
      "Epoch 1200, Loss: 108.3906\n",
      "Epoch 1300, Loss: 108.3923\n",
      "Epoch 1400, Loss: 108.3939\n",
      "Epoch 1500, Loss: 108.3950\n",
      "Epoch 1600, Loss: 108.3956\n",
      "Epoch 1700, Loss: 108.3955\n",
      "Epoch 1800, Loss: 108.3948\n",
      "Epoch 1900, Loss: 108.3936\n",
      "Epoch 2000, Loss: 108.3919\n",
      "Epoch 2100, Loss: 108.3898\n",
      "Epoch 2200, Loss: 108.3874\n",
      "Epoch 2300, Loss: 108.3847\n",
      "Epoch 2400, Loss: 108.3818\n",
      "Epoch 2500, Loss: 108.3787\n",
      "Epoch 2600, Loss: 108.3754\n",
      "Epoch 2700, Loss: 108.3721\n",
      "Epoch 2800, Loss: 108.3687\n",
      "Epoch 2900, Loss: 108.3653\n",
      "Epoch 3000, Loss: 108.3619\n",
      "Epoch 3100, Loss: 108.3585\n",
      "Epoch 3200, Loss: 108.3551\n",
      "Epoch 3300, Loss: 108.3517\n",
      "Epoch 3400, Loss: 108.3484\n",
      "Epoch 3500, Loss: 108.3452\n",
      "Epoch 3600, Loss: 108.3419\n",
      "Epoch 3700, Loss: 108.3388\n",
      "Epoch 3800, Loss: 108.3357\n",
      "Epoch 3900, Loss: 108.3327\n",
      "Epoch 4000, Loss: 108.3298\n",
      "Epoch 4100, Loss: 108.3269\n",
      "Epoch 4200, Loss: 108.3241\n",
      "Epoch 4300, Loss: 108.3214\n",
      "Epoch 4400, Loss: 108.3188\n",
      "Epoch 4500, Loss: 108.3162\n",
      "Epoch 4600, Loss: 108.3137\n",
      "Epoch 4700, Loss: 108.3112\n",
      "Epoch 4800, Loss: 108.3088\n",
      "Epoch 4900, Loss: 108.3065\n",
      "Epoch 5000, Loss: 108.3043\n",
      "Epoch 5100, Loss: 108.3021\n",
      "Epoch 5200, Loss: 108.3000\n",
      "Epoch 5300, Loss: 108.2979\n",
      "Epoch 5400, Loss: 108.2959\n",
      "Epoch 5500, Loss: 108.2939\n",
      "Epoch 5600, Loss: 108.2920\n",
      "Epoch 5700, Loss: 108.2902\n",
      "Epoch 5800, Loss: 108.2884\n",
      "Epoch 5900, Loss: 108.2866\n",
      "Epoch 6000, Loss: 108.2849\n",
      "Epoch 6100, Loss: 108.2832\n",
      "Epoch 6200, Loss: 108.2816\n",
      "Epoch 6300, Loss: 108.2800\n",
      "Epoch 6400, Loss: 108.2785\n",
      "Epoch 6500, Loss: 108.2770\n",
      "Epoch 6600, Loss: 108.2755\n",
      "Epoch 6700, Loss: 108.2741\n",
      "Epoch 6800, Loss: 108.2727\n",
      "Epoch 6900, Loss: 108.2714\n",
      "Epoch 7000, Loss: 108.2701\n",
      "Epoch 7100, Loss: 108.2688\n",
      "Epoch 7200, Loss: 108.2675\n",
      "Epoch 7300, Loss: 108.2663\n",
      "Epoch 7400, Loss: 108.2651\n",
      "Epoch 7500, Loss: 108.2639\n",
      "Epoch 7600, Loss: 108.2628\n",
      "Epoch 7700, Loss: 108.2617\n",
      "Epoch 7800, Loss: 108.2606\n",
      "Epoch 7900, Loss: 108.2595\n",
      "Epoch 8000, Loss: 108.2585\n",
      "Epoch 8100, Loss: 108.2575\n",
      "Epoch 8200, Loss: 108.2565\n",
      "Epoch 8300, Loss: 108.2555\n",
      "Epoch 8400, Loss: 108.2546\n",
      "Epoch 8500, Loss: 108.2537\n",
      "Epoch 8600, Loss: 108.2528\n",
      "Epoch 8700, Loss: 108.2519\n",
      "Epoch 8800, Loss: 108.2510\n",
      "Epoch 8900, Loss: 108.2502\n",
      "Epoch 9000, Loss: 108.2493\n",
      "Epoch 9100, Loss: 108.2485\n",
      "Epoch 9200, Loss: 108.2477\n",
      "Epoch 9300, Loss: 108.2469\n",
      "Epoch 9400, Loss: 108.2462\n",
      "Epoch 9500, Loss: 108.2454\n",
      "Epoch 9600, Loss: 108.2447\n",
      "Epoch 9700, Loss: 108.2440\n",
      "Epoch 9800, Loss: 108.2433\n",
      "Epoch 9900, Loss: 108.2426\n"
     ]
    }
   ],
   "execution_count": 14
  },
  {
   "metadata": {
    "ExecuteTime": {
     "end_time": "2025-07-06T09:19:24.233507Z",
     "start_time": "2025-07-06T09:19:24.230074Z"
    }
   },
   "cell_type": "code",
   "source": [
    "def get_embedding(word):\n",
    "    return W1[stoi[word]]\n",
    "\n",
    "word = 'deep'\n",
    "print(f\"Embedding for '{word}':\", get_embedding(word))"
   ],
   "id": "dc58bb5f9d9a15ce",
   "outputs": [
    {
     "name": "stdout",
     "output_type": "stream",
     "text": [
      "Embedding for 'deep': [-0.09267586 -0.03753642 -0.27798085  0.17707697 -0.36306998 -0.05185448\n",
      " -0.24276702  0.62607004  0.25283499 -0.29358834  0.10388108 -0.10541186\n",
      " -0.02248193 -0.15757728  0.30729681  0.17144742 -0.28915948  0.09206017\n",
      " -0.15173014  0.05694358  0.33877212 -0.04904505 -0.05480217  0.25045187\n",
      "  0.09047451 -0.4178161  -0.2221802   0.10453341 -0.01854626  0.29304237\n",
      " -0.25993302  0.07715942  0.12958192 -0.19237087 -0.39760343 -0.09048662\n",
      "  0.01676847 -0.41624982  0.37715468  0.08211014 -0.29173465 -0.29654389\n",
      "  0.02171255 -0.54434019 -0.10132175 -0.41126902  0.31649874  0.0622804\n",
      "  0.14524727 -0.21436143  0.13560741 -0.13709572 -0.25191026  0.22948013\n",
      "  0.19281697 -0.16893263 -0.22524439 -0.49013034 -0.67329618  0.62407462\n",
      "  0.47451854  0.01472979 -0.292795    0.38586659 -0.13363788 -0.34673489\n",
      "  0.23137229  0.08783642  0.05906903 -0.10859829 -0.34893338 -0.28363795\n",
      "  0.10310162  0.0334758   0.01024513  0.07687904  0.53426738 -0.14483055\n",
      " -0.2416476   0.04355627  0.09822565 -0.39451042  0.36187718 -0.21612636\n",
      "  0.09493029  0.19402357 -0.03274537  0.21583944 -0.14960028 -0.12974527\n",
      " -0.17907717  0.10095371  0.62949036 -0.24712917 -0.41623954  0.12930118\n",
      "  0.10284422  0.11627629  0.11397076  0.24575129]\n"
     ]
    }
   ],
   "execution_count": 15
  },
  {
   "metadata": {
    "ExecuteTime": {
     "end_time": "2025-07-06T09:19:26.197400Z",
     "start_time": "2025-07-06T09:19:26.195011Z"
    }
   },
   "cell_type": "code",
   "source": [
    "embeddings = W1\n",
    "labels = [itos[i] for i in range(vocab_size)]\n"
   ],
   "id": "4a81c93a7a2643c6",
   "outputs": [],
   "execution_count": 16
  },
  {
   "metadata": {
    "ExecuteTime": {
     "end_time": "2025-07-06T09:19:27.878119Z",
     "start_time": "2025-07-06T09:19:27.494430Z"
    }
   },
   "cell_type": "code",
   "source": [
    "from sklearn.manifold import TSNE\n",
    "import matplotlib.pyplot as plt\n",
    "\n",
    "#Visualization with t-SNE\n",
    "def visualize_embeddings(embeddings, labels):\n",
    "    tsne = TSNE(n_components=2, random_state=42, perplexity=5, n_iter=1000)\n",
    "    reduced = tsne.fit_transform(embeddings)\n",
    "\n",
    "    plt.figure(figsize=(8, 6))\n",
    "    for i, label in enumerate(labels):\n",
    "        x, y = reduced[i, :]\n",
    "        plt.scatter(x, y)\n",
    "        plt.annotate(label, (x + 0.01, y + 0.01), fontsize=12)\n",
    "    plt.grid(True)\n",
    "    plt.show()\n",
    "\n",
    "visualize_embeddings(embeddings, labels)\n"
   ],
   "id": "51700775678ebe4a",
   "outputs": [
    {
     "name": "stderr",
     "output_type": "stream",
     "text": [
      "/Users/subhojit/workspace/saturn/.venv/lib/python3.9/site-packages/sklearn/manifold/_t_sne.py:1164: FutureWarning: 'n_iter' was renamed to 'max_iter' in version 1.5 and will be removed in 1.7.\n",
      "  warnings.warn(\n"
     ]
    },
    {
     "data": {
      "text/plain": [
       "<Figure size 800x600 with 1 Axes>"
      ],
      "image/png": "[encoded data removed]"
     },
     "metadata": {},
     "output_type": "display_data"
    }
   ],
   "execution_count": 17
  },
  {
   "metadata": {},
   "cell_type": "code",
   "outputs": [],
   "execution_count": null,
   "source": "",
   "id": "b16b8cd6158d5e75"
  }
 ],
 "metadata": {
  "kernelspec": {
   "display_name": "Python 3",
   "language": "python",
   "name": "python3"
  },
  "language_info": {
   "codemirror_mode": {
    "name": "ipython",
    "version": 2
   },
   "file_extension": ".py",
   "mimetype": "text/x-python",
   "name": "python",
   "nbconvert_exporter": "python",
   "pygments_lexer": "ipython2",
   "version": "2.7.6"
  }
 },
 "nbformat": 4,
 "nbformat_minor": 5
}
