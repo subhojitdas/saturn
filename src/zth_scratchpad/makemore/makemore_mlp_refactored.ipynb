{
 "cells": [
  {
   "cell_type": "code",
   "id": "initial_id",
   "metadata": {
    "collapsed": true,
    "ExecuteTime": {
     "end_time": "2025-04-20T19:33:43.800078Z",
     "start_time": "2025-04-20T19:33:42.895329Z"
    }
   },
   "source": [
    "import torch\n",
    "import torch.nn.functional as F\n",
    "import matplotlib.pyplot as plt\n",
    "%matplotlib inline\n"
   ],
   "outputs": [],
   "execution_count": 2
  },
  {
   "metadata": {
    "ExecuteTime": {
     "end_time": "2025-04-20T19:33:43.869485Z",
     "start_time": "2025-04-20T19:33:43.865207Z"
    }
   },
   "cell_type": "code",
   "source": [
    "words = open('names.txt', 'r').read().splitlines()\n",
    "words[:8]"
   ],
   "id": "c8f9ad4e655a7c31",
   "outputs": [
    {
     "data": {
      "text/plain": [
       "['emma', 'olivia', 'ava', 'isabella', 'sophia', 'charlotte', 'mia', 'amelia']"
      ]
     },
     "execution_count": 3,
     "metadata": {},
     "output_type": "execute_result"
    }
   ],
   "execution_count": 3
  },
  {
   "metadata": {
    "ExecuteTime": {
     "end_time": "2025-04-20T19:33:45.110986Z",
     "start_time": "2025-04-20T19:33:45.108128Z"
    }
   },
   "cell_type": "code",
   "source": "len(words)",
   "id": "168d28c9325e81f0",
   "outputs": [
    {
     "data": {
      "text/plain": [
       "32033"
      ]
     },
     "execution_count": 4,
     "metadata": {},
     "output_type": "execute_result"
    }
   ],
   "execution_count": 4
  },
  {
   "metadata": {
    "ExecuteTime": {
     "end_time": "2025-04-20T19:33:46.557406Z",
     "start_time": "2025-04-20T19:33:46.551805Z"
    }
   },
   "cell_type": "code",
   "source": [
    "chars = sorted(list(set(''.join(words))))\n",
    "stoi = {ch: i+1 for i, ch in enumerate(chars)}\n",
    "stoi['.'] = 0\n",
    "itos = {i: ch for ch, i in stoi.items()}\n",
    "vocab_size = len(itos)\n",
    "print(vocab_size)\n",
    "print(itos)\n"
   ],
   "id": "3dd96107b2f2261b",
   "outputs": [
    {
     "name": "stdout",
     "output_type": "stream",
     "text": [
      "27\n",
      "{1: 'a', 2: 'b', 3: 'c', 4: 'd', 5: 'e', 6: 'f', 7: 'g', 8: 'h', 9: 'i', 10: 'j', 11: 'k', 12: 'l', 13: 'm', 14: 'n', 15: 'o', 16: 'p', 17: 'q', 18: 'r', 19: 's', 20: 't', 21: 'u', 22: 'v', 23: 'w', 24: 'x', 25: 'y', 26: 'z', 0: '.'}\n"
     ]
    }
   ],
   "execution_count": 5
  },
  {
   "metadata": {
    "ExecuteTime": {
     "end_time": "2025-04-20T19:33:48.657747Z",
     "start_time": "2025-04-20T19:33:48.458878Z"
    }
   },
   "cell_type": "code",
   "source": [
    "block_size = 3\n",
    "\n",
    "def build_dataset(words):\n",
    "    X = []\n",
    "    Y = []\n",
    "    context = [0] * block_size\n",
    "    for w in words:\n",
    "\n",
    "        for ch in w + '.':\n",
    "            ix = stoi[ch]\n",
    "            X.append(context)\n",
    "            Y.append(ix)\n",
    "            context = context[1:] + [ix]\n",
    "    X = torch.tensor(X)\n",
    "    Y = torch.tensor(Y)\n",
    "    print(X.shape, Y.shape)\n",
    "    return X, Y\n",
    "\n",
    "import random\n",
    "random.seed(18)\n",
    "random.shuffle(words)\n",
    "n1 = int(0.8*len(words))\n",
    "n2 = int(0.9*len(words))\n",
    "\n",
    "Xtrain, Ytrain = build_dataset(words[:n1])\n",
    "Xdev, Ydev = build_dataset(words[n1:n2])\n",
    "Xtest, Ytest = build_dataset(words[n2:])"
   ],
   "id": "30c884fd98f36b1a",
   "outputs": [
    {
     "name": "stdout",
     "output_type": "stream",
     "text": [
      "torch.Size([182320, 3]) torch.Size([182320])\n",
      "torch.Size([22953, 3]) torch.Size([22953])\n",
      "torch.Size([22873, 3]) torch.Size([22873])\n"
     ]
    }
   ],
   "execution_count": 6
  },
  {
   "metadata": {
    "ExecuteTime": {
     "end_time": "2025-04-20T19:33:52.196019Z",
     "start_time": "2025-04-20T19:33:52.156349Z"
    }
   },
   "cell_type": "code",
   "source": [
    "#MLP\n",
    "n_embd = 20\n",
    "n_hidden = 200\n",
    "\n",
    "g = torch.Generator().manual_seed(2147483647)\n",
    "C = torch.randn((vocab_size, n_embd),               generator=g)\n",
    "W1 = torch.randn((n_embd * block_size, n_hidden),   generator=g) * 0.2\n",
    "b1 = torch.randn(n_hidden,                          generator=g) * 0.01\n",
    "W2 = torch.randn((n_hidden, vocab_size),            generator=g) * 0.01\n",
    "b2 = torch.randn(vocab_size,                        generator=g) * 0\n",
    "\n",
    "parameters = [C, W1, b1, W2, b2]\n",
    "print(sum(p.nelement() for p in parameters))\n",
    "for p in parameters:\n",
    "    p.requires_grad = True\n",
    "\n",
    "b1.shape"
   ],
   "id": "579acf09721125a7",
   "outputs": [
    {
     "name": "stdout",
     "output_type": "stream",
     "text": [
      "18167\n"
     ]
    },
    {
     "data": {
      "text/plain": [
       "torch.Size([200])"
      ]
     },
     "execution_count": 7,
     "metadata": {},
     "output_type": "execute_result"
    }
   ],
   "execution_count": 7
  },
  {
   "metadata": {
    "ExecuteTime": {
     "end_time": "2025-04-14T11:46:04.081766Z",
     "start_time": "2025-04-14T11:45:42.662544Z"
    }
   },
   "cell_type": "code",
   "source": [
    "# Training\n",
    "max_steps = 200000\n",
    "batch_size = 32\n",
    "lossi = []\n",
    "\n",
    "for i in range(max_steps):\n",
    "    #minibatch\n",
    "    ix = torch.randint(0, Xtrain.shape[0], (batch_size,))\n",
    "    Xb, Yb = Xtrain[ix], Ytrain[ix]\n",
    "    #forward pass\n",
    "    emb = C[Xb]\n",
    "    embcat = emb.view(emb.shape[0], -1)\n",
    "    hpreact = embcat @ W1 + b1 # hidden layer pre activation\n",
    "    h = torch.tanh(hpreact)\n",
    "    logits = h @ W2 + b2\n",
    "    loss = F.cross_entropy(logits, Yb)\n",
    "    #backward pass\n",
    "    for p in parameters:\n",
    "        p.grad = None\n",
    "    loss.backward()\n",
    "\n",
    "    #update\n",
    "    #lr = 0.1 if i < 100000 else 0.01\n",
    "    lr = 0.01\n",
    "    for p in parameters:\n",
    "        p.data += -lr * p.grad\n",
    "\n",
    "    #track\n",
    "    if i % 10000 == 0:\n",
    "        print(f\"{i:7d}/{max_steps:7d}: {loss.item():.4f}\")\n",
    "    lossi.append(loss.log10().item())\n",
    "    # break"
   ],
   "id": "4af48b4f48c46a7c",
   "outputs": [
    {
     "name": "stdout",
     "output_type": "stream",
     "text": [
      "      0/ 200000: 3.2847\n",
      "  10000/ 200000: 2.1684\n",
      "  20000/ 200000: 2.2235\n",
      "  30000/ 200000: 2.2452\n",
      "  40000/ 200000: 2.3168\n",
      "  50000/ 200000: 2.2922\n",
      "  60000/ 200000: 1.9245\n",
      "  70000/ 200000: 2.0532\n",
      "  80000/ 200000: 1.9871\n",
      "  90000/ 200000: 2.1038\n",
      " 100000/ 200000: 2.0530\n",
      " 110000/ 200000: 2.1889\n",
      " 120000/ 200000: 1.8381\n",
      " 130000/ 200000: 1.8866\n",
      " 140000/ 200000: 1.9827\n",
      " 150000/ 200000: 2.3067\n",
      " 160000/ 200000: 1.8316\n",
      " 170000/ 200000: 1.7999\n",
      " 180000/ 200000: 2.0091\n",
      " 190000/ 200000: 2.5324\n"
     ]
    }
   ],
   "execution_count": 76
  },
  {
   "metadata": {
    "ExecuteTime": {
     "end_time": "2025-04-14T11:46:07.239333Z",
     "start_time": "2025-04-14T11:46:07.172963Z"
    }
   },
   "cell_type": "code",
   "source": [
    "plt.figure(figsize=(20, 10))\n",
    "plt.imshow(h.abs() > 0.99, cmap='gray', interpolation='nearest')"
   ],
   "id": "efed82ef30f39b5a",
   "outputs": [
    {
     "data": {
      "text/plain": [
       "<matplotlib.image.AxesImage at 0x11f5973a0>"
      ]
     },
     "execution_count": 77,
     "metadata": {},
     "output_type": "execute_result"
    },
    {
     "data": {
      "text/plain": [
       "<Figure size 2000x1000 with 1 Axes>"
      ],
      "image/png": "[encoded data removed]"
     },
     "metadata": {},
     "output_type": "display_data"
    }
   ],
   "execution_count": 77
  },
  {
   "metadata": {
    "ExecuteTime": {
     "end_time": "2025-04-14T11:46:09.701900Z",
     "start_time": "2025-04-14T11:46:09.629071Z"
    }
   },
   "cell_type": "code",
   "source": "plt.hist(h.view(-1).tolist(), 50)",
   "id": "52b26f5ed2f15103",
   "outputs": [
    {
     "data": {
      "text/plain": [
       "(array([1378.,  260.,  169.,  139.,  113.,  117.,   95.,   87.,   76.,\n",
       "          67.,   69.,   64.,   48.,   49.,   58.,   44.,   47.,   33.,\n",
       "          38.,   43.,   47.,   47.,   33.,   45.,   65.,   37.,   41.,\n",
       "          48.,   44.,   42.,   52.,   35.,   62.,   39.,   45.,   48.,\n",
       "          61.,   49.,   46.,   65.,   78.,   68.,   81.,   91.,  108.,\n",
       "         127.,  156.,  201.,  262., 1283.]),\n",
       " array([-1.  , -0.96, -0.92, -0.88, -0.84, -0.8 , -0.76, -0.72, -0.68,\n",
       "        -0.64, -0.6 , -0.56, -0.52, -0.48, -0.44, -0.4 , -0.36, -0.32,\n",
       "        -0.28, -0.24, -0.2 , -0.16, -0.12, -0.08, -0.04,  0.  ,  0.04,\n",
       "         0.08,  0.12,  0.16,  0.2 ,  0.24,  0.28,  0.32,  0.36,  0.4 ,\n",
       "         0.44,  0.48,  0.52,  0.56,  0.6 ,  0.64,  0.68,  0.72,  0.76,\n",
       "         0.8 ,  0.84,  0.88,  0.92,  0.96,  1.  ]),\n",
       " <BarContainer object of 50 artists>)"
      ]
     },
     "execution_count": 78,
     "metadata": {},
     "output_type": "execute_result"
    },
    {
     "data": {
      "text/plain": [
       "<Figure size 640x480 with 1 Axes>"
      ],
      "image/png": "[encoded data removed]"
     },
     "metadata": {},
     "output_type": "display_data"
    }
   ],
   "execution_count": 78
  },
  {
   "metadata": {
    "ExecuteTime": {
     "end_time": "2025-04-14T11:46:13.370253Z",
     "start_time": "2025-04-14T11:46:13.296230Z"
    }
   },
   "cell_type": "code",
   "source": "plt.hist(hpreact.view(-1).tolist(), 50)",
   "id": "ba6c8c8f9227e72b",
   "outputs": [
    {
     "data": {
      "text/plain": [
       "(array([  2.,   2.,   2.,   2.,   3.,   7.,   9.,  13.,  22.,  25.,  47.,\n",
       "         58.,  83., 111., 170., 204., 236., 246., 274., 309., 373., 405.,\n",
       "        375., 420., 411., 375., 398., 334., 274., 268., 232., 182., 144.,\n",
       "        104.,  85.,  69.,  35.,  26.,  18.,  19.,  11.,   4.,   5.,   2.,\n",
       "          3.,   2.,   0.,   0.,   0.,   1.]),\n",
       " array([-8.94386959, -8.56457823, -8.18528687, -7.8059955 , -7.42670414,\n",
       "        -7.04741278, -6.66812141, -6.28883005, -5.90953869, -5.53024733,\n",
       "        -5.15095596, -4.7716646 , -4.39237324, -4.01308187, -3.63379051,\n",
       "        -3.25449915, -2.87520779, -2.49591642, -2.11662506, -1.7373337 ,\n",
       "        -1.35804234, -0.97875097, -0.59945961, -0.22016825,  0.15912312,\n",
       "         0.53841448,  0.91770584,  1.2969972 ,  1.67628857,  2.05557993,\n",
       "         2.43487129,  2.81416265,  3.19345402,  3.57274538,  3.95203674,\n",
       "         4.33132811,  4.71061947,  5.08991083,  5.46920219,  5.84849356,\n",
       "         6.22778492,  6.60707628,  6.98636765,  7.36565901,  7.74495037,\n",
       "         8.12424173,  8.5035331 ,  8.88282446,  9.26211582,  9.64140718,\n",
       "        10.02069855]),\n",
       " <BarContainer object of 50 artists>)"
      ]
     },
     "execution_count": 79,
     "metadata": {},
     "output_type": "execute_result"
    },
    {
     "data": {
      "text/plain": [
       "<Figure size 640x480 with 1 Axes>"
      ],
      "image/png": "[encoded data removed]"
     },
     "metadata": {},
     "output_type": "display_data"
    }
   ],
   "execution_count": 79
  },
  {
   "metadata": {
    "ExecuteTime": {
     "end_time": "2025-04-14T11:46:18.205530Z",
     "start_time": "2025-04-14T11:46:17.995643Z"
    }
   },
   "cell_type": "code",
   "source": "plt.plot(lossi)",
   "id": "8ce8c786f1dfb111",
   "outputs": [
    {
     "data": {
      "text/plain": [
       "[<matplotlib.lines.Line2D at 0x13be0ce50>]"
      ]
     },
     "execution_count": 80,
     "metadata": {},
     "output_type": "execute_result"
    },
    {
     "data": {
      "text/plain": [
       "<Figure size 640x480 with 1 Axes>"
      ],
      "image/png": "[encoded data removed]"
     },
     "metadata": {},
     "output_type": "display_data"
    }
   ],
   "execution_count": 80
  },
  {
   "metadata": {
    "ExecuteTime": {
     "end_time": "2025-04-14T11:46:20.438999Z",
     "start_time": "2025-04-14T11:46:20.388139Z"
    }
   },
   "cell_type": "code",
   "source": [
    "@torch.no_grad()\n",
    "def split_loss(split):\n",
    "    x, y = {\n",
    "        'train': (Xtrain, Ytrain),\n",
    "        'dev': (Xdev, Ydev),\n",
    "        'test': (Xtest, Ytest)\n",
    "    }[split]\n",
    "    emb = C[x]\n",
    "    embcat = emb.view(emb.shape[0], -1)\n",
    "    hpreact = embcat @ W1 + b1\n",
    "    h = torch.tanh(hpreact)\n",
    "    logits = h @ W2 + b2\n",
    "    loss = F.cross_entropy(logits, y)\n",
    "    print(split, loss.item())\n",
    "\n",
    "split_loss('train')\n",
    "split_loss('dev')\n",
    "# split_loss('test')\n",
    "\n"
   ],
   "id": "688c0cef51ccc2f2",
   "outputs": [
    {
     "name": "stdout",
     "output_type": "stream",
     "text": [
      "train 2.0721189975738525\n",
      "dev 2.138073444366455\n"
     ]
    }
   ],
   "execution_count": 81
  },
  {
   "metadata": {
    "ExecuteTime": {
     "end_time": "2025-04-14T11:26:11.470783Z",
     "start_time": "2025-04-14T11:26:11.458352Z"
    }
   },
   "cell_type": "code",
   "source": [
    "# sample\n",
    "\n",
    "for i in range(20):\n",
    "    out = []\n",
    "    context = [0] * block_size\n",
    "    while True:\n",
    "        emb = C[torch.tensor(context)]\n",
    "        h = torch.tanh(emb.view(1, -1) @ W1 + b1)\n",
    "        logits = h @ W2 + b2\n",
    "        probs = F.softmax(logits, dim=-1)\n",
    "        ix = torch.multinomial(probs, num_samples=1, generator=g).item()\n",
    "        out.append(ix)\n",
    "        context = context[1:] + [ix]\n",
    "        if ix == 0:\n",
    "            break\n",
    "    print(''.join(itos[k] for k in out))\n",
    "\n",
    "\n"
   ],
   "id": "b4b31e8e0362857f",
   "outputs": [
    {
     "name": "stdout",
     "output_type": "stream",
     "text": [
      "anyda.\n",
      "ayvin.\n",
      "maxricer.\n",
      "yaredininis.\n",
      "yszie.\n",
      "lola.\n",
      "nia.\n",
      "rae.\n",
      "hoddreanashia.\n",
      "malynn.\n",
      "yameanna.\n",
      "ahmergenenlee.\n",
      "yoah.\n",
      "hia.\n",
      "samyr.\n",
      "lar.\n",
      "hoseyzieter.\n",
      "daariohan.\n",
      "lor.\n",
      "arv.\n"
     ]
    }
   ],
   "execution_count": 53
  },
  {
   "metadata": {},
   "cell_type": "code",
   "outputs": [],
   "execution_count": null,
   "source": "",
   "id": "22797bdc905fd99"
  }
 ],
 "metadata": {
  "kernelspec": {
   "display_name": "Python 3",
   "language": "python",
   "name": "python3"
  },
  "language_info": {
   "codemirror_mode": {
    "name": "ipython",
    "version": 2
   },
   "file_extension": ".py",
   "mimetype": "text/x-python",
   "name": "python",
   "nbconvert_exporter": "python",
   "pygments_lexer": "ipython2",
   "version": "2.7.6"
  }
 },
 "nbformat": 4,
 "nbformat_minor": 5
}
