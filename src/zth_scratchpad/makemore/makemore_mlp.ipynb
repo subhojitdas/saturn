{
 "cells": [
  {
   "cell_type": "code",
   "id": "initial_id",
   "metadata": {
    "collapsed": true,
    "ExecuteTime": {
     "end_time": "2025-04-11T20:27:52.796151Z",
     "start_time": "2025-04-11T20:27:51.861268Z"
    }
   },
   "source": [
    "import torch\n",
    "import torch.nn.functional as F\n",
    "import matplotlib.pyplot as plt\n",
    "%matplotlib inline\n"
   ],
   "outputs": [],
   "execution_count": 19
  },
  {
   "metadata": {
    "ExecuteTime": {
     "end_time": "2025-04-11T20:27:55.372748Z",
     "start_time": "2025-04-11T20:27:55.366853Z"
    }
   },
   "cell_type": "code",
   "source": [
    "# The paper where the idea came out well to have multiple layers of neurons\n",
    "# https://www.jmlr.org/papers/volume3/bengio03a/bengio03a.pdf\n",
    "\n",
    "words = open('names.txt', 'r').read().splitlines()\n",
    "words[:5]"
   ],
   "id": "336eadf7d3ba73fa",
   "outputs": [
    {
     "data": {
      "text/plain": [
       "['emma', 'olivia', 'ava', 'isabella', 'sophia']"
      ]
     },
     "execution_count": 20,
     "metadata": {},
     "output_type": "execute_result"
    }
   ],
   "execution_count": 20
  },
  {
   "metadata": {},
   "cell_type": "code",
   "source": [
    "list_chars = sorted(list(set(''.join(words))))\n",
    "stoi = {}\n",
    "itos = {}\n",
    "idx = 1\n",
    "for ch in list_chars:\n",
    "    stoi[ch] = idx\n",
    "    itos[idx] = ch\n",
    "    idx += 1\n",
    "\n",
    "stoi['.'] = 0\n",
    "itos[0] = '.'\n",
    "\n",
    "itos"
   ],
   "id": "a75a7421101c77c7",
   "outputs": [],
   "execution_count": null
  },
  {
   "metadata": {
    "ExecuteTime": {
     "end_time": "2025-04-11T20:34:57.679478Z",
     "start_time": "2025-04-11T20:34:57.673335Z"
    }
   },
   "cell_type": "code",
   "source": [
    "block_size = 3\n",
    "X = []\n",
    "Y = []\n",
    "for w in words[:3]:\n",
    "    context = [0] * block_size\n",
    "    print(w)\n",
    "    for ch in w + '.':\n",
    "        ix = stoi[ch]\n",
    "        X.append(context)\n",
    "        Y.append(ix)\n",
    "        # print(''.join(itos[i] for i in context) + \"--->\" + ch)\n",
    "        context = context[1:] + [ix]\n",
    "\n",
    "X = torch.tensor(X)\n",
    "Y = torch.tensor(Y)\n",
    "YU = Y.unsqueeze(1)\n",
    "Z = torch.cat((X, YU), dim=1)\n",
    "Z\n"
   ],
   "id": "ef8d38a1ba0680f2",
   "outputs": [
    {
     "name": "stdout",
     "output_type": "stream",
     "text": [
      "emma\n",
      "olivia\n",
      "ava\n"
     ]
    },
    {
     "data": {
      "text/plain": [
       "tensor([[ 0,  0,  0,  5],\n",
       "        [ 0,  0,  5, 13],\n",
       "        [ 0,  5, 13, 13],\n",
       "        [ 5, 13, 13,  1],\n",
       "        [13, 13,  1,  0],\n",
       "        [ 0,  0,  0, 15],\n",
       "        [ 0,  0, 15, 12],\n",
       "        [ 0, 15, 12,  9],\n",
       "        [15, 12,  9, 22],\n",
       "        [12,  9, 22,  9],\n",
       "        [ 9, 22,  9,  1],\n",
       "        [22,  9,  1,  0],\n",
       "        [ 0,  0,  0,  1],\n",
       "        [ 0,  0,  1, 22],\n",
       "        [ 0,  1, 22,  1],\n",
       "        [ 1, 22,  1,  0]])"
      ]
     },
     "execution_count": 33,
     "metadata": {},
     "output_type": "execute_result"
    }
   ],
   "execution_count": 33
  },
  {
   "metadata": {
    "ExecuteTime": {
     "end_time": "2025-04-11T20:36:53.740466Z",
     "start_time": "2025-04-11T20:36:53.734263Z"
    }
   },
   "cell_type": "code",
   "source": [
    "C = torch.randn(27, 2)\n",
    "C"
   ],
   "id": "1ad7cba556478970",
   "outputs": [
    {
     "data": {
      "text/plain": [
       "tensor([[-0.1242,  0.9962],\n",
       "        [-1.6960,  1.3397],\n",
       "        [-0.4327,  1.1031],\n",
       "        [-0.0637,  1.0533],\n",
       "        [ 1.4811,  0.9641],\n",
       "        [ 0.6071, -1.5800],\n",
       "        [ 0.6624, -0.5751],\n",
       "        [-0.5692, -0.3483],\n",
       "        [ 1.6457,  0.1535],\n",
       "        [ 0.3901, -0.3112],\n",
       "        [ 0.3183,  1.0439],\n",
       "        [ 0.8733,  1.3807],\n",
       "        [ 0.3417, -0.6011],\n",
       "        [-0.0496,  0.0432],\n",
       "        [-2.1254, -1.0947],\n",
       "        [-0.4527,  0.0715],\n",
       "        [ 0.7518,  1.3024],\n",
       "        [ 1.3296,  0.6640],\n",
       "        [ 0.6204, -1.3467],\n",
       "        [-1.8907,  1.1998],\n",
       "        [ 0.3066, -1.9276],\n",
       "        [ 0.2097,  1.2540],\n",
       "        [-0.3971, -0.7446],\n",
       "        [-1.8534, -0.4474],\n",
       "        [ 0.8431,  0.2776],\n",
       "        [-1.2473,  1.8857],\n",
       "        [-1.7470, -1.0682]])"
      ]
     },
     "execution_count": 34,
     "metadata": {},
     "output_type": "execute_result"
    }
   ],
   "execution_count": 34
  },
  {
   "metadata": {
    "ExecuteTime": {
     "end_time": "2025-04-11T20:39:02.090488Z",
     "start_time": "2025-04-11T20:39:02.087110Z"
    }
   },
   "cell_type": "code",
   "source": "C[X]",
   "id": "7275c4fa6d8bedb9",
   "outputs": [
    {
     "data": {
      "text/plain": [
       "tensor([[[-0.1242,  0.9962],\n",
       "         [-0.1242,  0.9962],\n",
       "         [-0.1242,  0.9962]],\n",
       "\n",
       "        [[-0.1242,  0.9962],\n",
       "         [-0.1242,  0.9962],\n",
       "         [ 0.6071, -1.5800]],\n",
       "\n",
       "        [[-0.1242,  0.9962],\n",
       "         [ 0.6071, -1.5800],\n",
       "         [-0.0496,  0.0432]],\n",
       "\n",
       "        [[ 0.6071, -1.5800],\n",
       "         [-0.0496,  0.0432],\n",
       "         [-0.0496,  0.0432]],\n",
       "\n",
       "        [[-0.0496,  0.0432],\n",
       "         [-0.0496,  0.0432],\n",
       "         [-1.6960,  1.3397]],\n",
       "\n",
       "        [[-0.1242,  0.9962],\n",
       "         [-0.1242,  0.9962],\n",
       "         [-0.1242,  0.9962]],\n",
       "\n",
       "        [[-0.1242,  0.9962],\n",
       "         [-0.1242,  0.9962],\n",
       "         [-0.4527,  0.0715]],\n",
       "\n",
       "        [[-0.1242,  0.9962],\n",
       "         [-0.4527,  0.0715],\n",
       "         [ 0.3417, -0.6011]],\n",
       "\n",
       "        [[-0.4527,  0.0715],\n",
       "         [ 0.3417, -0.6011],\n",
       "         [ 0.3901, -0.3112]],\n",
       "\n",
       "        [[ 0.3417, -0.6011],\n",
       "         [ 0.3901, -0.3112],\n",
       "         [-0.3971, -0.7446]],\n",
       "\n",
       "        [[ 0.3901, -0.3112],\n",
       "         [-0.3971, -0.7446],\n",
       "         [ 0.3901, -0.3112]],\n",
       "\n",
       "        [[-0.3971, -0.7446],\n",
       "         [ 0.3901, -0.3112],\n",
       "         [-1.6960,  1.3397]],\n",
       "\n",
       "        [[-0.1242,  0.9962],\n",
       "         [-0.1242,  0.9962],\n",
       "         [-0.1242,  0.9962]],\n",
       "\n",
       "        [[-0.1242,  0.9962],\n",
       "         [-0.1242,  0.9962],\n",
       "         [-1.6960,  1.3397]],\n",
       "\n",
       "        [[-0.1242,  0.9962],\n",
       "         [-1.6960,  1.3397],\n",
       "         [-0.3971, -0.7446]],\n",
       "\n",
       "        [[-1.6960,  1.3397],\n",
       "         [-0.3971, -0.7446],\n",
       "         [-1.6960,  1.3397]]])"
      ]
     },
     "execution_count": 36,
     "metadata": {},
     "output_type": "execute_result"
    }
   ],
   "execution_count": 36
  },
  {
   "metadata": {
    "ExecuteTime": {
     "end_time": "2025-04-11T20:50:50.204270Z",
     "start_time": "2025-04-11T20:50:50.201912Z"
    }
   },
   "cell_type": "code",
   "source": "a = torch.arange(18)",
   "id": "2dd2fb7b12f2c554",
   "outputs": [],
   "execution_count": 38
  },
  {
   "metadata": {
    "ExecuteTime": {
     "end_time": "2025-04-11T20:51:09.014574Z",
     "start_time": "2025-04-11T20:51:09.010407Z"
    }
   },
   "cell_type": "code",
   "source": "a.view(9,2)",
   "id": "e2dc1764b67146a",
   "outputs": [
    {
     "data": {
      "text/plain": [
       "tensor([[ 0,  1],\n",
       "        [ 2,  3],\n",
       "        [ 4,  5],\n",
       "        [ 6,  7],\n",
       "        [ 8,  9],\n",
       "        [10, 11],\n",
       "        [12, 13],\n",
       "        [14, 15],\n",
       "        [16, 17]])"
      ]
     },
     "execution_count": 40,
     "metadata": {},
     "output_type": "execute_result"
    }
   ],
   "execution_count": 40
  },
  {
   "metadata": {},
   "cell_type": "code",
   "outputs": [],
   "execution_count": null,
   "source": "",
   "id": "4f2f43d9060fdba7"
  }
 ],
 "metadata": {
  "kernelspec": {
   "display_name": "Python 3",
   "language": "python",
   "name": "python3"
  },
  "language_info": {
   "codemirror_mode": {
    "name": "ipython",
    "version": 2
   },
   "file_extension": ".py",
   "mimetype": "text/x-python",
   "name": "python",
   "nbconvert_exporter": "python",
   "pygments_lexer": "ipython2",
   "version": "2.7.6"
  }
 },
 "nbformat": 4,
 "nbformat_minor": 5
}
