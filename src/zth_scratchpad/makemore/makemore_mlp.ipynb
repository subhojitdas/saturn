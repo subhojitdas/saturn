{
 "cells": [
  {
   "cell_type": "code",
   "id": "initial_id",
   "metadata": {
    "collapsed": true,
    "ExecuteTime": {
     "end_time": "2025-04-11T20:27:52.796151Z",
     "start_time": "2025-04-11T20:27:51.861268Z"
    }
   },
   "source": [
    "import torch\n",
    "import torch.nn.functional as F\n",
    "import matplotlib.pyplot as plt\n",
    "%matplotlib inline\n"
   ],
   "outputs": [],
   "execution_count": 19
  },
  {
   "metadata": {
    "ExecuteTime": {
     "end_time": "2025-04-13T16:39:18.713945Z",
     "start_time": "2025-04-13T16:39:18.708144Z"
    }
   },
   "cell_type": "code",
   "source": [
    "# The paper where the idea came out well to have multiple layers of neurons\n",
    "# https://www.jmlr.org/papers/volume3/bengio03a/bengio03a.pdf\n",
    "\n",
    "words = open('names.txt', 'r').read().splitlines()\n",
    "words[:5]"
   ],
   "id": "336eadf7d3ba73fa",
   "outputs": [
    {
     "data": {
      "text/plain": [
       "['emma', 'olivia', 'ava', 'isabella', 'sophia']"
      ]
     },
     "execution_count": 44,
     "metadata": {},
     "output_type": "execute_result"
    }
   ],
   "execution_count": 44
  },
  {
   "metadata": {},
   "cell_type": "code",
   "source": [
    "list_chars = sorted(list(set(''.join(words))))\n",
    "stoi = {}\n",
    "itos = {}\n",
    "idx = 1\n",
    "for ch in list_chars:\n",
    "    stoi[ch] = idx\n",
    "    itos[idx] = ch\n",
    "    idx += 1\n",
    "\n",
    "stoi['.'] = 0\n",
    "itos[0] = '.'\n",
    "\n",
    "itos"
   ],
   "id": "a75a7421101c77c7",
   "outputs": [],
   "execution_count": null
  },
  {
   "metadata": {
    "ExecuteTime": {
     "end_time": "2025-04-13T18:13:04.513393Z",
     "start_time": "2025-04-13T18:13:04.253939Z"
    }
   },
   "cell_type": "code",
   "source": [
    "block_size = 3\n",
    "X = []\n",
    "Y = []\n",
    "for w in words:\n",
    "    context = [0] * block_size\n",
    "    # print(w)\n",
    "    for ch in w + '.':\n",
    "        ix = stoi[ch]\n",
    "        X.append(context)\n",
    "        Y.append(ix)\n",
    "        # print(''.join(itos[i] for i in context) + \"--->\" + ch)\n",
    "        context = context[1:] + [ix]\n",
    "\n",
    "X = torch.tensor(X)\n",
    "Y = torch.tensor(Y)\n",
    "# YU = Y.unsqueeze(1)\n",
    "# Z = torch.cat((X, YU), dim=1)\n",
    "\n",
    "X.shape, X.dtype, Y.shape, Y.dtype\n"
   ],
   "id": "ef8d38a1ba0680f2",
   "outputs": [
    {
     "data": {
      "text/plain": [
       "(torch.Size([228146, 3]), torch.int64, torch.Size([228146]), torch.int64)"
      ]
     },
     "execution_count": 114,
     "metadata": {},
     "output_type": "execute_result"
    }
   ],
   "execution_count": 114
  },
  {
   "metadata": {
    "ExecuteTime": {
     "end_time": "2025-04-13T16:47:32.676018Z",
     "start_time": "2025-04-13T16:47:32.671624Z"
    }
   },
   "cell_type": "code",
   "source": [
    "C = torch.randn(27, 2)\n",
    "C"
   ],
   "id": "1ad7cba556478970",
   "outputs": [
    {
     "data": {
      "text/plain": [
       "tensor([[ 1.4473, -1.2141],\n",
       "        [-0.9716,  1.2108],\n",
       "        [ 0.0863,  0.9163],\n",
       "        [-1.0872,  0.2015],\n",
       "        [-0.6956, -1.5113],\n",
       "        [ 0.6718,  0.5016],\n",
       "        [-0.5835,  0.2084],\n",
       "        [ 1.2900,  1.4108],\n",
       "        [-0.4708, -1.1117],\n",
       "        [-0.8985,  1.1597],\n",
       "        [ 0.7848,  1.0986],\n",
       "        [-1.9655, -0.3301],\n",
       "        [-0.3415,  2.6753],\n",
       "        [ 0.7178, -0.9203],\n",
       "        [-1.3833, -0.0451],\n",
       "        [ 1.6798,  0.6419],\n",
       "        [ 0.0185,  0.4023],\n",
       "        [ 0.1917,  0.0652],\n",
       "        [-0.2936, -0.0505],\n",
       "        [-0.0259, -1.4352],\n",
       "        [-0.5894, -1.6930],\n",
       "        [-0.2674, -1.7367],\n",
       "        [ 2.0828,  0.8604],\n",
       "        [ 2.0151, -0.0510],\n",
       "        [ 1.6528,  1.5525],\n",
       "        [ 1.7770,  0.3908],\n",
       "        [-1.0825,  0.2686]])"
      ]
     },
     "execution_count": 51,
     "metadata": {},
     "output_type": "execute_result"
    }
   ],
   "execution_count": 51
  },
  {
   "metadata": {
    "ExecuteTime": {
     "end_time": "2025-04-13T16:40:18.076037Z",
     "start_time": "2025-04-13T16:40:18.072302Z"
    }
   },
   "cell_type": "code",
   "source": "C[5]",
   "id": "4f2f43d9060fdba7",
   "outputs": [
    {
     "data": {
      "text/plain": [
       "tensor([ 0.6071, -1.5800])"
      ]
     },
     "execution_count": 48,
     "metadata": {},
     "output_type": "execute_result"
    }
   ],
   "execution_count": 48
  },
  {
   "metadata": {
    "ExecuteTime": {
     "end_time": "2025-04-13T16:48:08.262927Z",
     "start_time": "2025-04-13T16:48:08.259773Z"
    }
   },
   "cell_type": "code",
   "source": "C[torch.tensor([5,6,7,7,7,7,7,7])]",
   "id": "47e54351f8906c10",
   "outputs": [
    {
     "data": {
      "text/plain": [
       "tensor([[ 0.6718,  0.5016],\n",
       "        [-0.5835,  0.2084],\n",
       "        [ 1.2900,  1.4108],\n",
       "        [ 1.2900,  1.4108],\n",
       "        [ 1.2900,  1.4108],\n",
       "        [ 1.2900,  1.4108],\n",
       "        [ 1.2900,  1.4108],\n",
       "        [ 1.2900,  1.4108]])"
      ]
     },
     "execution_count": 54,
     "metadata": {},
     "output_type": "execute_result"
    }
   ],
   "execution_count": 54
  },
  {
   "metadata": {
    "ExecuteTime": {
     "end_time": "2025-04-13T17:33:52.680281Z",
     "start_time": "2025-04-13T17:33:52.676087Z"
    }
   },
   "cell_type": "code",
   "source": "C[X].shape",
   "id": "dcab26b93530f057",
   "outputs": [
    {
     "data": {
      "text/plain": [
       "torch.Size([32, 3, 2])"
      ]
     },
     "execution_count": 57,
     "metadata": {},
     "output_type": "execute_result"
    }
   ],
   "execution_count": 57
  },
  {
   "metadata": {
    "ExecuteTime": {
     "end_time": "2025-04-13T17:34:47.075804Z",
     "start_time": "2025-04-13T17:34:47.073222Z"
    }
   },
   "cell_type": "code",
   "source": [
    "W1 = torch.randn(6, 100)\n",
    "b1 = torch.randn(100)"
   ],
   "id": "c420ecd3cea11ef5",
   "outputs": [],
   "execution_count": 58
  },
  {
   "metadata": {
    "ExecuteTime": {
     "end_time": "2025-04-13T17:35:21.510272Z",
     "start_time": "2025-04-13T17:35:21.507516Z"
    }
   },
   "cell_type": "code",
   "source": [
    "emb = C[X]\n",
    "emb.shape"
   ],
   "id": "2b362a64eb08197",
   "outputs": [
    {
     "data": {
      "text/plain": [
       "torch.Size([32, 3, 2])"
      ]
     },
     "execution_count": 59,
     "metadata": {},
     "output_type": "execute_result"
    }
   ],
   "execution_count": 59
  },
  {
   "metadata": {
    "ExecuteTime": {
     "end_time": "2025-04-13T17:35:29.820836Z",
     "start_time": "2025-04-13T17:35:29.809562Z"
    }
   },
   "cell_type": "code",
   "source": "emb @ W1 + b1",
   "id": "c6af8ada1ad22379",
   "outputs": [
    {
     "ename": "RuntimeError",
     "evalue": "mat1 and mat2 shapes cannot be multiplied (96x2 and 6x100)",
     "output_type": "error",
     "traceback": [
      "\u001B[0;31m---------------------------------------------------------------------------\u001B[0m",
      "\u001B[0;31mRuntimeError\u001B[0m                              Traceback (most recent call last)",
      "Cell \u001B[0;32mIn[60], line 1\u001B[0m\n\u001B[0;32m----> 1\u001B[0m \u001B[43memb\u001B[49m\u001B[43m \u001B[49m\u001B[38;5;241;43m@\u001B[39;49m\u001B[43m \u001B[49m\u001B[43mW1\u001B[49m \u001B[38;5;241m+\u001B[39m b1\n",
      "\u001B[0;31mRuntimeError\u001B[0m: mat1 and mat2 shapes cannot be multiplied (96x2 and 6x100)"
     ]
    }
   ],
   "execution_count": 60
  },
  {
   "metadata": {
    "ExecuteTime": {
     "end_time": "2025-04-13T17:39:32.622634Z",
     "start_time": "2025-04-13T17:39:32.619390Z"
    }
   },
   "cell_type": "code",
   "source": "torch.cat([emb[:, 0, :], emb[:, 1, :], emb[:, 2, :]], 1).shape",
   "id": "56c41c5f6d4a7dc5",
   "outputs": [
    {
     "data": {
      "text/plain": [
       "torch.Size([32, 6])"
      ]
     },
     "execution_count": 67,
     "metadata": {},
     "output_type": "execute_result"
    }
   ],
   "execution_count": 67
  },
  {
   "metadata": {
    "ExecuteTime": {
     "end_time": "2025-04-13T17:41:18.965334Z",
     "start_time": "2025-04-13T17:41:18.961628Z"
    }
   },
   "cell_type": "code",
   "source": "torch.cat(torch.unbind(emb, dim=1), 1)",
   "id": "6090a38d9b8f97f2",
   "outputs": [
    {
     "data": {
      "text/plain": [
       "tensor([[ 1.4473, -1.2141,  1.4473, -1.2141,  1.4473, -1.2141],\n",
       "        [ 1.4473, -1.2141,  1.4473, -1.2141,  0.6718,  0.5016],\n",
       "        [ 1.4473, -1.2141,  0.6718,  0.5016,  0.7178, -0.9203],\n",
       "        [ 0.6718,  0.5016,  0.7178, -0.9203,  0.7178, -0.9203],\n",
       "        [ 0.7178, -0.9203,  0.7178, -0.9203, -0.9716,  1.2108],\n",
       "        [ 1.4473, -1.2141,  1.4473, -1.2141,  1.4473, -1.2141],\n",
       "        [ 1.4473, -1.2141,  1.4473, -1.2141,  1.6798,  0.6419],\n",
       "        [ 1.4473, -1.2141,  1.6798,  0.6419, -0.3415,  2.6753],\n",
       "        [ 1.6798,  0.6419, -0.3415,  2.6753, -0.8985,  1.1597],\n",
       "        [-0.3415,  2.6753, -0.8985,  1.1597,  2.0828,  0.8604],\n",
       "        [-0.8985,  1.1597,  2.0828,  0.8604, -0.8985,  1.1597],\n",
       "        [ 2.0828,  0.8604, -0.8985,  1.1597, -0.9716,  1.2108],\n",
       "        [ 1.4473, -1.2141,  1.4473, -1.2141,  1.4473, -1.2141],\n",
       "        [ 1.4473, -1.2141,  1.4473, -1.2141, -0.9716,  1.2108],\n",
       "        [ 1.4473, -1.2141, -0.9716,  1.2108,  2.0828,  0.8604],\n",
       "        [-0.9716,  1.2108,  2.0828,  0.8604, -0.9716,  1.2108],\n",
       "        [ 1.4473, -1.2141,  1.4473, -1.2141,  1.4473, -1.2141],\n",
       "        [ 1.4473, -1.2141,  1.4473, -1.2141, -0.8985,  1.1597],\n",
       "        [ 1.4473, -1.2141, -0.8985,  1.1597, -0.0259, -1.4352],\n",
       "        [-0.8985,  1.1597, -0.0259, -1.4352, -0.9716,  1.2108],\n",
       "        [-0.0259, -1.4352, -0.9716,  1.2108,  0.0863,  0.9163],\n",
       "        [-0.9716,  1.2108,  0.0863,  0.9163,  0.6718,  0.5016],\n",
       "        [ 0.0863,  0.9163,  0.6718,  0.5016, -0.3415,  2.6753],\n",
       "        [ 0.6718,  0.5016, -0.3415,  2.6753, -0.3415,  2.6753],\n",
       "        [-0.3415,  2.6753, -0.3415,  2.6753, -0.9716,  1.2108],\n",
       "        [ 1.4473, -1.2141,  1.4473, -1.2141,  1.4473, -1.2141],\n",
       "        [ 1.4473, -1.2141,  1.4473, -1.2141, -0.0259, -1.4352],\n",
       "        [ 1.4473, -1.2141, -0.0259, -1.4352,  1.6798,  0.6419],\n",
       "        [-0.0259, -1.4352,  1.6798,  0.6419,  0.0185,  0.4023],\n",
       "        [ 1.6798,  0.6419,  0.0185,  0.4023, -0.4708, -1.1117],\n",
       "        [ 0.0185,  0.4023, -0.4708, -1.1117, -0.8985,  1.1597],\n",
       "        [-0.4708, -1.1117, -0.8985,  1.1597, -0.9716,  1.2108]])"
      ]
     },
     "execution_count": 69,
     "metadata": {},
     "output_type": "execute_result"
    }
   ],
   "execution_count": 69
  },
  {
   "metadata": {
    "ExecuteTime": {
     "end_time": "2025-04-13T17:41:57.373548Z",
     "start_time": "2025-04-13T17:41:57.369165Z"
    }
   },
   "cell_type": "code",
   "source": [
    "a = torch.arange(18)\n",
    "a"
   ],
   "id": "23dcf90950ab9a79",
   "outputs": [
    {
     "data": {
      "text/plain": [
       "tensor([ 0,  1,  2,  3,  4,  5,  6,  7,  8,  9, 10, 11, 12, 13, 14, 15, 16, 17])"
      ]
     },
     "execution_count": 71,
     "metadata": {},
     "output_type": "execute_result"
    }
   ],
   "execution_count": 71
  },
  {
   "metadata": {},
   "cell_type": "code",
   "source": "a.view(2,9)",
   "id": "41843d95344bbfc6",
   "outputs": [],
   "execution_count": null
  },
  {
   "metadata": {},
   "cell_type": "code",
   "source": "a.storage()",
   "id": "644144c168265945",
   "outputs": [],
   "execution_count": null
  },
  {
   "metadata": {},
   "cell_type": "code",
   "source": "emb.view(32, 6)",
   "id": "bbe780725e799ba3",
   "outputs": [],
   "execution_count": null
  },
  {
   "metadata": {
    "ExecuteTime": {
     "end_time": "2025-04-13T17:47:02.617293Z",
     "start_time": "2025-04-13T17:47:02.613825Z"
    }
   },
   "cell_type": "code",
   "source": [
    "h = emb.view(-1, 6) @ W1 + b1\n",
    "h = torch.tanh(h)"
   ],
   "id": "88c8c88e870fb339",
   "outputs": [],
   "execution_count": 80
  },
  {
   "metadata": {
    "ExecuteTime": {
     "end_time": "2025-04-13T17:47:19.227022Z",
     "start_time": "2025-04-13T17:47:19.224464Z"
    }
   },
   "cell_type": "code",
   "source": "h.shape",
   "id": "72f1c5e21c046fce",
   "outputs": [
    {
     "data": {
      "text/plain": [
       "torch.Size([32, 100])"
      ]
     },
     "execution_count": 82,
     "metadata": {},
     "output_type": "execute_result"
    }
   ],
   "execution_count": 82
  },
  {
   "metadata": {
    "ExecuteTime": {
     "end_time": "2025-04-13T17:48:53.478494Z",
     "start_time": "2025-04-13T17:48:53.476114Z"
    }
   },
   "cell_type": "code",
   "source": [
    "W2 = torch.randn(100, 27)\n",
    "b2 = torch.randn(27)"
   ],
   "id": "835f4ee26f62eee",
   "outputs": [],
   "execution_count": 83
  },
  {
   "metadata": {
    "ExecuteTime": {
     "end_time": "2025-04-13T17:49:22.654838Z",
     "start_time": "2025-04-13T17:49:22.652200Z"
    }
   },
   "cell_type": "code",
   "source": "logits = h @ W2 + b2",
   "id": "42f65ab3681d1097",
   "outputs": [],
   "execution_count": 85
  },
  {
   "metadata": {
    "ExecuteTime": {
     "end_time": "2025-04-13T17:49:26.472832Z",
     "start_time": "2025-04-13T17:49:26.470662Z"
    }
   },
   "cell_type": "code",
   "source": "logits.shape",
   "id": "d3be5c2ceed4347c",
   "outputs": [
    {
     "data": {
      "text/plain": [
       "torch.Size([32, 27])"
      ]
     },
     "execution_count": 86,
     "metadata": {},
     "output_type": "execute_result"
    }
   ],
   "execution_count": 86
  },
  {
   "metadata": {
    "ExecuteTime": {
     "end_time": "2025-04-13T17:49:55.383005Z",
     "start_time": "2025-04-13T17:49:55.380630Z"
    }
   },
   "cell_type": "code",
   "source": "counts = logits.exp()",
   "id": "ec06baeaa80ea7b9",
   "outputs": [],
   "execution_count": 87
  },
  {
   "metadata": {
    "ExecuteTime": {
     "end_time": "2025-04-13T17:50:15.465209Z",
     "start_time": "2025-04-13T17:50:15.462386Z"
    }
   },
   "cell_type": "code",
   "source": "probs = counts / counts.sum(1, keepdim=True)",
   "id": "49646fec68b6d0f3",
   "outputs": [],
   "execution_count": 88
  },
  {
   "metadata": {
    "ExecuteTime": {
     "end_time": "2025-04-13T17:50:22.165615Z",
     "start_time": "2025-04-13T17:50:22.162757Z"
    }
   },
   "cell_type": "code",
   "source": "probs.shape",
   "id": "869319008e83c567",
   "outputs": [
    {
     "data": {
      "text/plain": [
       "torch.Size([32, 27])"
      ]
     },
     "execution_count": 89,
     "metadata": {},
     "output_type": "execute_result"
    }
   ],
   "execution_count": 89
  },
  {
   "metadata": {
    "ExecuteTime": {
     "end_time": "2025-04-13T17:50:51.000493Z",
     "start_time": "2025-04-13T17:50:50.997792Z"
    }
   },
   "cell_type": "code",
   "source": "probs[0].sum()",
   "id": "306328b22c438f89",
   "outputs": [
    {
     "data": {
      "text/plain": [
       "tensor(1.0000)"
      ]
     },
     "execution_count": 91,
     "metadata": {},
     "output_type": "execute_result"
    }
   ],
   "execution_count": 91
  },
  {
   "metadata": {
    "ExecuteTime": {
     "end_time": "2025-04-13T17:51:07.389158Z",
     "start_time": "2025-04-13T17:51:07.385958Z"
    }
   },
   "cell_type": "code",
   "source": "Y",
   "id": "69df0464296d8553",
   "outputs": [
    {
     "data": {
      "text/plain": [
       "tensor([ 5, 13, 13,  1,  0, 15, 12,  9, 22,  9,  1,  0,  1, 22,  1,  0,  9, 19,\n",
       "         1,  2,  5, 12, 12,  1,  0, 19, 15, 16,  8,  9,  1,  0])"
      ]
     },
     "execution_count": 92,
     "metadata": {},
     "output_type": "execute_result"
    }
   ],
   "execution_count": 92
  },
  {
   "metadata": {
    "ExecuteTime": {
     "end_time": "2025-04-13T17:52:43.963926Z",
     "start_time": "2025-04-13T17:52:43.960180Z"
    }
   },
   "cell_type": "code",
   "source": "probs[torch.arange(32), Y]",
   "id": "f5353207a540122a",
   "outputs": [
    {
     "data": {
      "text/plain": [
       "tensor([1.0471e-14, 9.1520e-08, 1.2989e-08, 5.8865e-05, 1.6654e-13, 9.2179e-20,\n",
       "        8.7875e-12, 7.0675e-09, 1.9360e-05, 2.4143e-15, 8.2993e-23, 1.0039e-13,\n",
       "        4.1100e-07, 6.5672e-05, 3.9982e-17, 4.6292e-12, 1.7289e-12, 1.2912e-02,\n",
       "        3.8837e-09, 5.4563e-03, 1.7709e-09, 1.0413e-05, 1.3930e-08, 7.0765e-21,\n",
       "        6.8238e-09, 6.1220e-07, 6.9836e-14, 2.3298e-01, 2.6497e-05, 6.3187e-07,\n",
       "        7.8651e-14, 2.4912e-15])"
      ]
     },
     "execution_count": 93,
     "metadata": {},
     "output_type": "execute_result"
    }
   ],
   "execution_count": 93
  },
  {
   "metadata": {
    "ExecuteTime": {
     "end_time": "2025-04-13T17:53:44.643292Z",
     "start_time": "2025-04-13T17:53:44.640152Z"
    }
   },
   "cell_type": "code",
   "source": "-probs[torch.arange(32), Y].log().mean()",
   "id": "cdc5e736c002322a",
   "outputs": [
    {
     "data": {
      "text/plain": [
       "tensor(22.2764)"
      ]
     },
     "execution_count": 94,
     "metadata": {},
     "output_type": "execute_result"
    }
   ],
   "execution_count": 94
  },
  {
   "metadata": {},
   "cell_type": "code",
   "outputs": [],
   "execution_count": null,
   "source": "## - Cleaning and re-writing ##",
   "id": "9a1bd528cddd3bc"
  },
  {
   "metadata": {
    "ExecuteTime": {
     "end_time": "2025-04-13T20:07:52.616630Z",
     "start_time": "2025-04-13T20:07:52.404506Z"
    }
   },
   "cell_type": "code",
   "source": [
    "def build_dataset(words):\n",
    "    X = []\n",
    "    Y = []\n",
    "    block_size = 3\n",
    "    context = [0] * block_size\n",
    "\n",
    "    for w in words:\n",
    "        for ch in w + '.':\n",
    "            ix = stoi[ch]\n",
    "            X.append(context)\n",
    "            Y.append(ix)\n",
    "            context = context[1:] + [ix]\n",
    "\n",
    "    X = torch.tensor(X)\n",
    "    Y = torch.tensor(Y)\n",
    "    print(X.shape, Y.shape)\n",
    "    return X, Y\n",
    "\n",
    "import random\n",
    "random.seed(18)\n",
    "random.shuffle(words)\n",
    "n1 = int(0.8*len(words))\n",
    "n2 = int(0.9*len(words))\n",
    "\n",
    "Xtr, Ytr = build_dataset(words[:n1])\n",
    "Xdev, Ydev = build_dataset(words[n1:n2])\n",
    "Xte, Yte = build_dataset(words[n2:])"
   ],
   "id": "6471684c26e4dbe1",
   "outputs": [
    {
     "name": "stdout",
     "output_type": "stream",
     "text": [
      "torch.Size([182600, 3]) torch.Size([182600])\n",
      "torch.Size([22780, 3]) torch.Size([22780])\n",
      "torch.Size([22766, 3]) torch.Size([22766])\n"
     ]
    }
   ],
   "execution_count": 209
  },
  {
   "metadata": {
    "ExecuteTime": {
     "end_time": "2025-04-13T20:07:56.225701Z",
     "start_time": "2025-04-13T20:07:56.222340Z"
    }
   },
   "cell_type": "code",
   "source": [
    "g = torch.Generator().manual_seed(2147483647)\n",
    "C = torch.randn(27, 2, generator=g)\n",
    "W1 = torch.randn(6, 100, generator=g)\n",
    "b1 = torch.randn(100, generator=g)\n",
    "W2 = torch.randn(100, 27, generator=g)\n",
    "b2 = torch.randn(27, generator=g)\n",
    "parameters = [C, W1, b1, W2, b2]"
   ],
   "id": "ec17ce04f3b61d77",
   "outputs": [],
   "execution_count": 210
  },
  {
   "metadata": {
    "ExecuteTime": {
     "end_time": "2025-04-13T20:05:35.410007Z",
     "start_time": "2025-04-13T20:05:35.407839Z"
    }
   },
   "cell_type": "code",
   "source": "sum(p.nelement() for p in parameters)",
   "id": "6c0606f29c3875bb",
   "outputs": [
    {
     "data": {
      "text/plain": [
       "3481"
      ]
     },
     "execution_count": 198,
     "metadata": {},
     "output_type": "execute_result"
    }
   ],
   "execution_count": 198
  },
  {
   "metadata": {
    "ExecuteTime": {
     "end_time": "2025-04-13T20:07:59.019659Z",
     "start_time": "2025-04-13T20:07:59.017382Z"
    }
   },
   "cell_type": "code",
   "source": [
    "for p in parameters:\n",
    "    p.requires_grad = True"
   ],
   "id": "1081fbdc170abfc5",
   "outputs": [],
   "execution_count": 211
  },
  {
   "metadata": {
    "ExecuteTime": {
     "end_time": "2025-04-13T20:08:00.857989Z",
     "start_time": "2025-04-13T20:08:00.855568Z"
    }
   },
   "cell_type": "code",
   "source": [
    "lre = torch.linspace(-3, 0, 1000)\n",
    "lrs = 10**lre"
   ],
   "id": "f00c99d6266ddb4f",
   "outputs": [],
   "execution_count": 212
  },
  {
   "metadata": {},
   "cell_type": "code",
   "outputs": [],
   "execution_count": null,
   "source": [
    "for _ in range(10):\n",
    "\n",
    "    #minibatch\n",
    "    ix = torch.randint(0, X.shape[0], (32,))\n",
    "    # forward pass\n",
    "    emb = C[X[ix]]\n",
    "    h = torch.tanh(emb.view(-1, 6) @ W1 + b1)\n",
    "    logits = h @ W2 + b2\n",
    "    # counts = logits.exp()\n",
    "    # probs = counts / counts.sum(1, keepdim=True)\n",
    "    # loss = -probs[torch.arange(32), Y].log().mean()\n",
    "    loss = F.cross_entropy(logits, Y[ix])\n",
    "    print(loss.item())\n",
    "    #backward pass\n",
    "    for p in parameters:\n",
    "        p.grad = None\n",
    "    loss.backward()\n",
    "\n",
    "    #update\n",
    "    for p in parameters:\n",
    "        p.data += -0.1 * p.grad"
   ],
   "id": "5b71855978850b23"
  },
  {
   "metadata": {
    "ExecuteTime": {
     "end_time": "2025-04-13T20:10:15.904918Z",
     "start_time": "2025-04-13T20:10:15.871615Z"
    }
   },
   "cell_type": "code",
   "source": [
    "emb = C[Xtr]\n",
    "h = torch.tanh(emb.view(-1, 6) @ W1 + b1)\n",
    "logits = h @ W2 + b2\n",
    "loss = F.cross_entropy(logits, Ytr)\n",
    "loss"
   ],
   "id": "a427176960d1159b",
   "outputs": [
    {
     "data": {
      "text/plain": [
       "tensor(2.2435, grad_fn=<NllLossBackward0>)"
      ]
     },
     "execution_count": 228,
     "metadata": {},
     "output_type": "execute_result"
    }
   ],
   "execution_count": 228
  },
  {
   "metadata": {
    "ExecuteTime": {
     "end_time": "2025-04-13T20:10:18.085632Z",
     "start_time": "2025-04-13T20:10:18.076042Z"
    }
   },
   "cell_type": "code",
   "source": [
    "emb = C[Xdev]\n",
    "h = torch.tanh(emb.view(-1, 6) @ W1 + b1)\n",
    "logits = h @ W2 + b2\n",
    "loss = F.cross_entropy(logits, Ydev)\n",
    "loss"
   ],
   "id": "64cc06a13ae544b2",
   "outputs": [
    {
     "data": {
      "text/plain": [
       "tensor(2.2497, grad_fn=<NllLossBackward0>)"
      ]
     },
     "execution_count": 230,
     "metadata": {},
     "output_type": "execute_result"
    }
   ],
   "execution_count": 230
  },
  {
   "metadata": {
    "ExecuteTime": {
     "end_time": "2025-04-13T20:18:30.327179Z",
     "start_time": "2025-04-13T20:18:30.318809Z"
    }
   },
   "cell_type": "code",
   "source": [
    "# sample names\n",
    "g = torch.Generator().manual_seed(2147483647 + 10)\n",
    "for i in range(10):\n",
    "    context = [0] * block_size\n",
    "    out = []\n",
    "    while True:\n",
    "        emb = C[torch.tensor(context)]\n",
    "        h = torch.tanh(emb.view(-1, 6) @ W1 + b1)\n",
    "        logits = h @ W2 + b2\n",
    "        probs = F.softmax(logits, dim=1)\n",
    "        ix = torch.multinomial(probs, num_samples=1, generator=g).item()\n",
    "        out.append(ix)\n",
    "        context = context[1:] + [ix]\n",
    "        if ix == 0:\n",
    "            break\n",
    "    print(''.join(itos[i] for i in out))"
   ],
   "id": "cacca486dbf5a3e3",
   "outputs": [
    {
     "name": "stdout",
     "output_type": "stream",
     "text": [
      "carmah.\n",
      "quiri.\n",
      "tifkimli.\n",
      "quity.\n",
      "hacalene.\n",
      "arhuel.\n",
      "amerahc.\n",
      "taquiu.\n",
      "tamara.\n",
      "ceriav.\n"
     ]
    }
   ],
   "execution_count": 233
  },
  {
   "metadata": {},
   "cell_type": "code",
   "outputs": [],
   "execution_count": null,
   "source": "",
   "id": "a9f16bf7a4d368ae"
  }
 ],
 "metadata": {
  "kernelspec": {
   "display_name": "Python 3",
   "language": "python",
   "name": "python3"
  },
  "language_info": {
   "codemirror_mode": {
    "name": "ipython",
    "version": 2
   },
   "file_extension": ".py",
   "mimetype": "text/x-python",
   "name": "python",
   "nbconvert_exporter": "python",
   "pygments_lexer": "ipython2",
   "version": "2.7.6"
  }
 },
 "nbformat": 4,
 "nbformat_minor": 5
}
