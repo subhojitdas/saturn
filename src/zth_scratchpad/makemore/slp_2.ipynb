{
 "cells": [
  {
   "cell_type": "code",
   "id": "initial_id",
   "metadata": {
    "collapsed": true,
    "ExecuteTime": {
     "end_time": "2025-04-09T20:05:39.068969Z",
     "start_time": "2025-04-09T20:05:39.064318Z"
    }
   },
   "source": "words = open('names.txt', 'r').read().splitlines()",
   "outputs": [],
   "execution_count": 1
  },
  {
   "metadata": {
    "ExecuteTime": {
     "end_time": "2025-04-09T20:05:56.026144Z",
     "start_time": "2025-04-09T20:05:56.019708Z"
    }
   },
   "cell_type": "code",
   "source": [
    "sorted_letters = sorted(set(''.join(words)))\n",
    "itos = {}\n",
    "stoi = {}\n",
    "for index, ch in enumerate(sorted_letters):\n",
    "    itos[index + 1] = ch\n",
    "    stoi[ch] = index + 1\n",
    "itos[0] = '.'\n",
    "stoi['.'] = 0"
   ],
   "id": "ab530c5585450e16",
   "outputs": [],
   "execution_count": 2
  },
  {
   "metadata": {
    "ExecuteTime": {
     "end_time": "2025-04-09T20:06:28.460976Z",
     "start_time": "2025-04-09T20:06:28.458629Z"
    }
   },
   "cell_type": "code",
   "source": [
    "import torch\n",
    "import torch.nn.functional as F"
   ],
   "id": "955c5b5879888487",
   "outputs": [],
   "execution_count": 6
  },
  {
   "metadata": {
    "ExecuteTime": {
     "end_time": "2025-04-09T20:06:30.000775Z",
     "start_time": "2025-04-09T20:06:29.908166Z"
    }
   },
   "cell_type": "code",
   "source": [
    "\n",
    "# create the dataset\n",
    "xs, ys = [], []\n",
    "for w in words:\n",
    "  chs = ['.'] + list(w) + ['.']\n",
    "  for ch1, ch2 in zip(chs, chs[1:]):\n",
    "    ix1 = stoi[ch1]\n",
    "    ix2 = stoi[ch2]\n",
    "    xs.append(ix1)\n",
    "    ys.append(ix2)\n",
    "xs = torch.tensor(xs)\n",
    "ys = torch.tensor(ys)\n",
    "num = xs.nelement()\n",
    "print('number of examples: ', num)\n",
    "\n",
    "# initialize the 'network'\n",
    "g = torch.Generator().manual_seed(2147483647)\n",
    "W = torch.randn((27, 27), generator=g, requires_grad=True)"
   ],
   "id": "966ac17b72908bf3",
   "outputs": [
    {
     "name": "stdout",
     "output_type": "stream",
     "text": [
      "number of examples:  228146\n"
     ]
    }
   ],
   "execution_count": 7
  },
  {
   "metadata": {
    "ExecuteTime": {
     "end_time": "2025-04-09T20:06:50.572132Z",
     "start_time": "2025-04-09T20:06:49.071139Z"
    }
   },
   "cell_type": "code",
   "source": [
    "# gradient descent\n",
    "for k in range(100):\n",
    "\n",
    "  # forward pass\n",
    "  xenc = F.one_hot(xs, num_classes=27).float() # input to the network: one-hot encoding\n",
    "  logits = xenc @ W # predict log-counts\n",
    "  counts = logits.exp() # counts, equivalent to N\n",
    "  probs = counts / counts.sum(1, keepdims=True) # probabilities for next character\n",
    "  loss = -probs[torch.arange(num), ys].log().mean() + 0.01*(W**2).mean()\n",
    "  print(loss.item())\n",
    "\n",
    "  # backward pass\n",
    "  W.grad = None # set to zero the gradient\n",
    "  loss.backward()\n",
    "\n",
    "  # update\n",
    "  W.data += -50 * W.grad"
   ],
   "id": "3cca81fb6563dbc7",
   "outputs": [
    {
     "name": "stdout",
     "output_type": "stream",
     "text": [
      "3.3787858486175537\n",
      "3.1610772609710693\n",
      "3.027181386947632\n",
      "2.9344801902770996\n",
      "2.8672285079956055\n",
      "2.816653251647949\n",
      "2.7771458625793457\n",
      "2.745253562927246\n",
      "2.7188305854797363\n",
      "2.696505546569824\n",
      "2.6773722171783447\n",
      "2.6608054637908936\n",
      "2.6463515758514404\n",
      "2.633665084838867\n",
      "2.622471332550049\n",
      "2.6125471591949463\n",
      "2.6037063598632812\n",
      "2.595794439315796\n",
      "2.5886809825897217\n",
      "2.5822560787200928\n",
      "2.5764293670654297\n",
      "2.5711233615875244\n",
      "2.566272497177124\n",
      "2.5618226528167725\n",
      "2.5577261447906494\n",
      "2.5539441108703613\n",
      "2.550442695617676\n",
      "2.547192335128784\n",
      "2.5441696643829346\n",
      "2.5413525104522705\n",
      "2.538722038269043\n",
      "2.536262035369873\n",
      "2.5339579582214355\n",
      "2.531797409057617\n",
      "2.529768228530884\n",
      "2.527860164642334\n",
      "2.5260636806488037\n",
      "2.5243709087371826\n",
      "2.522773265838623\n",
      "2.52126407623291\n",
      "2.519836664199829\n",
      "2.5184857845306396\n",
      "2.5172054767608643\n",
      "2.515990972518921\n",
      "2.5148372650146484\n",
      "2.5137410163879395\n",
      "2.51269793510437\n",
      "2.511704921722412\n",
      "2.5107579231262207\n",
      "2.509854793548584\n",
      "2.5089921951293945\n",
      "2.5081679821014404\n",
      "2.507380485534668\n",
      "2.5066258907318115\n",
      "2.5059030055999756\n",
      "2.5052103996276855\n",
      "2.5045459270477295\n",
      "2.5039076805114746\n",
      "2.5032951831817627\n",
      "2.5027060508728027\n",
      "2.5021400451660156\n",
      "2.501594305038452\n",
      "2.5010693073272705\n",
      "2.500563383102417\n",
      "2.500075578689575\n",
      "2.4996044635772705\n",
      "2.499150514602661\n",
      "2.4987123012542725\n",
      "2.49828839302063\n",
      "2.4978787899017334\n",
      "2.4974827766418457\n",
      "2.4970998764038086\n",
      "2.4967291355133057\n",
      "2.496370315551758\n",
      "2.4960227012634277\n",
      "2.4956860542297363\n",
      "2.4953596591949463\n",
      "2.4950435161590576\n",
      "2.4947361946105957\n",
      "2.494438648223877\n",
      "2.494149684906006\n",
      "2.4938690662384033\n",
      "2.4935965538024902\n",
      "2.4933323860168457\n",
      "2.493074893951416\n",
      "2.4928252696990967\n",
      "2.4925825595855713\n",
      "2.4923462867736816\n",
      "2.492116928100586\n",
      "2.4918932914733887\n",
      "2.491676092147827\n",
      "2.491464376449585\n",
      "2.4912586212158203\n",
      "2.491057872772217\n",
      "2.4908626079559326\n",
      "2.4906721115112305\n",
      "2.4904870986938477\n",
      "2.4903066158294678\n",
      "2.490130662918091\n",
      "2.4899590015411377\n"
     ]
    }
   ],
   "execution_count": 9
  },
  {
   "metadata": {
    "ExecuteTime": {
     "end_time": "2025-04-09T20:07:06.008230Z",
     "start_time": "2025-04-09T20:07:06.001526Z"
    }
   },
   "cell_type": "code",
   "source": [
    "# finally, sample from the 'neural net' model\n",
    "g = torch.Generator().manual_seed(2147483647)\n",
    "\n",
    "for i in range(5):\n",
    "\n",
    "  out = []\n",
    "  ix = 0\n",
    "  while True:\n",
    "\n",
    "    # ----------\n",
    "    # BEFORE:\n",
    "    #p = P[ix]\n",
    "    # ----------\n",
    "    # NOW:\n",
    "    xenc = F.one_hot(torch.tensor([ix]), num_classes=27).float()\n",
    "    logits = xenc @ W # predict log-counts\n",
    "    counts = logits.exp() # counts, equivalent to N\n",
    "    p = counts / counts.sum(1, keepdims=True) # probabilities for next character\n",
    "    # ----------\n",
    "\n",
    "    ix = torch.multinomial(p, num_samples=1, replacement=True, generator=g).item()\n",
    "    out.append(itos[ix])\n",
    "    if ix == 0:\n",
    "      break\n",
    "  print(''.join(out))"
   ],
   "id": "c8b9a642d50ad527",
   "outputs": [
    {
     "name": "stdout",
     "output_type": "stream",
     "text": [
      "cexze.\n",
      "momasurailezityha.\n",
      "konimittain.\n",
      "llayn.\n",
      "ka.\n"
     ]
    }
   ],
   "execution_count": 10
  }
 ],
 "metadata": {
  "kernelspec": {
   "display_name": "Python 3",
   "language": "python",
   "name": "python3"
  },
  "language_info": {
   "codemirror_mode": {
    "name": "ipython",
    "version": 2
   },
   "file_extension": ".py",
   "mimetype": "text/x-python",
   "name": "python",
   "nbconvert_exporter": "python",
   "pygments_lexer": "ipython2",
   "version": "2.7.6"
  }
 },
 "nbformat": 4,
 "nbformat_minor": 5
}
