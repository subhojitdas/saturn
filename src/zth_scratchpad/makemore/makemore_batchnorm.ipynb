{
 "cells": [
  {
   "cell_type": "code",
   "id": "initial_id",
   "metadata": {
    "collapsed": true,
    "ExecuteTime": {
     "end_time": "2025-04-14T11:50:54.423454Z",
     "start_time": "2025-04-14T11:50:53.536426Z"
    }
   },
   "source": [
    "import torch\n",
    "import torch.nn.functional as F\n",
    "import matplotlib.pyplot as plt\n",
    "%matplotlib inline\n"
   ],
   "outputs": [],
   "execution_count": 1
  },
  {
   "metadata": {
    "ExecuteTime": {
     "end_time": "2025-04-14T11:51:11.635778Z",
     "start_time": "2025-04-14T11:51:11.626897Z"
    }
   },
   "cell_type": "code",
   "source": [
    "words = open('names.txt', 'r').read().splitlines()\n",
    "words[:8]\n",
    "len(words)\n",
    "chars = sorted(list(set(''.join(words))))\n",
    "stoi = {ch: i + 1 for i, ch in enumerate(chars)}\n",
    "stoi['.'] = 0\n",
    "itos = {i: ch for ch, i in stoi.items()}\n",
    "vocab_size = len(itos)\n",
    "print(vocab_size)\n",
    "print(itos)"
   ],
   "id": "d7c3c4ab518bf4f0",
   "outputs": [
    {
     "name": "stdout",
     "output_type": "stream",
     "text": [
      "27\n",
      "{1: 'a', 2: 'b', 3: 'c', 4: 'd', 5: 'e', 6: 'f', 7: 'g', 8: 'h', 9: 'i', 10: 'j', 11: 'k', 12: 'l', 13: 'm', 14: 'n', 15: 'o', 16: 'p', 17: 'q', 18: 'r', 19: 's', 20: 't', 21: 'u', 22: 'v', 23: 'w', 24: 'x', 25: 'y', 26: 'z', 0: '.'}\n"
     ]
    }
   ],
   "execution_count": 2
  },
  {
   "metadata": {
    "ExecuteTime": {
     "end_time": "2025-04-14T11:51:26.639795Z",
     "start_time": "2025-04-14T11:51:26.424361Z"
    }
   },
   "cell_type": "code",
   "source": [
    "block_size = 3\n",
    "\n",
    "def build_dataset(words):\n",
    "    X = []\n",
    "    Y = []\n",
    "    context = [0] * block_size\n",
    "    for w in words:\n",
    "\n",
    "        for ch in w + '.':\n",
    "            ix = stoi[ch]\n",
    "            X.append(context)\n",
    "            Y.append(ix)\n",
    "            context = context[1:] + [ix]\n",
    "    X = torch.tensor(X)\n",
    "    Y = torch.tensor(Y)\n",
    "    print(X.shape, Y.shape)\n",
    "    return X, Y\n",
    "\n",
    "import random\n",
    "random.seed(18)\n",
    "random.shuffle(words)\n",
    "n1 = int(0.8*len(words))\n",
    "n2 = int(0.9*len(words))\n",
    "\n",
    "Xtrain, Ytrain = build_dataset(words[:n1])\n",
    "Xdev, Ydev = build_dataset(words[n1:n2])\n",
    "Xtest, Ytest = build_dataset(words[n2:])"
   ],
   "id": "664cb4ff80fdd6a0",
   "outputs": [
    {
     "name": "stdout",
     "output_type": "stream",
     "text": [
      "torch.Size([182320, 3]) torch.Size([182320])\n",
      "torch.Size([22953, 3]) torch.Size([22953])\n",
      "torch.Size([22873, 3]) torch.Size([22873])\n"
     ]
    }
   ],
   "execution_count": 3
  },
  {
   "metadata": {
    "ExecuteTime": {
     "end_time": "2025-04-14T16:28:59.480101Z",
     "start_time": "2025-04-14T16:28:59.474570Z"
    }
   },
   "cell_type": "code",
   "source": [
    "#MLP\n",
    "n_embd = 20\n",
    "n_hidden = 200\n",
    "\n",
    "g = torch.Generator().manual_seed(2147483647)\n",
    "C = torch.randn((vocab_size, n_embd),               generator=g)\n",
    "W1 = torch.randn((n_embd * block_size, n_hidden),   generator=g) * (5/3)/(n_embd * block_size)**0.5 # 0.2\n",
    "b1 = torch.randn(n_hidden,                          generator=g) * 0.01\n",
    "W2 = torch.randn((n_hidden, vocab_size),            generator=g) * 0.01\n",
    "b2 = torch.randn(vocab_size,                        generator=g) * 0\n",
    "\n",
    "bngain = torch.ones(1, n_hidden)\n",
    "bnbias = torch.zeros(1, n_hidden)\n",
    "\n",
    "parameters = [C, W1, b1, W2, b2, bngain, bnbias]\n",
    "print(sum(p.nelement() for p in parameters))\n",
    "for p in parameters:\n",
    "    p.requires_grad = True"
   ],
   "id": "9bbee913362a892",
   "outputs": [
    {
     "name": "stdout",
     "output_type": "stream",
     "text": [
      "18567\n"
     ]
    }
   ],
   "execution_count": 14
  },
  {
   "metadata": {
    "ExecuteTime": {
     "end_time": "2025-04-14T16:31:38.001198Z",
     "start_time": "2025-04-14T16:30:52.088860Z"
    }
   },
   "cell_type": "code",
   "source": [
    "# Training\n",
    "max_steps = 200000\n",
    "batch_size = 32\n",
    "lossi = []\n",
    "\n",
    "for i in range(max_steps):\n",
    "    #minibatch\n",
    "    ix = torch.randint(0, Xtrain.shape[0], (batch_size,))\n",
    "    Xb, Yb = Xtrain[ix], Ytrain[ix]\n",
    "    #forward pass\n",
    "    emb = C[Xb]\n",
    "    embcat = emb.view(emb.shape[0], -1)\n",
    "    hpreact = embcat @ W1 + b1 # hidden layer pre activation\n",
    "    factor = (hpreact - hpreact.mean(0, keepdims=True)) / hpreact.std(0, keepdims=True)\n",
    "    hpreact = bngain * factor + bnbias\n",
    "    h = torch.tanh(hpreact)\n",
    "    logits = h @ W2 + b2\n",
    "    loss = F.cross_entropy(logits, Yb)\n",
    "    #backward pass\n",
    "    for p in parameters:\n",
    "        p.grad = None\n",
    "    loss.backward()\n",
    "\n",
    "    #update\n",
    "    #lr = 0.1 if i < 100000 else 0.01\n",
    "    lr = 0.01\n",
    "    for p in parameters:\n",
    "        p.data += -lr * p.grad\n",
    "\n",
    "    #track\n",
    "    if i % 10000 == 0:\n",
    "        print(f\"{i:7d}/{max_steps:7d}: {loss.item():.4f}\")\n",
    "    lossi.append(loss.log10().item())"
   ],
   "id": "164b0ee1bf0ab42c",
   "outputs": [
    {
     "name": "stdout",
     "output_type": "stream",
     "text": [
      "      0/ 200000: 3.3083\n",
      "  10000/ 200000: 2.2623\n",
      "  20000/ 200000: 2.1999\n",
      "  30000/ 200000: 2.7874\n",
      "  40000/ 200000: 2.5571\n",
      "  50000/ 200000: 2.6784\n",
      "  60000/ 200000: 2.1481\n",
      "  70000/ 200000: 2.1223\n",
      "  80000/ 200000: 2.2458\n",
      "  90000/ 200000: 2.3655\n",
      " 100000/ 200000: 1.8547\n",
      " 110000/ 200000: 2.3311\n",
      " 120000/ 200000: 2.1830\n",
      " 130000/ 200000: 2.1242\n",
      " 140000/ 200000: 2.3588\n",
      " 150000/ 200000: 2.0704\n",
      " 160000/ 200000: 2.1131\n",
      " 170000/ 200000: 2.7067\n",
      " 180000/ 200000: 2.2561\n",
      " 190000/ 200000: 2.0655\n"
     ]
    }
   ],
   "execution_count": 15
  },
  {
   "metadata": {
    "ExecuteTime": {
     "end_time": "2025-04-14T11:52:19.433008Z",
     "start_time": "2025-04-14T11:52:19.350638Z"
    }
   },
   "cell_type": "code",
   "source": "plt.hist(h.view(-1).tolist(), 50)",
   "id": "e32d1da6a3ae1656",
   "outputs": [
    {
     "data": {
      "text/plain": [
       "(array([1299.,  316.,  184.,  149.,  112.,  106.,   78.,   66.,   90.,\n",
       "          73.,   62.,   57.,   62.,   49.,   49.,   56.,   63.,   47.,\n",
       "          49.,   36.,   44.,   48.,   43.,   46.,   52.,   44.,   42.,\n",
       "          36.,   38.,   51.,   46.,   59.,   58.,   49.,   64.,   64.,\n",
       "          53.,   67.,   62.,   60.,   74.,   89.,   80.,   95.,   98.,\n",
       "         121.,  148.,  171.,  275., 1220.]),\n",
       " array([-9.99999881e-01, -9.59999889e-01, -9.19999897e-01, -8.79999906e-01,\n",
       "        -8.39999914e-01, -7.99999923e-01, -7.59999931e-01, -7.19999939e-01,\n",
       "        -6.79999948e-01, -6.39999956e-01, -5.99999964e-01, -5.59999973e-01,\n",
       "        -5.19999981e-01, -4.79999989e-01, -4.39999998e-01, -4.00000006e-01,\n",
       "        -3.60000014e-01, -3.20000023e-01, -2.80000031e-01, -2.40000039e-01,\n",
       "        -2.00000048e-01, -1.60000056e-01, -1.20000064e-01, -8.00000727e-02,\n",
       "        -4.00000811e-02, -8.94069672e-08,  3.99999022e-02,  7.99998939e-02,\n",
       "         1.19999886e-01,  1.59999877e-01,  1.99999869e-01,  2.39999861e-01,\n",
       "         2.79999852e-01,  3.19999844e-01,  3.59999835e-01,  3.99999827e-01,\n",
       "         4.39999819e-01,  4.79999810e-01,  5.19999802e-01,  5.59999794e-01,\n",
       "         5.99999785e-01,  6.39999777e-01,  6.79999769e-01,  7.19999760e-01,\n",
       "         7.59999752e-01,  7.99999744e-01,  8.39999735e-01,  8.79999727e-01,\n",
       "         9.19999719e-01,  9.59999710e-01,  9.99999702e-01]),\n",
       " <BarContainer object of 50 artists>)"
      ]
     },
     "execution_count": 6,
     "metadata": {},
     "output_type": "execute_result"
    },
    {
     "data": {
      "text/plain": [
       "<Figure size 640x480 with 1 Axes>"
      ],
      "image/png": "[encoded data removed]"
     },
     "metadata": {},
     "output_type": "display_data"
    }
   ],
   "execution_count": 6
  },
  {
   "metadata": {
    "ExecuteTime": {
     "end_time": "2025-04-14T11:58:38.356845Z",
     "start_time": "2025-04-14T11:58:38.115885Z"
    }
   },
   "cell_type": "code",
   "source": [
    "x = torch.randn(1000, 10)\n",
    "w = torch.randn(10, 200) / 10**0.5\n",
    "y = x @ w\n",
    "print(x.mean(), x.std())\n",
    "print(y.mean(), y.std())\n",
    "plt.figure()\n",
    "plt.subplot(121)\n",
    "plt.hist(x.view(-1).tolist(), 50, density=True)\n",
    "plt.subplot(122)\n",
    "plt.hist(y.view(-1).tolist(), 50, density=True)"
   ],
   "id": "68538ed6e81e04d7",
   "outputs": [
    {
     "name": "stdout",
     "output_type": "stream",
     "text": [
      "tensor(0.0162) tensor(1.0014)\n",
      "tensor(1.9272e-05) tensor(0.9514)\n"
     ]
    },
    {
     "data": {
      "text/plain": [
       "(array([6.91391128e-05, 6.91391128e-05, 1.38278226e-04, 2.30463709e-04,\n",
       "        4.37881048e-04, 7.83576612e-04, 1.33668952e-03, 2.41986895e-03,\n",
       "        3.80265121e-03, 6.61430846e-03, 1.12696754e-02, 1.76765665e-02,\n",
       "        2.71947177e-02, 4.15065141e-02, 6.16490423e-02, 9.01343568e-02,\n",
       "        1.36296238e-01, 1.84854941e-01, 2.47310607e-01, 3.09835411e-01,\n",
       "        3.72867236e-01, 4.21794681e-01, 4.45578536e-01, 4.43688734e-01,\n",
       "        4.08727389e-01, 3.50581395e-01, 2.83147713e-01, 2.22812314e-01,\n",
       "        1.66901818e-01, 1.16084570e-01, 8.27595181e-02, 5.50577802e-02,\n",
       "        3.62058488e-02, 2.31155101e-02, 1.47035847e-02, 8.98808467e-03,\n",
       "        5.57722177e-03, 2.83470363e-03, 1.79761693e-03, 1.10622581e-03,\n",
       "        6.22252016e-04, 2.76556451e-04, 2.07417339e-04, 1.15231855e-04,\n",
       "        4.60927419e-05, 0.00000000e+00, 0.00000000e+00, 2.30463709e-05,\n",
       "        0.00000000e+00, 2.30463709e-05]),\n",
       " array([-4.95100689, -4.73405299, -4.51709909, -4.3001452 , -4.0831913 ,\n",
       "        -3.8662374 , -3.6492835 , -3.43232961, -3.21537571, -2.99842181,\n",
       "        -2.78146791, -2.56451402, -2.34756012, -2.13060622, -1.91365232,\n",
       "        -1.69669843, -1.47974453, -1.26279063, -1.04583673, -0.82888284,\n",
       "        -0.61192894, -0.39497504, -0.17802114,  0.03893275,  0.25588665,\n",
       "         0.47284055,  0.68979445,  0.90674834,  1.12370224,  1.34065614,\n",
       "         1.55761003,  1.77456393,  1.99151783,  2.20847173,  2.42542562,\n",
       "         2.64237952,  2.85933342,  3.07628732,  3.29324121,  3.51019511,\n",
       "         3.72714901,  3.94410291,  4.1610568 ,  4.3780107 ,  4.5949646 ,\n",
       "         4.8119185 ,  5.02887239,  5.24582629,  5.46278019,  5.67973409,\n",
       "         5.89668798]),\n",
       " <BarContainer object of 50 artists>)"
      ]
     },
     "execution_count": 10,
     "metadata": {},
     "output_type": "execute_result"
    },
    {
     "data": {
      "text/plain": [
       "<Figure size 640x480 with 2 Axes>"
      ],
      "image/png": "[encoded data removed]"
     },
     "metadata": {},
     "output_type": "display_data"
    }
   ],
   "execution_count": 10
  },
  {
   "metadata": {
    "ExecuteTime": {
     "end_time": "2025-04-14T16:33:30.726049Z",
     "start_time": "2025-04-14T16:33:30.560393Z"
    }
   },
   "cell_type": "code",
   "source": [
    "@torch.no_grad()\n",
    "def split_loss(split):\n",
    "    x, y = {\n",
    "        'train': (Xtrain, Ytrain),\n",
    "        'dev': (Xdev, Ydev),\n",
    "        'test': (Xtest, Ytest)\n",
    "    }[split]\n",
    "    emb = C[x]\n",
    "    embcat = emb.view(emb.shape[0], -1)\n",
    "    hpreact = embcat @ W1 + b1\n",
    "    factor = (hpreact - hpreact.mean(0, keepdims=True)) / hpreact.std(0, keepdims=True)\n",
    "    hpreact = bngain * factor + bnbias\n",
    "    h = torch.tanh(hpreact)\n",
    "    logits = h @ W2 + b2\n",
    "    loss = F.cross_entropy(logits, y)\n",
    "    print(split, loss.item())\n",
    "\n",
    "split_loss('train')\n",
    "split_loss('dev')"
   ],
   "id": "828010a69276a615",
   "outputs": [
    {
     "name": "stdout",
     "output_type": "stream",
     "text": [
      "train 2.1091666221618652\n",
      "dev 2.148383617401123\n"
     ]
    }
   ],
   "execution_count": 16
  }
 ],
 "metadata": {
  "kernelspec": {
   "display_name": "Python 3",
   "language": "python",
   "name": "python3"
  },
  "language_info": {
   "codemirror_mode": {
    "name": "ipython",
    "version": 2
   },
   "file_extension": ".py",
   "mimetype": "text/x-python",
   "name": "python",
   "nbconvert_exporter": "python",
   "pygments_lexer": "ipython2",
   "version": "2.7.6"
  }
 },
 "nbformat": 4,
 "nbformat_minor": 5
}
