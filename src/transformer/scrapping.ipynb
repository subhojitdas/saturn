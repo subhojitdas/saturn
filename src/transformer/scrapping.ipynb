{
 "cells": [
  {
   "metadata": {},
   "cell_type": "code",
   "source": "import torch",
   "id": "74c91899454d3e4",
   "outputs": [],
   "execution_count": null
  },
  {
   "metadata": {},
   "cell_type": "code",
   "source": "!wget https://raw.githubusercontent.com/karpathy/char-rnn/master/data/tinyshakespeare/input.txt",
   "id": "97b1f11d65d30933",
   "outputs": [],
   "execution_count": null
  },
  {
   "metadata": {},
   "cell_type": "code",
   "source": [
    "with open('input.txt', 'r', encoding='utf-8') as f:\n",
    "    text = f.read()\n"
   ],
   "id": "1663fece715ca2e7",
   "outputs": [],
   "execution_count": null
  },
  {
   "metadata": {},
   "cell_type": "code",
   "source": "print(text[:1000])",
   "id": "8f279818674b1c02",
   "outputs": [],
   "execution_count": null
  },
  {
   "metadata": {
    "ExecuteTime": {
     "end_time": "2025-05-09T12:54:49.456871Z",
     "start_time": "2025-05-09T12:54:49.441671Z"
    }
   },
   "cell_type": "code",
   "source": [
    "chars = sorted(list(set(text)))\n",
    "print(''.join(chars))\n",
    "vocab_size = len(chars)\n",
    "print(vocab_size)"
   ],
   "id": "89abc55e26d2e348",
   "outputs": [
    {
     "name": "stdout",
     "output_type": "stream",
     "text": [
      "\n",
      " !$&',-.3:;?ABCDEFGHIJKLMNOPQRSTUVWXYZabcdefghijklmnopqrstuvwxyz\n",
      "65\n"
     ]
    }
   ],
   "execution_count": 30
  },
  {
   "metadata": {},
   "cell_type": "code",
   "source": [
    "stoi = {ch:i for i, ch in enumerate(chars)}\n",
    "itos = {i:ch for i, ch in enumerate(chars)}\n",
    "encode = lambda s: [stoi[xi] for xi in s]\n",
    "decode = lambda l: ''.join([itos[li] for li in l])\n",
    "\n",
    "print(encode(\"hii there\"))\n",
    "print(decode(encode(\"hii there\")))"
   ],
   "id": "d305955b31774e03",
   "outputs": [],
   "execution_count": null
  },
  {
   "metadata": {},
   "cell_type": "code",
   "source": [
    "data = torch.tensor(encode(text), dtype=torch.long)\n",
    "print(data.shape, data.dtype)\n",
    "print(data[:1000])"
   ],
   "id": "b407729c8979e4b2",
   "outputs": [],
   "execution_count": null
  },
  {
   "metadata": {
    "ExecuteTime": {
     "end_time": "2025-05-09T12:37:35.569601Z",
     "start_time": "2025-05-09T12:37:35.566662Z"
    }
   },
   "cell_type": "code",
   "source": [
    "n = int(0.9*len(data))\n",
    "train_data = data[:n]\n",
    "val_data = data[n:]"
   ],
   "id": "5ffccb190bb9257e",
   "outputs": [],
   "execution_count": 24
  },
  {
   "metadata": {
    "ExecuteTime": {
     "end_time": "2025-05-09T12:38:05.573327Z",
     "start_time": "2025-05-09T12:38:05.569382Z"
    }
   },
   "cell_type": "code",
   "source": [
    "block_size = 8\n",
    "train_data[:block_size+1]"
   ],
   "id": "d5bd60c043d804d9",
   "outputs": [
    {
     "data": {
      "text/plain": [
       "tensor([18, 47, 56, 57, 58,  1, 15, 47, 58])"
      ]
     },
     "execution_count": 25,
     "metadata": {},
     "output_type": "execute_result"
    }
   ],
   "execution_count": 25
  },
  {
   "metadata": {
    "ExecuteTime": {
     "end_time": "2025-05-09T12:39:58.213708Z",
     "start_time": "2025-05-09T12:39:58.210321Z"
    }
   },
   "cell_type": "code",
   "source": [
    "x = train_data[:block_size]\n",
    "y = train_data[1:block_size+1]\n",
    "for t in range(block_size):\n",
    "    context = x[:t+1]\n",
    "    target = y[t]\n",
    "    print(f\"context: {context}, target: {target}\")\n"
   ],
   "id": "b0e067192396212e",
   "outputs": [
    {
     "name": "stdout",
     "output_type": "stream",
     "text": [
      "context: tensor([18]), target: 47\n",
      "context: tensor([18, 47]), target: 56\n",
      "context: tensor([18, 47, 56]), target: 57\n",
      "context: tensor([18, 47, 56, 57]), target: 58\n",
      "context: tensor([18, 47, 56, 57, 58]), target: 1\n",
      "context: tensor([18, 47, 56, 57, 58,  1]), target: 15\n",
      "context: tensor([18, 47, 56, 57, 58,  1, 15]), target: 47\n",
      "context: tensor([18, 47, 56, 57, 58,  1, 15, 47]), target: 58\n"
     ]
    }
   ],
   "execution_count": 26
  },
  {
   "metadata": {
    "ExecuteTime": {
     "end_time": "2025-05-09T12:47:15.427915Z",
     "start_time": "2025-05-09T12:47:15.421410Z"
    }
   },
   "cell_type": "code",
   "source": [
    "torch.manual_seed(1337)\n",
    "batch_size = 4\n",
    "block_size = 8\n",
    "\n",
    "def get_batch(split):\n",
    "    data = train_data if split == 'train' else val_data\n",
    "    ix = torch.randint(len(data) - block_size, size=(batch_size,))\n",
    "    x = torch.stack([data[i:i+block_size] for i in ix])\n",
    "    y = torch.stack([data[i+1:i+1+block_size] for i in ix])\n",
    "    return x, y\n",
    "\n",
    "xb, yb = get_batch('train')\n",
    "print('input:')\n",
    "print(xb.shape)\n",
    "print(xb)\n",
    "print('target:')\n",
    "print(yb.shape)\n",
    "print(yb)\n",
    "\n"
   ],
   "id": "9a35e82220ce5d1e",
   "outputs": [
    {
     "name": "stdout",
     "output_type": "stream",
     "text": [
      "input:\n",
      "torch.Size([4, 8])\n",
      "tensor([[24, 43, 58,  5, 57,  1, 46, 43],\n",
      "        [44, 53, 56,  1, 58, 46, 39, 58],\n",
      "        [52, 58,  1, 58, 46, 39, 58,  1],\n",
      "        [25, 17, 27, 10,  0, 21,  1, 54]])\n",
      "target:\n",
      "torch.Size([4, 8])\n",
      "tensor([[43, 58,  5, 57,  1, 46, 43, 39],\n",
      "        [53, 56,  1, 58, 46, 39, 58,  1],\n",
      "        [58,  1, 58, 46, 39, 58,  1, 46],\n",
      "        [17, 27, 10,  0, 21,  1, 54, 39]])\n"
     ]
    }
   ],
   "execution_count": 29
  },
  {
   "metadata": {
    "ExecuteTime": {
     "end_time": "2025-05-09T13:13:39.490968Z",
     "start_time": "2025-05-09T13:13:39.477614Z"
    }
   },
   "cell_type": "code",
   "source": [
    "import torch\n",
    "import torch.nn as nn\n",
    "import torch.nn.functional as F\n",
    "\n",
    "torch.manual_seed(1806)\n",
    "\n",
    "class NotABigramLanguageModel(nn.Module):\n",
    "    def __init__(self, vocab_size):\n",
    "        super().__init__()\n",
    "        self.token_embedding_table = nn.Embedding(vocab_size, vocab_size)\n",
    "\n",
    "    def forward(self, idx, targets=None):\n",
    "\n",
    "        logits = self.token_embedding_table(idx) # (B, T, C)\n",
    "\n",
    "        #loss\n",
    "        if targets is None:\n",
    "            loss = None\n",
    "        else:\n",
    "            B, T, C = logits.shape\n",
    "            logits = logits.view(B*T, C)\n",
    "            targets = targets.view(B*T)\n",
    "            loss = F.cross_entropy(logits, targets)\n",
    "\n",
    "        return logits, loss\n",
    "\n",
    "    #generation\n",
    "    def generate(self, idx, max_new_tokens):\n",
    "        for i in range(max_new_tokens):\n",
    "            logits, loss = self(idx) # logits => (B,T,C)\n",
    "            logits = logits[:,-1,:] # (B,C)\n",
    "            probs = F.softmax(logits, dim=-1) #(B,C)\n",
    "            idx_next = torch.multinomial(probs, num_samples=1) # (B,1)\n",
    "            idx = torch.cat((idx, idx_next), dim=1) # (B, T+1)\n",
    "        return idx\n",
    "\n",
    "\n",
    "\n",
    "\n",
    "\n",
    "\n",
    "model = NotABigramLanguageModel(vocab_size)\n",
    "logits, loss = model(xb, yb)\n",
    "print(logits.shape)\n",
    "print(loss)\n",
    "idx = torch.zeros((1,1), dtype=torch.long)\n",
    "print(decode(model.generate(idx, max_new_tokens=100)[0].tolist()))\n"
   ],
   "id": "4b3aa12d162505dd",
   "outputs": [
    {
     "name": "stdout",
     "output_type": "stream",
     "text": [
      "torch.Size([32, 65])\n",
      "tensor(4.6904, grad_fn=<NllLossBackward0>)\n",
      "\n",
      "qBYlEb--?EhH\n",
      "aYmJKATR-C,nUmGTVh3GSe,Ew;x,IymMs- $FFqUAXesZ\n",
      "jNBKWN&-Xa'EHnQ?jviNhHQufeZfJYr?GSEdhJRCj\n"
     ]
    }
   ],
   "execution_count": 41
  },
  {
   "metadata": {
    "ExecuteTime": {
     "end_time": "2025-05-09T13:14:28.663456Z",
     "start_time": "2025-05-09T13:14:28.026691Z"
    }
   },
   "cell_type": "code",
   "source": "optimizer = torch.optim.AdamW(model.parameters(), lr=0.001)",
   "id": "c62697fa296dee48",
   "outputs": [],
   "execution_count": 42
  },
  {
   "metadata": {
    "ExecuteTime": {
     "end_time": "2025-05-09T13:17:17.188088Z",
     "start_time": "2025-05-09T13:17:13.337409Z"
    }
   },
   "cell_type": "code",
   "source": [
    "batch_size = 32\n",
    "for step in range(10000):\n",
    "    xb, yb = get_batch('train')\n",
    "\n",
    "    #loss\n",
    "    logits, loss = model(xb, yb)\n",
    "    optimizer.zero_grad()\n",
    "    loss.backward()\n",
    "    optimizer.step()\n",
    "\n",
    "print(loss.item())\n"
   ],
   "id": "2a3192bcbe705f63",
   "outputs": [
    {
     "name": "stdout",
     "output_type": "stream",
     "text": [
      "2.3442633152008057\n"
     ]
    }
   ],
   "execution_count": 53
  },
  {
   "metadata": {
    "ExecuteTime": {
     "end_time": "2025-05-09T13:17:30.570404Z",
     "start_time": "2025-05-09T13:17:30.554181Z"
    }
   },
   "cell_type": "code",
   "source": [
    "idx = torch.zeros((1,1), dtype=torch.long)\n",
    "print(decode(model.generate(idx, max_new_tokens=500)[0].tolist()))"
   ],
   "id": "8d6d07de2fed768c",
   "outputs": [
    {
     "name": "stdout",
     "output_type": "stream",
     "text": [
      "\n",
      "Whindicere the by, mur ply ctabrerthe, AUKIOMy th ilende EGomu tote,\n",
      "LENG me to nd nd d l, t hel rt tike llin he t, asthel hotuscharengeviver l thit myo oullers IUpe serayomen in be,\n",
      "Cand d cke t,\n",
      "ava t s heal O: bed ch ay,\n",
      "Folico'd bee bhealavig LAn tot be gnconghthid If Sthe llur twheeneapis rouns LOPouriscot alak, h banut yoce sivende, me nd ucorve se al, n y mucouimo nd?e sureind oofrt It tatene'd.\n",
      "The in t g eand d mprsmed?\n",
      "ARow aid\n",
      "Hoy, merpowexademea enem.\n",
      "APr bupere aen? t y m he l'e RES\n"
     ]
    }
   ],
   "execution_count": 54
  },
  {
   "metadata": {},
   "cell_type": "code",
   "outputs": [],
   "execution_count": null,
   "source": "",
   "id": "ecabeba37a6b648e"
  }
 ],
 "metadata": {
  "kernelspec": {
   "display_name": "Python 3",
   "language": "python",
   "name": "python3"
  },
  "language_info": {
   "codemirror_mode": {
    "name": "ipython",
    "version": 2
   },
   "file_extension": ".py",
   "mimetype": "text/x-python",
   "name": "python",
   "nbconvert_exporter": "python",
   "pygments_lexer": "ipython2",
   "version": "2.7.6"
  }
 },
 "nbformat": 4,
 "nbformat_minor": 5
}
