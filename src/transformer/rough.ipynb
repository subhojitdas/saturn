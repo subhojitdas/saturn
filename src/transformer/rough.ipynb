{
 "cells": [
  {
   "cell_type": "code",
   "id": "initial_id",
   "metadata": {
    "collapsed": true,
    "ExecuteTime": {
     "end_time": "2025-05-26T18:04:09.275902Z",
     "start_time": "2025-05-26T18:04:08.526343Z"
    }
   },
   "source": "import torch",
   "outputs": [],
   "execution_count": 1
  },
  {
   "metadata": {
    "ExecuteTime": {
     "end_time": "2025-05-26T18:04:26.625820Z",
     "start_time": "2025-05-26T18:04:26.622263Z"
    }
   },
   "cell_type": "code",
   "source": "a = torch.tril(torch.ones(3, 3))",
   "id": "f7cf07f92075909",
   "outputs": [],
   "execution_count": 3
  },
  {
   "metadata": {
    "ExecuteTime": {
     "end_time": "2025-05-26T18:05:04.222551Z",
     "start_time": "2025-05-26T18:05:04.219014Z"
    }
   },
   "cell_type": "code",
   "source": "torch.sum(a, dim=1, keepdim=True)",
   "id": "592ca8909267ee83",
   "outputs": [
    {
     "data": {
      "text/plain": [
       "tensor([[1.],\n",
       "        [2.],\n",
       "        [3.]])"
      ]
     },
     "execution_count": 5,
     "metadata": {},
     "output_type": "execute_result"
    }
   ],
   "execution_count": 5
  },
  {
   "metadata": {
    "ExecuteTime": {
     "end_time": "2025-05-26T18:05:24.602591Z",
     "start_time": "2025-05-26T18:05:24.598194Z"
    }
   },
   "cell_type": "code",
   "source": [
    "a = a/ torch.sum(a, dim=1, keepdim=True)\n",
    "a"
   ],
   "id": "6be4d01f1a96a46e",
   "outputs": [
    {
     "data": {
      "text/plain": [
       "tensor([[1.0000, 0.0000, 0.0000],\n",
       "        [0.5000, 0.5000, 0.0000],\n",
       "        [0.3333, 0.3333, 0.3333]])"
      ]
     },
     "execution_count": 6,
     "metadata": {},
     "output_type": "execute_result"
    }
   ],
   "execution_count": 6
  },
  {
   "metadata": {},
   "cell_type": "code",
   "outputs": [],
   "execution_count": null,
   "source": "",
   "id": "a85225d7731e3f96"
  }
 ],
 "metadata": {
  "kernelspec": {
   "display_name": "Python 3",
   "language": "python",
   "name": "python3"
  },
  "language_info": {
   "codemirror_mode": {
    "name": "ipython",
    "version": 2
   },
   "file_extension": ".py",
   "mimetype": "text/x-python",
   "name": "python",
   "nbconvert_exporter": "python",
   "pygments_lexer": "ipython2",
   "version": "2.7.6"
  }
 },
 "nbformat": 4,
 "nbformat_minor": 5
}
