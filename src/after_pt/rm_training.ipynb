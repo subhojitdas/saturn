{
 "cells": [
  {
   "cell_type": "code",
   "id": "initial_id",
   "metadata": {
    "collapsed": true,
    "ExecuteTime": {
     "end_time": "2025-06-16T10:02:44.751241Z",
     "start_time": "2025-06-16T10:02:42.259484Z"
    }
   },
   "source": [
    "import torch\n",
    "import torch.optim as optim\n",
    "from torch.utils.data import Dataset, DataLoader\n",
    "from transformers import AutoTokenizer"
   ],
   "outputs": [
    {
     "name": "stderr",
     "output_type": "stream",
     "text": [
      "/Users/subhojit/workspace/saturn/.venv/lib/python3.9/site-packages/urllib3/__init__.py:35: NotOpenSSLWarning: urllib3 v2 only supports OpenSSL 1.1.1+, currently the 'ssl' module is compiled with 'LibreSSL 2.8.3'. See: https://github.com/urllib3/urllib3/issues/3020\n",
      "  warnings.warn(\n",
      "/Users/subhojit/workspace/saturn/.venv/lib/python3.9/site-packages/tqdm/auto.py:21: TqdmWarning: IProgress not found. Please update jupyter and ipywidgets. See https://ipywidgets.readthedocs.io/en/stable/user_install.html\n",
      "  from .autonotebook import tqdm as notebook_tqdm\n"
     ]
    }
   ],
   "execution_count": 3
  },
  {
   "metadata": {
    "ExecuteTime": {
     "end_time": "2025-06-16T10:02:49.667290Z",
     "start_time": "2025-06-16T10:02:49.258736Z"
    }
   },
   "cell_type": "code",
   "source": [
    "import os, sys\n",
    "project_root = os.path.abspath('/Users/subhojit/workspace/saturn/src')\n",
    "if project_root not in sys.path:\n",
    "    sys.path.append(project_root)\n",
    "\n",
    "from reward_model import RewardModel\n",
    "from dataloader import PreferenceDatasetLite\n",
    "import matplotlib.pyplot as plt\n",
    "%matplotlib inline"
   ],
   "id": "cb01d0de3c5577f7",
   "outputs": [],
   "execution_count": 4
  },
  {
   "metadata": {
    "ExecuteTime": {
     "end_time": "2025-06-16T10:02:51.423808Z",
     "start_time": "2025-06-16T10:02:51.420239Z"
    }
   },
   "cell_type": "code",
   "source": [
    "def pairwise_reward_loss(chosen_rewards, rejected_rewards):\n",
    "    return -torch.nn.functional.logsigmoid(chosen_rewards - rejected_rewards).mean()"
   ],
   "id": "4f2dc38e7162cc33",
   "outputs": [],
   "execution_count": 5
  },
  {
   "metadata": {
    "ExecuteTime": {
     "end_time": "2025-06-16T10:05:39.180265Z",
     "start_time": "2025-06-16T10:05:36.964246Z"
    }
   },
   "cell_type": "code",
   "source": [
    "tokenizer = AutoTokenizer.from_pretrained('gpt2')\n",
    "data = []\n",
    "dataset = PreferenceDatasetLite(data, tokenizer)\n",
    "loader = DataLoader(dataset, batch_size=1)\n",
    "\n",
    "model = RewardModel('gpt2')\n",
    "optimizer = optim.AdamW(model.parameters(), lr=1e-5)\n",
    "\n",
    "for epoch in range(3):\n",
    "    for chosen, rejected in loader:\n",
    "        chosen_reward = model(**{k: v.squeeze(0) for k, v in chosen.items()})\n",
    "        rejected_reward = model(**{k: v.squeeze(0) for k, v in rejected.items()})\n",
    "\n",
    "        loss = pairwise_reward_loss(chosen_reward, rejected_reward)\n",
    "\n",
    "        optimizer.zero_grad()\n",
    "        loss.backward()\n",
    "        optimizer.step()\n"
   ],
   "id": "3f34b0b43ec5845a",
   "outputs": [],
   "execution_count": 7
  },
  {
   "metadata": {},
   "cell_type": "code",
   "outputs": [],
   "execution_count": null,
   "source": "",
   "id": "62307b1390fb5198"
  }
 ],
 "metadata": {
  "kernelspec": {
   "display_name": "Python 3",
   "language": "python",
   "name": "python3"
  },
  "language_info": {
   "codemirror_mode": {
    "name": "ipython",
    "version": 2
   },
   "file_extension": ".py",
   "mimetype": "text/x-python",
   "name": "python",
   "nbconvert_exporter": "python",
   "pygments_lexer": "ipython2",
   "version": "2.7.6"
  }
 },
 "nbformat": 4,
 "nbformat_minor": 5
}
