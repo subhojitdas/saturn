{
 "cells": [
  {
   "cell_type": "code",
   "id": "initial_id",
   "metadata": {
    "collapsed": true,
    "ExecuteTime": {
     "end_time": "2025-06-29T09:22:24.781904Z",
     "start_time": "2025-06-29T09:22:24.780279Z"
    }
   },
   "source": "import numpy as np",
   "outputs": [],
   "execution_count": 1
  },
  {
   "metadata": {
    "ExecuteTime": {
     "end_time": "2025-06-29T09:23:03.599317Z",
     "start_time": "2025-06-29T09:23:03.593753Z"
    }
   },
   "cell_type": "code",
   "source": [
    "samples = np.random.exponential(scale=1.0, size=10000)\n",
    "expected_value = np.mean(samples)\n",
    "samples"
   ],
   "id": "dcc5ee4f05972455",
   "outputs": [
    {
     "data": {
      "text/plain": [
       "array([2.01185881, 0.76079296, 0.03875367, ..., 0.87916011, 0.27968904,\n",
       "       0.383941  ])"
      ]
     },
     "execution_count": 2,
     "metadata": {},
     "output_type": "execute_result"
    }
   ],
   "execution_count": 2
  },
  {
   "metadata": {
    "ExecuteTime": {
     "end_time": "2025-06-29T09:27:51.974637Z",
     "start_time": "2025-06-29T09:27:51.971058Z"
    }
   },
   "cell_type": "code",
   "source": [
    "a = 2.0\n",
    "lhs = np.mean(samples >= a) # it calculates the fraction of samples which is >= a => P(X >= a)\n",
    "rhs = expected_value / a\n",
    "\n",
    "print(\"Markov's Inequality\")\n",
    "print(f\"P(X >= {a}) = {lhs:.4f}, E[X]/a = {rhs:.4f}, Inequality holds: {lhs <= rhs}\")"
   ],
   "id": "a2fa134c2dd22c58",
   "outputs": [
    {
     "name": "stdout",
     "output_type": "stream",
     "text": [
      "Markov's Inequality\n",
      "P(X >= 2.0) = 0.1318, E[X]/a = 0.4953, Inequality holds: True\n"
     ]
    }
   ],
   "execution_count": 4
  },
  {
   "metadata": {
    "ExecuteTime": {
     "end_time": "2025-06-29T09:31:54.872893Z",
     "start_time": "2025-06-29T09:31:54.867786Z"
    }
   },
   "cell_type": "code",
   "source": [
    "samples = np.random.normal(loc=0.0, scale=1.0, size=10000)\n",
    "expected_value = np.mean(samples)\n",
    "std = np.std(samples)\n",
    "\n",
    "k = 2\n",
    "lhs = np.mean(np.abs(samples - expected_value) >= k * std) # P(|X - mu| >= k*std)\n",
    "rhs = 1 / k ** 2\n",
    "print(\"\\nChebyshev's Inequality\")\n",
    "print(f\"P(|X - mu| >= {k}σ) = {lhs:.4f}, Bound = {rhs:.4f}, Inequality holds: {lhs <= rhs}\")\n"
   ],
   "id": "7c8b613e6d9c0f94",
   "outputs": [
    {
     "name": "stdout",
     "output_type": "stream",
     "text": [
      "\n",
      "Chebyshev's Inequality\n",
      "P(|X - mu| >= 2σ) = 0.0463, Bound = 0.2500, Inequality holds: True\n"
     ]
    }
   ],
   "execution_count": 5
  },
  {
   "metadata": {},
   "cell_type": "code",
   "outputs": [],
   "execution_count": null,
   "source": "",
   "id": "afed48ba2622e55e"
  }
 ],
 "metadata": {
  "kernelspec": {
   "display_name": "Python 3",
   "language": "python",
   "name": "python3"
  },
  "language_info": {
   "codemirror_mode": {
    "name": "ipython",
    "version": 2
   },
   "file_extension": ".py",
   "mimetype": "text/x-python",
   "name": "python",
   "nbconvert_exporter": "python",
   "pygments_lexer": "ipython2",
   "version": "2.7.6"
  }
 },
 "nbformat": 4,
 "nbformat_minor": 5
}
