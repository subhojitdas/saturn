{
 "cells": [
  {
   "cell_type": "code",
   "id": "initial_id",
   "metadata": {
    "collapsed": true,
    "ExecuteTime": {
     "end_time": "2025-04-20T14:14:45.379699Z",
     "start_time": "2025-04-20T14:14:45.376921Z"
    }
   },
   "source": [
    "import numpy as np\n",
    "import pickle\n"
   ],
   "outputs": [],
   "execution_count": 12
  },
  {
   "metadata": {
    "ExecuteTime": {
     "end_time": "2025-04-20T14:24:10.338742Z",
     "start_time": "2025-04-20T14:24:10.274825Z"
    }
   },
   "cell_type": "code",
   "source": [
    "def load_cifar_batch(file_path):\n",
    "    with open(file_path, 'rb') as f:\n",
    "        batch = pickle.load(f, encoding='bytes')\n",
    "        data = batch[b'data']\n",
    "        labels = batch[b'labels']\n",
    "        # cifar-10 stores raw vector 3072 bytes. reshaping to 3 channel * 32 height * 32 width\n",
    "        images = data.reshape(-1, 3, 32, 32).transpose(0, 2, 3, 1)\n",
    "        return data, np.array(labels)\n",
    "\n",
    "\n",
    "def load_cifar_10_dataset(file_directory):\n",
    "\n",
    "    train_images = []\n",
    "    train_labels = []\n",
    "    for i in range(1, 6, 1):\n",
    "        images, labels = load_cifar_batch(f\"{file_directory}/data_batch_{i}\")\n",
    "        train_images.append(images)\n",
    "        train_labels.append(labels)\n",
    "    Xtrain = np.concatenate(train_images)\n",
    "    Ytrain = np.concatenate(train_labels)\n",
    "\n",
    "    Xtest, Ytest = load_cifar_batch(f\"{file_directory}/test_batch\")\n",
    "\n",
    "    return Xtrain, Ytrain, Xtest, Ytest\n",
    "\n",
    "\n",
    "\n",
    "Xtrain, ytrain, Xtest, ytest = load_cifar_10_dataset('/Users/subhojit/Downloads/cifar-10-batches-py')\n",
    "Xtrain.shape, ytrain.shape, Xtest.shape, ytest.shape\n"
   ],
   "id": "21f38b08565d064a",
   "outputs": [
    {
     "data": {
      "text/plain": [
       "((50000, 3072), (50000,), (10000, 3072), (10000,))"
      ]
     },
     "execution_count": 16,
     "metadata": {},
     "output_type": "execute_result"
    }
   ],
   "execution_count": 16
  },
  {
   "metadata": {
    "ExecuteTime": {
     "end_time": "2025-04-20T14:24:37.337737Z",
     "start_time": "2025-04-20T14:24:37.335032Z"
    }
   },
   "cell_type": "code",
   "source": "Xtest[10, :]",
   "id": "7e5adcc732517de9",
   "outputs": [
    {
     "data": {
      "text/plain": [
       "array([ 90,  90,  91, ..., 148, 146, 146], dtype=uint8)"
      ]
     },
     "execution_count": 21,
     "metadata": {},
     "output_type": "execute_result"
    }
   ],
   "execution_count": 21
  },
  {
   "metadata": {
    "ExecuteTime": {
     "end_time": "2025-04-20T14:25:21.424238Z",
     "start_time": "2025-04-20T14:25:21.372813Z"
    }
   },
   "cell_type": "code",
   "source": "np.abs(Xtrain - Xtest[10,:])",
   "id": "a470a81b52396aef",
   "outputs": [
    {
     "data": {
      "text/plain": [
       "array([[225, 209, 215, ..., 248, 194, 182],\n",
       "       [ 64,  36,  14, ..., 247, 252, 254],\n",
       "       [165, 163, 162, ..., 191, 193, 194],\n",
       "       ...,\n",
       "       [201, 206, 207, ..., 185, 176, 160],\n",
       "       [ 99,  96,  94, ...,  21,  25,  25],\n",
       "       [139, 146, 143, ...,  25,  16,  15]], dtype=uint8)"
      ]
     },
     "execution_count": 22,
     "metadata": {},
     "output_type": "execute_result"
    }
   ],
   "execution_count": 22
  },
  {
   "metadata": {
    "ExecuteTime": {
     "end_time": "2025-04-20T17:36:32.442739Z",
     "start_time": "2025-04-20T17:36:32.437753Z"
    }
   },
   "cell_type": "code",
   "source": [
    "a = np.random.randint(1, 10, size=(2,3))\n",
    "b = np.random.randint(1, 10, size=(3,4))\n",
    "c = np.dot(a, b)\n",
    "c"
   ],
   "id": "599aeccc265a3e70",
   "outputs": [
    {
     "data": {
      "text/plain": [
       "array([[47, 76, 47, 64],\n",
       "       [42, 59, 37, 53]])"
      ]
     },
     "execution_count": 27,
     "metadata": {},
     "output_type": "execute_result"
    }
   ],
   "execution_count": 27
  },
  {
   "metadata": {},
   "cell_type": "code",
   "outputs": [],
   "execution_count": null,
   "source": "",
   "id": "b343f639840ec0c"
  }
 ],
 "metadata": {
  "kernelspec": {
   "display_name": "Python 3",
   "language": "python",
   "name": "python3"
  },
  "language_info": {
   "codemirror_mode": {
    "name": "ipython",
    "version": 2
   },
   "file_extension": ".py",
   "mimetype": "text/x-python",
   "name": "python",
   "nbconvert_exporter": "python",
   "pygments_lexer": "ipython2",
   "version": "2.7.6"
  }
 },
 "nbformat": 4,
 "nbformat_minor": 5
}
