{
 "cells": [
  {
   "cell_type": "code",
   "id": "initial_id",
   "metadata": {
    "collapsed": true,
    "ExecuteTime": {
     "end_time": "2025-04-26T14:45:03.382090Z",
     "start_time": "2025-04-26T14:45:03.173043Z"
    }
   },
   "source": [
    "import numpy as np\n",
    "import matplotlib.pyplot as plt\n",
    "import os\n",
    "import sys\n",
    "import importlib\n",
    "\n",
    "from convnet.struct.loss import SoftmaxCrossEntropyLoss\n",
    "\n",
    "project_root = os.path.abspath('/Users/subhojit/workspace/saturn/src')\n",
    "if project_root not in sys.path:\n",
    "    sys.path.append(project_root)\n",
    "import convnet.struct\n",
    "from convnet.data_loader import CIFAR_10_DataLoader\n",
    "from convnet.struct.layers import Linear, ReLU, Model, BatchNorm1d\n",
    "from convnet.struct.conv_layer import SimpleConvNet, MaxPoolingConvNet\n",
    "\n",
    "importlib.reload(convnet.struct.layers)\n",
    "\n",
    "%matplotlib inline"
   ],
   "outputs": [],
   "execution_count": 1
  },
  {
   "metadata": {
    "ExecuteTime": {
     "end_time": "2025-04-26T14:45:03.594373Z",
     "start_time": "2025-04-26T14:45:03.384753Z"
    }
   },
   "cell_type": "code",
   "source": [
    "file_directory = '/Users/subhojit/Downloads/cifar-10-batches-py'\n",
    "cdl = CIFAR_10_DataLoader()\n",
    "xtrain_data, ytrain_data, Xtest, ytest = cdl.load_cifar_10_dataset(file_directory)\n",
    "xtrain_data = xtrain_data.reshape(-1, 32, 32, 3)\n",
    "Xtest = Xtest.reshape(-1, 32, 32, 3)\n",
    "\n",
    "xtrain_data = xtrain_data.astype('float32') / 255.0\n",
    "Xtest = Xtest.astype('float32') / 255.0\n",
    "\n",
    "# np.random.shuffle(Xtrain)\n",
    "n1 = int(0.8 * len(xtrain_data))\n",
    "Xtrain = xtrain_data[:n1]\n",
    "ytrain = ytrain_data[:n1]\n",
    "Xdev = xtrain_data[n1:]\n",
    "ydev = ytrain_data[n1:]\n",
    "\n",
    "num_classes = len(set(ytrain))\n"
   ],
   "id": "d163d3d8927ff75a",
   "outputs": [],
   "execution_count": 2
  },
  {
   "metadata": {
    "ExecuteTime": {
     "end_time": "2025-04-26T14:45:03.657805Z",
     "start_time": "2025-04-26T14:45:03.656181Z"
    }
   },
   "cell_type": "code",
   "source": [
    "image_depth = 3\n",
    "first_layer_kernel_size = 6\n",
    "second_layer_kernel_size = 10"
   ],
   "id": "e7d70b5e15d7c668",
   "outputs": [],
   "execution_count": 3
  },
  {
   "metadata": {
    "ExecuteTime": {
     "end_time": "2025-04-26T14:45:41.492014Z",
     "start_time": "2025-04-26T14:45:41.487442Z"
    }
   },
   "cell_type": "code",
   "source": [
    "class GolemCNN:\n",
    "\n",
    "    def __init__(self):\n",
    "        self.conv1 = SimpleConvNet(kernel_size=6, depth=image_depth, spatial_dim=5)\n",
    "        self.relu1 = ReLU()\n",
    "        self.maxpool1 = MaxPoolingConvNet(spatial_dim=2, stride=2)\n",
    "\n",
    "        self.conv2 = SimpleConvNet(kernel_size=second_layer_kernel_size, depth=first_layer_kernel_size, spatial_dim=5)\n",
    "        self.relu2 = ReLU()\n",
    "        self.maxpool2 = MaxPoolingConvNet(spatial_dim=2, stride=2)\n",
    "\n",
    "        fc_fan_in = second_layer_kernel_size * 5 * 5\n",
    "        self.fc1 = Linear(fc_fan_in, num_classes)\n",
    "\n",
    "    def forward(self, x):\n",
    "        out = self.conv1.forward(x)\n",
    "        out = self.relu1.forward(out)\n",
    "        out = self.maxpool1.forward(out)\n",
    "\n",
    "        out = self.conv2.forward(out)\n",
    "        out = self.relu2.forward(out)\n",
    "        out = self.maxpool2.forward(out)\n",
    "\n",
    "        out = out.reshape(out.shape[0], -1) # flatten\n",
    "        out = self.fc1.forward(out)\n",
    "        return out\n",
    "\n",
    "    def backward(self, dout):\n",
    "        dout = self.fc1.backward(dout)\n",
    "        dout = dout.reshape(self.maxpool2.pooled_out.shape)\n",
    "        dout = self.maxpool2.backward(dout)\n",
    "        dout = self.relu2.backward(dout)\n",
    "        dout = self.conv2.backward(dout)\n",
    "        dout = self.maxpool1.backward(dout)\n",
    "        dout = self.relu1.backward(dout)\n",
    "        dout = self.conv1.backward(dout)\n",
    "        return dout\n",
    "\n",
    "    def update_parameters(self, learning_rate):\n",
    "        self.conv1.update_parameters(learning_rate)\n",
    "        self.conv2.update_parameters(learning_rate)\n",
    "        self.fc1.update_param(learning_rate)"
   ],
   "id": "20bd543e0cb4a3db",
   "outputs": [],
   "execution_count": 6
  },
  {
   "metadata": {
    "ExecuteTime": {
     "end_time": "2025-04-26T14:50:07.869018Z",
     "start_time": "2025-04-26T14:45:44.025908Z"
    }
   },
   "cell_type": "code",
   "source": [
    "max_iterations = 1000\n",
    "batch_size = 128\n",
    "lossi = []\n",
    "Hs = []\n",
    "\n",
    "model = GolemCNN()\n",
    "loss_criteria = SoftmaxCrossEntropyLoss()\n",
    "\n",
    "for i in range(max_iterations):\n",
    "\n",
    "    #mini batch\n",
    "    ix = np.random.randint(0, Xtrain.shape[0], (batch_size,))\n",
    "    Xb, Yb = Xtrain[ix], ytrain[ix]\n",
    "\n",
    "    logits = model.forward(Xb)\n",
    "    loss = loss_criteria.forward(logits, Yb)\n",
    "    lossi.append(loss)\n",
    "\n",
    "    logits_grad = loss_criteria.backward()\n",
    "    model.backward(logits_grad)\n",
    "\n",
    "    lr = 0.1\n",
    "    model.update_parameters(lr)\n",
    "\n",
    "    if i % 100 == 0:\n",
    "        print(f\"loss: {loss}\")\n"
   ],
   "id": "61f56bf74cc887ae",
   "outputs": [
    {
     "name": "stdout",
     "output_type": "stream",
     "text": [
      "loss: 16.727725815225398\n"
     ]
    },
    {
     "ename": "KeyboardInterrupt",
     "evalue": "",
     "output_type": "error",
     "traceback": [
      "\u001B[0;31m---------------------------------------------------------------------------\u001B[0m",
      "\u001B[0;31mKeyboardInterrupt\u001B[0m                         Traceback (most recent call last)",
      "Cell \u001B[0;32mIn[7], line 20\u001B[0m\n\u001B[1;32m     17\u001B[0m lossi\u001B[38;5;241m.\u001B[39mappend(loss)\n\u001B[1;32m     19\u001B[0m logits_grad \u001B[38;5;241m=\u001B[39m loss_criteria\u001B[38;5;241m.\u001B[39mbackward()\n\u001B[0;32m---> 20\u001B[0m \u001B[43mmodel\u001B[49m\u001B[38;5;241;43m.\u001B[39;49m\u001B[43mbackward\u001B[49m\u001B[43m(\u001B[49m\u001B[43mlogits_grad\u001B[49m\u001B[43m)\u001B[49m\n\u001B[1;32m     22\u001B[0m lr \u001B[38;5;241m=\u001B[39m \u001B[38;5;241m0.1\u001B[39m\n\u001B[1;32m     23\u001B[0m model\u001B[38;5;241m.\u001B[39mupdate_parameters(lr)\n",
      "Cell \u001B[0;32mIn[6], line 36\u001B[0m, in \u001B[0;36mGolemCNN.backward\u001B[0;34m(self, dout)\u001B[0m\n\u001B[1;32m     34\u001B[0m dout \u001B[38;5;241m=\u001B[39m \u001B[38;5;28mself\u001B[39m\u001B[38;5;241m.\u001B[39mmaxpool1\u001B[38;5;241m.\u001B[39mbackward(dout)\n\u001B[1;32m     35\u001B[0m dout \u001B[38;5;241m=\u001B[39m \u001B[38;5;28mself\u001B[39m\u001B[38;5;241m.\u001B[39mrelu1\u001B[38;5;241m.\u001B[39mbackward(dout)\n\u001B[0;32m---> 36\u001B[0m dout \u001B[38;5;241m=\u001B[39m \u001B[38;5;28;43mself\u001B[39;49m\u001B[38;5;241;43m.\u001B[39;49m\u001B[43mconv1\u001B[49m\u001B[38;5;241;43m.\u001B[39;49m\u001B[43mbackward\u001B[49m\u001B[43m(\u001B[49m\u001B[43mdout\u001B[49m\u001B[43m)\u001B[49m\n\u001B[1;32m     37\u001B[0m \u001B[38;5;28;01mreturn\u001B[39;00m dout\n",
      "File \u001B[0;32m~/workspace/saturn/src/convnet/struct/conv_layer.py:58\u001B[0m, in \u001B[0;36mSimpleConvNet.backward\u001B[0;34m(self, dout)\u001B[0m\n\u001B[1;32m     56\u001B[0m                 db[k] \u001B[38;5;241m+\u001B[39m\u001B[38;5;241m=\u001B[39m dout[n, i, j, k]\n\u001B[1;32m     57\u001B[0m                 dW[k] \u001B[38;5;241m+\u001B[39m\u001B[38;5;241m=\u001B[39m patch \u001B[38;5;241m*\u001B[39m dout[n, i, j, k]\n\u001B[0;32m---> 58\u001B[0m                 dx[n, i_start:i_start\u001B[38;5;241m+\u001B[39m\u001B[38;5;28mself\u001B[39m\u001B[38;5;241m.\u001B[39mspatial_dim, j_start:j_start\u001B[38;5;241m+\u001B[39m\u001B[38;5;28mself\u001B[39m\u001B[38;5;241m.\u001B[39mspatial_dim, :] \u001B[38;5;241m+\u001B[39m\u001B[38;5;241m=\u001B[39m \u001B[43mkernel\u001B[49m\u001B[43m \u001B[49m\u001B[38;5;241;43m*\u001B[39;49m\u001B[43m \u001B[49m\u001B[43mdout\u001B[49m\u001B[43m[\u001B[49m\u001B[43mn\u001B[49m\u001B[43m,\u001B[49m\u001B[43m \u001B[49m\u001B[43mi\u001B[49m\u001B[43m,\u001B[49m\u001B[43m \u001B[49m\u001B[43mj\u001B[49m\u001B[43m,\u001B[49m\u001B[43m \u001B[49m\u001B[43mk\u001B[49m\u001B[43m]\u001B[49m\n\u001B[1;32m     60\u001B[0m \u001B[38;5;28mself\u001B[39m\u001B[38;5;241m.\u001B[39mdW \u001B[38;5;241m=\u001B[39m dW\n\u001B[1;32m     61\u001B[0m \u001B[38;5;28mself\u001B[39m\u001B[38;5;241m.\u001B[39mdb \u001B[38;5;241m=\u001B[39m db\n",
      "\u001B[0;31mKeyboardInterrupt\u001B[0m: "
     ]
    }
   ],
   "execution_count": 7
  },
  {
   "metadata": {},
   "cell_type": "code",
   "outputs": [],
   "execution_count": null,
   "source": "",
   "id": "f760c67a586a63f8"
  }
 ],
 "metadata": {
  "kernelspec": {
   "display_name": "Python 3",
   "language": "python",
   "name": "python3"
  },
  "language_info": {
   "codemirror_mode": {
    "name": "ipython",
    "version": 2
   },
   "file_extension": ".py",
   "mimetype": "text/x-python",
   "name": "python",
   "nbconvert_exporter": "python",
   "pygments_lexer": "ipython2",
   "version": "2.7.6"
  }
 },
 "nbformat": 4,
 "nbformat_minor": 5
}
