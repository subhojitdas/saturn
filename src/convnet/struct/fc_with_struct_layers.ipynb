{
 "cells": [
  {
   "metadata": {
    "ExecuteTime": {
     "end_time": "2025-04-25T10:44:47.815046Z",
     "start_time": "2025-04-25T10:44:47.612623Z"
    }
   },
   "cell_type": "code",
   "source": [
    "import numpy as np\n",
    "import matplotlib.pyplot as plt\n",
    "import os\n",
    "import sys\n",
    "import importlib\n",
    "\n",
    "from convnet.struct.loss import SoftmaxCrossEntropyLoss\n",
    "\n",
    "project_root = os.path.abspath('/Users/subhojit/workspace/saturn/src')\n",
    "if project_root not in sys.path:\n",
    "    sys.path.append(project_root)\n",
    "import convnet.struct\n",
    "from convnet.data_loader import CIFAR_10_DataLoader\n",
    "from convnet.struct.layers import Linear, ReLU, Model\n",
    "\n",
    "importlib.reload(convnet.struct.layers)\n",
    "\n",
    "%matplotlib inline"
   ],
   "id": "707511d2d36a260d",
   "outputs": [],
   "execution_count": 1
  },
  {
   "metadata": {
    "ExecuteTime": {
     "end_time": "2025-04-25T10:47:38.957502Z",
     "start_time": "2025-04-25T10:47:38.735636Z"
    }
   },
   "cell_type": "code",
   "source": [
    "file_directory = '/Users/subhojit/Downloads/cifar-10-batches-py'\n",
    "cdl = CIFAR_10_DataLoader()\n",
    "xtrain_data, ytrain_data, Xtest, ytest = cdl.load_cifar_10_dataset(file_directory)\n",
    "\n",
    "xtrain_data = xtrain_data.astype('float32') / 255.0\n",
    "Xtest = Xtest.astype('float32') / 255.0\n",
    "\n",
    "# np.random.shuffle(Xtrain)\n",
    "n1 = int(0.8 * len(xtrain_data))\n",
    "Xtrain = xtrain_data[:n1]\n",
    "ytrain = ytrain_data[:n1]\n",
    "Xdev = xtrain_data[n1:]\n",
    "ydev = ytrain_data[n1:]\n",
    "\n",
    "num_classes = len(set(ytrain))"
   ],
   "id": "585ba6952a83e49c",
   "outputs": [],
   "execution_count": 14
  },
  {
   "metadata": {
    "ExecuteTime": {
     "end_time": "2025-04-25T10:47:43.521028Z",
     "start_time": "2025-04-25T10:47:43.495692Z"
    }
   },
   "cell_type": "code",
   "source": [
    "# data preparation\n",
    "np.random.seed(231)\n",
    "std_dev = 1e-2\n",
    "n_hidden = 300\n",
    "\n",
    "layers = [\n",
    "    Linear(3072, n_hidden, std_dev=std_dev),                ReLU(),\n",
    "    Linear(n_hidden, n_hidden, std_dev=std_dev),            ReLU(),\n",
    "    Linear(n_hidden, n_hidden, std_dev=std_dev),            ReLU(),\n",
    "    Linear(n_hidden, num_classes, std_dev=std_dev)\n",
    "]\n",
    "\n",
    "model = Model(layers)\n",
    "loss_criteria = SoftmaxCrossEntropyLoss()\n",
    "\n",
    "params = [p for layer in layers for p in layer.parameters()]\n",
    "\n",
    "print(sum(par.size for par in params))"
   ],
   "id": "38ec697a418a9784",
   "outputs": [
    {
     "name": "stdout",
     "output_type": "stream",
     "text": [
      "1105510\n"
     ]
    }
   ],
   "execution_count": 15
  },
  {
   "metadata": {
    "ExecuteTime": {
     "end_time": "2025-04-25T10:48:30.805470Z",
     "start_time": "2025-04-25T10:47:48.113368Z"
    }
   },
   "cell_type": "code",
   "source": [
    "max_iterations = 10000\n",
    "batch_size = 128\n",
    "lossi = []\n",
    "Hs = []\n",
    "\n",
    "for i in range(max_iterations):\n",
    "\n",
    "    #mini batch\n",
    "    ix = np.random.randint(0, Xtrain.shape[0], (batch_size,))\n",
    "    Xb, Yb = Xtrain[ix], ytrain[ix]\n",
    "\n",
    "    #farward pass\n",
    "    x = Xb\n",
    "    logits = model.forward(x)\n",
    "    loss = loss_criteria.forward(logits, Yb)\n",
    "    lossi.append(loss)\n",
    "\n",
    "    #backward pass\n",
    "    logit_grad = loss_criteria.backward()\n",
    "    model.backward(logit_grad)\n",
    "\n",
    "    #param update\n",
    "    lr = 0.1\n",
    "    model.update_param(lr)\n",
    "\n",
    "    if i % 100 == 0:\n",
    "        print(f\"loss: {loss:.4f}\")"
   ],
   "id": "35c4c44403646e34",
   "outputs": [
    {
     "name": "stdout",
     "output_type": "stream",
     "text": [
      "loss: 2.3026\n",
      "loss: 2.3022\n",
      "loss: 2.3010\n",
      "loss: 2.2995\n",
      "loss: 2.2575\n",
      "loss: 2.0988\n",
      "loss: 2.1036\n",
      "loss: 2.1101\n",
      "loss: 2.0579\n",
      "loss: 2.0395\n",
      "loss: 1.9844\n",
      "loss: 1.9658\n",
      "loss: 1.9572\n",
      "loss: 1.9355\n",
      "loss: 1.8287\n",
      "loss: 1.8568\n",
      "loss: 1.8538\n",
      "loss: 1.7631\n",
      "loss: 1.7533\n",
      "loss: 1.7779\n",
      "loss: 1.8495\n",
      "loss: 1.8240\n",
      "loss: 1.6740\n",
      "loss: 1.6044\n",
      "loss: 1.7595\n",
      "loss: 1.7572\n",
      "loss: 1.6524\n",
      "loss: 1.6234\n",
      "loss: 1.7867\n",
      "loss: 1.6413\n",
      "loss: 1.7325\n",
      "loss: 1.5523\n",
      "loss: 1.7181\n",
      "loss: 1.7124\n",
      "loss: 1.4774\n",
      "loss: 1.5484\n",
      "loss: 1.4302\n",
      "loss: 1.5330\n",
      "loss: 1.5088\n",
      "loss: 1.6469\n",
      "loss: 1.4501\n",
      "loss: 1.6007\n",
      "loss: 1.5740\n",
      "loss: 1.6749\n",
      "loss: 1.5924\n",
      "loss: 1.5377\n",
      "loss: 1.5401\n",
      "loss: 1.4453\n",
      "loss: 1.3942\n",
      "loss: 1.4318\n",
      "loss: 1.4615\n",
      "loss: 1.3041\n",
      "loss: 1.3743\n",
      "loss: 1.3885\n",
      "loss: 1.4409\n",
      "loss: 1.4560\n",
      "loss: 1.3902\n",
      "loss: 1.3755\n",
      "loss: 1.4737\n",
      "loss: 1.4319\n",
      "loss: 1.4037\n",
      "loss: 1.3161\n",
      "loss: 1.4247\n",
      "loss: 1.4211\n",
      "loss: 1.3432\n",
      "loss: 1.3891\n",
      "loss: 1.2206\n",
      "loss: 1.2682\n",
      "loss: 1.3523\n",
      "loss: 1.5087\n",
      "loss: 1.2539\n",
      "loss: 1.3386\n",
      "loss: 1.4229\n",
      "loss: 1.4750\n",
      "loss: 1.1477\n",
      "loss: 1.5961\n",
      "loss: 1.2429\n",
      "loss: 1.3163\n",
      "loss: 1.3049\n",
      "loss: 1.4431\n",
      "loss: 1.3661\n",
      "loss: 1.1901\n",
      "loss: 1.4020\n",
      "loss: 1.2683\n",
      "loss: 1.3606\n",
      "loss: 1.2226\n",
      "loss: 1.1921\n",
      "loss: 1.1230\n",
      "loss: 1.3840\n",
      "loss: 1.2041\n",
      "loss: 1.2870\n",
      "loss: 1.2556\n",
      "loss: 1.3758\n",
      "loss: 1.2375\n",
      "loss: 1.3261\n",
      "loss: 1.2569\n",
      "loss: 1.3588\n",
      "loss: 1.0057\n",
      "loss: 1.0286\n",
      "loss: 1.3473\n"
     ]
    }
   ],
   "execution_count": 16
  },
  {
   "metadata": {
    "ExecuteTime": {
     "end_time": "2025-04-25T10:48:40.651082Z",
     "start_time": "2025-04-25T10:48:40.575871Z"
    }
   },
   "cell_type": "code",
   "source": "plt.plot(lossi)\n",
   "id": "46b7eb93f776ef79",
   "outputs": [
    {
     "data": {
      "text/plain": [
       "[<matplotlib.lines.Line2D at 0x10bbaf730>]"
      ]
     },
     "execution_count": 17,
     "metadata": {},
     "output_type": "execute_result"
    },
    {
     "data": {
      "text/plain": [
       "<Figure size 640x480 with 1 Axes>"
      ],
      "image/png": "[encoded data removed]"
     },
     "metadata": {},
     "output_type": "display_data"
    }
   ],
   "execution_count": 17
  },
  {
   "metadata": {
    "ExecuteTime": {
     "end_time": "2025-04-25T10:48:45.695676Z",
     "start_time": "2025-04-25T10:48:45.292915Z"
    }
   },
   "cell_type": "code",
   "source": [
    "def split_loss(split):\n",
    "    x, y = {\n",
    "        'train': (Xtrain, ytrain),\n",
    "        'dev': (Xdev, ydev),\n",
    "        'test': (Xtest, ytest),\n",
    "    }[split]\n",
    "    for layer in layers:\n",
    "        x = layer.forward(x)\n",
    "    logits = x\n",
    "    loss = loss_criteria.forward(logits, y)\n",
    "    print(f\"{split} => loss: {loss:.4f}\")\n",
    "\n",
    "split_loss('train')\n",
    "split_loss('dev')\n"
   ],
   "id": "b50b2c97b221ee9e",
   "outputs": [
    {
     "name": "stdout",
     "output_type": "stream",
     "text": [
      "train => loss: 1.1022\n",
      "dev => loss: 1.4092\n"
     ]
    }
   ],
   "execution_count": 18
  },
  {
   "metadata": {
    "ExecuteTime": {
     "end_time": "2025-04-25T10:48:48.957381Z",
     "start_time": "2025-04-25T10:48:48.868459Z"
    }
   },
   "cell_type": "code",
   "source": "split_loss('test')",
   "id": "2610d6d538f3799c",
   "outputs": [
    {
     "name": "stdout",
     "output_type": "stream",
     "text": [
      "test => loss: 1.3940\n"
     ]
    }
   ],
   "execution_count": 19
  },
  {
   "metadata": {
    "ExecuteTime": {
     "end_time": "2025-04-25T10:48:52.225510Z",
     "start_time": "2025-04-25T10:48:52.138184Z"
    }
   },
   "cell_type": "code",
   "source": [
    "def accuracy(x, labels):\n",
    "    for layer in layers:\n",
    "        x = layer.forward(x)\n",
    "    logits = x\n",
    "    probs = loss_criteria.softmax_numpy(logits)\n",
    "    preds = np.argmax(probs, axis=1)\n",
    "    return np.mean(preds == labels)\n",
    "\n",
    "accuracy(Xtest, ytest)"
   ],
   "id": "305f0d3c68b5e746",
   "outputs": [
    {
     "data": {
      "text/plain": [
       "np.float64(0.5121)"
      ]
     },
     "execution_count": 20,
     "metadata": {},
     "output_type": "execute_result"
    }
   ],
   "execution_count": 20
  }
 ],
 "metadata": {
  "kernelspec": {
   "display_name": "Python 3",
   "language": "python",
   "name": "python3"
  },
  "language_info": {
   "codemirror_mode": {
    "name": "ipython",
    "version": 2
   },
   "file_extension": ".py",
   "mimetype": "text/x-python",
   "name": "python",
   "nbconvert_exporter": "python",
   "pygments_lexer": "ipython2",
   "version": "2.7.6"
  }
 },
 "nbformat": 4,
 "nbformat_minor": 5
}
