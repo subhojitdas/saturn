{
 "cells": [
  {
   "cell_type": "code",
   "id": "initial_id",
   "metadata": {
    "collapsed": true,
    "ExecuteTime": {
     "end_time": "2025-04-20T19:23:06.623185Z",
     "start_time": "2025-04-20T19:23:06.617680Z"
    }
   },
   "source": [
    "import numpy as np\n",
    "import matplotlib.pyplot as plt\n",
    "\n",
    "from convnet.before.two_layer_net import num_classes\n",
    "from data_loader import CIFAR_10_DataLoader\n",
    "%matplotlib inline"
   ],
   "outputs": [],
   "execution_count": 3
  },
  {
   "metadata": {
    "ExecuteTime": {
     "end_time": "2025-04-20T19:23:07.825622Z",
     "start_time": "2025-04-20T19:23:07.738456Z"
    }
   },
   "cell_type": "code",
   "source": [
    "file_directory = '/Users/subhojit/Downloads/cifar-10-batches-py'\n",
    "cdl = CIFAR_10_DataLoader()\n",
    "Xtrain, ytrain, Xtest, ytest = cdl.load_cifar_10_dataset(file_directory)\n",
    "\n",
    "Xtrain.shape, ytrain.shape, Xtest.shape, ytest.shape"
   ],
   "id": "1da3831b557c4106",
   "outputs": [
    {
     "data": {
      "text/plain": [
       "((50000, 3072), (50000,), (10000, 3072), (10000,))"
      ]
     },
     "execution_count": 4,
     "metadata": {},
     "output_type": "execute_result"
    }
   ],
   "execution_count": 4
  },
  {
   "metadata": {
    "ExecuteTime": {
     "end_time": "2025-04-20T19:40:32.845452Z",
     "start_time": "2025-04-20T19:40:32.835550Z"
    }
   },
   "cell_type": "code",
   "source": "num_classes = len(set(ytrain))",
   "id": "d0d31c8d1ff45a1e",
   "outputs": [
    {
     "data": {
      "text/plain": [
       "{np.int64(0),\n",
       " np.int64(1),\n",
       " np.int64(2),\n",
       " np.int64(3),\n",
       " np.int64(4),\n",
       " np.int64(5),\n",
       " np.int64(6),\n",
       " np.int64(7),\n",
       " np.int64(8),\n",
       " np.int64(9)}"
      ]
     },
     "execution_count": 20,
     "metadata": {},
     "output_type": "execute_result"
    }
   ],
   "execution_count": 20
  },
  {
   "metadata": {
    "ExecuteTime": {
     "end_time": "2025-04-20T19:31:58.841497Z",
     "start_time": "2025-04-20T19:31:58.830820Z"
    }
   },
   "cell_type": "code",
   "source": [
    "np.random.seed(231)\n",
    "std_dev = 1e-2\n",
    "W1 = np.random.randn(3072, 100) * std_dev\n",
    "b1 = np.zeros(100)\n",
    "W2 = np.random.randn(100, num_classes) * std_dev\n",
    "b2 = np.zeros(10)\n",
    "\n",
    "ix = np.random.randint(0, Xtrain.shape[0], (32,))\n",
    "Xb, Yb = Xtrain[ix], ytrain[ix]\n",
    "Xb.shape, Yb.shape, W1.shape, b1.shape, W2.shape, b2.shape"
   ],
   "id": "3948fe2abaa84a69",
   "outputs": [
    {
     "data": {
      "text/plain": [
       "((32, 3072), (32,), (3072, 100), (100,), (100, 10), (10,))"
      ]
     },
     "execution_count": 18,
     "metadata": {},
     "output_type": "execute_result"
    }
   ],
   "execution_count": 18
  },
  {
   "metadata": {
    "ExecuteTime": {
     "end_time": "2025-04-20T20:29:21.847163Z",
     "start_time": "2025-04-20T20:29:21.841075Z"
    }
   },
   "cell_type": "code",
   "source": [
    "h1 = np.dot(Xb, W1) + b1\n",
    "h2 = np.dot(h1, W2) + b2\n",
    "scores = h2\n",
    "scores"
   ],
   "id": "db14b69517f4659f",
   "outputs": [
    {
     "data": {
      "text/plain": [
       "array([[ 1.31230233e+01,  1.74482623e-01,  1.33671765e+00,\n",
       "        -1.47911240e+01,  6.21281689e+00, -1.37099189e+01,\n",
       "         6.54939581e+00,  5.68209542e+00, -3.82429304e+00,\n",
       "        -1.76871127e+01],\n",
       "       [ 1.51822980e+01,  1.98375737e+00, -2.84404575e+00,\n",
       "        -9.23916105e+00,  5.63322379e+00, -1.25996341e+01,\n",
       "         9.34274325e+00,  2.67062516e+00, -4.26869845e+00,\n",
       "        -1.99972345e+01],\n",
       "       [ 1.27177387e+01, -2.04675746e-01, -2.02816093e+00,\n",
       "        -1.01519052e+01,  4.32840418e+00, -8.65080032e+00,\n",
       "         9.73828094e+00,  2.27785687e+00, -5.20315709e+00,\n",
       "        -1.60875826e+01],\n",
       "       [-3.35302932e+00,  3.83990276e+00,  1.62621503e+00,\n",
       "        -7.76524854e+00,  1.17294525e+00, -6.11047024e+00,\n",
       "        -1.00842146e+00,  5.24322939e+00, -2.82681212e+00,\n",
       "        -8.66830813e+00],\n",
       "       [ 1.06113053e+01,  7.51724800e+00,  1.19214317e+00,\n",
       "        -4.98004215e+00, -5.16569214e-01, -8.58518029e+00,\n",
       "         2.71822104e-01, -2.61126700e-01,  5.40745237e+00,\n",
       "        -1.02351980e+01],\n",
       "       [ 7.99611096e+00,  7.59151250e-01,  5.08298121e+00,\n",
       "        -1.04523627e+01,  6.37345400e+00, -1.05219351e+01,\n",
       "         5.18752053e+00,  2.46065113e+00,  7.50953394e-01,\n",
       "        -1.58064121e+01],\n",
       "       [ 3.93707127e+00, -7.96385683e-01,  1.37828846e+00,\n",
       "        -5.72264820e+00,  7.16249465e+00,  4.50161779e-01,\n",
       "        -3.28386093e-02,  2.13130025e+00, -2.21959164e+00,\n",
       "        -5.73605232e+00],\n",
       "       [ 4.94243772e+00,  2.04834504e+00,  3.26955914e+00,\n",
       "        -1.30541454e+01,  7.29245887e+00, -6.49380578e+00,\n",
       "         7.33024415e+00,  1.14273958e+00, -4.51788375e+00,\n",
       "        -1.16551269e+01],\n",
       "       [ 2.10715070e+01, -2.18838199e-01, -5.37530218e+00,\n",
       "        -1.72538591e+01,  1.02227303e+01, -1.38913963e+01,\n",
       "         1.10811816e+01,  5.45933655e+00, -1.13871555e+01,\n",
       "        -2.55054352e+01],\n",
       "       [ 6.16448193e+00, -3.63605016e-01,  5.02233870e+00,\n",
       "        -6.92106706e+00,  3.24978990e+00, -1.05337973e+00,\n",
       "         4.11292737e+00, -6.32046455e-01,  8.99570092e-01,\n",
       "        -1.00890798e+01],\n",
       "       [ 1.35332015e+01, -7.81201085e-01, -1.26636028e+00,\n",
       "        -1.12857174e+01,  3.97921633e+00, -1.29689246e+01,\n",
       "         9.27911292e+00,  2.78050237e+00, -8.39751356e+00,\n",
       "        -2.05157317e+01],\n",
       "       [ 4.39901353e+00,  8.09621211e-01,  2.69975428e+00,\n",
       "        -8.71230147e+00,  2.32576990e+00, -3.94296403e+00,\n",
       "         9.52164047e-03, -9.52627278e-01,  3.90878064e+00,\n",
       "        -6.88115639e+00],\n",
       "       [ 6.17388826e+00,  5.21763881e+00,  8.08011325e-01,\n",
       "        -1.68555941e+00,  2.42492042e+00, -7.97696393e+00,\n",
       "         5.15787363e+00, -5.09119012e+00,  4.86890003e+00,\n",
       "        -1.10419114e+01],\n",
       "       [-8.04441884e-01,  4.48009455e+00, -4.76793064e+00,\n",
       "        -8.52085643e+00,  2.43386616e+00, -2.96730719e+00,\n",
       "        -3.45292812e+00,  6.17764040e-01,  2.93050962e+00,\n",
       "        -1.81432231e+00],\n",
       "       [ 1.24311862e+01,  9.74628027e+00, -1.20479286e+00,\n",
       "        -1.34107354e+01,  2.97359970e+00, -1.61006286e+01,\n",
       "         9.04307754e+00,  8.32156374e+00, -7.41950320e-01,\n",
       "        -2.14849593e+01],\n",
       "       [ 1.00658006e+01,  4.45003645e+00, -2.40441866e+00,\n",
       "        -8.65132463e+00,  2.72177196e+00, -1.01529893e+01,\n",
       "         6.58308358e+00,  3.60407960e+00, -1.60946474e+00,\n",
       "        -1.31287926e+01],\n",
       "       [ 3.96067578e+00, -5.42767074e-02,  3.24874097e+00,\n",
       "        -9.06747392e+00,  6.82321994e+00, -3.69486464e+00,\n",
       "        -2.15050451e+00,  3.68984338e+00, -1.55607631e+00,\n",
       "        -1.31720169e+01],\n",
       "       [ 1.89312353e+01,  6.05182831e+00, -6.42075550e+00,\n",
       "        -2.00407870e+01,  1.15034100e+01, -1.38232521e+01,\n",
       "         1.48775960e+01,  1.07109089e+01, -9.57420043e+00,\n",
       "        -1.86148348e+01],\n",
       "       [ 1.38960555e+01,  5.23327494e+00, -2.91322135e+00,\n",
       "        -9.83179871e+00,  3.82094383e+00, -1.00778971e+01,\n",
       "         6.03823388e+00,  9.82213865e+00, -8.53144493e+00,\n",
       "        -2.11949041e+01],\n",
       "       [ 1.52571350e+01,  1.52963553e-01,  1.15100244e+00,\n",
       "        -4.05025230e+00, -2.87980526e+00, -9.54315892e+00,\n",
       "         2.11909155e+00, -3.11201705e+00,  1.57116566e+00,\n",
       "        -1.63287911e+01],\n",
       "       [ 1.11721021e+01,  1.51974370e+00,  1.62334076e+00,\n",
       "        -8.60409402e+00,  7.59374440e+00, -4.03536504e+00,\n",
       "         4.60841553e+00,  4.31820038e+00, -9.17599526e-01,\n",
       "        -9.01299131e+00],\n",
       "       [ 1.08944301e+01,  8.37509316e+00, -5.19835602e+00,\n",
       "        -1.57185639e+01,  7.60842813e+00, -1.30102264e+01,\n",
       "         5.29515031e+00,  6.79111852e+00, -1.46007812e+00,\n",
       "        -1.70739582e+01],\n",
       "       [ 4.44450377e+00,  2.42272788e+00, -1.15840580e+00,\n",
       "        -9.51846611e+00,  2.78068176e+00, -6.76702947e+00,\n",
       "         1.36651350e+00,  2.23763978e+00,  2.63012828e+00,\n",
       "        -7.38753879e+00],\n",
       "       [ 1.40371544e+01,  7.10908203e+00, -1.54920591e+00,\n",
       "        -1.31879397e+01,  3.67235402e+00, -9.40293717e+00,\n",
       "         7.92665397e+00,  4.16259127e+00, -4.13974770e+00,\n",
       "        -1.65422851e+01],\n",
       "       [ 8.98256375e+00,  3.59094536e+00,  4.87186993e-01,\n",
       "        -5.16732084e+00,  4.53564638e+00, -8.21915699e+00,\n",
       "         4.93335719e+00,  1.41629826e+00, -1.50257287e+00,\n",
       "        -1.13958303e+01],\n",
       "       [ 1.88006670e+01,  6.85329219e+00, -4.77969365e+00,\n",
       "        -2.02416210e+01,  9.75273048e+00, -1.45113810e+01,\n",
       "         8.47343044e+00,  1.78700521e+00,  2.54145224e+00,\n",
       "        -2.38026307e+01],\n",
       "       [ 1.49342771e+01,  2.89631092e+00,  1.69696846e+00,\n",
       "        -9.37542698e+00,  4.91805672e+00, -8.13115505e+00,\n",
       "         9.98187548e+00,  7.08725684e+00, -4.81505145e+00,\n",
       "        -1.54485006e+01],\n",
       "       [ 8.46163671e+00,  2.87593285e+00, -4.14285280e+00,\n",
       "        -1.22436064e+01,  4.09130652e+00, -9.93833226e+00,\n",
       "         3.49601437e+00, -6.82465164e-01,  3.12718504e+00,\n",
       "        -1.22637665e+01],\n",
       "       [ 3.04983678e+00,  3.71125482e+00, -4.11631232e+00,\n",
       "        -1.03178091e+01,  2.50937451e+00, -7.13444558e+00,\n",
       "        -6.30842012e-01,  1.68575240e+00, -2.61430704e+00,\n",
       "        -8.07845141e+00],\n",
       "       [ 2.32473373e+00, -8.44977415e-01,  3.87523979e+00,\n",
       "        -7.51602373e-01,  2.00128361e+00, -8.18045769e+00,\n",
       "         4.44768371e+00, -4.98813380e+00,  2.08362375e+00,\n",
       "        -4.00021037e+00],\n",
       "       [ 8.54229681e+00,  9.27223699e+00, -9.54883744e-01,\n",
       "        -8.33884312e+00,  4.97457690e+00, -3.30696723e+00,\n",
       "         6.19215194e+00, -2.53605318e+00,  4.00144117e+00,\n",
       "        -7.82473679e+00],\n",
       "       [ 8.49012099e+00,  4.14893477e+00,  1.52914063e-02,\n",
       "        -6.84710719e+00,  4.28569525e+00, -3.62231831e+00,\n",
       "         2.29552619e+00,  1.33919099e+00,  1.58079557e+00,\n",
       "        -8.03933210e+00]])"
      ]
     },
     "execution_count": 50,
     "metadata": {},
     "output_type": "execute_result"
    }
   ],
   "execution_count": 50
  },
  {
   "metadata": {
    "ExecuteTime": {
     "end_time": "2025-04-20T20:29:26.812826Z",
     "start_time": "2025-04-20T20:29:26.806255Z"
    }
   },
   "cell_type": "code",
   "source": [
    "## SVM loss\n",
    "def svm_loss(scores, y):\n",
    "    num_examples = scores.shape[0]\n",
    "    # print(\"num_examples =\", num_examples)\n",
    "    # print(\"np.arange(num_examples) =\", np.arange(num_examples))\n",
    "    corect_class_scores = scores[np.arange(num_examples), y].reshape(-1, 1)\n",
    "    margin = np.maximum(0, scores - corect_class_scores + 1)\n",
    "    margin[np.arange(num_examples), y] = 0\n",
    "    loss = margin.sum() / num_examples\n",
    "    return loss\n",
    "\n",
    "\n",
    "s = np.array([[1,3,1], [2,1,1], [3,10, 1]])\n",
    "print(s)\n",
    "y = np.array([1, 2, 0])\n",
    "\n",
    "svm_loss(s, y)\n"
   ],
   "id": "cb26f1c485e67f3b",
   "outputs": [
    {
     "name": "stdout",
     "output_type": "stream",
     "text": [
      "[[ 1  3  1]\n",
      " [ 2  1  1]\n",
      " [ 3 10  1]]\n"
     ]
    },
    {
     "data": {
      "text/plain": [
       "np.float64(3.6666666666666665)"
      ]
     },
     "execution_count": 51,
     "metadata": {},
     "output_type": "execute_result"
    }
   ],
   "execution_count": 51
  },
  {
   "metadata": {
    "ExecuteTime": {
     "end_time": "2025-04-20T20:29:27.905770Z",
     "start_time": "2025-04-20T20:29:27.901422Z"
    }
   },
   "cell_type": "code",
   "source": [
    "loss_svm = svm_loss(scores, Yb)\n",
    "loss_svm"
   ],
   "id": "703c6670209fbb60",
   "outputs": [
    {
     "data": {
      "text/plain": [
       "np.float64(56.755346117301414)"
      ]
     },
     "execution_count": 52,
     "metadata": {},
     "output_type": "execute_result"
    }
   ],
   "execution_count": 52
  },
  {
   "metadata": {
    "ExecuteTime": {
     "end_time": "2025-04-20T20:51:10.192890Z",
     "start_time": "2025-04-20T20:51:10.190392Z"
    }
   },
   "cell_type": "code",
   "source": [
    "exp_scores = np.exp(scores)\n",
    "row_sum_scores = np.sum(exp_scores, axis=1).reshape(-1, 1)\n",
    "normalized_scores = exp_scores / row_sum_scores\n",
    "exp_scores.shape, row_sum_scores.shape, normalized_scores.shape"
   ],
   "id": "32357192a0c922f9",
   "outputs": [
    {
     "data": {
      "text/plain": [
       "((32, 10), (32, 1), (32, 10))"
      ]
     },
     "execution_count": 56,
     "metadata": {},
     "output_type": "execute_result"
    }
   ],
   "execution_count": 56
  },
  {
   "metadata": {
    "ExecuteTime": {
     "end_time": "2025-04-20T20:55:23.898063Z",
     "start_time": "2025-04-20T20:55:23.893015Z"
    }
   },
   "cell_type": "code",
   "source": [
    "def softmax_loss(scores, y):\n",
    "    num_examples = scores.shape[0]\n",
    "    # Shift scores for numerical stability\n",
    "    shifted_scores = scores - np.max(scores, axis=1, keepdims=True)\n",
    "    exp_scores = np.exp(shifted_scores)\n",
    "    probs = exp_scores / np.sum(exp_scores, axis=1, keepdims=True)\n",
    "    correct_log_probs = -np.log(probs[np.arange(num_examples), y])\n",
    "    loss = np.mean(correct_log_probs)\n",
    "    return loss\n",
    "\n",
    "softmax_loss(scores, Yb)\n"
   ],
   "id": "c08f3732fd0bfcba",
   "outputs": [
    {
     "data": {
      "text/plain": [
       "np.float64(12.38209477589201)"
      ]
     },
     "execution_count": 59,
     "metadata": {},
     "output_type": "execute_result"
    }
   ],
   "execution_count": 59
  },
  {
   "metadata": {},
   "cell_type": "code",
   "outputs": [],
   "execution_count": null,
   "source": "",
   "id": "43fe2676b5ea6e50"
  }
 ],
 "metadata": {
  "kernelspec": {
   "display_name": "Python 3",
   "language": "python",
   "name": "python3"
  },
  "language_info": {
   "codemirror_mode": {
    "name": "ipython",
    "version": 2
   },
   "file_extension": ".py",
   "mimetype": "text/x-python",
   "name": "python",
   "nbconvert_exporter": "python",
   "pygments_lexer": "ipython2",
   "version": "2.7.6"
  }
 },
 "nbformat": 4,
 "nbformat_minor": 5
}
