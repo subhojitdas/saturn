{
 "cells": [
  {
   "cell_type": "code",
   "id": "initial_id",
   "metadata": {
    "collapsed": true,
    "ExecuteTime": {
     "end_time": "2025-04-21T19:44:19.585016Z",
     "start_time": "2025-04-21T19:44:19.344683Z"
    }
   },
   "source": [
    "import numpy as np\n",
    "import matplotlib.pyplot as plt\n",
    "\n",
    "from data_loader import CIFAR_10_DataLoader\n",
    "import losses\n",
    "%matplotlib inline"
   ],
   "outputs": [],
   "execution_count": 1
  },
  {
   "metadata": {
    "ExecuteTime": {
     "end_time": "2025-04-21T20:13:20.350654Z",
     "start_time": "2025-04-21T20:13:19.993969Z"
    }
   },
   "cell_type": "code",
   "source": [
    "file_directory = '/Users/subhojit/Downloads/cifar-10-batches-py'\n",
    "cdl = CIFAR_10_DataLoader()\n",
    "xtrain_data, ytrain_data, Xtest, ytest = cdl.load_cifar_10_dataset(file_directory)\n",
    "\n",
    "xtrain_data = xtrain_data.astype('float32') / 255.0\n",
    "Xtest = Xtest.astype('float32') / 255.0\n",
    "\n",
    "# np.random.shuffle(Xtrain)\n",
    "n1 = int(0.8 * len(xtrain_data))\n",
    "Xtrain = xtrain_data[:n1]\n",
    "ytrain = ytrain_data[:n1]\n",
    "Xdev = xtrain_data[n1:]\n",
    "ydev = ytrain_data[n1:]\n",
    "\n",
    "num_classes = len(set(ytrain))"
   ],
   "id": "28cb33e85c624659",
   "outputs": [],
   "execution_count": 29
  },
  {
   "metadata": {
    "ExecuteTime": {
     "end_time": "2025-04-21T20:14:14.736376Z",
     "start_time": "2025-04-21T20:14:14.720407Z"
    }
   },
   "cell_type": "code",
   "source": [
    "# data preparation\n",
    "np.random.seed(231)\n",
    "std_dev = 1e-2\n",
    "n_hidden = 200\n",
    "W1 = np.random.randn(3072, n_hidden) * std_dev\n",
    "b1 = np.zeros(n_hidden)\n",
    "W2 = np.random.randn(n_hidden, num_classes) * std_dev\n",
    "b2 = np.zeros(10)\n",
    "\n",
    "parameters = [W1, b1, W2, b2]\n",
    "\n",
    "print(sum(par.size for par in parameters))"
   ],
   "id": "c4ac0c94b37e2877",
   "outputs": [
    {
     "name": "stdout",
     "output_type": "stream",
     "text": [
      "616610\n"
     ]
    }
   ],
   "execution_count": 34
  },
  {
   "metadata": {
    "ExecuteTime": {
     "end_time": "2025-04-21T20:13:26.438368Z",
     "start_time": "2025-04-21T20:13:26.432087Z"
    }
   },
   "cell_type": "code",
   "source": [
    "def softmax_loss(scores, y):\n",
    "    epsilon = 1e-12\n",
    "    num_examples = scores.shape[0]\n",
    "    shifted_scores = scores - np.max(scores, axis=1, keepdims=True)\n",
    "    exp_scores = np.exp(shifted_scores)\n",
    "    probs = exp_scores / np.sum(exp_scores, axis=1, keepdims=True)\n",
    "    correct_log_probs = -np.log(probs[np.arange(num_examples), y] + epsilon)\n",
    "    loss = np.mean(correct_log_probs)\n",
    "    return loss\n",
    "\n",
    "def softmax_numpy(x, axis=1):\n",
    "    x_shifted = x - np.max(x, axis=axis, keepdims=True)\n",
    "    exp_x = np.exp(x_shifted)\n",
    "    return exp_x / np.sum(exp_x, axis=axis, keepdims=True)"
   ],
   "id": "5f90db560e9a6cf8",
   "outputs": [],
   "execution_count": 31
  },
  {
   "metadata": {
    "ExecuteTime": {
     "end_time": "2025-04-21T20:23:09.975573Z",
     "start_time": "2025-04-21T20:22:46.016059Z"
    }
   },
   "cell_type": "code",
   "source": [
    "max_iterations = 10000\n",
    "batch_size = 128\n",
    "lossi = []\n",
    "\n",
    "for i in range(max_iterations):\n",
    "\n",
    "    #mini batch\n",
    "    ix = np.random.randint(0, Xtrain.shape[0], (batch_size,))\n",
    "    Xb, Yb = Xtrain[ix], ytrain[ix]\n",
    "\n",
    "    #farward pass\n",
    "    h1 = np.dot(Xb, W1) + b1\n",
    "    scores = np.dot(h1, W2) + b2\n",
    "\n",
    "    # backward pass\n",
    "    loss = softmax_loss(scores, Yb)\n",
    "    lossi.append(loss)\n",
    "    dscores = softmax_numpy(scores)\n",
    "    dscores[np.arange(Xb.shape[0]), Yb] -= 1\n",
    "    dscores /= Xb.shape[0]\n",
    "\n",
    "    dW2 = np.dot(h1.T, dscores)\n",
    "    db2 = np.sum(dscores, axis=0)\n",
    "    dh1 = np.dot(dscores, W2.T)\n",
    "    dW1 = np.dot(Xb.T, dh1)\n",
    "    db1 = np.sum(dh1, axis=0)\n",
    "\n",
    "    grads = [dW1, db1, dW2, db2]\n",
    "    # print(grads)\n",
    "    lr = 0.01\n",
    "    W1 += -lr * dW1\n",
    "    b1 += -lr * db1\n",
    "    W2 += -lr * dW2\n",
    "    b2 += -lr * db2\n",
    "    if i % 100 == 0:\n",
    "        print(f\"loss: {loss:.4f}\")"
   ],
   "id": "8f2704726d9f8fe6",
   "outputs": [
    {
     "name": "stdout",
     "output_type": "stream",
     "text": [
      "loss: 1.5228\n",
      "loss: 1.5322\n",
      "loss: 1.7281\n",
      "loss: 1.6781\n",
      "loss: 1.6564\n",
      "loss: 1.6667\n",
      "loss: 1.8238\n",
      "loss: 1.7642\n",
      "loss: 1.6862\n",
      "loss: 1.7433\n",
      "loss: 1.5949\n",
      "loss: 1.8468\n",
      "loss: 1.7204\n",
      "loss: 1.9756\n",
      "loss: 1.6228\n",
      "loss: 1.7262\n",
      "loss: 1.6807\n",
      "loss: 1.7631\n",
      "loss: 1.7401\n",
      "loss: 1.6137\n",
      "loss: 1.6667\n",
      "loss: 1.9304\n",
      "loss: 1.5846\n",
      "loss: 1.6396\n",
      "loss: 1.6243\n",
      "loss: 1.7296\n",
      "loss: 1.6310\n",
      "loss: 1.5574\n",
      "loss: 1.7217\n",
      "loss: 1.7663\n",
      "loss: 1.5559\n",
      "loss: 1.5145\n",
      "loss: 1.8007\n",
      "loss: 1.5982\n",
      "loss: 1.6457\n",
      "loss: 1.9249\n",
      "loss: 1.6784\n",
      "loss: 1.7180\n",
      "loss: 1.8068\n",
      "loss: 1.5980\n",
      "loss: 1.6089\n",
      "loss: 1.8166\n",
      "loss: 1.7240\n",
      "loss: 1.5326\n",
      "loss: 1.7730\n",
      "loss: 1.6628\n",
      "loss: 1.5654\n",
      "loss: 1.6904\n",
      "loss: 1.8166\n",
      "loss: 1.6351\n",
      "loss: 1.8008\n",
      "loss: 1.5842\n",
      "loss: 1.6167\n",
      "loss: 1.6837\n",
      "loss: 1.4390\n",
      "loss: 1.8355\n",
      "loss: 1.6095\n",
      "loss: 1.6824\n",
      "loss: 1.5889\n",
      "loss: 1.6510\n",
      "loss: 1.7281\n",
      "loss: 1.6914\n",
      "loss: 1.7941\n",
      "loss: 1.6119\n",
      "loss: 1.5569\n",
      "loss: 1.5903\n",
      "loss: 1.9652\n",
      "loss: 1.6841\n",
      "loss: 1.5748\n",
      "loss: 1.6315\n",
      "loss: 1.8163\n",
      "loss: 1.6627\n",
      "loss: 1.7067\n",
      "loss: 1.4719\n",
      "loss: 1.6421\n",
      "loss: 1.6217\n",
      "loss: 1.5438\n",
      "loss: 1.7062\n",
      "loss: 1.7219\n",
      "loss: 1.5445\n",
      "loss: 1.6258\n",
      "loss: 1.5832\n",
      "loss: 1.4930\n",
      "loss: 1.5113\n",
      "loss: 1.6418\n",
      "loss: 1.6637\n",
      "loss: 1.6026\n",
      "loss: 1.8705\n",
      "loss: 1.5496\n",
      "loss: 1.7371\n",
      "loss: 1.8273\n",
      "loss: 1.6629\n",
      "loss: 1.7907\n",
      "loss: 1.6314\n",
      "loss: 1.6255\n",
      "loss: 1.6387\n",
      "loss: 1.8269\n",
      "loss: 1.6314\n",
      "loss: 1.6531\n",
      "loss: 1.7360\n"
     ]
    }
   ],
   "execution_count": 46
  },
  {
   "metadata": {
    "ExecuteTime": {
     "end_time": "2025-04-21T20:24:29.054157Z",
     "start_time": "2025-04-21T20:24:28.124726Z"
    }
   },
   "cell_type": "code",
   "source": [
    "plt.figure()\n",
    "plt.subplot(121)\n",
    "plt.hist(h1.reshape(-1).tolist(), 50)\n",
    "plt.subplot(122)\n",
    "plt.hist(scores.reshape(-1).tolist(), 50)\n",
    "plt.subplot(221)\n",
    "plt.hist(W1.reshape(-1).tolist(), 50)\n",
    "plt.subplot(222)\n",
    "plt.hist(W2.reshape(-1).tolist(), 50)"
   ],
   "id": "78aa5b31b1d05ba7",
   "outputs": [
    {
     "data": {
      "text/plain": [
       "(array([  1.,   1.,   1.,   4.,   2.,   0.,   5.,   9.,   6.,  24.,  27.,\n",
       "         23.,  31.,  37.,  38.,  53.,  46.,  68.,  60.,  87.,  82., 103.,\n",
       "        109., 113.,  98., 103.,  75., 101.,  83.,  79.,  92.,  68.,  48.,\n",
       "         57.,  43.,  38.,  39.,  22.,  24.,  23.,  21.,  15.,  12.,  16.,\n",
       "          4.,   3.,   2.,   2.,   0.,   2.]),\n",
       " array([-2.31044964e-01, -2.21809803e-01, -2.12574642e-01, -2.03339480e-01,\n",
       "        -1.94104319e-01, -1.84869158e-01, -1.75633996e-01, -1.66398835e-01,\n",
       "        -1.57163674e-01, -1.47928512e-01, -1.38693351e-01, -1.29458190e-01,\n",
       "        -1.20223028e-01, -1.10987867e-01, -1.01752706e-01, -9.25175443e-02,\n",
       "        -8.32823830e-02, -7.40472216e-02, -6.48120603e-02, -5.55768990e-02,\n",
       "        -4.63417377e-02, -3.71065763e-02, -2.78714150e-02, -1.86362537e-02,\n",
       "        -9.40109235e-03, -1.65931024e-04,  9.06923030e-03,  1.83043916e-02,\n",
       "         2.75395530e-02,  3.67747143e-02,  4.60098756e-02,  5.52450369e-02,\n",
       "         6.44801983e-02,  7.37153596e-02,  8.29505209e-02,  9.21856822e-02,\n",
       "         1.01420844e-01,  1.10656005e-01,  1.19891166e-01,  1.29126328e-01,\n",
       "         1.38361489e-01,  1.47596650e-01,  1.56831812e-01,  1.66066973e-01,\n",
       "         1.75302134e-01,  1.84537296e-01,  1.93772457e-01,  2.03007618e-01,\n",
       "         2.12242779e-01,  2.21477941e-01,  2.30713102e-01]),\n",
       " <BarContainer object of 50 artists>)"
      ]
     },
     "execution_count": 48,
     "metadata": {},
     "output_type": "execute_result"
    },
    {
     "data": {
      "text/plain": [
       "<Figure size 640x480 with 4 Axes>"
      ],
      "image/png": "[encoded data removed]"
     },
     "metadata": {},
     "output_type": "display_data"
    }
   ],
   "execution_count": 48
  },
  {
   "metadata": {
    "ExecuteTime": {
     "end_time": "2025-04-21T20:14:44.444262Z",
     "start_time": "2025-04-21T20:14:44.341778Z"
    }
   },
   "cell_type": "code",
   "source": "plt.plot(lossi)",
   "id": "3e06d14ec7c62e7d",
   "outputs": [
    {
     "data": {
      "text/plain": [
       "[<matplotlib.lines.Line2D at 0x10e562040>]"
      ]
     },
     "execution_count": 36,
     "metadata": {},
     "output_type": "execute_result"
    },
    {
     "data": {
      "text/plain": [
       "<Figure size 640x480 with 1 Axes>"
      ],
      "image/png": "[encoded data removed]"
     },
     "metadata": {},
     "output_type": "display_data"
    }
   ],
   "execution_count": 36
  },
  {
   "metadata": {
    "ExecuteTime": {
     "end_time": "2025-04-21T20:15:38.727270Z",
     "start_time": "2025-04-21T20:15:38.442907Z"
    }
   },
   "cell_type": "code",
   "source": [
    "def split_loss(split):\n",
    "    x, y = {\n",
    "        'train': (Xtrain, ytrain),\n",
    "        'dev': (Xdev, ydev),\n",
    "        'test': (Xtest, ytest),\n",
    "    }[split]\n",
    "    h1 = np.dot(x, W1) + b1\n",
    "    scores = np.dot(h1, W2) + b2\n",
    "    loss = softmax_loss(scores, y)\n",
    "    print(f\"{split} => loss: {loss:.4f}\")\n",
    "\n",
    "split_loss('train')\n",
    "split_loss('dev')\n"
   ],
   "id": "9a02b2f10638266a",
   "outputs": [
    {
     "name": "stdout",
     "output_type": "stream",
     "text": [
      "train => loss: 1.6911\n",
      "dev => loss: 1.7488\n"
     ]
    }
   ],
   "execution_count": 37
  },
  {
   "metadata": {
    "ExecuteTime": {
     "end_time": "2025-04-21T20:15:46.156104Z",
     "start_time": "2025-04-21T20:15:46.094155Z"
    }
   },
   "cell_type": "code",
   "source": "split_loss('test')",
   "id": "fa5288c543b6adb6",
   "outputs": [
    {
     "name": "stdout",
     "output_type": "stream",
     "text": [
      "test => loss: 1.7266\n"
     ]
    }
   ],
   "execution_count": 39
  },
  {
   "metadata": {
    "ExecuteTime": {
     "end_time": "2025-04-21T20:15:43.868605Z",
     "start_time": "2025-04-21T20:15:43.803602Z"
    }
   },
   "cell_type": "code",
   "source": [
    "def accuracy(x, labels):\n",
    "    h1 = np.dot(x, W1) + b1\n",
    "    scores = np.dot(h1, W2) + b2\n",
    "    probs = softmax_numpy(scores)\n",
    "\n",
    "    preds = np.argmax(probs, axis=1)\n",
    "    return np.mean(preds == labels)\n",
    "\n",
    "accuracy(Xtest, ytest)\n"
   ],
   "id": "501a786decca14c3",
   "outputs": [
    {
     "data": {
      "text/plain": [
       "np.float64(0.4023)"
      ]
     },
     "execution_count": 38,
     "metadata": {},
     "output_type": "execute_result"
    }
   ],
   "execution_count": 38
  },
  {
   "metadata": {},
   "cell_type": "code",
   "outputs": [],
   "execution_count": null,
   "source": "",
   "id": "6aad1344463f1a9b"
  }
 ],
 "metadata": {
  "kernelspec": {
   "display_name": "Python 3",
   "language": "python",
   "name": "python3"
  },
  "language_info": {
   "codemirror_mode": {
    "name": "ipython",
    "version": 2
   },
   "file_extension": ".py",
   "mimetype": "text/x-python",
   "name": "python",
   "nbconvert_exporter": "python",
   "pygments_lexer": "ipython2",
   "version": "2.7.6"
  }
 },
 "nbformat": 4,
 "nbformat_minor": 5
}
