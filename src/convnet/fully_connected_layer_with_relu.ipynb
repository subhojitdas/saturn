{
 "cells": [
  {
   "cell_type": "code",
   "id": "initial_id",
   "metadata": {
    "collapsed": true,
    "ExecuteTime": {
     "end_time": "2025-04-21T20:33:39.108732Z",
     "start_time": "2025-04-21T20:33:38.868848Z"
    }
   },
   "source": [
    "import numpy as np\n",
    "import matplotlib.pyplot as plt\n",
    "\n",
    "from data_loader import CIFAR_10_DataLoader\n",
    "import losses\n",
    "%matplotlib inline"
   ],
   "outputs": [],
   "execution_count": 1
  },
  {
   "metadata": {
    "ExecuteTime": {
     "end_time": "2025-04-21T20:33:39.846927Z",
     "start_time": "2025-04-21T20:33:39.469368Z"
    }
   },
   "cell_type": "code",
   "source": [
    "file_directory = '/Users/subhojit/Downloads/cifar-10-batches-py'\n",
    "cdl = CIFAR_10_DataLoader()\n",
    "xtrain_data, ytrain_data, Xtest, ytest = cdl.load_cifar_10_dataset(file_directory)\n",
    "\n",
    "xtrain_data = xtrain_data.astype('float32') / 255.0\n",
    "Xtest = Xtest.astype('float32') / 255.0\n",
    "\n",
    "# np.random.shuffle(Xtrain)\n",
    "n1 = int(0.8 * len(xtrain_data))\n",
    "Xtrain = xtrain_data[:n1]\n",
    "ytrain = ytrain_data[:n1]\n",
    "Xdev = xtrain_data[n1:]\n",
    "ydev = ytrain_data[n1:]\n",
    "\n",
    "num_classes = len(set(ytrain))"
   ],
   "id": "28cb33e85c624659",
   "outputs": [],
   "execution_count": 2
  },
  {
   "metadata": {
    "ExecuteTime": {
     "end_time": "2025-04-21T20:33:42.090195Z",
     "start_time": "2025-04-21T20:33:42.057365Z"
    }
   },
   "cell_type": "code",
   "source": [
    "# data preparation\n",
    "np.random.seed(231)\n",
    "std_dev = 1e-2\n",
    "n_hidden = 200\n",
    "W1 = np.random.randn(3072, n_hidden) * std_dev\n",
    "b1 = np.zeros(n_hidden)\n",
    "W2 = np.random.randn(n_hidden, num_classes) * std_dev\n",
    "b2 = np.zeros(10)\n",
    "\n",
    "parameters = [W1, b1, W2, b2]\n",
    "\n",
    "print(sum(par.size for par in parameters))"
   ],
   "id": "c4ac0c94b37e2877",
   "outputs": [
    {
     "name": "stdout",
     "output_type": "stream",
     "text": [
      "616610\n"
     ]
    }
   ],
   "execution_count": 3
  },
  {
   "metadata": {
    "ExecuteTime": {
     "end_time": "2025-04-21T20:33:45.345247Z",
     "start_time": "2025-04-21T20:33:45.341362Z"
    }
   },
   "cell_type": "code",
   "source": [
    "def softmax_loss(scores, y):\n",
    "    epsilon = 1e-12\n",
    "    num_examples = scores.shape[0]\n",
    "    shifted_scores = scores - np.max(scores, axis=1, keepdims=True)\n",
    "    exp_scores = np.exp(shifted_scores)\n",
    "    probs = exp_scores / np.sum(exp_scores, axis=1, keepdims=True)\n",
    "    correct_log_probs = -np.log(probs[np.arange(num_examples), y] + epsilon)\n",
    "    loss = np.mean(correct_log_probs)\n",
    "    return loss\n",
    "\n",
    "def softmax_numpy(x, axis=1):\n",
    "    x_shifted = x - np.max(x, axis=axis, keepdims=True)\n",
    "    exp_x = np.exp(x_shifted)\n",
    "    return exp_x / np.sum(exp_x, axis=axis, keepdims=True)"
   ],
   "id": "5f90db560e9a6cf8",
   "outputs": [],
   "execution_count": 4
  },
  {
   "metadata": {
    "ExecuteTime": {
     "end_time": "2025-04-21T20:34:10.858730Z",
     "start_time": "2025-04-21T20:33:47.341599Z"
    }
   },
   "cell_type": "code",
   "source": [
    "max_iterations = 10000\n",
    "batch_size = 128\n",
    "lossi = []\n",
    "\n",
    "for i in range(max_iterations):\n",
    "\n",
    "    #mini batch\n",
    "    ix = np.random.randint(0, Xtrain.shape[0], (batch_size,))\n",
    "    Xb, Yb = Xtrain[ix], ytrain[ix]\n",
    "\n",
    "    #farward pass\n",
    "    hpreact = np.dot(Xb, W1) + b1\n",
    "    h1 = np.maximum(hpreact, 0)\n",
    "\n",
    "    scores = np.dot(h1, W2) + b2\n",
    "\n",
    "    # backward pass\n",
    "    loss = softmax_loss(scores, Yb)\n",
    "    lossi.append(loss)\n",
    "    dscores = softmax_numpy(scores)\n",
    "    dscores[np.arange(Xb.shape[0]), Yb] -= 1\n",
    "    dscores /= Xb.shape[0]\n",
    "\n",
    "    dW2 = np.dot(h1.T, dscores)\n",
    "    db2 = np.sum(dscores, axis=0)\n",
    "    dh1 = np.dot(dscores, W2.T)\n",
    "    dhpreact = dh1 * (hpreact > 0)\n",
    "    dW1 = np.dot(Xb.T, dhpreact)\n",
    "    db1 = np.sum(dhpreact, axis=0)\n",
    "\n",
    "    grads = [dW1, db1, dW2, db2]\n",
    "    # print(grads)\n",
    "    lr = 0.01\n",
    "    W1 += -lr * dW1\n",
    "    b1 += -lr * db1\n",
    "    W2 += -lr * dW2\n",
    "    b2 += -lr * db2\n",
    "    if i % 100 == 0:\n",
    "        print(f\"loss: {loss:.4f}\")"
   ],
   "id": "8f2704726d9f8fe6",
   "outputs": [
    {
     "name": "stdout",
     "output_type": "stream",
     "text": [
      "loss: 2.3001\n",
      "loss: 2.2858\n",
      "loss: 2.2276\n",
      "loss: 2.1795\n",
      "loss: 2.0487\n",
      "loss: 2.0658\n",
      "loss: 2.0124\n",
      "loss: 1.9976\n",
      "loss: 1.9081\n",
      "loss: 1.9235\n",
      "loss: 1.9197\n",
      "loss: 2.0006\n",
      "loss: 1.9379\n",
      "loss: 1.9834\n",
      "loss: 1.9171\n",
      "loss: 1.9347\n",
      "loss: 1.8084\n",
      "loss: 1.7996\n",
      "loss: 1.8526\n",
      "loss: 1.8769\n",
      "loss: 1.7104\n",
      "loss: 1.8085\n",
      "loss: 1.7006\n",
      "loss: 1.7699\n",
      "loss: 1.7523\n",
      "loss: 1.7233\n",
      "loss: 1.7909\n",
      "loss: 1.9427\n",
      "loss: 1.6853\n",
      "loss: 1.8465\n",
      "loss: 1.6701\n",
      "loss: 1.8113\n",
      "loss: 1.7893\n",
      "loss: 1.6950\n",
      "loss: 1.6355\n",
      "loss: 1.6560\n",
      "loss: 1.8123\n",
      "loss: 1.7404\n",
      "loss: 1.8192\n",
      "loss: 1.6722\n",
      "loss: 1.6470\n",
      "loss: 1.6418\n",
      "loss: 1.7464\n",
      "loss: 1.6650\n",
      "loss: 1.5843\n",
      "loss: 1.5997\n",
      "loss: 1.6049\n",
      "loss: 1.6962\n",
      "loss: 1.5891\n",
      "loss: 1.5935\n",
      "loss: 1.5866\n",
      "loss: 1.6931\n",
      "loss: 1.6442\n",
      "loss: 1.6288\n",
      "loss: 1.6645\n",
      "loss: 1.5755\n",
      "loss: 1.5763\n",
      "loss: 1.6560\n",
      "loss: 1.7030\n",
      "loss: 1.5318\n",
      "loss: 1.6440\n",
      "loss: 1.5358\n",
      "loss: 1.6388\n",
      "loss: 1.5041\n",
      "loss: 1.6081\n",
      "loss: 1.5422\n",
      "loss: 1.4966\n",
      "loss: 1.4918\n",
      "loss: 1.5987\n",
      "loss: 1.4579\n",
      "loss: 1.7661\n",
      "loss: 1.4817\n",
      "loss: 1.6167\n",
      "loss: 1.4661\n",
      "loss: 1.4701\n",
      "loss: 1.5160\n",
      "loss: 1.5900\n",
      "loss: 1.6496\n",
      "loss: 1.5247\n",
      "loss: 1.5740\n",
      "loss: 1.5784\n",
      "loss: 1.4871\n",
      "loss: 1.4458\n",
      "loss: 1.6896\n",
      "loss: 1.5632\n",
      "loss: 1.5513\n",
      "loss: 1.5271\n",
      "loss: 1.4890\n",
      "loss: 1.4256\n",
      "loss: 1.3894\n",
      "loss: 1.4562\n",
      "loss: 1.4626\n",
      "loss: 1.3351\n",
      "loss: 1.6241\n",
      "loss: 1.5109\n",
      "loss: 1.5664\n",
      "loss: 1.4383\n",
      "loss: 1.4789\n",
      "loss: 1.3564\n",
      "loss: 1.6188\n"
     ]
    }
   ],
   "execution_count": 5
  },
  {
   "metadata": {
    "ExecuteTime": {
     "end_time": "2025-04-21T20:34:16.638696Z",
     "start_time": "2025-04-21T20:34:16.029231Z"
    }
   },
   "cell_type": "code",
   "source": [
    "plt.figure()\n",
    "plt.subplot(121)\n",
    "plt.hist(h1.reshape(-1).tolist(), 50)\n",
    "plt.subplot(122)\n",
    "plt.hist(scores.reshape(-1).tolist(), 50)\n",
    "plt.subplot(221)\n",
    "plt.hist(W1.reshape(-1).tolist(), 50)\n",
    "plt.subplot(222)\n",
    "plt.hist(W2.reshape(-1).tolist(), 50)"
   ],
   "id": "78aa5b31b1d05ba7",
   "outputs": [
    {
     "data": {
      "text/plain": [
       "(array([  1.,   0.,   0.,   1.,   0.,   0.,   5.,   3.,   4.,   6.,   9.,\n",
       "          6.,  16.,  18.,  18.,  18.,  34.,  41.,  47.,  56.,  60.,  73.,\n",
       "        102.,  98., 122., 236., 251., 137.,  98.,  85.,  69.,  62.,  59.,\n",
       "         52.,  42.,  36.,  35.,  19.,  20.,  13.,  14.,   5.,   7.,   7.,\n",
       "          6.,   3.,   1.,   2.,   2.,   1.]),\n",
       " array([-0.39279038, -0.37780148, -0.36281257, -0.34782367, -0.33283476,\n",
       "        -0.31784586, -0.30285696, -0.28786805, -0.27287915, -0.25789024,\n",
       "        -0.24290134, -0.22791243, -0.21292353, -0.19793463, -0.18294572,\n",
       "        -0.16795682, -0.15296791, -0.13797901, -0.1229901 , -0.1080012 ,\n",
       "        -0.09301229, -0.07802339, -0.06303449, -0.04804558, -0.03305668,\n",
       "        -0.01806777, -0.00307887,  0.01191004,  0.02689894,  0.04188784,\n",
       "         0.05687675,  0.07186565,  0.08685456,  0.10184346,  0.11683237,\n",
       "         0.13182127,  0.14681018,  0.16179908,  0.17678798,  0.19177689,\n",
       "         0.20676579,  0.2217547 ,  0.2367436 ,  0.25173251,  0.26672141,\n",
       "         0.28171032,  0.29669922,  0.31168812,  0.32667703,  0.34166593,\n",
       "         0.35665484]),\n",
       " <BarContainer object of 50 artists>)"
      ]
     },
     "execution_count": 6,
     "metadata": {},
     "output_type": "execute_result"
    },
    {
     "data": {
      "text/plain": [
       "<Figure size 640x480 with 4 Axes>"
      ],
      "image/png": "[encoded data removed]"
     },
     "metadata": {},
     "output_type": "display_data"
    }
   ],
   "execution_count": 6
  },
  {
   "metadata": {
    "ExecuteTime": {
     "end_time": "2025-04-21T20:34:33.809083Z",
     "start_time": "2025-04-21T20:34:33.733530Z"
    }
   },
   "cell_type": "code",
   "source": "plt.plot(lossi)",
   "id": "3e06d14ec7c62e7d",
   "outputs": [
    {
     "data": {
      "text/plain": [
       "[<matplotlib.lines.Line2D at 0x107e71100>]"
      ]
     },
     "execution_count": 7,
     "metadata": {},
     "output_type": "execute_result"
    },
    {
     "data": {
      "text/plain": [
       "<Figure size 640x480 with 1 Axes>"
      ],
      "image/png": "[encoded data removed]"
     },
     "metadata": {},
     "output_type": "display_data"
    }
   ],
   "execution_count": 7
  },
  {
   "metadata": {
    "ExecuteTime": {
     "end_time": "2025-04-21T20:34:38.096978Z",
     "start_time": "2025-04-21T20:34:37.775520Z"
    }
   },
   "cell_type": "code",
   "source": [
    "def split_loss(split):\n",
    "    x, y = {\n",
    "        'train': (Xtrain, ytrain),\n",
    "        'dev': (Xdev, ydev),\n",
    "        'test': (Xtest, ytest),\n",
    "    }[split]\n",
    "    h1 = np.dot(x, W1) + b1\n",
    "    scores = np.dot(h1, W2) + b2\n",
    "    loss = softmax_loss(scores, y)\n",
    "    print(f\"{split} => loss: {loss:.4f}\")\n",
    "\n",
    "split_loss('train')\n",
    "split_loss('dev')\n"
   ],
   "id": "9a02b2f10638266a",
   "outputs": [
    {
     "name": "stdout",
     "output_type": "stream",
     "text": [
      "train => loss: 1.9446\n",
      "dev => loss: 2.0247\n"
     ]
    }
   ],
   "execution_count": 8
  },
  {
   "metadata": {
    "ExecuteTime": {
     "end_time": "2025-04-21T20:34:43.580006Z",
     "start_time": "2025-04-21T20:34:43.516805Z"
    }
   },
   "cell_type": "code",
   "source": "split_loss('test')",
   "id": "fa5288c543b6adb6",
   "outputs": [
    {
     "name": "stdout",
     "output_type": "stream",
     "text": [
      "test => loss: 2.0173\n"
     ]
    }
   ],
   "execution_count": 9
  },
  {
   "metadata": {
    "ExecuteTime": {
     "end_time": "2025-04-21T20:34:45.515111Z",
     "start_time": "2025-04-21T20:34:45.455109Z"
    }
   },
   "cell_type": "code",
   "source": [
    "def accuracy(x, labels):\n",
    "    h1 = np.dot(x, W1) + b1\n",
    "    scores = np.dot(h1, W2) + b2\n",
    "    probs = softmax_numpy(scores)\n",
    "\n",
    "    preds = np.argmax(probs, axis=1)\n",
    "    return np.mean(preds == labels)\n",
    "\n",
    "accuracy(Xtest, ytest)\n"
   ],
   "id": "501a786decca14c3",
   "outputs": [
    {
     "data": {
      "text/plain": [
       "np.float64(0.3387)"
      ]
     },
     "execution_count": 10,
     "metadata": {},
     "output_type": "execute_result"
    }
   ],
   "execution_count": 10
  },
  {
   "metadata": {},
   "cell_type": "code",
   "outputs": [],
   "execution_count": null,
   "source": "",
   "id": "6aad1344463f1a9b"
  }
 ],
 "metadata": {
  "kernelspec": {
   "display_name": "Python 3",
   "language": "python",
   "name": "python3"
  },
  "language_info": {
   "codemirror_mode": {
    "name": "ipython",
    "version": 2
   },
   "file_extension": ".py",
   "mimetype": "text/x-python",
   "name": "python",
   "nbconvert_exporter": "python",
   "pygments_lexer": "ipython2",
   "version": "2.7.6"
  }
 },
 "nbformat": 4,
 "nbformat_minor": 5
}
