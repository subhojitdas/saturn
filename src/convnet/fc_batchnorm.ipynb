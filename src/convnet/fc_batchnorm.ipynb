{
 "cells": [
  {
   "cell_type": "code",
   "id": "initial_id",
   "metadata": {
    "collapsed": true,
    "ExecuteTime": {
     "end_time": "2025-04-23T19:17:39.397570Z",
     "start_time": "2025-04-23T19:17:38.373119Z"
    }
   },
   "source": [
    "import numpy as np\n",
    "import matplotlib.pyplot as plt\n",
    "\n",
    "from data_loader import CIFAR_10_DataLoader\n",
    "import torch\n",
    "import losses\n",
    "from zth_scratchpad.makemore.makemore_batchnorm import n_hidden\n",
    "%matplotlib inline"
   ],
   "outputs": [],
   "execution_count": 1
  },
  {
   "metadata": {
    "ExecuteTime": {
     "end_time": "2025-04-23T19:20:19.250514Z",
     "start_time": "2025-04-23T19:20:18.946122Z"
    }
   },
   "cell_type": "code",
   "source": [
    "file_directory = '/Users/subhojit/Downloads/cifar-10-batches-py'\n",
    "xtrain_data, ytrain, Xtest, ytest = CIFAR_10_DataLoader().load_cifar_10_dataset(file_directory)\n",
    "\n",
    "xtrain = xtrain_data.astype(np.float32) / 255.0\n",
    "Xtest = Xtest.astype(np.float32) / 255.0\n",
    "\n",
    "n1 = int(0.8 * len(xtrain_data))\n",
    "Xtrain = xtrain_data[:n1]\n",
    "ytrain = ytrain[:n1]\n",
    "Xdev = xtrain_data[n1:]\n",
    "ydev = ytrain[n1:]\n",
    "\n",
    "num_classes = len(set(ytrain))"
   ],
   "id": "1d84c73c47c787e3",
   "outputs": [],
   "execution_count": 5
  },
  {
   "metadata": {
    "ExecuteTime": {
     "end_time": "2025-04-23T19:25:15.813551Z",
     "start_time": "2025-04-23T19:25:15.798175Z"
    }
   },
   "cell_type": "code",
   "source": [
    "np.random.seed(18)\n",
    "n_hidden = 200\n",
    "std_dev = 1e-2\n",
    "W1 = np.random.randn(3072, n_hidden) * std_dev\n",
    "b1 = np.zeros(n_hidden)\n",
    "W2 = np.random.randn(n_hidden, num_classes) * std_dev\n",
    "b2 = np.zeros(num_classes)\n",
    "bngain = np.ones((1, n_hidden))\n",
    "bnbias = np.zeros((1, n_hidden))\n",
    "\n",
    "parameters = [W1, b1, W2, b2, bngain, bnbias]\n",
    "\n",
    "print(sum(p.size for p in parameters))"
   ],
   "id": "c3e9d10a0f050c4f",
   "outputs": [
    {
     "name": "stdout",
     "output_type": "stream",
     "text": [
      "617010\n"
     ]
    }
   ],
   "execution_count": 8
  },
  {
   "metadata": {
    "ExecuteTime": {
     "end_time": "2025-04-23T19:25:34.419117Z",
     "start_time": "2025-04-23T19:25:34.414479Z"
    }
   },
   "cell_type": "code",
   "source": [
    "def softmax_loss(scores, y):\n",
    "    epsilon = 1e-12\n",
    "    num_examples = scores.shape[0]\n",
    "    shifted_scores = scores - np.max(scores, axis=1, keepdims=True)\n",
    "    exp_scores = np.exp(shifted_scores)\n",
    "    probs = exp_scores / np.sum(exp_scores, axis=1, keepdims=True)\n",
    "    correct_log_probs = -np.log(probs[np.arange(num_examples), y] + epsilon)\n",
    "    loss = np.mean(correct_log_probs)\n",
    "    return loss\n",
    "\n",
    "\n",
    "def softmax_numpy(x, axis=1):\n",
    "    x_shifted = x - np.max(x, axis=axis, keepdims=True)\n",
    "    exp_x = np.exp(x_shifted)\n",
    "    return exp_x / np.sum(exp_x, axis=axis, keepdims=True)"
   ],
   "id": "f341fb80c3b4ebda",
   "outputs": [],
   "execution_count": 9
  },
  {
   "metadata": {
    "ExecuteTime": {
     "end_time": "2025-04-23T20:33:45.054570Z",
     "start_time": "2025-04-23T20:33:45.046386Z"
    }
   },
   "cell_type": "code",
   "source": [
    "max_iterations = 100\n",
    "batch_size = 128\n",
    "n = batch_size\n",
    "lossi = []\n",
    "Hs = []\n",
    "\n",
    "for i in range(max_iterations):\n",
    "\n",
    "    #mini batch\n",
    "    ix = np.random.randint(0, Xtrain.shape[0], (batch_size,))\n",
    "    Xb, Yb = Xtrain[ix], ytrain[ix]\n",
    "\n",
    "\n",
    "    #farward pass\n",
    "    hpreact = np.dot(Xb, W1) + b1\n",
    "    # batch norm\n",
    "    bnmeani = (1/n)*hpreact.sum(0, keepdims=True)\n",
    "    #bnstdi = hpreact.std(0, keepdims=True)\n",
    "    bndiff = hpreact - bnmeani\n",
    "    bndiff2 = bndiff**2\n",
    "    bnvar = 1/(n-1)*(bndiff2).sum(0, keepdims=True)\n",
    "    bnvar_inv = (bnvar + 1e-5)**-0.5\n",
    "    xhat = bndiff * bnvar_inv\n",
    "    bnout = bngain * xhat + bnbias # element-wise multiply\n",
    "\n",
    "    h1 = np.maximum(bnout, 0)\n",
    "    scores = np.dot(h1, W2) + b2\n",
    "\n",
    "    # backward pass\n",
    "    loss = softmax_loss(scores, Yb)\n",
    "    lossi.append(loss)\n",
    "    dscores = softmax_numpy(scores)\n",
    "    dscores[np.arange(Xb.shape[0]), Yb] -= 1\n",
    "    dscores /= Xb.shape[0]\n",
    "\n",
    "    dW2 = np.dot(h1.T, dscores)\n",
    "    db2 = np.sum(dscores, axis=0)\n",
    "    dh1 = np.dot(dscores, W2.T)\n",
    "    dbnout = dh1 * (bnout > 0)\n",
    "    dbnbias = dbnout.sum(0, keepdims=True)\n",
    "    dxhat = bngain * dbnout\n",
    "    dbngain = (dbnout * xhat).sum(0, keepdims=True)\n",
    "    dbnvar_inv = (dxhat * bndiff).sum(0, keepdims=True)\n",
    "    dbndiff = bnvar_inv * dxhat\n",
    "    dbnvar_inv =\n",
    "\n",
    "\n",
    "    dhpreact = 1\n",
    "\n",
    "    dW1 = np.dot(Xb.T, dhpreact)\n",
    "    db1 = np.sum(dhpreact, axis=0)\n",
    "\n",
    "    grads = [dW1, db1, dW2, db2]\n",
    "    # print(grads)\n",
    "    lr = 0.01\n",
    "    W1 += -lr * dW1\n",
    "    b1 += -lr * db1\n",
    "    W2 += -lr * dW2\n",
    "    b2 += -lr * db2\n",
    "    if i % 100 == 0:\n",
    "        print(f\"loss: {loss:.4f}\")\n",
    "        break"
   ],
   "id": "45bf85bc2e630b66",
   "outputs": [
    {
     "name": "stdout",
     "output_type": "stream",
     "text": [
      "loss: 2.0524\n"
     ]
    }
   ],
   "execution_count": 14
  },
  {
   "metadata": {
    "ExecuteTime": {
     "end_time": "2025-04-23T20:33:47.270353Z",
     "start_time": "2025-04-23T20:33:47.266885Z"
    }
   },
   "cell_type": "code",
   "source": "bndiff.shape",
   "id": "82915d5da93dc29c",
   "outputs": [
    {
     "data": {
      "text/plain": [
       "(128, 200)"
      ]
     },
     "execution_count": 15,
     "metadata": {},
     "output_type": "execute_result"
    }
   ],
   "execution_count": 15
  },
  {
   "metadata": {},
   "cell_type": "code",
   "outputs": [],
   "execution_count": null,
   "source": "",
   "id": "a228af7716e4089a"
  }
 ],
 "metadata": {
  "kernelspec": {
   "display_name": "Python 3",
   "language": "python",
   "name": "python3"
  },
  "language_info": {
   "codemirror_mode": {
    "name": "ipython",
    "version": 2
   },
   "file_extension": ".py",
   "mimetype": "text/x-python",
   "name": "python",
   "nbconvert_exporter": "python",
   "pygments_lexer": "ipython2",
   "version": "2.7.6"
  }
 },
 "nbformat": 4,
 "nbformat_minor": 5
}
