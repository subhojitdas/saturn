{
 "cells": [
  {
   "cell_type": "code",
   "id": "initial_id",
   "metadata": {
    "collapsed": true,
    "ExecuteTime": {
     "end_time": "2025-05-17T18:46:37.007243Z",
     "start_time": "2025-05-17T18:46:36.241083Z"
    }
   },
   "source": [
    "import pandas as pd\n",
    "import torch\n",
    "\n",
    "import os, sys\n",
    "\n",
    "import torch.nn.functional\n",
    "import torch.nn.functional as F\n",
    "\n",
    "project_root = os.path.abspath('/Users/subhojit/workspace/saturn/src')\n",
    "if project_root not in sys.path:\n",
    "    sys.path.append(project_root)\n",
    "\n",
    "# from tok.basic import *\n",
    "from tok.regex_tok import *\n",
    "\n",
    "import matplotlib.pyplot as plt\n",
    "%matplotlib inline"
   ],
   "outputs": [],
   "execution_count": 1
  },
  {
   "metadata": {
    "ExecuteTime": {
     "end_time": "2025-05-18T08:51:52.620363Z",
     "start_time": "2025-05-17T19:07:22.708370Z"
    }
   },
   "cell_type": "code",
   "source": [
    "text = open('raw_text.txt', 'r').read()\n",
    "\n",
    "rtok = RegexTokenizer()\n",
    "rtok.train(text, 1000, verbose=False)\n",
    "rtok.vocab"
   ],
   "id": "7b355b8ed18b0d40",
   "outputs": [
    {
     "ename": "KeyboardInterrupt",
     "evalue": "",
     "output_type": "error",
     "traceback": [
      "\u001B[0;31m---------------------------------------------------------------------------\u001B[0m",
      "\u001B[0;31mKeyboardInterrupt\u001B[0m                         Traceback (most recent call last)",
      "Cell \u001B[0;32mIn[8], line 4\u001B[0m\n\u001B[1;32m      1\u001B[0m text \u001B[38;5;241m=\u001B[39m \u001B[38;5;28mopen\u001B[39m(\u001B[38;5;124m'\u001B[39m\u001B[38;5;124mraw_text.txt\u001B[39m\u001B[38;5;124m'\u001B[39m, \u001B[38;5;124m'\u001B[39m\u001B[38;5;124mr\u001B[39m\u001B[38;5;124m'\u001B[39m)\u001B[38;5;241m.\u001B[39mread()\n\u001B[1;32m      3\u001B[0m rtok \u001B[38;5;241m=\u001B[39m RegexTokenizer()\n\u001B[0;32m----> 4\u001B[0m \u001B[43mrtok\u001B[49m\u001B[38;5;241;43m.\u001B[39;49m\u001B[43mtrain\u001B[49m\u001B[43m(\u001B[49m\u001B[43mtext\u001B[49m\u001B[43m,\u001B[49m\u001B[43m \u001B[49m\u001B[38;5;241;43m1000\u001B[39;49m\u001B[43m,\u001B[49m\u001B[43m \u001B[49m\u001B[43mverbose\u001B[49m\u001B[38;5;241;43m=\u001B[39;49m\u001B[38;5;28;43;01mFalse\u001B[39;49;00m\u001B[43m)\u001B[49m\n\u001B[1;32m      5\u001B[0m rtok\u001B[38;5;241m.\u001B[39mvocab\n",
      "File \u001B[0;32m~/workspace/saturn/src/tok/regex_tok.py:60\u001B[0m, in \u001B[0;36mRegexTokenizer.train\u001B[0;34m(self, text, vocab_size, verbose)\u001B[0m\n\u001B[1;32m     58\u001B[0m idx \u001B[38;5;241m=\u001B[39m \u001B[38;5;241m256\u001B[39m \u001B[38;5;241m+\u001B[39m i\n\u001B[1;32m     59\u001B[0m \u001B[38;5;66;03m# replace all occurrences of pair in ids with idx\u001B[39;00m\n\u001B[0;32m---> 60\u001B[0m ids \u001B[38;5;241m=\u001B[39m [merge(chunk_ids, pair, idx) \u001B[38;5;28;01mfor\u001B[39;00m chunk_ids \u001B[38;5;129;01min\u001B[39;00m ids]\n\u001B[1;32m     61\u001B[0m \u001B[38;5;66;03m# save the merge\u001B[39;00m\n\u001B[1;32m     62\u001B[0m merges[pair] \u001B[38;5;241m=\u001B[39m idx\n",
      "File \u001B[0;32m~/workspace/saturn/src/tok/regex_tok.py:60\u001B[0m, in \u001B[0;36m<listcomp>\u001B[0;34m(.0)\u001B[0m\n\u001B[1;32m     58\u001B[0m idx \u001B[38;5;241m=\u001B[39m \u001B[38;5;241m256\u001B[39m \u001B[38;5;241m+\u001B[39m i\n\u001B[1;32m     59\u001B[0m \u001B[38;5;66;03m# replace all occurrences of pair in ids with idx\u001B[39;00m\n\u001B[0;32m---> 60\u001B[0m ids \u001B[38;5;241m=\u001B[39m [\u001B[43mmerge\u001B[49m\u001B[43m(\u001B[49m\u001B[43mchunk_ids\u001B[49m\u001B[43m,\u001B[49m\u001B[43m \u001B[49m\u001B[43mpair\u001B[49m\u001B[43m,\u001B[49m\u001B[43m \u001B[49m\u001B[43midx\u001B[49m\u001B[43m)\u001B[49m \u001B[38;5;28;01mfor\u001B[39;00m chunk_ids \u001B[38;5;129;01min\u001B[39;00m ids]\n\u001B[1;32m     61\u001B[0m \u001B[38;5;66;03m# save the merge\u001B[39;00m\n\u001B[1;32m     62\u001B[0m merges[pair] \u001B[38;5;241m=\u001B[39m idx\n",
      "File \u001B[0;32m~/workspace/saturn/src/tok/base.py:41\u001B[0m, in \u001B[0;36mmerge\u001B[0;34m(ids, pair, idx)\u001B[0m\n\u001B[1;32m     39\u001B[0m         i \u001B[38;5;241m+\u001B[39m\u001B[38;5;241m=\u001B[39m \u001B[38;5;241m2\u001B[39m\n\u001B[1;32m     40\u001B[0m     \u001B[38;5;28;01melse\u001B[39;00m:\n\u001B[0;32m---> 41\u001B[0m         \u001B[43mnewids\u001B[49m\u001B[38;5;241;43m.\u001B[39;49m\u001B[43mappend\u001B[49m(ids[i])\n\u001B[1;32m     42\u001B[0m         i \u001B[38;5;241m+\u001B[39m\u001B[38;5;241m=\u001B[39m \u001B[38;5;241m1\u001B[39m\n\u001B[1;32m     43\u001B[0m \u001B[38;5;28;01mreturn\u001B[39;00m newids\n",
      "\u001B[0;31mKeyboardInterrupt\u001B[0m: "
     ]
    }
   ],
   "execution_count": 8
  },
  {
   "metadata": {
    "ExecuteTime": {
     "end_time": "2025-05-17T18:58:14.147364Z",
     "start_time": "2025-05-17T18:53:22.781660Z"
    }
   },
   "cell_type": "code",
   "source": [
    "enc = rtok.encode(\"Hello world how are you ?\")\n",
    "print([rtok.vocab[i] for i in enc])"
   ],
   "id": "1cc9f2f08c1efebb",
   "outputs": [
    {
     "name": "stdout",
     "output_type": "stream",
     "text": [
      "[b'H', b'e', b'll', b'o', b' world', b' how', b' are', b' you', b' ', b'?']\n"
     ]
    }
   ],
   "execution_count": 7
  },
  {
   "metadata": {},
   "cell_type": "code",
   "outputs": [],
   "execution_count": null,
   "source": "",
   "id": "e11bc418de384bec"
  }
 ],
 "metadata": {
  "kernelspec": {
   "display_name": "Python 3",
   "language": "python",
   "name": "python3"
  },
  "language_info": {
   "codemirror_mode": {
    "name": "ipython",
    "version": 2
   },
   "file_extension": ".py",
   "mimetype": "text/x-python",
   "name": "python",
   "nbconvert_exporter": "python",
   "pygments_lexer": "ipython2",
   "version": "2.7.6"
  }
 },
 "nbformat": 4,
 "nbformat_minor": 5
}
