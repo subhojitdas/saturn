{
 "cells": [
  {
   "cell_type": "code",
   "id": "initial_id",
   "metadata": {
    "collapsed": true,
    "ExecuteTime": {
     "end_time": "2025-08-22T13:51:38.470019Z",
     "start_time": "2025-08-22T13:51:38.462951Z"
    }
   },
   "source": [
    "import pandas as pd\n",
    "\n",
    "df = pd.read_csv(\"instance_data.tsv\", sep=\"\\t\")\n",
    "\n",
    "df.keys()\n",
    "\n",
    "prompt_200k_gone, prompt_32k_gone, sample_200k_gone, sample_32k_gone = 0, 0, 0, 0\n",
    "\n",
    "for index, row in df.iterrows():\n",
    "    prompt_200k_gone += row['PROMPT_OLIVE_200K']\n",
    "    prompt_32k_gone += row['PROMPT_OLIVE_32K']\n",
    "    sample_200k_gone += row['SAMPLE_OLIVE_200K']\n",
    "    sample_32k_gone += row['SAMPLE_OLIVE_32K']\n",
    "\n",
    "print(prompt_200k_gone, prompt_32k_gone, sample_200k_gone, sample_32k_gone)\n",
    "\n"
   ],
   "outputs": [
    {
     "name": "stdout",
     "output_type": "stream",
     "text": [
      "182 87 132 32\n"
     ]
    }
   ],
   "execution_count": 36
  },
  {
   "metadata": {
    "ExecuteTime": {
     "end_time": "2025-08-22T13:12:09.455922Z",
     "start_time": "2025-08-22T13:12:09.453053Z"
    }
   },
   "cell_type": "code",
   "source": "df.keys()",
   "id": "af3e1f7c15f88df0",
   "outputs": [
    {
     "data": {
      "text/plain": [
       "Index(['odcr_id', 'spine_id', 'cluster_name', 'PROMPT_OLIVE_1000K',\n",
       "       'PROMPT_OLIVE_200K', 'PROMPT_OLIVE_32K', 'SAMPLE_OLIVE_1000K',\n",
       "       'SAMPLE_OLIVE_200K', 'SAMPLE_OLIVE_32K', 'total_replicas',\n",
       "       'total_nodes', 'TotalInstanceCount'],\n",
       "      dtype='object')"
      ]
     },
     "execution_count": 31,
     "metadata": {},
     "output_type": "execute_result"
    }
   ],
   "execution_count": 31
  },
  {
   "metadata": {
    "ExecuteTime": {
     "end_time": "2025-08-22T13:14:43.679433Z",
     "start_time": "2025-08-22T13:14:43.675880Z"
    }
   },
   "cell_type": "code",
   "source": [
    "sample_32k_now = 98 + 52\n",
    "sample_200k_now = 233 + 174\n",
    "prompt_32k_now = 84 + 49\n",
    "prompt_200k_now = 231 + 123\n",
    "\n"
   ],
   "id": "8377881d48d4cfdd",
   "outputs": [],
   "execution_count": 32
  },
  {
   "metadata": {
    "ExecuteTime": {
     "end_time": "2025-08-22T13:14:45.121966Z",
     "start_time": "2025-08-22T13:14:45.118153Z"
    }
   },
   "cell_type": "code",
   "source": [
    "remain_sample_32k = sample_32k_now - sample_32k_gone\n",
    "remain_sample_200k = sample_200k_now - sample_200k_gone\n",
    "remain_prompt_32k = prompt_32k_now - prompt_32k_gone\n",
    "remain_prompt_200k = prompt_200k_now - prompt_200k_gone\n",
    "\n",
    "\n",
    "remain_sample_32k, remain_sample_200k, remain_prompt_32k, remain_prompt_200k\n"
   ],
   "id": "28098225e024a9a8",
   "outputs": [
    {
     "data": {
      "text/plain": [
       "(118, 275, 46, 172)"
      ]
     },
     "execution_count": 33,
     "metadata": {},
     "output_type": "execute_result"
    }
   ],
   "execution_count": 33
  },
  {
   "metadata": {
    "ExecuteTime": {
     "end_time": "2025-08-22T13:16:32.480032Z",
     "start_time": "2025-08-22T13:16:32.476470Z"
    }
   },
   "cell_type": "code",
   "source": [
    "sample_32k_45s_now = 156\n",
    "sample_32k_49s_now = 164\n",
    "sample_200k_45s_now = 300\n",
    "sample_200k_49s_now = 232\n",
    "prompt_32k_45s_now = 85\n",
    "prompt_32k_49s_now = 46\n",
    "prompt_200k_45s_now = 169\n",
    "prompt_200k_49s_now = 130\n"
   ],
   "id": "60d52785638bf9a6",
   "outputs": [],
   "execution_count": 34
  },
  {
   "metadata": {
    "ExecuteTime": {
     "end_time": "2025-08-22T13:16:33.992451Z",
     "start_time": "2025-08-22T13:16:33.985498Z"
    }
   },
   "cell_type": "code",
   "source": [
    "sample_32k_45s_gone = 0\n",
    "sample_32k_49s_gone = 0\n",
    "sample_200k_45s_gone = 0\n",
    "sample_200k_49s_gone = 0\n",
    "prompt_32k_45s_gone = 0\n",
    "prompt_32k_49s_gone = 0\n",
    "prompt_200k_45s_gone = 0\n",
    "prompt_200k_49s_gone = 0\n",
    "\n",
    "\n",
    "for index, row in df.iterrows():\n",
    "    cluster = row['cluster_name']\n",
    "\n",
    "    if cluster == 'cell-1-c1s45-olive-trn2-1':\n",
    "        prompt_200k_45s_gone += row['PROMPT_OLIVE_200K']\n",
    "        prompt_32k_45s_gone += row['PROMPT_OLIVE_32K']\n",
    "        sample_200k_45s_gone += row['SAMPLE_OLIVE_200K']\n",
    "        sample_32k_45s_gone += row['SAMPLE_OLIVE_32K']\n",
    "    elif cluster == 'cell-1-c1s49-olive-trn2-1':\n",
    "        prompt_200k_49s_gone += row['PROMPT_OLIVE_200K']\n",
    "        prompt_32k_49s_gone += row['PROMPT_OLIVE_32K']\n",
    "        sample_200k_49s_gone += row['SAMPLE_OLIVE_200K']\n",
    "        sample_32k_49s_gone += row['SAMPLE_OLIVE_32K']\n",
    "\n",
    "\n",
    "remain_sample_32k_45s = sample_32k_45s_now - sample_32k_45s_gone\n",
    "remain_sample_200k_45s = sample_200k_45s_now - sample_200k_45s_gone\n",
    "\n",
    "remain_sample_32k_49s = sample_32k_49s_now - sample_32k_49s_gone\n",
    "remain_sample_200k_49s = sample_200k_49s_now - sample_200k_49s_gone\n",
    "\n",
    "remain_prompt_32k_45s = prompt_32k_45s_now - prompt_32k_45s_gone\n",
    "remain_prompt_200k_45s = prompt_200k_45s_now - prompt_200k_45s_gone\n",
    "\n",
    "remain_prompt_32k_49s = prompt_32k_49s_now - prompt_32k_49s_gone\n",
    "remain_prompt_200k_49s = prompt_200k_49s_now - prompt_200k_49s_gone\n",
    "\n",
    "\n",
    "remain_sample_32k_45s / remain_prompt_32k_45s"
   ],
   "id": "72a69a625095c5a2",
   "outputs": [
    {
     "data": {
      "text/plain": [
       "4.793103448275862"
      ]
     },
     "execution_count": 35,
     "metadata": {},
     "output_type": "execute_result"
    }
   ],
   "execution_count": 35
  },
  {
   "metadata": {},
   "cell_type": "code",
   "outputs": [],
   "execution_count": null,
   "source": "",
   "id": "7b1bb230803019b7"
  }
 ],
 "metadata": {
  "kernelspec": {
   "display_name": "Python 3",
   "language": "python",
   "name": "python3"
  },
  "language_info": {
   "codemirror_mode": {
    "name": "ipython",
    "version": 2
   },
   "file_extension": ".py",
   "mimetype": "text/x-python",
   "name": "python",
   "nbconvert_exporter": "python",
   "pygments_lexer": "ipython2",
   "version": "2.7.6"
  }
 },
 "nbformat": 4,
 "nbformat_minor": 5
}
