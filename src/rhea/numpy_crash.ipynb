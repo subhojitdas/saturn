{
 "cells": [
  {
   "cell_type": "code",
   "id": "initial_id",
   "metadata": {
    "collapsed": true
   },
   "source": [
    "import random\n",
    "\n",
    "from imageio.v2 import sizes\n",
    "\n",
    "\n",
    "def quicksort(arr):\n",
    "    if len(arr) <= 1:\n",
    "        return arr\n",
    "    pivot = arr[len(arr) // 2]\n",
    "    left = [x for x in arr if x < pivot]\n",
    "    middle = [x for x in arr if x == pivot]\n",
    "    right = [x for x in arr if x > pivot]\n",
    "\n",
    "    return quicksort(left) + middle + quicksort(right)\n",
    "\n",
    "num = list(range(1, 100))\n",
    "random.shuffle(num)\n",
    "print(num)\n",
    "sorted_num = quicksort(num)\n",
    "print(sorted_num)"
   ],
   "outputs": [],
   "execution_count": null
  },
  {
   "metadata": {
    "ExecuteTime": {
     "end_time": "2025-04-19T15:07:51.329389Z",
     "start_time": "2025-04-19T15:07:51.325732Z"
    }
   },
   "cell_type": "code",
   "source": "sorted_num[-3]",
   "id": "e5893c0e16acd035",
   "outputs": [
    {
     "data": {
      "text/plain": [
       "97"
      ]
     },
     "execution_count": 5,
     "metadata": {},
     "output_type": "execute_result"
    }
   ],
   "execution_count": 5
  },
  {
   "metadata": {
    "ExecuteTime": {
     "end_time": "2025-05-05T20:02:14.511748Z",
     "start_time": "2025-05-05T20:02:14.444010Z"
    }
   },
   "cell_type": "code",
   "source": [
    "import numpy as np\n",
    "\n",
    "a = np.array([1,2,3,4,5])\n",
    "a.shape"
   ],
   "id": "9f6066c6c597ebfe",
   "outputs": [
    {
     "data": {
      "text/plain": [
       "(5,)"
      ]
     },
     "execution_count": 2,
     "metadata": {},
     "output_type": "execute_result"
    }
   ],
   "execution_count": 2
  },
  {
   "metadata": {
    "ExecuteTime": {
     "end_time": "2025-04-19T15:17:53.152063Z",
     "start_time": "2025-04-19T15:17:53.150033Z"
    }
   },
   "cell_type": "code",
   "source": "a = np.array([[1,2,3,4], [5,6,7,8], [9,10,11,12]])",
   "id": "232063a54aee7b90",
   "outputs": [],
   "execution_count": 8
  },
  {
   "metadata": {
    "ExecuteTime": {
     "end_time": "2025-04-19T15:17:54.737391Z",
     "start_time": "2025-04-19T15:17:54.734135Z"
    }
   },
   "cell_type": "code",
   "source": "a",
   "id": "db023c8abafda48f",
   "outputs": [
    {
     "data": {
      "text/plain": [
       "array([[ 1,  2,  3,  4],\n",
       "       [ 5,  6,  7,  8],\n",
       "       [ 9, 10, 11, 12]])"
      ]
     },
     "execution_count": 9,
     "metadata": {},
     "output_type": "execute_result"
    }
   ],
   "execution_count": 9
  },
  {
   "metadata": {
    "ExecuteTime": {
     "end_time": "2025-04-19T15:22:30.092994Z",
     "start_time": "2025-04-19T15:22:30.089034Z"
    }
   },
   "cell_type": "code",
   "source": "a[1:3, :].shape",
   "id": "ae0dce7215d3ffd3",
   "outputs": [
    {
     "data": {
      "text/plain": [
       "(2, 4)"
      ]
     },
     "execution_count": 17,
     "metadata": {},
     "output_type": "execute_result"
    }
   ],
   "execution_count": 17
  },
  {
   "metadata": {
    "ExecuteTime": {
     "end_time": "2025-04-19T15:21:27.612215Z",
     "start_time": "2025-04-19T15:21:27.608731Z"
    }
   },
   "cell_type": "code",
   "source": "a[1, :].shape",
   "id": "8c34033bc94bae19",
   "outputs": [
    {
     "data": {
      "text/plain": [
       "(4,)"
      ]
     },
     "execution_count": 13,
     "metadata": {},
     "output_type": "execute_result"
    }
   ],
   "execution_count": 13
  },
  {
   "metadata": {
    "ExecuteTime": {
     "end_time": "2025-04-19T15:21:34.879746Z",
     "start_time": "2025-04-19T15:21:34.875925Z"
    }
   },
   "cell_type": "code",
   "source": "a[1:2, :].shape",
   "id": "148017a24ea640f2",
   "outputs": [
    {
     "data": {
      "text/plain": [
       "(1, 4)"
      ]
     },
     "execution_count": 14,
     "metadata": {},
     "output_type": "execute_result"
    }
   ],
   "execution_count": 14
  },
  {
   "metadata": {
    "ExecuteTime": {
     "end_time": "2025-04-19T15:23:40.140388Z",
     "start_time": "2025-04-19T15:23:40.138538Z"
    }
   },
   "cell_type": "code",
   "source": "a = np.array([[1,2], [3, 4], [5, 6]])",
   "id": "2381da2e37b13b31",
   "outputs": [],
   "execution_count": 18
  },
  {
   "metadata": {
    "ExecuteTime": {
     "end_time": "2025-04-19T15:25:02.866955Z",
     "start_time": "2025-04-19T15:25:02.863906Z"
    }
   },
   "cell_type": "code",
   "source": [
    "ix = np.array([[0, 1, 2], [0, 1, 0]])\n",
    "\n",
    "print(a[ix])"
   ],
   "id": "1778aa032417824b",
   "outputs": [
    {
     "name": "stdout",
     "output_type": "stream",
     "text": [
      "[[[1 2]\n",
      "  [3 4]\n",
      "  [5 6]]\n",
      "\n",
      " [[1 2]\n",
      "  [3 4]\n",
      "  [1 2]]]\n"
     ]
    }
   ],
   "execution_count": 21
  },
  {
   "metadata": {
    "ExecuteTime": {
     "end_time": "2025-04-19T15:32:39.052759Z",
     "start_time": "2025-04-19T15:32:39.047999Z"
    }
   },
   "cell_type": "code",
   "source": [
    "x = np.array([[1,2],[3,4]])\n",
    "y = np.array([[5,6],[7,8]])\n",
    "\n",
    "v = np.array([9,10])\n",
    "w = np.array([11, 12])\n",
    "\n",
    "print(v.dot(w))\n",
    "print(np.dot(v, w))\n",
    "\n",
    "# Matrix / vector product; both produce the rank 1 array [29 67]\n",
    "print(x.dot(v))\n",
    "print(np.dot(x, v))\n",
    "\n",
    "# Matrix / matrix product; both produce the rank 2 array\n",
    "# [[19 22]\n",
    "#  [43 50]]\n",
    "print(x.dot(y))\n",
    "print(np.dot(x, y))"
   ],
   "id": "2a6240a6de36f943",
   "outputs": [
    {
     "name": "stdout",
     "output_type": "stream",
     "text": [
      "219\n",
      "219\n",
      "[29 67]\n",
      "[29 67]\n",
      "[[19 22]\n",
      " [43 50]]\n",
      "[[19 22]\n",
      " [43 50]]\n"
     ]
    }
   ],
   "execution_count": 22
  },
  {
   "metadata": {
    "ExecuteTime": {
     "end_time": "2025-04-19T15:36:11.186755Z",
     "start_time": "2025-04-19T15:36:11.184066Z"
    }
   },
   "cell_type": "code",
   "source": [
    "x = np.array([[1,2],[3,4]])\n",
    "\n",
    "print(x.sum())"
   ],
   "id": "8e3d55d30e1f35ca",
   "outputs": [
    {
     "name": "stdout",
     "output_type": "stream",
     "text": [
      "10\n"
     ]
    }
   ],
   "execution_count": 23
  },
  {
   "metadata": {
    "ExecuteTime": {
     "end_time": "2025-04-19T15:39:36.496497Z",
     "start_time": "2025-04-19T15:39:36.493253Z"
    }
   },
   "cell_type": "code",
   "source": [
    "print(x.sum(axis=0))\n",
    "print(x.sum(axis=1))"
   ],
   "id": "d336c19199619b83",
   "outputs": [
    {
     "name": "stdout",
     "output_type": "stream",
     "text": [
      "[4 6]\n",
      "[3 7]\n"
     ]
    }
   ],
   "execution_count": 28
  },
  {
   "metadata": {
    "ExecuteTime": {
     "end_time": "2025-04-19T15:44:15.954522Z",
     "start_time": "2025-04-19T15:44:15.951468Z"
    }
   },
   "cell_type": "code",
   "source": [
    "v = np.array([1,2,3])\n",
    "w = np.array([4,5])\n",
    "print(np.reshape(v, (3, 1)) * w)"
   ],
   "id": "66870d85e9acc531",
   "outputs": [
    {
     "name": "stdout",
     "output_type": "stream",
     "text": [
      "[[ 4  5]\n",
      " [ 8 10]\n",
      " [12 15]]\n"
     ]
    }
   ],
   "execution_count": 29
  },
  {
   "metadata": {
    "ExecuteTime": {
     "end_time": "2025-04-19T15:48:05.038944Z",
     "start_time": "2025-04-19T15:48:05.036689Z"
    }
   },
   "cell_type": "code",
   "source": "x = np.array([[1,2,3], [4,5,6]])",
   "id": "2dd9d6ae28183705",
   "outputs": [],
   "execution_count": 30
  },
  {
   "metadata": {
    "ExecuteTime": {
     "end_time": "2025-04-19T15:48:17.768684Z",
     "start_time": "2025-04-19T15:48:17.764460Z"
    }
   },
   "cell_type": "code",
   "source": [
    "v = np.array([1,2,3])\n",
    "x + v"
   ],
   "id": "e789d587387c5281",
   "outputs": [
    {
     "data": {
      "text/plain": [
       "array([[2, 4, 6],\n",
       "       [5, 7, 9]])"
      ]
     },
     "execution_count": 31,
     "metadata": {},
     "output_type": "execute_result"
    }
   ],
   "execution_count": 31
  },
  {
   "metadata": {
    "ExecuteTime": {
     "end_time": "2025-04-20T14:54:15.241398Z",
     "start_time": "2025-04-20T14:54:15.235970Z"
    }
   },
   "cell_type": "code",
   "source": [
    "array = np.array([10, 3, 5, 1, 8, 6])\n",
    "k = 3\n",
    "\n",
    "# Get indices of k smallest elements (unordered)\n",
    "k_min_indices = np.argpartition(array, k)[:k]\n",
    "\n",
    "# If you want the actual smallest values (unordered)\n",
    "print(\"Indices:\", k_min_indices)\n",
    "print(\"Values:\", array[k_min_indices])"
   ],
   "id": "f69f1e1fdd1bf84a",
   "outputs": [
    {
     "name": "stdout",
     "output_type": "stream",
     "text": [
      "Indices: [3 2 1]\n",
      "Values: [1 5 3]\n"
     ]
    }
   ],
   "execution_count": 32
  },
  {
   "metadata": {
    "ExecuteTime": {
     "end_time": "2025-05-05T20:05:15.738495Z",
     "start_time": "2025-05-05T20:05:15.734363Z"
    }
   },
   "cell_type": "code",
   "source": [
    "x = np.random.randint(1, 11, size=(4, 1))\n",
    "x"
   ],
   "id": "8e6747874489cad1",
   "outputs": [
    {
     "data": {
      "text/plain": [
       "array([[4],\n",
       "       [5],\n",
       "       [6],\n",
       "       [6]])"
      ]
     },
     "execution_count": 11,
     "metadata": {},
     "output_type": "execute_result"
    }
   ],
   "execution_count": 11
  },
  {
   "metadata": {
    "ExecuteTime": {
     "end_time": "2025-05-05T20:05:37.831832Z",
     "start_time": "2025-05-05T20:05:37.829482Z"
    }
   },
   "cell_type": "code",
   "source": [
    "y = np.random.randint(1, 11, size=(4,))\n",
    "y"
   ],
   "id": "e3368b088cfb9c42",
   "outputs": [
    {
     "data": {
      "text/plain": [
       "array([ 8,  8,  3, 10])"
      ]
     },
     "execution_count": 13,
     "metadata": {},
     "output_type": "execute_result"
    }
   ],
   "execution_count": 13
  },
  {
   "metadata": {
    "ExecuteTime": {
     "end_time": "2025-05-05T20:05:41.587245Z",
     "start_time": "2025-05-05T20:05:41.584257Z"
    }
   },
   "cell_type": "code",
   "source": [
    "x + y\n",
    "(4,1)\n",
    "(4,)"
   ],
   "id": "d84f9f191912eff3",
   "outputs": [
    {
     "data": {
      "text/plain": [
       "array([[12, 12,  7, 14],\n",
       "       [13, 13,  8, 15],\n",
       "       [14, 14,  9, 16],\n",
       "       [14, 14,  9, 16]])"
      ]
     },
     "execution_count": 14,
     "metadata": {},
     "output_type": "execute_result"
    }
   ],
   "execution_count": 14
  },
  {
   "metadata": {},
   "cell_type": "code",
   "outputs": [],
   "execution_count": null,
   "source": "",
   "id": "4bf4ea9f453a6180"
  }
 ],
 "metadata": {
  "kernelspec": {
   "display_name": "Python 3",
   "language": "python",
   "name": "python3"
  },
  "language_info": {
   "codemirror_mode": {
    "name": "ipython",
    "version": 2
   },
   "file_extension": ".py",
   "mimetype": "text/x-python",
   "name": "python",
   "nbconvert_exporter": "python",
   "pygments_lexer": "ipython2",
   "version": "2.7.6"
  }
 },
 "nbformat": 4,
 "nbformat_minor": 5
}
