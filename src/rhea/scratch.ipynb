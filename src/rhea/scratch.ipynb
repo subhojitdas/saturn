{
 "cells": [
  {
   "cell_type": "code",
   "id": "initial_id",
   "metadata": {
    "collapsed": true
   },
   "source": "import torch\n",
   "outputs": [],
   "execution_count": null
  },
  {
   "metadata": {},
   "cell_type": "code",
   "source": "Y = [1, 4, 5, 6]",
   "id": "e6a39c0267cbb419",
   "outputs": [],
   "execution_count": null
  },
  {
   "metadata": {},
   "cell_type": "code",
   "source": "y = torch.tensor(Y)",
   "id": "bf7329224851e550",
   "outputs": [],
   "execution_count": null
  },
  {
   "metadata": {},
   "cell_type": "code",
   "source": "y.shape",
   "id": "732b5d2debb839c7",
   "outputs": [],
   "execution_count": null
  },
  {
   "metadata": {},
   "cell_type": "code",
   "source": "g = y.unsqueeze(-1)",
   "id": "a280282ed6611c01",
   "outputs": [],
   "execution_count": null
  },
  {
   "metadata": {},
   "cell_type": "code",
   "source": "g.shape",
   "id": "581942ac860c6184",
   "outputs": [],
   "execution_count": null
  },
  {
   "metadata": {},
   "cell_type": "code",
   "source": [
    "g = torch.ones((3, 3))\n",
    "g"
   ],
   "id": "5eb8fc5d83ae0586",
   "outputs": [],
   "execution_count": null
  },
  {
   "metadata": {},
   "cell_type": "code",
   "source": [
    "h = g.unsqueeze(0)\n",
    "m = h.unsqueeze(0)\n",
    "m.shape"
   ],
   "id": "6dad39428edea416",
   "outputs": [],
   "execution_count": null
  },
  {
   "metadata": {},
   "cell_type": "code",
   "source": "h",
   "id": "38d606037b236043",
   "outputs": [],
   "execution_count": null
  },
  {
   "metadata": {},
   "cell_type": "code",
   "source": [
    "a = torch.rand((3, 3))\n",
    "a"
   ],
   "id": "bdb6db30ec32c8a3",
   "outputs": [],
   "execution_count": null
  },
  {
   "metadata": {},
   "cell_type": "code",
   "source": [
    "X = torch.ones((2, 2), dtype=torch.int32)\n",
    "X[0, 0] = 1; X[0, 1] = 2; X[1, 0] = 0; X[1, 1] = 1"
   ],
   "id": "1a6056fcd25b116d",
   "outputs": [],
   "execution_count": null
  },
  {
   "metadata": {},
   "cell_type": "code",
   "source": "a[torch.tensor([[1, 0], [0, 0]])].shape",
   "id": "74a5fef0a49e9e67",
   "outputs": [],
   "execution_count": null
  },
  {
   "metadata": {},
   "cell_type": "code",
   "source": [
    "b = a[torch.tensor([2, 0])]\n",
    "b"
   ],
   "id": "b08c9d41ea26dd6e",
   "outputs": [],
   "execution_count": null
  },
  {
   "metadata": {},
   "cell_type": "code",
   "source": [
    "c = a[X]\n",
    "c"
   ],
   "id": "d8605a835b70281e",
   "outputs": [],
   "execution_count": null
  },
  {
   "metadata": {},
   "cell_type": "code",
   "source": [
    "t = torch.ones((2,3))\n",
    "for i in [0,1]:\n",
    "    for j in [0,1, 2]:\n",
    "        t[i, j] = t[i, j] * (i + j)\n",
    "\n",
    "t"
   ],
   "id": "8d12c502500e020a",
   "outputs": [],
   "execution_count": null
  },
  {
   "metadata": {},
   "cell_type": "code",
   "source": "t.sum(1, keepdim=True)",
   "id": "f7a95ff35c3a5ef0",
   "outputs": [],
   "execution_count": null
  },
  {
   "metadata": {},
   "cell_type": "code",
   "source": [
    "import numpy as np\n",
    "import numpy.ma as ma"
   ],
   "id": "90d1b7b3e92bc565",
   "outputs": [],
   "execution_count": null
  },
  {
   "metadata": {},
   "cell_type": "code",
   "source": [
    "a = np.array([3,2,1,2,-1])\n",
    "b = ma.masked_array(a, mask=[0,0,1,0,0])"
   ],
   "id": "397d11d39e8577ed",
   "outputs": [],
   "execution_count": null
  },
  {
   "metadata": {},
   "cell_type": "code",
   "source": "c = np.ma.masked_array(a, mask=[1,0,1,0,0], fill_value=-18)",
   "id": "3b018d34677da98d",
   "outputs": [],
   "execution_count": null
  },
  {
   "metadata": {},
   "cell_type": "code",
   "source": "a.shape",
   "id": "438dc065cde233a0",
   "outputs": [],
   "execution_count": null
  },
  {
   "metadata": {},
   "cell_type": "code",
   "source": "a.reshape(-1, 1)",
   "id": "efbc9674d0b21409",
   "outputs": [],
   "execution_count": null
  },
  {
   "metadata": {},
   "cell_type": "code",
   "source": "a.reshape(1, -1)",
   "id": "5482efdb8ea95986",
   "outputs": [],
   "execution_count": null
  },
  {
   "metadata": {
    "ExecuteTime": {
     "end_time": "2025-05-15T09:14:25.990228Z",
     "start_time": "2025-05-15T09:14:25.268542Z"
    }
   },
   "cell_type": "code",
   "source": [
    "import torch\n",
    "batch_size, seq_len = 3, 5\n",
    "A = torch.zeros((batch_size, seq_len))\n",
    "A[0,0:] = 1\n",
    "A[1,0:] = 2\n",
    "A[2,0:] = 3"
   ],
   "id": "7d13ddef296d74d5",
   "outputs": [],
   "execution_count": 12
  },
  {
   "metadata": {
    "ExecuteTime": {
     "end_time": "2025-05-15T09:14:32.129616Z",
     "start_time": "2025-05-15T09:14:32.125557Z"
    }
   },
   "cell_type": "code",
   "source": "A",
   "id": "99fa7e13cfa313fd",
   "outputs": [
    {
     "data": {
      "text/plain": [
       "tensor([[1., 1., 1., 1., 1.],\n",
       "        [2., 2., 2., 2., 2.],\n",
       "        [3., 3., 3., 3., 3.]])"
      ]
     },
     "execution_count": 13,
     "metadata": {},
     "output_type": "execute_result"
    }
   ],
   "execution_count": 13
  },
  {
   "metadata": {
    "ExecuteTime": {
     "end_time": "2025-05-15T09:14:55.965402Z",
     "start_time": "2025-05-15T09:14:55.961325Z"
    }
   },
   "cell_type": "code",
   "source": [
    "A1 = A.transpose(1,0)\n",
    "A1"
   ],
   "id": "e51961b6b93d6de1",
   "outputs": [
    {
     "data": {
      "text/plain": [
       "tensor([[1., 2., 3.],\n",
       "        [1., 2., 3.],\n",
       "        [1., 2., 3.],\n",
       "        [1., 2., 3.],\n",
       "        [1., 2., 3.]])"
      ]
     },
     "execution_count": 14,
     "metadata": {},
     "output_type": "execute_result"
    }
   ],
   "execution_count": 14
  },
  {
   "metadata": {
    "ExecuteTime": {
     "end_time": "2025-05-15T09:15:20.834867Z",
     "start_time": "2025-05-15T09:15:20.832583Z"
    }
   },
   "cell_type": "code",
   "source": "A2 = A.view(seq_len, -1)",
   "id": "eefa99f339b7b431",
   "outputs": [],
   "execution_count": 15
  },
  {
   "metadata": {
    "ExecuteTime": {
     "end_time": "2025-05-15T09:15:23.372803Z",
     "start_time": "2025-05-15T09:15:23.370055Z"
    }
   },
   "cell_type": "code",
   "source": "A2",
   "id": "357dfb207ad5a609",
   "outputs": [
    {
     "data": {
      "text/plain": [
       "tensor([[1., 1., 1.],\n",
       "        [1., 1., 2.],\n",
       "        [2., 2., 2.],\n",
       "        [2., 3., 3.],\n",
       "        [3., 3., 3.]])"
      ]
     },
     "execution_count": 16,
     "metadata": {},
     "output_type": "execute_result"
    }
   ],
   "execution_count": 16
  },
  {
   "metadata": {
    "ExecuteTime": {
     "end_time": "2025-05-15T10:42:30.057412Z",
     "start_time": "2025-05-15T10:42:30.054452Z"
    }
   },
   "cell_type": "code",
   "source": [
    "B = A.unsqueeze(1)\n",
    "B"
   ],
   "id": "7d0191c915b35849",
   "outputs": [
    {
     "data": {
      "text/plain": [
       "tensor([[[1., 1., 1., 1., 1.]],\n",
       "\n",
       "        [[2., 2., 2., 2., 2.]],\n",
       "\n",
       "        [[3., 3., 3., 3., 3.]]])"
      ]
     },
     "execution_count": 20,
     "metadata": {},
     "output_type": "execute_result"
    }
   ],
   "execution_count": 20
  },
  {
   "metadata": {
    "ExecuteTime": {
     "end_time": "2025-05-15T10:54:41.822495Z",
     "start_time": "2025-05-15T10:54:41.819962Z"
    }
   },
   "cell_type": "code",
   "source": "B = A[:, :3]",
   "id": "a9626391ba230941",
   "outputs": [],
   "execution_count": 22
  },
  {
   "metadata": {
    "ExecuteTime": {
     "end_time": "2025-05-15T10:54:44.678844Z",
     "start_time": "2025-05-15T10:54:44.674691Z"
    }
   },
   "cell_type": "code",
   "source": "B",
   "id": "4b19e9cd75e822e7",
   "outputs": [
    {
     "data": {
      "text/plain": [
       "tensor([[1., 1., 1.],\n",
       "        [2., 2., 2.],\n",
       "        [3., 3., 3.]])"
      ]
     },
     "execution_count": 23,
     "metadata": {},
     "output_type": "execute_result"
    }
   ],
   "execution_count": 23
  },
  {
   "metadata": {
    "ExecuteTime": {
     "end_time": "2025-05-15T10:55:26.752902Z",
     "start_time": "2025-05-15T10:55:26.748731Z"
    }
   },
   "cell_type": "code",
   "source": [
    "C = B.unsqueeze(1)\n",
    "C.shape"
   ],
   "id": "42aac269d02d5feb",
   "outputs": [
    {
     "data": {
      "text/plain": [
       "torch.Size([3, 1, 3])"
      ]
     },
     "execution_count": 27,
     "metadata": {},
     "output_type": "execute_result"
    }
   ],
   "execution_count": 27
  },
  {
   "metadata": {
    "ExecuteTime": {
     "end_time": "2025-05-15T10:55:18.672309Z",
     "start_time": "2025-05-15T10:55:18.667762Z"
    }
   },
   "cell_type": "code",
   "source": "B",
   "id": "d6622d914ac495d6",
   "outputs": [
    {
     "data": {
      "text/plain": [
       "tensor([[1., 1., 1.],\n",
       "        [2., 2., 2.],\n",
       "        [3., 3., 3.]])"
      ]
     },
     "execution_count": 26,
     "metadata": {},
     "output_type": "execute_result"
    }
   ],
   "execution_count": 26
  },
  {
   "metadata": {
    "ExecuteTime": {
     "end_time": "2025-06-01T10:54:52.441148Z",
     "start_time": "2025-06-01T10:54:52.437730Z"
    }
   },
   "cell_type": "code",
   "source": "import torch",
   "id": "ea3278ee4157d6aa",
   "outputs": [],
   "execution_count": 6
  },
  {
   "metadata": {
    "ExecuteTime": {
     "end_time": "2025-06-01T10:55:42.897424Z",
     "start_time": "2025-06-01T10:55:42.883559Z"
    }
   },
   "cell_type": "code",
   "source": [
    "import matplotlib.pyplot as plt\n",
    "%matplotlib inline"
   ],
   "id": "87a0c2e6966b4478",
   "outputs": [],
   "execution_count": 8
  },
  {
   "metadata": {
    "ExecuteTime": {
     "end_time": "2025-06-01T10:56:29.580522Z",
     "start_time": "2025-06-01T10:56:29.575780Z"
    }
   },
   "cell_type": "code",
   "source": [
    "t = torch.softmax(torch.tensor([1.0, 2.0, 3.0, 1.0, 3.0, 1.0]), dim=0)\n",
    "t\n"
   ],
   "id": "e94bec9fc4521ede",
   "outputs": [
    {
     "data": {
      "text/plain": [
       "tensor([0.0488, 0.1326, 0.3605, 0.0488, 0.3605, 0.0488])"
      ]
     },
     "execution_count": 14,
     "metadata": {},
     "output_type": "execute_result"
    }
   ],
   "execution_count": 14
  },
  {
   "metadata": {
    "ExecuteTime": {
     "end_time": "2025-06-01T10:56:30.222826Z",
     "start_time": "2025-06-01T10:56:30.154879Z"
    }
   },
   "cell_type": "code",
   "source": "plt.hist(t)",
   "id": "5c1d83528c21956a",
   "outputs": [
    {
     "data": {
      "text/plain": [
       "(array([3., 0., 1., 0., 0., 0., 0., 0., 0., 2.]),\n",
       " array([0.04878907, 0.07996067, 0.11113228, 0.1423039 , 0.1734755 ,\n",
       "        0.20464711, 0.23581873, 0.26699033, 0.29816192, 0.32933354,\n",
       "        0.36050513]),\n",
       " <BarContainer object of 10 artists>)"
      ]
     },
     "execution_count": 15,
     "metadata": {},
     "output_type": "execute_result"
    },
    {
     "data": {
      "text/plain": [
       "<Figure size 640x480 with 1 Axes>"
      ],
      "image/png": "[encoded data removed]"
     },
     "metadata": {},
     "output_type": "display_data"
    }
   ],
   "execution_count": 15
  },
  {
   "metadata": {
    "ExecuteTime": {
     "end_time": "2025-06-01T11:16:01.828655Z",
     "start_time": "2025-06-01T11:16:01.824433Z"
    }
   },
   "cell_type": "code",
   "source": [
    "prob = torch.sigmoid(torch.tensor([0.2, 1.0, -1.5, 1.2, 6.1, 0.8, 2.4]))\n",
    "\n",
    "stochastic_binary = torch.bernoulli(prob)\n",
    "\n",
    "print(\"Probabilities:\", prob)\n",
    "print(\"Stochastic binary:\", stochastic_binary)\n"
   ],
   "id": "edf431c9b9d97983",
   "outputs": [
    {
     "name": "stdout",
     "output_type": "stream",
     "text": [
      "Probabilities: tensor([0.5498, 0.7311, 0.1824, 0.7685, 0.9978, 0.6900, 0.9168])\n",
      "Stochastic binary: tensor([1., 1., 0., 1., 1., 1., 1.])\n"
     ]
    }
   ],
   "execution_count": 17
  },
  {
   "metadata": {},
   "cell_type": "code",
   "outputs": [],
   "execution_count": null,
   "source": "",
   "id": "23db0dcefbda6d78"
  }
 ],
 "metadata": {
  "kernelspec": {
   "display_name": "Python 3",
   "language": "python",
   "name": "python3"
  },
  "language_info": {
   "codemirror_mode": {
    "name": "ipython",
    "version": 2
   },
   "file_extension": ".py",
   "mimetype": "text/x-python",
   "name": "python",
   "nbconvert_exporter": "python",
   "pygments_lexer": "ipython2",
   "version": "2.7.6"
  }
 },
 "nbformat": 4,
 "nbformat_minor": 5
}
