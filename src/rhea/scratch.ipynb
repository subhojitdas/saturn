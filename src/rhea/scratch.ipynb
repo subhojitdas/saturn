{
 "cells": [
  {
   "cell_type": "code",
   "id": "initial_id",
   "metadata": {
    "collapsed": true
   },
   "source": "import torch\n",
   "outputs": [],
   "execution_count": null
  },
  {
   "metadata": {},
   "cell_type": "code",
   "source": "Y = [1, 4, 5, 6]",
   "id": "e6a39c0267cbb419",
   "outputs": [],
   "execution_count": null
  },
  {
   "metadata": {},
   "cell_type": "code",
   "source": "y = torch.tensor(Y)",
   "id": "bf7329224851e550",
   "outputs": [],
   "execution_count": null
  },
  {
   "metadata": {},
   "cell_type": "code",
   "source": "y.shape",
   "id": "732b5d2debb839c7",
   "outputs": [],
   "execution_count": null
  },
  {
   "metadata": {},
   "cell_type": "code",
   "source": "g = y.unsqueeze(-1)",
   "id": "a280282ed6611c01",
   "outputs": [],
   "execution_count": null
  },
  {
   "metadata": {},
   "cell_type": "code",
   "source": "g.shape",
   "id": "581942ac860c6184",
   "outputs": [],
   "execution_count": null
  },
  {
   "metadata": {},
   "cell_type": "code",
   "source": [
    "g = torch.ones((3, 3))\n",
    "g"
   ],
   "id": "5eb8fc5d83ae0586",
   "outputs": [],
   "execution_count": null
  },
  {
   "metadata": {},
   "cell_type": "code",
   "source": [
    "h = g.unsqueeze(0)\n",
    "m = h.unsqueeze(0)\n",
    "m.shape"
   ],
   "id": "6dad39428edea416",
   "outputs": [],
   "execution_count": null
  },
  {
   "metadata": {},
   "cell_type": "code",
   "source": "h",
   "id": "38d606037b236043",
   "outputs": [],
   "execution_count": null
  },
  {
   "metadata": {},
   "cell_type": "code",
   "source": [
    "a = torch.rand((3, 3))\n",
    "a"
   ],
   "id": "bdb6db30ec32c8a3",
   "outputs": [],
   "execution_count": null
  },
  {
   "metadata": {},
   "cell_type": "code",
   "source": [
    "X = torch.ones((2, 2), dtype=torch.int32)\n",
    "X[0, 0] = 1; X[0, 1] = 2; X[1, 0] = 0; X[1, 1] = 1"
   ],
   "id": "1a6056fcd25b116d",
   "outputs": [],
   "execution_count": null
  },
  {
   "metadata": {},
   "cell_type": "code",
   "source": "a[torch.tensor([[1, 0], [0, 0]])].shape",
   "id": "74a5fef0a49e9e67",
   "outputs": [],
   "execution_count": null
  },
  {
   "metadata": {},
   "cell_type": "code",
   "source": [
    "b = a[torch.tensor([2, 0])]\n",
    "b"
   ],
   "id": "b08c9d41ea26dd6e",
   "outputs": [],
   "execution_count": null
  },
  {
   "metadata": {},
   "cell_type": "code",
   "source": [
    "c = a[X]\n",
    "c"
   ],
   "id": "d8605a835b70281e",
   "outputs": [],
   "execution_count": null
  },
  {
   "metadata": {},
   "cell_type": "code",
   "source": [
    "t = torch.ones((2,3))\n",
    "for i in [0,1]:\n",
    "    for j in [0,1, 2]:\n",
    "        t[i, j] = t[i, j] * (i + j)\n",
    "\n",
    "t"
   ],
   "id": "8d12c502500e020a",
   "outputs": [],
   "execution_count": null
  },
  {
   "metadata": {},
   "cell_type": "code",
   "source": "t.sum(1, keepdim=True)",
   "id": "f7a95ff35c3a5ef0",
   "outputs": [],
   "execution_count": null
  },
  {
   "metadata": {},
   "cell_type": "code",
   "source": [
    "import numpy as np\n",
    "import numpy.ma as ma"
   ],
   "id": "90d1b7b3e92bc565",
   "outputs": [],
   "execution_count": null
  },
  {
   "metadata": {},
   "cell_type": "code",
   "source": [
    "a = np.array([3,2,1,2,-1])\n",
    "b = ma.masked_array(a, mask=[0,0,1,0,0])"
   ],
   "id": "397d11d39e8577ed",
   "outputs": [],
   "execution_count": null
  },
  {
   "metadata": {},
   "cell_type": "code",
   "source": "c = np.ma.masked_array(a, mask=[1,0,1,0,0], fill_value=-18)",
   "id": "3b018d34677da98d",
   "outputs": [],
   "execution_count": null
  },
  {
   "metadata": {},
   "cell_type": "code",
   "source": "a.shape",
   "id": "438dc065cde233a0",
   "outputs": [],
   "execution_count": null
  },
  {
   "metadata": {},
   "cell_type": "code",
   "source": "a.reshape(-1, 1)",
   "id": "efbc9674d0b21409",
   "outputs": [],
   "execution_count": null
  },
  {
   "metadata": {},
   "cell_type": "code",
   "source": "a.reshape(1, -1)",
   "id": "5482efdb8ea95986",
   "outputs": [],
   "execution_count": null
  },
  {
   "metadata": {},
   "cell_type": "code",
   "source": "",
   "id": "7d13ddef296d74d5",
   "outputs": [],
   "execution_count": null
  }
 ],
 "metadata": {
  "kernelspec": {
   "display_name": "Python 3",
   "language": "python",
   "name": "python3"
  },
  "language_info": {
   "codemirror_mode": {
    "name": "ipython",
    "version": 2
   },
   "file_extension": ".py",
   "mimetype": "text/x-python",
   "name": "python",
   "nbconvert_exporter": "python",
   "pygments_lexer": "ipython2",
   "version": "2.7.6"
  }
 },
 "nbformat": 4,
 "nbformat_minor": 5
}
