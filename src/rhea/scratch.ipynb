{
 "cells": [
  {
   "cell_type": "code",
   "id": "initial_id",
   "metadata": {
    "collapsed": true,
    "ExecuteTime": {
     "end_time": "2025-04-12T18:19:42.033528Z",
     "start_time": "2025-04-12T18:19:41.316143Z"
    }
   },
   "source": "import torch\n",
   "outputs": [],
   "execution_count": 1
  },
  {
   "metadata": {
    "ExecuteTime": {
     "end_time": "2025-04-12T18:19:55.442411Z",
     "start_time": "2025-04-12T18:19:55.440152Z"
    }
   },
   "cell_type": "code",
   "source": "Y = [1, 4, 5, 6]",
   "id": "e6a39c0267cbb419",
   "outputs": [],
   "execution_count": 2
  },
  {
   "metadata": {
    "ExecuteTime": {
     "end_time": "2025-04-12T18:20:34.094174Z",
     "start_time": "2025-04-12T18:20:34.091418Z"
    }
   },
   "cell_type": "code",
   "source": "y = torch.tensor(Y)",
   "id": "bf7329224851e550",
   "outputs": [],
   "execution_count": 8
  },
  {
   "metadata": {
    "ExecuteTime": {
     "end_time": "2025-04-12T18:20:35.909337Z",
     "start_time": "2025-04-12T18:20:35.905962Z"
    }
   },
   "cell_type": "code",
   "source": "y.shape",
   "id": "732b5d2debb839c7",
   "outputs": [
    {
     "data": {
      "text/plain": [
       "torch.Size([4])"
      ]
     },
     "execution_count": 9,
     "metadata": {},
     "output_type": "execute_result"
    }
   ],
   "execution_count": 9
  },
  {
   "metadata": {
    "ExecuteTime": {
     "end_time": "2025-04-12T18:21:46.267921Z",
     "start_time": "2025-04-12T18:21:46.265898Z"
    }
   },
   "cell_type": "code",
   "source": "g = y.unsqueeze(-1)",
   "id": "a280282ed6611c01",
   "outputs": [],
   "execution_count": 19
  },
  {
   "metadata": {
    "ExecuteTime": {
     "end_time": "2025-04-12T18:21:47.638969Z",
     "start_time": "2025-04-12T18:21:47.635345Z"
    }
   },
   "cell_type": "code",
   "source": "g.shape",
   "id": "581942ac860c6184",
   "outputs": [
    {
     "data": {
      "text/plain": [
       "torch.Size([4, 1])"
      ]
     },
     "execution_count": 20,
     "metadata": {},
     "output_type": "execute_result"
    }
   ],
   "execution_count": 20
  },
  {
   "metadata": {
    "ExecuteTime": {
     "end_time": "2025-04-12T18:24:39.860665Z",
     "start_time": "2025-04-12T18:24:39.857499Z"
    }
   },
   "cell_type": "code",
   "source": [
    "g = torch.ones((3, 3))\n",
    "g"
   ],
   "id": "5eb8fc5d83ae0586",
   "outputs": [
    {
     "data": {
      "text/plain": [
       "tensor([[1., 1., 1.],\n",
       "        [1., 1., 1.],\n",
       "        [1., 1., 1.]])"
      ]
     },
     "execution_count": 28,
     "metadata": {},
     "output_type": "execute_result"
    }
   ],
   "execution_count": 28
  },
  {
   "metadata": {
    "ExecuteTime": {
     "end_time": "2025-04-13T16:11:58.754119Z",
     "start_time": "2025-04-13T16:11:58.750567Z"
    }
   },
   "cell_type": "code",
   "source": [
    "h = g.unsqueeze(0)\n",
    "m = h.unsqueeze(0)\n",
    "m.shape"
   ],
   "id": "6dad39428edea416",
   "outputs": [
    {
     "data": {
      "text/plain": [
       "torch.Size([1, 1, 3, 3])"
      ]
     },
     "execution_count": 34,
     "metadata": {},
     "output_type": "execute_result"
    }
   ],
   "execution_count": 34
  },
  {
   "metadata": {
    "ExecuteTime": {
     "end_time": "2025-04-12T18:25:40.274921Z",
     "start_time": "2025-04-12T18:25:40.271175Z"
    }
   },
   "cell_type": "code",
   "source": "h",
   "id": "38d606037b236043",
   "outputs": [
    {
     "data": {
      "text/plain": [
       "tensor([[[1., 1., 1.],\n",
       "         [1., 1., 1.],\n",
       "         [1., 1., 1.]]])"
      ]
     },
     "execution_count": 33,
     "metadata": {},
     "output_type": "execute_result"
    }
   ],
   "execution_count": 33
  },
  {
   "metadata": {
    "ExecuteTime": {
     "end_time": "2025-04-13T16:53:53.687198Z",
     "start_time": "2025-04-13T16:53:53.682611Z"
    }
   },
   "cell_type": "code",
   "source": [
    "a = torch.rand((3, 3))\n",
    "a"
   ],
   "id": "bdb6db30ec32c8a3",
   "outputs": [
    {
     "data": {
      "text/plain": [
       "tensor([[0.8998, 0.4499, 0.3800],\n",
       "        [0.5525, 0.2836, 0.4083],\n",
       "        [0.0952, 0.9291, 0.0907]])"
      ]
     },
     "execution_count": 60,
     "metadata": {},
     "output_type": "execute_result"
    }
   ],
   "execution_count": 60
  },
  {
   "metadata": {
    "ExecuteTime": {
     "end_time": "2025-04-13T17:03:19.003667Z",
     "start_time": "2025-04-13T17:03:18.999994Z"
    }
   },
   "cell_type": "code",
   "source": [
    "X = torch.ones((2, 2), dtype=torch.int32)\n",
    "X[0, 0] = 1; X[0, 1] = 2; X[1, 0] = 0; X[1, 1] = 1"
   ],
   "id": "1a6056fcd25b116d",
   "outputs": [],
   "execution_count": 76
  },
  {
   "metadata": {
    "ExecuteTime": {
     "end_time": "2025-04-13T16:58:58.250595Z",
     "start_time": "2025-04-13T16:58:58.247675Z"
    }
   },
   "cell_type": "code",
   "source": "a[torch.tensor([[1, 0], [0, 0]])].shape",
   "id": "74a5fef0a49e9e67",
   "outputs": [
    {
     "data": {
      "text/plain": [
       "torch.Size([2, 2, 3])"
      ]
     },
     "execution_count": 72,
     "metadata": {},
     "output_type": "execute_result"
    }
   ],
   "execution_count": 72
  },
  {
   "metadata": {
    "ExecuteTime": {
     "end_time": "2025-04-13T17:04:09.566757Z",
     "start_time": "2025-04-13T17:04:09.563705Z"
    }
   },
   "cell_type": "code",
   "source": [
    "b = a[torch.tensor([2, 0])]\n",
    "b"
   ],
   "id": "b08c9d41ea26dd6e",
   "outputs": [
    {
     "data": {
      "text/plain": [
       "tensor([[0.0952, 0.9291, 0.0907],\n",
       "        [0.8998, 0.4499, 0.3800]])"
      ]
     },
     "execution_count": 77,
     "metadata": {},
     "output_type": "execute_result"
    }
   ],
   "execution_count": 77
  },
  {
   "metadata": {
    "ExecuteTime": {
     "end_time": "2025-04-13T17:07:15.291797Z",
     "start_time": "2025-04-13T17:07:15.288757Z"
    }
   },
   "cell_type": "code",
   "source": [
    "c = a[X]\n",
    "c"
   ],
   "id": "d8605a835b70281e",
   "outputs": [
    {
     "data": {
      "text/plain": [
       "tensor([[[0.5525, 0.2836, 0.4083],\n",
       "         [0.0952, 0.9291, 0.0907]],\n",
       "\n",
       "        [[0.8998, 0.4499, 0.3800],\n",
       "         [0.5525, 0.2836, 0.4083]]])"
      ]
     },
     "execution_count": 81,
     "metadata": {},
     "output_type": "execute_result"
    }
   ],
   "execution_count": 81
  },
  {
   "metadata": {
    "ExecuteTime": {
     "end_time": "2025-04-15T18:47:22.775796Z",
     "start_time": "2025-04-15T18:47:22.770908Z"
    }
   },
   "cell_type": "code",
   "source": [
    "t = torch.ones((2,3))\n",
    "for i in [0,1]:\n",
    "    for j in [0,1, 2]:\n",
    "        t[i, j] = t[i, j] * (i + j)\n",
    "\n",
    "t"
   ],
   "id": "8d12c502500e020a",
   "outputs": [
    {
     "data": {
      "text/plain": [
       "tensor([[0., 1., 2.],\n",
       "        [1., 2., 3.]])"
      ]
     },
     "execution_count": 86,
     "metadata": {},
     "output_type": "execute_result"
    }
   ],
   "execution_count": 86
  },
  {
   "metadata": {
    "ExecuteTime": {
     "end_time": "2025-04-15T18:48:45.416932Z",
     "start_time": "2025-04-15T18:48:45.412535Z"
    }
   },
   "cell_type": "code",
   "source": "t.sum(1, keepdim=True)",
   "id": "f7a95ff35c3a5ef0",
   "outputs": [
    {
     "data": {
      "text/plain": [
       "tensor([[3.],\n",
       "        [6.]])"
      ]
     },
     "execution_count": 90,
     "metadata": {},
     "output_type": "execute_result"
    }
   ],
   "execution_count": 90
  },
  {
   "metadata": {},
   "cell_type": "code",
   "outputs": [],
   "execution_count": null,
   "source": "",
   "id": "90d1b7b3e92bc565"
  }
 ],
 "metadata": {
  "kernelspec": {
   "display_name": "Python 3",
   "language": "python",
   "name": "python3"
  },
  "language_info": {
   "codemirror_mode": {
    "name": "ipython",
    "version": 2
   },
   "file_extension": ".py",
   "mimetype": "text/x-python",
   "name": "python",
   "nbconvert_exporter": "python",
   "pygments_lexer": "ipython2",
   "version": "2.7.6"
  }
 },
 "nbformat": 4,
 "nbformat_minor": 5
}
