{
 "cells": [
  {
   "cell_type": "code",
   "id": "initial_id",
   "metadata": {
    "collapsed": true,
    "ExecuteTime": {
     "end_time": "2025-04-29T21:28:52.812946Z",
     "start_time": "2025-04-29T21:28:51.669567Z"
    }
   },
   "source": [
    "import numpy as np\n",
    "\n",
    "import os, sys\n",
    "\n",
    "project_root = os.path.abspath('/Users/subhojit/workspace/saturn/src')\n",
    "if project_root not in sys.path:\n",
    "    sys.path.append(project_root)\n",
    "\n",
    "from lstm.lstm_raw import *\n",
    "import matplotlib.pyplot as plt\n",
    "%matplotlib inline"
   ],
   "outputs": [],
   "execution_count": 27
  },
  {
   "metadata": {
    "ExecuteTime": {
     "end_time": "2025-04-29T21:14:52.025637Z",
     "start_time": "2025-04-29T21:14:52.016895Z"
    }
   },
   "cell_type": "code",
   "source": [
    "def load_names(filename):\n",
    "    names = open(filename, 'r').read().splitlines()\n",
    "    chars = sorted(list(set(''.join(names))))\n",
    "    special_chars = ['<PAD>', '<SOS>', '<EOS>']\n",
    "    all_chars = special_chars + chars\n",
    "    stoi = {ch: i for i, ch in enumerate(all_chars)}\n",
    "    itos = {i: ch for i, ch in enumerate(all_chars)}\n",
    "    vocab_size = len(stoi)\n",
    "\n",
    "    return stoi, itos, vocab_size, names\n",
    "\n",
    "stoi, itos, vocab_size, names = load_names('indian_names.txt')\n",
    "stoi"
   ],
   "id": "a3d3eaa0c93d7a5e",
   "outputs": [
    {
     "data": {
      "text/plain": [
       "{'<PAD>': 0,\n",
       " '<SOS>': 1,\n",
       " '<EOS>': 2,\n",
       " 'a': 3,\n",
       " 'b': 4,\n",
       " 'c': 5,\n",
       " 'd': 6,\n",
       " 'e': 7,\n",
       " 'f': 8,\n",
       " 'g': 9,\n",
       " 'h': 10,\n",
       " 'i': 11,\n",
       " 'j': 12,\n",
       " 'k': 13,\n",
       " 'l': 14,\n",
       " 'm': 15,\n",
       " 'n': 16,\n",
       " 'o': 17,\n",
       " 'p': 18,\n",
       " 'q': 19,\n",
       " 'r': 20,\n",
       " 's': 21,\n",
       " 't': 22,\n",
       " 'u': 23,\n",
       " 'v': 24,\n",
       " 'w': 25,\n",
       " 'x': 26,\n",
       " 'y': 27,\n",
       " 'z': 28}"
      ]
     },
     "execution_count": 2,
     "metadata": {},
     "output_type": "execute_result"
    }
   ],
   "execution_count": 2
  },
  {
   "metadata": {
    "ExecuteTime": {
     "end_time": "2025-04-29T21:20:37.283515Z",
     "start_time": "2025-04-29T21:20:37.277920Z"
    }
   },
   "cell_type": "code",
   "source": [
    "def name_to_sequence(name, stoi):\n",
    "    input_seq = ['<SOS>'] + list(name)\n",
    "    output_seq = list(name) + ['<EOS>']\n",
    "\n",
    "    input_idx = [stoi[ch] for ch in input_seq]\n",
    "    output_idx = [stoi[ch] for ch in output_seq]\n",
    "\n",
    "    return input_idx, output_idx\n",
    "\n",
    "input_idx, output_idx = name_to_sequence(names[0], stoi)\n",
    "input_idx, output_idx"
   ],
   "id": "d9963ea3f0bc238c",
   "outputs": [
    {
     "data": {
      "text/plain": [
       "([1, 3, 3, 4, 11, 6], [3, 3, 4, 11, 6, 2])"
      ]
     },
     "execution_count": 23,
     "metadata": {},
     "output_type": "execute_result"
    }
   ],
   "execution_count": 23
  },
  {
   "metadata": {
    "ExecuteTime": {
     "end_time": "2025-04-29T22:02:22.910636Z",
     "start_time": "2025-04-29T22:02:22.834949Z"
    }
   },
   "cell_type": "code",
   "source": [
    "stoi, itos, vocab_size, names = load_names('indian_names.txt')\n",
    "X_data, Y_data = zip(*[name_to_sequence(name, stoi) for name in names])\n",
    "X_data[29], Y_data[29], [itos[i] for i in X_data[29]], [itos[i] for i in Y_data[29]]"
   ],
   "id": "4bbf303e98cab13c",
   "outputs": [
    {
     "data": {
      "text/plain": [
       "([1, 3, 3, 15, 17, 21, 10],\n",
       " [3, 3, 15, 17, 21, 10, 2],\n",
       " ['<SOS>', 'a', 'a', 'm', 'o', 's', 'h'],\n",
       " ['a', 'a', 'm', 'o', 's', 'h', '<EOS>'])"
      ]
     },
     "execution_count": 52,
     "metadata": {},
     "output_type": "execute_result"
    }
   ],
   "execution_count": 52
  },
  {
   "metadata": {
    "ExecuteTime": {
     "end_time": "2025-04-29T21:35:52.412715Z",
     "start_time": "2025-04-29T21:35:52.406313Z"
    }
   },
   "cell_type": "code",
   "source": [
    "# Re-define helper functions needed for training loop\n",
    "\n",
    "def softmax(x):\n",
    "    e_x = np.exp(x - np.max(x, axis=0, keepdims=True))\n",
    "    return e_x / np.sum(e_x, axis=0, keepdims=True)\n",
    "\n",
    "def cross_entropy_loss(y_pred, y_true):\n",
    "    return -np.log(y_pred[y_true, 0])\n",
    "\n",
    "def cross_entropy_grad(y_pred, y_true):\n",
    "    grad = y_pred.copy()\n",
    "    grad[y_true] -= 1\n",
    "    return grad\n",
    "\n",
    "# Vectorized loss and gradient for full sequences\n",
    "def vectorized_loss_and_gradient(outputs, y_true_seq):\n",
    "    T = len(outputs)\n",
    "    output_size = outputs[0][0].shape[0]\n",
    "\n",
    "    Y_logits = np.stack([y[0] for y in outputs], axis=0)  # (T, output_size, 1)\n",
    "    Y_logits_shifted = Y_logits - np.max(Y_logits, axis=1, keepdims=True)\n",
    "    exp_scores = np.exp(Y_logits_shifted)\n",
    "    Y_probs = exp_scores / np.sum(exp_scores, axis=1, keepdims=True)\n",
    "\n",
    "    y_true_seq = np.array(y_true_seq)\n",
    "    log_probs = -np.log(Y_probs[np.arange(T), y_true_seq, 0])\n",
    "    total_loss = np.sum(log_probs)\n",
    "\n",
    "    dY = Y_probs.copy()\n",
    "    dY[np.arange(T), y_true_seq, 0] -= 1\n",
    "    dy_list = [dY[t] for t in range(T)]\n",
    "\n",
    "    return total_loss, dy_list\n"
   ],
   "id": "61b434a7bbc19976",
   "outputs": [],
   "execution_count": 39
  },
  {
   "metadata": {
    "ExecuteTime": {
     "end_time": "2025-04-29T21:53:28.834363Z",
     "start_time": "2025-04-29T21:42:00.474054Z"
    }
   },
   "cell_type": "code",
   "source": [
    "#training\n",
    "\n",
    "input_size = vocab_size\n",
    "hidden_size = 128\n",
    "output_size = vocab_size\n",
    "lossi = []\n",
    "\n",
    "model = LSTMLayer(input_size, hidden_size, output_size)\n",
    "lr = 0.01\n",
    "epochs = 100\n",
    "\n",
    "for epoch in range(epochs):\n",
    "    total_loss = 0.0\n",
    "\n",
    "    for xidx, yidx in zip(X_data, Y_data):\n",
    "        loss = 0.0\n",
    "        inputs = [np.eye(input_size)[:, i].reshape(-1, 1) for i in xidx]\n",
    "\n",
    "        h0 = np.zeros((hidden_size, 1))\n",
    "        c0 = np.zeros((hidden_size, 1))\n",
    "\n",
    "        outputs = model.forward(inputs, h0, c0)\n",
    "        loss, dy_list = vectorized_loss_and_gradient(outputs, yidx)\n",
    "        total_loss += loss\n",
    "\n",
    "        grads, dWy, dby = model.backward(dy_list)\n",
    "        model.update_parameters(grads, dWy, dby, lr)\n",
    "\n",
    "    lossi.append(total_loss)\n",
    "    print(f\"Epoch {epoch+1}/{epochs}, Total Loss: {total_loss:.4f}\")\n"
   ],
   "id": "63e5373f9afe6385",
   "outputs": [
    {
     "name": "stdout",
     "output_type": "stream",
     "text": [
      "Epoch 1/100, Total Loss: 102226.0995\n",
      "Epoch 2/100, Total Loss: 87569.5611\n",
      "Epoch 3/100, Total Loss: 84005.3210\n",
      "Epoch 4/100, Total Loss: 81523.7964\n",
      "Epoch 5/100, Total Loss: 79386.1320\n",
      "Epoch 6/100, Total Loss: 77948.4497\n",
      "Epoch 7/100, Total Loss: 76480.9298\n",
      "Epoch 8/100, Total Loss: 75112.6061\n",
      "Epoch 9/100, Total Loss: 73861.0844\n",
      "Epoch 10/100, Total Loss: 72755.7386\n",
      "Epoch 11/100, Total Loss: 71705.6607\n",
      "Epoch 12/100, Total Loss: 70656.8277\n",
      "Epoch 13/100, Total Loss: 69747.4964\n",
      "Epoch 14/100, Total Loss: 68965.4013\n",
      "Epoch 15/100, Total Loss: 68053.0259\n",
      "Epoch 16/100, Total Loss: 67154.2234\n",
      "Epoch 17/100, Total Loss: 66254.0397\n",
      "Epoch 18/100, Total Loss: 65505.1029\n",
      "Epoch 19/100, Total Loss: 64829.7772\n",
      "Epoch 20/100, Total Loss: 64216.5211\n",
      "Epoch 21/100, Total Loss: 63577.6093\n",
      "Epoch 22/100, Total Loss: 62946.4117\n",
      "Epoch 23/100, Total Loss: 62374.6348\n",
      "Epoch 24/100, Total Loss: 61784.2297\n",
      "Epoch 25/100, Total Loss: 61149.8675\n",
      "Epoch 26/100, Total Loss: 60466.8060\n",
      "Epoch 27/100, Total Loss: 59830.0180\n",
      "Epoch 28/100, Total Loss: 59304.7899\n",
      "Epoch 29/100, Total Loss: 58906.1966\n",
      "Epoch 30/100, Total Loss: 58467.0966\n",
      "Epoch 31/100, Total Loss: 58112.0204\n",
      "Epoch 32/100, Total Loss: 57916.2221\n",
      "Epoch 33/100, Total Loss: 57494.5748\n",
      "Epoch 34/100, Total Loss: 57103.7503\n",
      "Epoch 35/100, Total Loss: 56721.9447\n",
      "Epoch 36/100, Total Loss: 56490.0545\n",
      "Epoch 37/100, Total Loss: 56286.8847\n",
      "Epoch 38/100, Total Loss: 56074.8759\n",
      "Epoch 39/100, Total Loss: 56011.7159\n",
      "Epoch 40/100, Total Loss: 55740.5063\n",
      "Epoch 41/100, Total Loss: 55475.0706\n",
      "Epoch 42/100, Total Loss: 55286.0643\n",
      "Epoch 43/100, Total Loss: 55728.7272\n",
      "Epoch 44/100, Total Loss: 55163.5975\n",
      "Epoch 45/100, Total Loss: 54658.7845\n",
      "Epoch 46/100, Total Loss: 54401.5902\n",
      "Epoch 47/100, Total Loss: 54134.4130\n",
      "Epoch 48/100, Total Loss: 53883.8895\n",
      "Epoch 49/100, Total Loss: 53770.9114\n",
      "Epoch 50/100, Total Loss: 53628.0223\n",
      "Epoch 51/100, Total Loss: 53586.7061\n",
      "Epoch 52/100, Total Loss: 53189.1224\n",
      "Epoch 53/100, Total Loss: 53083.3339\n",
      "Epoch 54/100, Total Loss: 52993.2560\n",
      "Epoch 55/100, Total Loss: 53451.7032\n",
      "Epoch 56/100, Total Loss: 55354.5032\n",
      "Epoch 57/100, Total Loss: 55682.0925\n",
      "Epoch 58/100, Total Loss: 54149.9481\n",
      "Epoch 59/100, Total Loss: 53446.9597\n",
      "Epoch 60/100, Total Loss: 52979.7065\n",
      "Epoch 61/100, Total Loss: 52806.5360\n",
      "Epoch 62/100, Total Loss: 52501.9385\n",
      "Epoch 63/100, Total Loss: 52165.3630\n",
      "Epoch 64/100, Total Loss: 51999.6340\n",
      "Epoch 65/100, Total Loss: 51868.3710\n",
      "Epoch 66/100, Total Loss: 51889.4279\n",
      "Epoch 67/100, Total Loss: 51521.6948\n",
      "Epoch 68/100, Total Loss: 51151.1592\n",
      "Epoch 69/100, Total Loss: 50974.9299\n",
      "Epoch 70/100, Total Loss: 51227.5878\n",
      "Epoch 71/100, Total Loss: 51485.6859\n",
      "Epoch 72/100, Total Loss: 51656.7868\n",
      "Epoch 73/100, Total Loss: 51439.9639\n",
      "Epoch 74/100, Total Loss: 51190.5048\n",
      "Epoch 75/100, Total Loss: 50922.5319\n",
      "Epoch 76/100, Total Loss: 50717.8633\n",
      "Epoch 77/100, Total Loss: 50673.1658\n",
      "Epoch 78/100, Total Loss: 50610.1071\n",
      "Epoch 79/100, Total Loss: 50926.6343\n",
      "Epoch 80/100, Total Loss: 51084.6755\n",
      "Epoch 81/100, Total Loss: 50517.6567\n",
      "Epoch 82/100, Total Loss: 50152.6470\n",
      "Epoch 83/100, Total Loss: 50007.4109\n",
      "Epoch 84/100, Total Loss: 50013.4250\n",
      "Epoch 85/100, Total Loss: 49949.2971\n",
      "Epoch 86/100, Total Loss: 49684.0351\n",
      "Epoch 87/100, Total Loss: 49574.7192\n",
      "Epoch 88/100, Total Loss: 49675.7069\n",
      "Epoch 89/100, Total Loss: 49628.9126\n",
      "Epoch 90/100, Total Loss: 49791.1930\n",
      "Epoch 91/100, Total Loss: 50634.5958\n",
      "Epoch 92/100, Total Loss: 50486.6645\n",
      "Epoch 93/100, Total Loss: 50911.2580\n",
      "Epoch 94/100, Total Loss: 51482.9816\n",
      "Epoch 95/100, Total Loss: 51483.7865\n",
      "Epoch 96/100, Total Loss: 50966.8955\n",
      "Epoch 97/100, Total Loss: 50145.0802\n",
      "Epoch 98/100, Total Loss: 50199.8273\n",
      "Epoch 99/100, Total Loss: 50361.1893\n",
      "Epoch 100/100, Total Loss: 50941.5563\n"
     ]
    }
   ],
   "execution_count": 43
  },
  {
   "metadata": {
    "ExecuteTime": {
     "end_time": "2025-04-29T21:53:59.128905Z",
     "start_time": "2025-04-29T21:53:59.081224Z"
    }
   },
   "cell_type": "code",
   "source": "plt.plot(lossi)",
   "id": "67ebe8c4b065a1f1",
   "outputs": [
    {
     "data": {
      "text/plain": [
       "[<matplotlib.lines.Line2D at 0x16a85a130>]"
      ]
     },
     "execution_count": 44,
     "metadata": {},
     "output_type": "execute_result"
    },
    {
     "data": {
      "text/plain": [
       "<Figure size 640x480 with 1 Axes>"
      ],
      "image/png": "[encoded data removed]"
     },
     "metadata": {},
     "output_type": "display_data"
    }
   ],
   "execution_count": 44
  },
  {
   "metadata": {
    "ExecuteTime": {
     "end_time": "2025-04-29T22:12:26.748982Z",
     "start_time": "2025-04-29T22:12:26.658578Z"
    }
   },
   "cell_type": "code",
   "source": [
    "def sample_name(max_length=20, temperature=2.0):\n",
    "    start_char = '<SOS>'\n",
    "    curr_index = stoi[start_char]\n",
    "\n",
    "    h0 = np.zeros((hidden_size, 1))\n",
    "    c0 = np.zeros((hidden_size, 1))\n",
    "\n",
    "    generated_ch = []\n",
    "\n",
    "    for i in range(max_length):\n",
    "        input = np.eye(vocab_size)[:, curr_index].reshape(-1, 1)\n",
    "\n",
    "        outputs = model.forward([input], h0, c0)\n",
    "        yt, h, c = outputs[-1]\n",
    "        logits = yt/temperature\n",
    "        probs = softmax(logits)\n",
    "        curr_index = np.random.choice(len(probs), p=probs.ravel())\n",
    "\n",
    "        if itos[curr_index] == '<EOS>':\n",
    "            break\n",
    "\n",
    "        generated_ch.append(itos[curr_index])\n",
    "\n",
    "    generated_name = ''.join(generated_ch)\n",
    "    return generated_name\n",
    "\n",
    "for _ in range(100):\n",
    "    n = sample_name(max_length=20, temperature=6.0)\n",
    "    print(n)\n"
   ],
   "id": "98a0da0cd48c1407",
   "outputs": [
    {
     "name": "stdout",
     "output_type": "stream",
     "text": [
      "s\n",
      "kmdp<SOS>girixoqegjyaudr\n",
      "zyenqashaftay<SOS>trjzyf\n",
      "honc\n",
      "vlevrgoguiqjjkjjsy\n",
      "xdufa\n",
      "edifchbchrokameatov\n",
      "ehifx<PAD>kjupmekzswesln\n",
      "bkcvedshfvawiachukni\n",
      "yoshqistagiku\n",
      "delikomrbvatuvid\n",
      "ttdkujmgmrveha\n",
      "felbhinelpsiroyenqhq\n",
      "craraahqarlyedaxoxns\n",
      "jkijultwpmebadoyejny\n",
      "khtrbbeqosrcimybhviw\n",
      "vddimkiivetoevitilmr\n",
      "yayujpncnypifibhowig\n",
      "fkelzwab\n",
      "zrusbefsbsmhbezampbz\n",
      "mota<SOS>wevebeselrjgwgv\n",
      "dhingreripeeazogva\n",
      "pmqodyndufuyeratoya\n",
      "yitbkbhnvonwakabyamn\n",
      "ybim<PAD>izelnurirhsbroo\n",
      "ixrtqohcena<SOS>vanopaqt\n",
      "jlpebcarujwitrjbishi\n",
      "umlektygndrachbnreri\n",
      "zdrorbopixe<PAD>aazbaxrs\n",
      "etfobyattt<PAD>elaficirw\n",
      "wsurjdmkanhksbbyrbu\n",
      "<SOS>ceifldrumcfworykowu\n",
      "bobmkhtwdtrkiujvrbuz\n",
      "gudp<SOS>kejothcbertrcdd\n",
      "xm\n",
      "vuspiyhhusussyowrchl\n",
      "krob<SOS>zjpmiski\n",
      "quzirbbya<SOS>rajgshenge\n",
      "oznhyseq<PAD>tufuq<PAD>hter<PAD>\n",
      "udismmezilund\n",
      "wankazbifimqignkuxae\n",
      "umiggi\n",
      "wioku\n",
      "lixb<SOS>wmadta\n",
      "wausatinuetishlgidwe\n",
      "sienkrfwgretkxvmukuk\n",
      "rozku\n",
      "vjooheutalueaypbfhfh\n",
      "kehgetleliratq\n",
      "shgetoranumjafgotice\n",
      "sureggx\n",
      "yiblednlpmiuvlso<PAD>oph\n",
      "ygcynabhurkayk<SOS>zkchn\n",
      "yeprmdjrahahendvllee\n",
      "t\n",
      "tuaxe\n",
      "ipbheekaahfa\n",
      "xizoizix\n",
      "iqenau\n",
      "udojxinrmbiddkxsuehg\n",
      "cog<PAD>esuewenueui\n",
      "<SOS>xazjoxhittiq\n",
      "micnktbagmuxcma<SOS>imaf\n",
      "parrbaxhpej<SOS>vmemaklx\n",
      "vjgeqidhedlleeliteax\n",
      "t\n",
      "zerausnlpanirfiegnha\n",
      "dosnlprebxwi<SOS>i\n",
      "meoki<PAD>vlzmcnoinss<SOS>fu\n",
      "<PAD>aereebejqegulngofku\n",
      "vucmeeswifepefjvnnar\n",
      "korlevs<PAD>hgokokfesmor\n",
      "goa\n",
      "abvnma\n",
      "ziidhwigimt\n",
      "y<PAD>brinnmfn\n",
      "zeew\n",
      "zbrlfrhblugmm\n",
      "vasoleneukahskbelkar\n",
      "wradedemijinpfo\n",
      "fiqpdiwijaltirhzunfo\n",
      "vsepus<PAD>atkhpequagang\n",
      "knwjntnfqnuwaeeeerjc\n",
      "rshepgresweptikugich\n",
      "wesotuhacqnrbkukjhbs\n",
      "nengdhe<PAD>didaj\n",
      "qinsekran\n",
      "gawapanwdzothuxge<SOS>jj\n",
      "yabdti\n",
      "\n",
      "tlaxhxelumurmiyagmvk\n",
      "wjiwamlufmcknvagizim\n",
      "bhvdtbrarkrg<SOS>cnoznaw\n",
      "vododoerahollp\n",
      "tnooferjnerpnpxcfhwo\n",
      "vkaotwontubuvakunena\n",
      "wrazrikjyidwiht<SOS>ny\n",
      "v<SOS><PAD>ajpbzpamxaxnasi<SOS>w\n",
      "yipmorgctblmizfushsk\n",
      "or<PAD>hiludu<PAD>ifipmsonhm\n"
     ]
    }
   ],
   "execution_count": 72
  },
  {
   "metadata": {
    "ExecuteTime": {
     "end_time": "2025-04-29T22:13:02.082710Z",
     "start_time": "2025-04-29T22:13:01.935378Z"
    }
   },
   "cell_type": "code",
   "source": [
    "# Re-import everything needed after kernel reset\n",
    "import numpy as np\n",
    "import matplotlib.pyplot as plt\n",
    "\n",
    "# Softmax function\n",
    "def softmax(x):\n",
    "    e_x = np.exp(x - np.max(x, axis=0, keepdims=True))\n",
    "    return e_x / np.sum(e_x, axis=0, keepdims=True)\n",
    "\n",
    "# Re-define plotting function\n",
    "def plot_next_char_probs(model, seed_str, char2idx, idx2char, temperature=1.0):\n",
    "    input_size = len(char2idx)\n",
    "    hidden_size = model.hidden_size\n",
    "\n",
    "    h = np.zeros((hidden_size, 1))\n",
    "    c = np.zeros((hidden_size, 1))\n",
    "\n",
    "    for ch in seed_str:\n",
    "        idx = char2idx.get(ch, None)\n",
    "        if idx is None:\n",
    "            print(f\"Character '{ch}' not in vocabulary.\")\n",
    "            return\n",
    "        xt = np.eye(input_size)[:, idx].reshape(-1, 1)\n",
    "        outputs = model.forward([xt], h, c)\n",
    "        _, h, c = outputs[-1]\n",
    "\n",
    "    # Predict next char\n",
    "    logits, _, _ = model.forward([xt], h, c)[-1]\n",
    "    probs = softmax(logits / temperature).ravel()\n",
    "\n",
    "    plt.figure(figsize=(12, 4))\n",
    "    plt.bar(range(len(probs)), probs, tick_label=[idx2char[i] for i in range(len(probs))])\n",
    "    plt.xticks(rotation=90)\n",
    "    plt.title(f\"Next-char probabilities after seed '{seed_str}' (temperature={temperature})\")\n",
    "    plt.ylabel(\"Probability\")\n",
    "    plt.xlabel(\"Character\")\n",
    "    plt.tight_layout()\n",
    "    plt.show()\n",
    "\n",
    "\n",
    "plot_next_char_probs(model, seed_str=\"ya\", char2idx=stoi, idx2char=itos, temperature=1.0)\n"
   ],
   "id": "6b0f8fbdfcedb5f3",
   "outputs": [
    {
     "data": {
      "text/plain": [
       "<Figure size 1200x400 with 1 Axes>"
      ],
      "image/png": "[encoded data removed]"
     },
     "metadata": {},
     "output_type": "display_data"
    }
   ],
   "execution_count": 73
  },
  {
   "metadata": {
    "ExecuteTime": {
     "end_time": "2025-04-29T22:15:37.483227Z",
     "start_time": "2025-04-29T22:15:37.457730Z"
    }
   },
   "cell_type": "code",
   "source": [
    "for temp in [0.7, 1.0, 1.5, 5.0]:\n",
    "    print(f\"\\n--- Temperature: {temp} ---\")\n",
    "    for _ in range(5):\n",
    "        print(sample_name(temperature=temp))"
   ],
   "id": "600b43ecb0fbc0f0",
   "outputs": [
    {
     "name": "stdout",
     "output_type": "stream",
     "text": [
      "\n",
      "--- Temperature: 0.7 ---\n",
      "zishanarununenudeeee\n",
      "yashilotimiyanuleeee\n",
      "yanuliraneeeeeenkuna\n",
      "yanuditanulalititini\n",
      "yanunkudimananishare\n",
      "\n",
      "--- Temperature: 1.0 ---\n",
      "yaranulimonishiyanit\n",
      "yariyarunimubhimarar\n",
      "yaranunudulomelimela\n",
      "zinashisyanununirunu\n",
      "ziraneeeeebitiswanee\n",
      "\n",
      "--- Temperature: 1.5 ---\n",
      "yashisunisafunalmeee\n",
      "upunititindkumanimas\n",
      "zatisweesweesoshayam\n",
      "waberititamemanamala\n",
      "vitisudhidhavalitaun\n",
      "\n",
      "--- Temperature: 5.0 ---\n",
      "vtnwethumdichukuneap\n",
      "zmeelodindimhoarjuke\n",
      "yobmeu<SOS>yximn\n",
      "rjfifisanikhaomnuuha\n",
      "wlunasooparillirjdo\n"
     ]
    }
   ],
   "execution_count": 75
  },
  {
   "metadata": {},
   "cell_type": "code",
   "outputs": [],
   "execution_count": null,
   "source": "",
   "id": "fdf81dfbe5875b7b"
  }
 ],
 "metadata": {
  "kernelspec": {
   "display_name": "Python 3",
   "language": "python",
   "name": "python3"
  },
  "language_info": {
   "codemirror_mode": {
    "name": "ipython",
    "version": 2
   },
   "file_extension": ".py",
   "mimetype": "text/x-python",
   "name": "python",
   "nbconvert_exporter": "python",
   "pygments_lexer": "ipython2",
   "version": "2.7.6"
  }
 },
 "nbformat": 4,
 "nbformat_minor": 5
}
