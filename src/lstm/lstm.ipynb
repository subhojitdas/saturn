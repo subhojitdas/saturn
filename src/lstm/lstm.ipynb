{
 "cells": [
  {
   "cell_type": "code",
   "id": "initial_id",
   "metadata": {
    "collapsed": true,
    "ExecuteTime": {
     "end_time": "2025-04-28T17:40:06.907692Z",
     "start_time": "2025-04-28T17:40:06.864109Z"
    }
   },
   "source": "import numpy as np",
   "outputs": [],
   "execution_count": 1
  },
  {
   "metadata": {
    "ExecuteTime": {
     "end_time": "2025-04-28T17:44:51.839037Z",
     "start_time": "2025-04-28T17:44:51.834452Z"
    }
   },
   "cell_type": "code",
   "source": [
    "np.random.seed(42)\n",
    "a = np.random.randint(2, 10, size=(3,1))\n",
    "b = np.random.randint(2, 10, size=(7,1))\n",
    "print(a)\n",
    "print(b)"
   ],
   "id": "99f034a29d55043e",
   "outputs": [
    {
     "name": "stdout",
     "output_type": "stream",
     "text": [
      "[[8]\n",
      " [5]\n",
      " [6]]\n",
      "[[8]\n",
      " [4]\n",
      " [9]\n",
      " [6]\n",
      " [6]\n",
      " [8]\n",
      " [3]]\n"
     ]
    }
   ],
   "execution_count": 19
  },
  {
   "metadata": {
    "ExecuteTime": {
     "end_time": "2025-04-28T17:44:53.107870Z",
     "start_time": "2025-04-28T17:44:53.104311Z"
    }
   },
   "cell_type": "code",
   "source": "np.vstack((a,b))",
   "id": "770d60ff73bf20b0",
   "outputs": [
    {
     "data": {
      "text/plain": [
       "array([[8],\n",
       "       [5],\n",
       "       [6],\n",
       "       [8],\n",
       "       [4],\n",
       "       [9],\n",
       "       [6],\n",
       "       [6],\n",
       "       [8],\n",
       "       [3]])"
      ]
     },
     "execution_count": 20,
     "metadata": {},
     "output_type": "execute_result"
    }
   ],
   "execution_count": 20
  },
  {
   "metadata": {},
   "cell_type": "code",
   "outputs": [],
   "execution_count": null,
   "source": "",
   "id": "6f1ee45d278154b6"
  }
 ],
 "metadata": {
  "kernelspec": {
   "display_name": "Python 3",
   "language": "python",
   "name": "python3"
  },
  "language_info": {
   "codemirror_mode": {
    "name": "ipython",
    "version": 2
   },
   "file_extension": ".py",
   "mimetype": "text/x-python",
   "name": "python",
   "nbconvert_exporter": "python",
   "pygments_lexer": "ipython2",
   "version": "2.7.6"
  }
 },
 "nbformat": 4,
 "nbformat_minor": 5
}
