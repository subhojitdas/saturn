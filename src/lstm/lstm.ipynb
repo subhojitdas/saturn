{
 "cells": [
  {
   "cell_type": "code",
   "id": "initial_id",
   "metadata": {
    "collapsed": true,
    "ExecuteTime": {
     "end_time": "2025-04-30T14:16:53.573308Z",
     "start_time": "2025-04-30T14:16:52.435069Z"
    }
   },
   "source": [
    "import numpy as np\n",
    "\n",
    "import os, sys\n",
    "\n",
    "project_root = os.path.abspath('/Users/subhojit/workspace/saturn/src')\n",
    "if project_root not in sys.path:\n",
    "    sys.path.append(project_root)\n",
    "\n",
    "from lstm.lstm_raw import *\n",
    "import matplotlib.pyplot as plt\n",
    "%matplotlib inline"
   ],
   "outputs": [],
   "execution_count": 1
  },
  {
   "metadata": {
    "ExecuteTime": {
     "end_time": "2025-04-30T14:16:54.474632Z",
     "start_time": "2025-04-30T14:16:54.468528Z"
    }
   },
   "cell_type": "code",
   "source": [
    "# Implements the missing generate_dataset function used in training loop\n",
    "\n",
    "def generate_dataset(seq_len, input_size, num_samples):\n",
    "    X = []\n",
    "    Y = []\n",
    "    for _ in range(num_samples):\n",
    "        x_seq = [np.random.rand(input_size, 1) for _ in range(seq_len)]\n",
    "        total = sum(x.sum() for x in x_seq)\n",
    "        threshold = 0.5 * seq_len * input_size  # average value threshold\n",
    "        label = np.random.randint(low=0, high=2)\n",
    "        X.append(x_seq)\n",
    "        Y.append(label)\n",
    "    return X, Y\n",
    "\n",
    "# Let's test it with a small dataset\n",
    "sample_X, sample_Y = generate_dataset(seq_len=5, input_size=4, num_samples=3)\n",
    "(sample_X[0][0].shape, sample_Y)\n"
   ],
   "id": "f1cff26b495a8129",
   "outputs": [
    {
     "data": {
      "text/plain": [
       "((4, 1), [0, 1, 1])"
      ]
     },
     "execution_count": 2,
     "metadata": {},
     "output_type": "execute_result"
    }
   ],
   "execution_count": 2
  },
  {
   "metadata": {
    "ExecuteTime": {
     "end_time": "2025-04-30T14:16:55.719526Z",
     "start_time": "2025-04-30T14:16:55.715884Z"
    }
   },
   "cell_type": "code",
   "source": [
    "def clip_gradients(grads, max_norm=5.0):\n",
    "    total_norm = 0.0\n",
    "    for g in grads.values():\n",
    "        total_norm += np.sum(g ** 2)\n",
    "    total_norm = np.sqrt(total_norm)\n",
    "\n",
    "    if total_norm > max_norm:\n",
    "        for k in grads:\n",
    "            grads[k] = grads[k] * (max_norm / total_norm)\n",
    "    return grads"
   ],
   "id": "e13231fe704566d5",
   "outputs": [],
   "execution_count": 3
  },
  {
   "metadata": {
    "ExecuteTime": {
     "end_time": "2025-04-30T14:20:05.974855Z",
     "start_time": "2025-04-30T14:17:30.724610Z"
    }
   },
   "cell_type": "code",
   "source": [
    "# Functions\n",
    "def softmax(x):\n",
    "    e_x = np.exp(x - np.max(x))\n",
    "    return e_x / e_x.sum(axis=0, keepdims=True)\n",
    "\n",
    "def cross_entropy_loss(y_pred, y_true_idx):\n",
    "    return -np.log(y_pred[y_true_idx, 0])\n",
    "\n",
    "def cross_entropy_grad(y_pred, y_true_idx):\n",
    "    grad = y_pred.copy()\n",
    "    grad[y_true_idx] -= 1\n",
    "    return grad\n",
    "\n",
    "# Training\n",
    "input_size = 4\n",
    "hidden_size = 16\n",
    "output_size = 2\n",
    "seq_len = 5\n",
    "lr = 0.1\n",
    "\n",
    "layer = LSTMLayer(input_size, hidden_size, output_size)\n",
    "X_train, Y_train = generate_dataset(seq_len, input_size, 100)\n",
    "lossi = []\n",
    "# Training loop\n",
    "for epoch in range(1000):\n",
    "    total_loss = 0\n",
    "    correct = 0\n",
    "\n",
    "    for x_seq, y_true in zip(X_train, Y_train):\n",
    "        h0 = np.zeros((hidden_size, 1))\n",
    "        c0 = np.zeros((hidden_size, 1))\n",
    "\n",
    "        # 1. Forward pass\n",
    "        outputs = layer.forward(x_seq, h0, c0)\n",
    "\n",
    "        dy_list = []\n",
    "        loss = 0\n",
    "        for t in range(seq_len):\n",
    "            y_logits, _, _ = outputs[t]\n",
    "            y_probs = softmax(y_logits)\n",
    "            loss += cross_entropy_loss(y_probs, y_true)\n",
    "            dy = cross_entropy_grad(y_probs, y_true)\n",
    "            dy_list.append(dy)\n",
    "\n",
    "        total_loss += loss\n",
    "\n",
    "        # 6. Backward pass\n",
    "        grads, dWy, dby = layer.backward(dy_list)\n",
    "        clip_gradients(grads, max_norm=5.0)\n",
    "\n",
    "        # 7. Parameter update\n",
    "        layer.update_parameters(grads, dWy, dby, lr)\n",
    "\n",
    "        # # Accuracy\n",
    "        # y_pred_class = np.argmax(y_prob)\n",
    "        # correct += int(y_pred_class == y_true)\n",
    "    lossi.append(total_loss)\n",
    "    print(f\"Epoch {epoch+1}, Loss: {total_loss:.4f}\")\n"
   ],
   "id": "99f034a29d55043e",
   "outputs": [
    {
     "ename": "KeyboardInterrupt",
     "evalue": "",
     "output_type": "error",
     "traceback": [
      "\u001B[0;31m---------------------------------------------------------------------------\u001B[0m",
      "\u001B[0;31mKeyboardInterrupt\u001B[0m                         Traceback (most recent call last)",
      "Cell \u001B[0;32mIn[5], line 48\u001B[0m\n\u001B[1;32m     45\u001B[0m total_loss \u001B[38;5;241m+\u001B[39m\u001B[38;5;241m=\u001B[39m loss\n\u001B[1;32m     47\u001B[0m \u001B[38;5;66;03m# 6. Backward pass\u001B[39;00m\n\u001B[0;32m---> 48\u001B[0m grads, dWy, dby \u001B[38;5;241m=\u001B[39m \u001B[43mlayer\u001B[49m\u001B[38;5;241;43m.\u001B[39;49m\u001B[43mbackward\u001B[49m\u001B[43m(\u001B[49m\u001B[43mdy_list\u001B[49m\u001B[43m)\u001B[49m\n\u001B[1;32m     49\u001B[0m clip_gradients(grads, max_norm\u001B[38;5;241m=\u001B[39m\u001B[38;5;241m5.0\u001B[39m)\n\u001B[1;32m     51\u001B[0m \u001B[38;5;66;03m# 7. Parameter update\u001B[39;00m\n",
      "File \u001B[0;32m~/workspace/saturn/src/lstm/lstm_raw.py:124\u001B[0m, in \u001B[0;36mLSTMLayer.backward\u001B[0;34m(self, dy_list)\u001B[0m\n\u001B[1;32m    122\u001B[0m dh \u001B[38;5;241m=\u001B[39m \u001B[38;5;28mself\u001B[39m\u001B[38;5;241m.\u001B[39mWy\u001B[38;5;241m.\u001B[39mT \u001B[38;5;241m@\u001B[39m dy \u001B[38;5;241m+\u001B[39m dh_next\n\u001B[1;32m    123\u001B[0m \u001B[38;5;28mself\u001B[39m\u001B[38;5;241m.\u001B[39mlstm_cell\u001B[38;5;241m.\u001B[39mcache \u001B[38;5;241m=\u001B[39m lstm_cache\n\u001B[0;32m--> 124\u001B[0m dx, dh_next, dc_next, g \u001B[38;5;241m=\u001B[39m \u001B[38;5;28;43mself\u001B[39;49m\u001B[38;5;241;43m.\u001B[39;49m\u001B[43mlstm_cell\u001B[49m\u001B[38;5;241;43m.\u001B[39;49m\u001B[43mbackward\u001B[49m\u001B[43m(\u001B[49m\u001B[43mdh\u001B[49m\u001B[43m,\u001B[49m\u001B[43m \u001B[49m\u001B[43mdc_next\u001B[49m\u001B[43m)\u001B[49m\n\u001B[1;32m    126\u001B[0m \u001B[38;5;28;01mfor\u001B[39;00m k \u001B[38;5;129;01min\u001B[39;00m grads:\n\u001B[1;32m    127\u001B[0m     grads[k] \u001B[38;5;241m+\u001B[39m\u001B[38;5;241m=\u001B[39m g[k]\n",
      "File \u001B[0;32m~/workspace/saturn/src/lstm/lstm_raw.py:58\u001B[0m, in \u001B[0;36mLSTMCell.backward\u001B[0;34m(self, dh_next, dc_next)\u001B[0m\n\u001B[1;32m     55\u001B[0m dWchatt \u001B[38;5;241m=\u001B[39m dzchatt \u001B[38;5;241m@\u001B[39m concat\u001B[38;5;241m.\u001B[39mT\n\u001B[1;32m     57\u001B[0m dbf \u001B[38;5;241m=\u001B[39m dzf\u001B[38;5;241m.\u001B[39msum(axis\u001B[38;5;241m=\u001B[39m\u001B[38;5;241m1\u001B[39m, keepdims\u001B[38;5;241m=\u001B[39m\u001B[38;5;28;01mTrue\u001B[39;00m)\n\u001B[0;32m---> 58\u001B[0m dbi \u001B[38;5;241m=\u001B[39m \u001B[43mdzi\u001B[49m\u001B[38;5;241m.\u001B[39msum(axis\u001B[38;5;241m=\u001B[39m\u001B[38;5;241m1\u001B[39m, keepdims\u001B[38;5;241m=\u001B[39m\u001B[38;5;28;01mTrue\u001B[39;00m)\n\u001B[1;32m     59\u001B[0m dbo \u001B[38;5;241m=\u001B[39m dzo\u001B[38;5;241m.\u001B[39msum(axis\u001B[38;5;241m=\u001B[39m\u001B[38;5;241m1\u001B[39m, keepdims\u001B[38;5;241m=\u001B[39m\u001B[38;5;28;01mTrue\u001B[39;00m)\n\u001B[1;32m     60\u001B[0m dbc \u001B[38;5;241m=\u001B[39m dzchatt\u001B[38;5;241m.\u001B[39msum(axis\u001B[38;5;241m=\u001B[39m\u001B[38;5;241m1\u001B[39m, keepdims\u001B[38;5;241m=\u001B[39m\u001B[38;5;28;01mTrue\u001B[39;00m)\n",
      "File \u001B[0;32m~/workspace/saturn/src/lstm/lstm_raw.py:58\u001B[0m, in \u001B[0;36mLSTMCell.backward\u001B[0;34m(self, dh_next, dc_next)\u001B[0m\n\u001B[1;32m     55\u001B[0m dWchatt \u001B[38;5;241m=\u001B[39m dzchatt \u001B[38;5;241m@\u001B[39m concat\u001B[38;5;241m.\u001B[39mT\n\u001B[1;32m     57\u001B[0m dbf \u001B[38;5;241m=\u001B[39m dzf\u001B[38;5;241m.\u001B[39msum(axis\u001B[38;5;241m=\u001B[39m\u001B[38;5;241m1\u001B[39m, keepdims\u001B[38;5;241m=\u001B[39m\u001B[38;5;28;01mTrue\u001B[39;00m)\n\u001B[0;32m---> 58\u001B[0m dbi \u001B[38;5;241m=\u001B[39m \u001B[43mdzi\u001B[49m\u001B[38;5;241m.\u001B[39msum(axis\u001B[38;5;241m=\u001B[39m\u001B[38;5;241m1\u001B[39m, keepdims\u001B[38;5;241m=\u001B[39m\u001B[38;5;28;01mTrue\u001B[39;00m)\n\u001B[1;32m     59\u001B[0m dbo \u001B[38;5;241m=\u001B[39m dzo\u001B[38;5;241m.\u001B[39msum(axis\u001B[38;5;241m=\u001B[39m\u001B[38;5;241m1\u001B[39m, keepdims\u001B[38;5;241m=\u001B[39m\u001B[38;5;28;01mTrue\u001B[39;00m)\n\u001B[1;32m     60\u001B[0m dbc \u001B[38;5;241m=\u001B[39m dzchatt\u001B[38;5;241m.\u001B[39msum(axis\u001B[38;5;241m=\u001B[39m\u001B[38;5;241m1\u001B[39m, keepdims\u001B[38;5;241m=\u001B[39m\u001B[38;5;28;01mTrue\u001B[39;00m)\n",
      "File \u001B[0;32m_pydevd_bundle/pydevd_cython_darwin_39_64.pyx:1187\u001B[0m, in \u001B[0;36m_pydevd_bundle.pydevd_cython_darwin_39_64.SafeCallWrapper.__call__\u001B[0;34m()\u001B[0m\n",
      "File \u001B[0;32m_pydevd_bundle/pydevd_cython_darwin_39_64.pyx:627\u001B[0m, in \u001B[0;36m_pydevd_bundle.pydevd_cython_darwin_39_64.PyDBFrame.trace_dispatch\u001B[0;34m()\u001B[0m\n",
      "File \u001B[0;32m_pydevd_bundle/pydevd_cython_darwin_39_64.pyx:1103\u001B[0m, in \u001B[0;36m_pydevd_bundle.pydevd_cython_darwin_39_64.PyDBFrame.trace_dispatch\u001B[0;34m()\u001B[0m\n",
      "File \u001B[0;32m_pydevd_bundle/pydevd_cython_darwin_39_64.pyx:1065\u001B[0m, in \u001B[0;36m_pydevd_bundle.pydevd_cython_darwin_39_64.PyDBFrame.trace_dispatch\u001B[0;34m()\u001B[0m\n",
      "File \u001B[0;32m_pydevd_bundle/pydevd_cython_darwin_39_64.pyx:585\u001B[0m, in \u001B[0;36m_pydevd_bundle.pydevd_cython_darwin_39_64.PyDBFrame.do_wait_suspend\u001B[0;34m()\u001B[0m\n",
      "File \u001B[0;32m/Applications/PyCharm.app/Contents/plugins/python-ce/helpers/pydev/pydevd.py:1220\u001B[0m, in \u001B[0;36mPyDB.do_wait_suspend\u001B[0;34m(self, thread, frame, event, arg, send_suspend_message, is_unhandled_exception)\u001B[0m\n\u001B[1;32m   1217\u001B[0m         from_this_thread\u001B[38;5;241m.\u001B[39mappend(frame_id)\n\u001B[1;32m   1219\u001B[0m \u001B[38;5;28;01mwith\u001B[39;00m \u001B[38;5;28mself\u001B[39m\u001B[38;5;241m.\u001B[39m_threads_suspended_single_notification\u001B[38;5;241m.\u001B[39mnotify_thread_suspended(thread_id, stop_reason):\n\u001B[0;32m-> 1220\u001B[0m     \u001B[38;5;28;43mself\u001B[39;49m\u001B[38;5;241;43m.\u001B[39;49m\u001B[43m_do_wait_suspend\u001B[49m\u001B[43m(\u001B[49m\u001B[43mthread\u001B[49m\u001B[43m,\u001B[49m\u001B[43m \u001B[49m\u001B[43mframe\u001B[49m\u001B[43m,\u001B[49m\u001B[43m \u001B[49m\u001B[43mevent\u001B[49m\u001B[43m,\u001B[49m\u001B[43m \u001B[49m\u001B[43marg\u001B[49m\u001B[43m,\u001B[49m\u001B[43m \u001B[49m\u001B[43msuspend_type\u001B[49m\u001B[43m,\u001B[49m\u001B[43m \u001B[49m\u001B[43mfrom_this_thread\u001B[49m\u001B[43m)\u001B[49m\n",
      "File \u001B[0;32m/Applications/PyCharm.app/Contents/plugins/python-ce/helpers/pydev/pydevd.py:1235\u001B[0m, in \u001B[0;36mPyDB._do_wait_suspend\u001B[0;34m(self, thread, frame, event, arg, suspend_type, from_this_thread)\u001B[0m\n\u001B[1;32m   1232\u001B[0m             \u001B[38;5;28mself\u001B[39m\u001B[38;5;241m.\u001B[39m_call_mpl_hook()\n\u001B[1;32m   1234\u001B[0m         \u001B[38;5;28mself\u001B[39m\u001B[38;5;241m.\u001B[39mprocess_internal_commands()\n\u001B[0;32m-> 1235\u001B[0m         \u001B[43mtime\u001B[49m\u001B[38;5;241;43m.\u001B[39;49m\u001B[43msleep\u001B[49m\u001B[43m(\u001B[49m\u001B[38;5;241;43m0.01\u001B[39;49m\u001B[43m)\u001B[49m\n\u001B[1;32m   1237\u001B[0m \u001B[38;5;28mself\u001B[39m\u001B[38;5;241m.\u001B[39mcancel_async_evaluation(get_current_thread_id(thread), \u001B[38;5;28mstr\u001B[39m(\u001B[38;5;28mid\u001B[39m(frame)))\n\u001B[1;32m   1239\u001B[0m \u001B[38;5;66;03m# process any stepping instructions\u001B[39;00m\n",
      "\u001B[0;31mKeyboardInterrupt\u001B[0m: "
     ]
    }
   ],
   "execution_count": 5
  },
  {
   "metadata": {
    "ExecuteTime": {
     "end_time": "2025-04-29T20:31:38.359594Z",
     "start_time": "2025-04-29T20:31:38.310939Z"
    }
   },
   "cell_type": "code",
   "source": "plt.plot(lossi)",
   "id": "770d60ff73bf20b0",
   "outputs": [
    {
     "data": {
      "text/plain": [
       "[<matplotlib.lines.Line2D at 0x32cd7a070>]"
      ]
     },
     "execution_count": 6,
     "metadata": {},
     "output_type": "execute_result"
    },
    {
     "data": {
      "text/plain": [
       "<Figure size 640x480 with 1 Axes>"
      ],
      "image/png": "[encoded data removed]"
     },
     "metadata": {},
     "output_type": "display_data"
    }
   ],
   "execution_count": 6
  },
  {
   "metadata": {
    "ExecuteTime": {
     "end_time": "2025-04-29T20:31:36.672426Z",
     "start_time": "2025-04-29T20:31:36.671194Z"
    }
   },
   "cell_type": "code",
   "source": "",
   "id": "6f1ee45d278154b6",
   "outputs": [],
   "execution_count": null
  }
 ],
 "metadata": {
  "kernelspec": {
   "display_name": "Python 3",
   "language": "python",
   "name": "python3"
  },
  "language_info": {
   "codemirror_mode": {
    "name": "ipython",
    "version": 2
   },
   "file_extension": ".py",
   "mimetype": "text/x-python",
   "name": "python",
   "nbconvert_exporter": "python",
   "pygments_lexer": "ipython2",
   "version": "2.7.6"
  }
 },
 "nbformat": 4,
 "nbformat_minor": 5
}
