{
 "cells": [
  {
   "cell_type": "code",
   "id": "initial_id",
   "metadata": {
    "collapsed": true,
    "ExecuteTime": {
     "end_time": "2025-08-01T13:03:38.463866Z",
     "start_time": "2025-08-01T13:03:33.477116Z"
    }
   },
   "source": [
    "from transformers import BertTokenizer, BertModel\n",
    "import torch"
   ],
   "outputs": [
    {
     "name": "stderr",
     "output_type": "stream",
     "text": [
      "/Users/subhojit/workspace/saturn/.venv/lib/python3.9/site-packages/urllib3/__init__.py:35: NotOpenSSLWarning: urllib3 v2 only supports OpenSSL 1.1.1+, currently the 'ssl' module is compiled with 'LibreSSL 2.8.3'. See: https://github.com/urllib3/urllib3/issues/3020\n",
      "  warnings.warn(\n",
      "/Users/subhojit/workspace/saturn/.venv/lib/python3.9/site-packages/tqdm/auto.py:21: TqdmWarning: IProgress not found. Please update jupyter and ipywidgets. See https://ipywidgets.readthedocs.io/en/stable/user_install.html\n",
      "  from .autonotebook import tqdm as notebook_tqdm\n"
     ]
    }
   ],
   "execution_count": 1
  },
  {
   "metadata": {
    "ExecuteTime": {
     "end_time": "2025-08-01T13:04:01.111183Z",
     "start_time": "2025-08-01T13:04:00.098925Z"
    }
   },
   "cell_type": "code",
   "source": [
    "model_name = 'bert-base-uncased'\n",
    "tokenizer = BertTokenizer.from_pretrained(model_name)\n",
    "model = BertModel.from_pretrained(model_name)"
   ],
   "id": "f6fdaf7ee659aa20",
   "outputs": [],
   "execution_count": 2
  },
  {
   "metadata": {
    "ExecuteTime": {
     "end_time": "2025-08-01T13:04:22.258934Z",
     "start_time": "2025-08-01T13:04:22.257312Z"
    }
   },
   "cell_type": "code",
   "source": "text = 'I love deep learning and want to work on it.'",
   "id": "4795884537ce85e4",
   "outputs": [],
   "execution_count": 3
  },
  {
   "metadata": {
    "ExecuteTime": {
     "end_time": "2025-08-01T13:06:54.978404Z",
     "start_time": "2025-08-01T13:06:00.164621Z"
    }
   },
   "cell_type": "code",
   "source": [
    "encoded_input = tokenizer(text, return_tensors='pt')\n",
    "encoded_input"
   ],
   "id": "81de31de46cb13bf",
   "outputs": [
    {
     "data": {
      "text/plain": [
       "{'input_ids': tensor([[ 101, 1045, 2293, 2784, 4083, 1998, 2215, 2000, 2147, 2006, 2009, 1012,\n",
       "          102]]), 'token_type_ids': tensor([[0, 0, 0, 0, 0, 0, 0, 0, 0, 0, 0, 0, 0]]), 'attention_mask': tensor([[1, 1, 1, 1, 1, 1, 1, 1, 1, 1, 1, 1, 1]])}"
      ]
     },
     "execution_count": 7,
     "metadata": {},
     "output_type": "execute_result"
    }
   ],
   "execution_count": 7
  },
  {
   "metadata": {
    "ExecuteTime": {
     "end_time": "2025-08-01T13:07:06.540802Z",
     "start_time": "2025-08-01T13:07:05.890082Z"
    }
   },
   "cell_type": "code",
   "source": [
    "with torch.no_grad():\n",
    "    outputs = model(**encoded_input)"
   ],
   "id": "b4885aec2bf4e6c3",
   "outputs": [],
   "execution_count": 8
  },
  {
   "metadata": {
    "ExecuteTime": {
     "end_time": "2025-08-01T13:07:32.583806Z",
     "start_time": "2025-08-01T13:07:32.579978Z"
    }
   },
   "cell_type": "code",
   "source": [
    "sentence_emb = outputs.pooler_output\n",
    "sentence_emb.shape"
   ],
   "id": "8481244c92ddd66b",
   "outputs": [
    {
     "data": {
      "text/plain": [
       "torch.Size([1, 768])"
      ]
     },
     "execution_count": 10,
     "metadata": {},
     "output_type": "execute_result"
    }
   ],
   "execution_count": 10
  },
  {
   "metadata": {
    "jupyter": {
     "is_executing": true
    },
    "ExecuteTime": {
     "start_time": "2025-08-01T13:15:09.220243Z"
    }
   },
   "cell_type": "code",
   "source": [
    "token_embeddings = outputs.last_hidden_state\n",
    "token_embeddings.shape"
   ],
   "id": "fb79f79a0d925d65",
   "outputs": [],
   "execution_count": null
  },
  {
   "metadata": {
    "ExecuteTime": {
     "end_time": "2025-08-01T13:14:22.146343Z",
     "start_time": "2025-08-01T13:14:22.142925Z"
    }
   },
   "cell_type": "code",
   "source": [
    "cls_embedding = token_embeddings[:, 0, :]\n",
    "cls_embedding.shape"
   ],
   "id": "c87389bc122d706c",
   "outputs": [
    {
     "data": {
      "text/plain": [
       "torch.Size([1, 768])"
      ]
     },
     "execution_count": 14,
     "metadata": {},
     "output_type": "execute_result"
    }
   ],
   "execution_count": 14
  },
  {
   "metadata": {},
   "cell_type": "code",
   "outputs": [],
   "execution_count": null,
   "source": "",
   "id": "ac8fc50da59abdf8"
  }
 ],
 "metadata": {
  "kernelspec": {
   "display_name": "Python 3",
   "language": "python",
   "name": "python3"
  },
  "language_info": {
   "codemirror_mode": {
    "name": "ipython",
    "version": 2
   },
   "file_extension": ".py",
   "mimetype": "text/x-python",
   "name": "python",
   "nbconvert_exporter": "python",
   "pygments_lexer": "ipython2",
   "version": "2.7.6"
  }
 },
 "nbformat": 4,
 "nbformat_minor": 5
}
